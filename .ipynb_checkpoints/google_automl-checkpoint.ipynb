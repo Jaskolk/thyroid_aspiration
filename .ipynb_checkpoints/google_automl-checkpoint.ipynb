{
 "cells": [
  {
   "cell_type": "markdown",
   "id": "bottom-orlando",
   "metadata": {},
   "source": [
    "## import libraries"
   ]
  },
  {
   "cell_type": "code",
   "execution_count": 5,
   "id": "cosmetic-deficit",
   "metadata": {},
   "outputs": [],
   "source": [
    "import pandas as pd\n",
    "import os\n",
    "from collections import Counter\n",
    "import numpy as np\n",
    "from google.cloud import automl\n",
    "from functools import partial"
   ]
  },
  {
   "cell_type": "markdown",
   "id": "color-store",
   "metadata": {},
   "source": [
    "## data prep for automl"
   ]
  },
  {
   "cell_type": "code",
   "execution_count": 2,
   "id": "prescription-butter",
   "metadata": {},
   "outputs": [],
   "source": [
    "data = pd.read_csv('thyroid_ltd.csv')"
   ]
  },
  {
   "cell_type": "code",
   "execution_count": 3,
   "id": "industrial-grove",
   "metadata": {},
   "outputs": [
    {
     "data": {
      "text/plain": [
       "(652, 2)"
      ]
     },
     "execution_count": 3,
     "metadata": {},
     "output_type": "execute_result"
    }
   ],
   "source": [
    "data.shape"
   ]
  },
  {
   "cell_type": "code",
   "execution_count": 8,
   "id": "tropical-liberty",
   "metadata": {},
   "outputs": [],
   "source": [
    "\n",
    "for idx,row in data.iterrows():\n",
    "    dirname = 'single' if row['target'] == '1' else 'multiple'\n",
    "    filename = \"data/dataset/\"+ dirname + '/example_' + str(idx)+\".txt\"\n",
    "    os.makedirs(os.path.dirname(filename), exist_ok=True)\n",
    "    with open(filename, \"w+\") as f:\n",
    "        f.write(row['Exam Result'])\n",
    "    f.close()\n",
    "\n",
    "    #print (idx)\n",
    "    #print(filename)"
   ]
  },
  {
   "cell_type": "markdown",
   "id": "cosmetic-notification",
   "metadata": {},
   "source": [
    "## predict using automl model"
   ]
  },
  {
   "cell_type": "code",
   "execution_count": 99,
   "id": "willing-colon",
   "metadata": {},
   "outputs": [
    {
     "name": "stdout",
     "output_type": "stream",
     "text": [
      "Predicted class name: single\n",
      "Predicted class score: 0.9907870888710022\n",
      "Predicted class name: multiple\n",
      "Predicted class score: 0.009212881326675415\n"
     ]
    }
   ],
   "source": [
    "\n",
    "# TODO(developer): Uncomment and set the following variables\n",
    "project_id = '666716883415'\n",
    "model_id = 'TCN2248943282476285952'\n",
    "\n",
    "\n",
    "#below is a sample for a test report...\n",
    "content = test['Exam Result'].iloc[0]\n",
    "\n",
    "prediction_client = automl.PredictionServiceClient()\n",
    "\n",
    "# Get the full path of the model.\n",
    "model_full_id = automl.AutoMlClient.model_path(project_id, \"us-central1\", model_id)\n",
    "\n",
    "# Supported mime_types: 'text/plain', 'text/html'\n",
    "# https://cloud.google.com/automl/docs/reference/rpc/google.cloud.automl.v1#textsnippet\n",
    "text_snippet = automl.TextSnippet(content=content, mime_type=\"text/plain\")\n",
    "payload = automl.ExamplePayload(text_snippet=text_snippet)\n",
    "\n",
    "response = prediction_client.predict(name=model_full_id, payload=payload)\n",
    "\n",
    "for annotation_payload in response.payload:\n",
    "    print(u\"Predicted class name: {}\".format(annotation_payload.display_name))\n",
    "    print(\n",
    "        u\"Predicted class score: {}\".format(annotation_payload.classification.score)\n",
    "    )"
   ]
  },
  {
   "cell_type": "markdown",
   "id": "intended-psychiatry",
   "metadata": {},
   "source": [
    "This is the loop through all the reports in the test set and making a list of all the responses"
   ]
  },
  {
   "cell_type": "code",
   "execution_count": 107,
   "id": "allied-jordan",
   "metadata": {},
   "outputs": [],
   "source": [
    "responses = []\n",
    "for rep in test['Exam Result']:\n",
    "    text_snippet = automl.TextSnippet(content=rep, mime_type=\"text/plain\")\n",
    "    payload = automl.ExamplePayload(text_snippet=text_snippet)\n",
    "    response = prediction_client.predict(name=model_full_id, payload=payload)\n",
    "    responses.append(response)"
   ]
  },
  {
   "cell_type": "code",
   "execution_count": 108,
   "id": "assured-static",
   "metadata": {},
   "outputs": [
    {
     "data": {
      "text/plain": [
       "48"
      ]
     },
     "execution_count": 108,
     "metadata": {},
     "output_type": "execute_result"
    }
   ],
   "source": [
    "len(responses)"
   ]
  },
  {
   "cell_type": "code",
   "execution_count": 120,
   "id": "outer-capture",
   "metadata": {},
   "outputs": [
    {
     "data": {
      "text/plain": [
       "payload {\n",
       "  annotation_spec_id: \"6973062061425164288\"\n",
       "  classification {\n",
       "    score: 0.9907871\n",
       "  }\n",
       "  display_name: \"single\"\n",
       "}\n",
       "payload {\n",
       "  annotation_spec_id: \"1208454538390929408\"\n",
       "  classification {\n",
       "    score: 0.009212881\n",
       "  }\n",
       "  display_name: \"multiple\"\n",
       "}"
      ]
     },
     "execution_count": 120,
     "metadata": {},
     "output_type": "execute_result"
    }
   ],
   "source": [
    "#just have a look at the format of a single reponse\n",
    "responses[0]"
   ]
  },
  {
   "cell_type": "code",
   "execution_count": 115,
   "id": "opening-situation",
   "metadata": {},
   "outputs": [],
   "source": [
    "#create an empty dataframe\n",
    "results_df = pd.DataFrame(columns = ['single', 'multiple'], index = range(len(responses)))"
   ]
  },
  {
   "cell_type": "code",
   "execution_count": 117,
   "id": "trained-arthur",
   "metadata": {},
   "outputs": [],
   "source": [
    "#loop through the responses and populate the dataframe appropriately\n",
    "for i, res in enumerate(responses):\n",
    "    for payload in res.payload:\n",
    "        results_df.iloc[i][payload.display_name] = payload.classification.score"
   ]
  },
  {
   "cell_type": "code",
   "execution_count": 118,
   "id": "removed-athens",
   "metadata": {},
   "outputs": [
    {
     "data": {
      "text/html": [
       "<div>\n",
       "<style scoped>\n",
       "    .dataframe tbody tr th:only-of-type {\n",
       "        vertical-align: middle;\n",
       "    }\n",
       "\n",
       "    .dataframe tbody tr th {\n",
       "        vertical-align: top;\n",
       "    }\n",
       "\n",
       "    .dataframe thead th {\n",
       "        text-align: right;\n",
       "    }\n",
       "</style>\n",
       "<table border=\"1\" class=\"dataframe\">\n",
       "  <thead>\n",
       "    <tr style=\"text-align: right;\">\n",
       "      <th></th>\n",
       "      <th>single</th>\n",
       "      <th>multiple</th>\n",
       "    </tr>\n",
       "  </thead>\n",
       "  <tbody>\n",
       "    <tr>\n",
       "      <th>0</th>\n",
       "      <td>0.990787</td>\n",
       "      <td>0.009213</td>\n",
       "    </tr>\n",
       "    <tr>\n",
       "      <th>1</th>\n",
       "      <td>0.990224</td>\n",
       "      <td>0.009776</td>\n",
       "    </tr>\n",
       "    <tr>\n",
       "      <th>2</th>\n",
       "      <td>0.996347</td>\n",
       "      <td>0.003653</td>\n",
       "    </tr>\n",
       "    <tr>\n",
       "      <th>3</th>\n",
       "      <td>0.450748</td>\n",
       "      <td>0.549252</td>\n",
       "    </tr>\n",
       "    <tr>\n",
       "      <th>4</th>\n",
       "      <td>0.997189</td>\n",
       "      <td>0.002812</td>\n",
       "    </tr>\n",
       "  </tbody>\n",
       "</table>\n",
       "</div>"
      ],
      "text/plain": [
       "     single  multiple\n",
       "0  0.990787  0.009213\n",
       "1  0.990224  0.009776\n",
       "2  0.996347  0.003653\n",
       "3  0.450748  0.549252\n",
       "4  0.997189  0.002812"
      ]
     },
     "execution_count": 118,
     "metadata": {},
     "output_type": "execute_result"
    }
   ],
   "source": [
    "results_df.head()"
   ]
  },
  {
   "cell_type": "code",
   "execution_count": 125,
   "id": "vocal-reliance",
   "metadata": {},
   "outputs": [],
   "source": [
    "def get_predictions(df, thresh = 0.5):\n",
    "    preds = np.array([df.single, df.multiple])\n",
    "    prediction = 0 if preds[0] >= thresh else 1\n",
    "    return '1' if prediction == 0 else '>1'"
   ]
  },
  {
   "cell_type": "code",
   "execution_count": 126,
   "id": "uniform-atlantic",
   "metadata": {},
   "outputs": [],
   "source": [
    "results_df['predictions_0.5'] = results_df.apply(get_predictions, axis = 1)"
   ]
  },
  {
   "cell_type": "code",
   "execution_count": 127,
   "id": "subsequent-sauce",
   "metadata": {},
   "outputs": [
    {
     "data": {
      "text/html": [
       "<div>\n",
       "<style scoped>\n",
       "    .dataframe tbody tr th:only-of-type {\n",
       "        vertical-align: middle;\n",
       "    }\n",
       "\n",
       "    .dataframe tbody tr th {\n",
       "        vertical-align: top;\n",
       "    }\n",
       "\n",
       "    .dataframe thead th {\n",
       "        text-align: right;\n",
       "    }\n",
       "</style>\n",
       "<table border=\"1\" class=\"dataframe\">\n",
       "  <thead>\n",
       "    <tr style=\"text-align: right;\">\n",
       "      <th></th>\n",
       "      <th>single</th>\n",
       "      <th>multiple</th>\n",
       "      <th>predictions_0.5</th>\n",
       "    </tr>\n",
       "  </thead>\n",
       "  <tbody>\n",
       "    <tr>\n",
       "      <th>0</th>\n",
       "      <td>0.990787</td>\n",
       "      <td>0.009213</td>\n",
       "      <td>1</td>\n",
       "    </tr>\n",
       "    <tr>\n",
       "      <th>1</th>\n",
       "      <td>0.990224</td>\n",
       "      <td>0.009776</td>\n",
       "      <td>1</td>\n",
       "    </tr>\n",
       "    <tr>\n",
       "      <th>2</th>\n",
       "      <td>0.996347</td>\n",
       "      <td>0.003653</td>\n",
       "      <td>1</td>\n",
       "    </tr>\n",
       "    <tr>\n",
       "      <th>3</th>\n",
       "      <td>0.450748</td>\n",
       "      <td>0.549252</td>\n",
       "      <td>&gt;1</td>\n",
       "    </tr>\n",
       "    <tr>\n",
       "      <th>4</th>\n",
       "      <td>0.997189</td>\n",
       "      <td>0.002812</td>\n",
       "      <td>1</td>\n",
       "    </tr>\n",
       "  </tbody>\n",
       "</table>\n",
       "</div>"
      ],
      "text/plain": [
       "     single  multiple predictions_0.5\n",
       "0  0.990787  0.009213               1\n",
       "1  0.990224  0.009776               1\n",
       "2  0.996347  0.003653               1\n",
       "3  0.450748  0.549252              >1\n",
       "4  0.997189  0.002812               1"
      ]
     },
     "execution_count": 127,
     "metadata": {},
     "output_type": "execute_result"
    }
   ],
   "source": [
    "results_df.head()"
   ]
  },
  {
   "cell_type": "code",
   "execution_count": 130,
   "id": "ordinary-texas",
   "metadata": {},
   "outputs": [
    {
     "data": {
      "text/plain": [
       "Counter({'1': 44, '>1': 4})"
      ]
     },
     "execution_count": 130,
     "metadata": {},
     "output_type": "execute_result"
    }
   ],
   "source": [
    "Counter(results_df['predictions_0.5'])"
   ]
  },
  {
   "cell_type": "code",
   "execution_count": 131,
   "id": "premier-assessment",
   "metadata": {},
   "outputs": [],
   "source": [
    "thresholds = [0.55, 0.6, 0.65, 0.7, 0.75, 0.8, 0.85, 0.9, 0.95]"
   ]
  },
  {
   "cell_type": "code",
   "execution_count": 133,
   "id": "stock-color",
   "metadata": {},
   "outputs": [],
   "source": [
    "\n",
    "get_pred = partial(get_predictions, thresh = 0.6)"
   ]
  },
  {
   "cell_type": "code",
   "execution_count": 134,
   "id": "catholic-dairy",
   "metadata": {},
   "outputs": [
    {
     "data": {
      "text/plain": [
       "functools.partial(<function get_predictions at 0x000001633549BDC0>, thresh=0.6)"
      ]
     },
     "execution_count": 134,
     "metadata": {},
     "output_type": "execute_result"
    }
   ],
   "source": [
    "get_pred"
   ]
  },
  {
   "cell_type": "code",
   "execution_count": 136,
   "id": "expressed-cartoon",
   "metadata": {},
   "outputs": [],
   "source": [
    "for thresh in thresholds:\n",
    "    col_name = 'predictions_' + str(thresh)\n",
    "    get_pred = partial(get_predictions,thresh = thresh)\n",
    "    results_df[col_name] = results_df.apply(get_pred, axis = 1)"
   ]
  },
  {
   "cell_type": "code",
   "execution_count": 138,
   "id": "metric-victor",
   "metadata": {},
   "outputs": [
    {
     "data": {
      "text/html": [
       "<div>\n",
       "<style scoped>\n",
       "    .dataframe tbody tr th:only-of-type {\n",
       "        vertical-align: middle;\n",
       "    }\n",
       "\n",
       "    .dataframe tbody tr th {\n",
       "        vertical-align: top;\n",
       "    }\n",
       "\n",
       "    .dataframe thead th {\n",
       "        text-align: right;\n",
       "    }\n",
       "</style>\n",
       "<table border=\"1\" class=\"dataframe\">\n",
       "  <thead>\n",
       "    <tr style=\"text-align: right;\">\n",
       "      <th></th>\n",
       "      <th>single</th>\n",
       "      <th>multiple</th>\n",
       "      <th>predictions_0.5</th>\n",
       "      <th>predictions_0.55</th>\n",
       "      <th>predictions_0.6</th>\n",
       "      <th>predictions_0.65</th>\n",
       "      <th>predictions_0.7</th>\n",
       "      <th>predictions_0.75</th>\n",
       "      <th>predictions_0.8</th>\n",
       "      <th>predictions_0.85</th>\n",
       "      <th>predictions_0.9</th>\n",
       "      <th>predictions_0.95</th>\n",
       "    </tr>\n",
       "  </thead>\n",
       "  <tbody>\n",
       "    <tr>\n",
       "      <th>0</th>\n",
       "      <td>0.990787</td>\n",
       "      <td>0.009213</td>\n",
       "      <td>1</td>\n",
       "      <td>1</td>\n",
       "      <td>1</td>\n",
       "      <td>1</td>\n",
       "      <td>1</td>\n",
       "      <td>1</td>\n",
       "      <td>1</td>\n",
       "      <td>1</td>\n",
       "      <td>1</td>\n",
       "      <td>1</td>\n",
       "    </tr>\n",
       "    <tr>\n",
       "      <th>1</th>\n",
       "      <td>0.990224</td>\n",
       "      <td>0.009776</td>\n",
       "      <td>1</td>\n",
       "      <td>1</td>\n",
       "      <td>1</td>\n",
       "      <td>1</td>\n",
       "      <td>1</td>\n",
       "      <td>1</td>\n",
       "      <td>1</td>\n",
       "      <td>1</td>\n",
       "      <td>1</td>\n",
       "      <td>1</td>\n",
       "    </tr>\n",
       "    <tr>\n",
       "      <th>2</th>\n",
       "      <td>0.996347</td>\n",
       "      <td>0.003653</td>\n",
       "      <td>1</td>\n",
       "      <td>1</td>\n",
       "      <td>1</td>\n",
       "      <td>1</td>\n",
       "      <td>1</td>\n",
       "      <td>1</td>\n",
       "      <td>1</td>\n",
       "      <td>1</td>\n",
       "      <td>1</td>\n",
       "      <td>1</td>\n",
       "    </tr>\n",
       "    <tr>\n",
       "      <th>3</th>\n",
       "      <td>0.450748</td>\n",
       "      <td>0.549252</td>\n",
       "      <td>&gt;1</td>\n",
       "      <td>&gt;1</td>\n",
       "      <td>&gt;1</td>\n",
       "      <td>&gt;1</td>\n",
       "      <td>&gt;1</td>\n",
       "      <td>&gt;1</td>\n",
       "      <td>&gt;1</td>\n",
       "      <td>&gt;1</td>\n",
       "      <td>&gt;1</td>\n",
       "      <td>&gt;1</td>\n",
       "    </tr>\n",
       "    <tr>\n",
       "      <th>4</th>\n",
       "      <td>0.997189</td>\n",
       "      <td>0.002812</td>\n",
       "      <td>1</td>\n",
       "      <td>1</td>\n",
       "      <td>1</td>\n",
       "      <td>1</td>\n",
       "      <td>1</td>\n",
       "      <td>1</td>\n",
       "      <td>1</td>\n",
       "      <td>1</td>\n",
       "      <td>1</td>\n",
       "      <td>1</td>\n",
       "    </tr>\n",
       "  </tbody>\n",
       "</table>\n",
       "</div>"
      ],
      "text/plain": [
       "     single  multiple predictions_0.5 predictions_0.55 predictions_0.6  \\\n",
       "0  0.990787  0.009213               1                1               1   \n",
       "1  0.990224  0.009776               1                1               1   \n",
       "2  0.996347  0.003653               1                1               1   \n",
       "3  0.450748  0.549252              >1               >1              >1   \n",
       "4  0.997189  0.002812               1                1               1   \n",
       "\n",
       "  predictions_0.65 predictions_0.7 predictions_0.75 predictions_0.8  \\\n",
       "0                1               1                1               1   \n",
       "1                1               1                1               1   \n",
       "2                1               1                1               1   \n",
       "3               >1              >1               >1              >1   \n",
       "4                1               1                1               1   \n",
       "\n",
       "  predictions_0.85 predictions_0.9 predictions_0.95  \n",
       "0                1               1                1  \n",
       "1                1               1                1  \n",
       "2                1               1                1  \n",
       "3               >1              >1               >1  \n",
       "4                1               1                1  "
      ]
     },
     "execution_count": 138,
     "metadata": {},
     "output_type": "execute_result"
    }
   ],
   "source": [
    "results_df.head()"
   ]
  },
  {
   "cell_type": "code",
   "execution_count": 139,
   "id": "productive-astrology",
   "metadata": {},
   "outputs": [
    {
     "name": "stdout",
     "output_type": "stream",
     "text": [
      "Counter({'1': 44, '>1': 4})\n",
      "Counter({'1': 43, '>1': 5})\n",
      "Counter({'1': 43, '>1': 5})\n",
      "Counter({'1': 43, '>1': 5})\n",
      "Counter({'1': 43, '>1': 5})\n",
      "Counter({'1': 43, '>1': 5})\n",
      "Counter({'1': 43, '>1': 5})\n",
      "Counter({'1': 42, '>1': 6})\n",
      "Counter({'1': 41, '>1': 7})\n",
      "Counter({'1': 37, '>1': 11})\n"
     ]
    }
   ],
   "source": [
    "for col in list(results_df.columns)[2:]:\n",
    "    print (Counter(results_df[col]))"
   ]
  },
  {
   "cell_type": "code",
   "execution_count": 140,
   "id": "differential-refrigerator",
   "metadata": {},
   "outputs": [],
   "source": [
    "results_df.to_csv('test_predictions.csv', index = False)"
   ]
  },
  {
   "cell_type": "markdown",
   "id": "geological-elevation",
   "metadata": {},
   "source": [
    "## evaluate results"
   ]
  },
  {
   "cell_type": "markdown",
   "id": "communist-abraham",
   "metadata": {},
   "source": [
    "### reload predictions"
   ]
  },
  {
   "cell_type": "code",
   "execution_count": 2,
   "id": "demanding-frost",
   "metadata": {},
   "outputs": [
    {
     "data": {
      "text/html": [
       "<div>\n",
       "<style scoped>\n",
       "    .dataframe tbody tr th:only-of-type {\n",
       "        vertical-align: middle;\n",
       "    }\n",
       "\n",
       "    .dataframe tbody tr th {\n",
       "        vertical-align: top;\n",
       "    }\n",
       "\n",
       "    .dataframe thead th {\n",
       "        text-align: right;\n",
       "    }\n",
       "</style>\n",
       "<table border=\"1\" class=\"dataframe\">\n",
       "  <thead>\n",
       "    <tr style=\"text-align: right;\">\n",
       "      <th></th>\n",
       "      <th>single</th>\n",
       "      <th>multiple</th>\n",
       "      <th>predictions_0.5</th>\n",
       "      <th>predictions_0.55</th>\n",
       "      <th>predictions_0.6</th>\n",
       "      <th>predictions_0.65</th>\n",
       "      <th>predictions_0.7</th>\n",
       "      <th>predictions_0.75</th>\n",
       "      <th>predictions_0.8</th>\n",
       "      <th>predictions_0.85</th>\n",
       "      <th>predictions_0.9</th>\n",
       "      <th>predictions_0.95</th>\n",
       "    </tr>\n",
       "  </thead>\n",
       "  <tbody>\n",
       "    <tr>\n",
       "      <th>0</th>\n",
       "      <td>0.990787</td>\n",
       "      <td>0.009213</td>\n",
       "      <td>1</td>\n",
       "      <td>1</td>\n",
       "      <td>1</td>\n",
       "      <td>1</td>\n",
       "      <td>1</td>\n",
       "      <td>1</td>\n",
       "      <td>1</td>\n",
       "      <td>1</td>\n",
       "      <td>1</td>\n",
       "      <td>1</td>\n",
       "    </tr>\n",
       "    <tr>\n",
       "      <th>1</th>\n",
       "      <td>0.990224</td>\n",
       "      <td>0.009776</td>\n",
       "      <td>1</td>\n",
       "      <td>1</td>\n",
       "      <td>1</td>\n",
       "      <td>1</td>\n",
       "      <td>1</td>\n",
       "      <td>1</td>\n",
       "      <td>1</td>\n",
       "      <td>1</td>\n",
       "      <td>1</td>\n",
       "      <td>1</td>\n",
       "    </tr>\n",
       "    <tr>\n",
       "      <th>2</th>\n",
       "      <td>0.996347</td>\n",
       "      <td>0.003653</td>\n",
       "      <td>1</td>\n",
       "      <td>1</td>\n",
       "      <td>1</td>\n",
       "      <td>1</td>\n",
       "      <td>1</td>\n",
       "      <td>1</td>\n",
       "      <td>1</td>\n",
       "      <td>1</td>\n",
       "      <td>1</td>\n",
       "      <td>1</td>\n",
       "    </tr>\n",
       "    <tr>\n",
       "      <th>3</th>\n",
       "      <td>0.450748</td>\n",
       "      <td>0.549252</td>\n",
       "      <td>&gt;1</td>\n",
       "      <td>&gt;1</td>\n",
       "      <td>&gt;1</td>\n",
       "      <td>&gt;1</td>\n",
       "      <td>&gt;1</td>\n",
       "      <td>&gt;1</td>\n",
       "      <td>&gt;1</td>\n",
       "      <td>&gt;1</td>\n",
       "      <td>&gt;1</td>\n",
       "      <td>&gt;1</td>\n",
       "    </tr>\n",
       "    <tr>\n",
       "      <th>4</th>\n",
       "      <td>0.997189</td>\n",
       "      <td>0.002812</td>\n",
       "      <td>1</td>\n",
       "      <td>1</td>\n",
       "      <td>1</td>\n",
       "      <td>1</td>\n",
       "      <td>1</td>\n",
       "      <td>1</td>\n",
       "      <td>1</td>\n",
       "      <td>1</td>\n",
       "      <td>1</td>\n",
       "      <td>1</td>\n",
       "    </tr>\n",
       "  </tbody>\n",
       "</table>\n",
       "</div>"
      ],
      "text/plain": [
       "     single  multiple predictions_0.5 predictions_0.55 predictions_0.6  \\\n",
       "0  0.990787  0.009213               1                1               1   \n",
       "1  0.990224  0.009776               1                1               1   \n",
       "2  0.996347  0.003653               1                1               1   \n",
       "3  0.450748  0.549252              >1               >1              >1   \n",
       "4  0.997189  0.002812               1                1               1   \n",
       "\n",
       "  predictions_0.65 predictions_0.7 predictions_0.75 predictions_0.8  \\\n",
       "0                1               1                1               1   \n",
       "1                1               1                1               1   \n",
       "2                1               1                1               1   \n",
       "3               >1              >1               >1              >1   \n",
       "4                1               1                1               1   \n",
       "\n",
       "  predictions_0.85 predictions_0.9 predictions_0.95  \n",
       "0                1               1                1  \n",
       "1                1               1                1  \n",
       "2                1               1                1  \n",
       "3               >1              >1               >1  \n",
       "4                1               1                1  "
      ]
     },
     "execution_count": 2,
     "metadata": {},
     "output_type": "execute_result"
    }
   ],
   "source": [
    "preds = pd.read_csv('test_predictions.csv')\n",
    "preds.head()"
   ]
  },
  {
   "cell_type": "markdown",
   "id": "powerful-agreement",
   "metadata": {},
   "source": [
    "### load labelled test set"
   ]
  },
  {
   "cell_type": "code",
   "execution_count": 3,
   "id": "raising-passing",
   "metadata": {},
   "outputs": [
    {
     "data": {
      "text/html": [
       "<div>\n",
       "<style scoped>\n",
       "    .dataframe tbody tr th:only-of-type {\n",
       "        vertical-align: middle;\n",
       "    }\n",
       "\n",
       "    .dataframe tbody tr th {\n",
       "        vertical-align: top;\n",
       "    }\n",
       "\n",
       "    .dataframe thead th {\n",
       "        text-align: right;\n",
       "    }\n",
       "</style>\n",
       "<table border=\"1\" class=\"dataframe\">\n",
       "  <thead>\n",
       "    <tr style=\"text-align: right;\">\n",
       "      <th></th>\n",
       "      <th>Accession</th>\n",
       "      <th>MRN</th>\n",
       "      <th>Sign off Rad</th>\n",
       "      <th>Exam Result</th>\n",
       "      <th>Date</th>\n",
       "      <th>labels</th>\n",
       "    </tr>\n",
       "  </thead>\n",
       "  <tbody>\n",
       "    <tr>\n",
       "      <th>0</th>\n",
       "      <td>16851023.0</td>\n",
       "      <td>N000861996</td>\n",
       "      <td>FITZGERALD</td>\n",
       "      <td>FNA BIOPSY OF THYROID\\r\\n\\r\\nHISTORY: Request ...</td>\n",
       "      <td>2021-02-23</td>\n",
       "      <td>1</td>\n",
       "    </tr>\n",
       "    <tr>\n",
       "      <th>1</th>\n",
       "      <td>16851107.0</td>\n",
       "      <td>N000444488</td>\n",
       "      <td>FITZGERALD</td>\n",
       "      <td>FNA BIOPSY OF THYROID\\r\\n\\r\\nHISTORY: Request ...</td>\n",
       "      <td>2021-02-23</td>\n",
       "      <td>1</td>\n",
       "    </tr>\n",
       "    <tr>\n",
       "      <th>2</th>\n",
       "      <td>16851388.0</td>\n",
       "      <td>N000923373</td>\n",
       "      <td>FITZGERALD</td>\n",
       "      <td>FNA BIOPSY OF THYROID\\r\\n\\r\\nHISTORY: Request ...</td>\n",
       "      <td>2021-02-23</td>\n",
       "      <td>1</td>\n",
       "    </tr>\n",
       "    <tr>\n",
       "      <th>3</th>\n",
       "      <td>16854532.0</td>\n",
       "      <td>N000935827</td>\n",
       "      <td>CARVALHO</td>\n",
       "      <td>FINE-NEEDLE ASPIRATION THYROID NODULE\\r\\n\\r\\nP...</td>\n",
       "      <td>2021-02-24</td>\n",
       "      <td>2</td>\n",
       "    </tr>\n",
       "    <tr>\n",
       "      <th>4</th>\n",
       "      <td>16854824.0</td>\n",
       "      <td>N000504684</td>\n",
       "      <td>CARVALHO</td>\n",
       "      <td>FINE-NEEDLE ASPIRATION THYROID NODULE\\r\\n\\r\\nP...</td>\n",
       "      <td>2021-02-24</td>\n",
       "      <td>1</td>\n",
       "    </tr>\n",
       "  </tbody>\n",
       "</table>\n",
       "</div>"
      ],
      "text/plain": [
       "    Accession         MRN Sign off Rad  \\\n",
       "0  16851023.0  N000861996   FITZGERALD   \n",
       "1  16851107.0  N000444488   FITZGERALD   \n",
       "2  16851388.0  N000923373   FITZGERALD   \n",
       "3  16854532.0  N000935827     CARVALHO   \n",
       "4  16854824.0  N000504684     CARVALHO   \n",
       "\n",
       "                                         Exam Result        Date labels  \n",
       "0  FNA BIOPSY OF THYROID\\r\\n\\r\\nHISTORY: Request ...  2021-02-23      1  \n",
       "1  FNA BIOPSY OF THYROID\\r\\n\\r\\nHISTORY: Request ...  2021-02-23      1  \n",
       "2  FNA BIOPSY OF THYROID\\r\\n\\r\\nHISTORY: Request ...  2021-02-23      1  \n",
       "3  FINE-NEEDLE ASPIRATION THYROID NODULE\\r\\n\\r\\nP...  2021-02-24      2  \n",
       "4  FINE-NEEDLE ASPIRATION THYROID NODULE\\r\\n\\r\\nP...  2021-02-24      1  "
      ]
     },
     "execution_count": 3,
     "metadata": {},
     "output_type": "execute_result"
    }
   ],
   "source": [
    "test_df = pd.read_csv('thyroid_test_data.csv')\n",
    "test_df.head()"
   ]
  },
  {
   "cell_type": "code",
   "execution_count": 6,
   "id": "stupid-stephen",
   "metadata": {},
   "outputs": [
    {
     "data": {
      "text/plain": [
       "Counter({'1': 42, '2': 4, nan: 1, '>2': 1})"
      ]
     },
     "execution_count": 6,
     "metadata": {},
     "output_type": "execute_result"
    }
   ],
   "source": [
    "Counter(test_df.labels)"
   ]
  },
  {
   "cell_type": "code",
   "execution_count": 12,
   "id": "relevant-fellowship",
   "metadata": {},
   "outputs": [],
   "source": [
    "missing_label = test_df[test_df.labels.isnull()]['Exam Result']"
   ]
  },
  {
   "cell_type": "code",
   "execution_count": 14,
   "id": "equivalent-district",
   "metadata": {},
   "outputs": [
    {
     "name": "stdout",
     "output_type": "stream",
     "text": [
      "******** ADDENDUM #1 ********\n",
      "CYTOLOGY REPORT:\n",
      "\n",
      "Left breast: FN21-290\n",
      "\n",
      "LEFT BREAST 2:00 3 CM FN:\n",
      "CYST CONTENTS.\n",
      "Microscopic examination shows abundant proteinaceous debris admixed with scattered macrophages, few cyst lining cells and benign ductal cells. Cytologically malignant cells are not seen.\n",
      "\n",
      "Right breast: FN21-290\n",
      "\n",
      "RIGHT BREAST 9:00 at nipple:\n",
      "CYST CONTENTS.\n",
      "Microscopic examination shows abundant proteinaceous debris admixed with macrophages and apocrine cells. Cytologically malignant cells are not seen.\n",
      "\n",
      "Summary: Concordant with imaging findings. Benign-appearing bilateral breast cysts.\n",
      "\n",
      "BI-RADS 2\n",
      "\n",
      "******** ORIGINAL REPORT ********\n",
      "Comparison: 8/12/2020 and prior.\n",
      "\n",
      "Bilateral simple breast cysts cysts are seen. The largest on the right breast measures 4.1 x 0.8 x 2.7 cm at the 9:00 radian, previously 2.9 x 1.5 x 5.8 cm.\n",
      "\n",
      "The largest on the left measures 3.3 x 1.4 x 2.7 cm at the 2:00 radian, previously 3.8 x 1.2 x 3.2 cm.\n",
      "\n",
      "An informed consent was obtained from the patient for aspiration. The benefits and the risks, including recurring cysts or new cysts were discussed.\n",
      "\n",
      "The left cyst was targeted first. This cyst is obvious on visual inspection with a focal bulge. With aseptic technique and 1 percent lidocaine as local anesthetics, aspiration was performed. 5 mL of turbid greenish-brownish fluid was aspirated and sent for cytology. The cyst was collapsed following aspiration.\n",
      "\n",
      "The right cyst was then aspirated with the same technique. 4 mL of similar turbid greenish-brownish fluid was aspirated and sent for cytology. The cyst was collapsed following aspiration. There was no communication with the adjacent smaller cysts. Since the smaller cyst was not significantly bordering the patient, no further aspiration was performed.\n",
      "\n",
      "The patient tolerated the procedure well with no immediate complications.\n",
      "\n",
      "IMPRESSION: Bilateral breast cysts, aspirated with sonographic guidance as described.\n"
     ]
    }
   ],
   "source": [
    "for i in missing_label:  print (i)"
   ]
  },
  {
   "cell_type": "code",
   "execution_count": 16,
   "id": "cardiovascular-biodiversity",
   "metadata": {},
   "outputs": [],
   "source": [
    "combo = pd.merge(test_df, preds, left_index = True, right_index = True)"
   ]
  },
  {
   "cell_type": "code",
   "execution_count": 17,
   "id": "colonial-montreal",
   "metadata": {},
   "outputs": [
    {
     "data": {
      "text/html": [
       "<div>\n",
       "<style scoped>\n",
       "    .dataframe tbody tr th:only-of-type {\n",
       "        vertical-align: middle;\n",
       "    }\n",
       "\n",
       "    .dataframe tbody tr th {\n",
       "        vertical-align: top;\n",
       "    }\n",
       "\n",
       "    .dataframe thead th {\n",
       "        text-align: right;\n",
       "    }\n",
       "</style>\n",
       "<table border=\"1\" class=\"dataframe\">\n",
       "  <thead>\n",
       "    <tr style=\"text-align: right;\">\n",
       "      <th></th>\n",
       "      <th>Accession</th>\n",
       "      <th>MRN</th>\n",
       "      <th>Sign off Rad</th>\n",
       "      <th>Exam Result</th>\n",
       "      <th>Date</th>\n",
       "      <th>labels</th>\n",
       "      <th>single</th>\n",
       "      <th>multiple</th>\n",
       "      <th>predictions_0.5</th>\n",
       "      <th>predictions_0.55</th>\n",
       "      <th>predictions_0.6</th>\n",
       "      <th>predictions_0.65</th>\n",
       "      <th>predictions_0.7</th>\n",
       "      <th>predictions_0.75</th>\n",
       "      <th>predictions_0.8</th>\n",
       "      <th>predictions_0.85</th>\n",
       "      <th>predictions_0.9</th>\n",
       "      <th>predictions_0.95</th>\n",
       "    </tr>\n",
       "  </thead>\n",
       "  <tbody>\n",
       "    <tr>\n",
       "      <th>0</th>\n",
       "      <td>16851023.0</td>\n",
       "      <td>N000861996</td>\n",
       "      <td>FITZGERALD</td>\n",
       "      <td>FNA BIOPSY OF THYROID\\r\\n\\r\\nHISTORY: Request ...</td>\n",
       "      <td>2021-02-23</td>\n",
       "      <td>1</td>\n",
       "      <td>0.990787</td>\n",
       "      <td>0.009213</td>\n",
       "      <td>1</td>\n",
       "      <td>1</td>\n",
       "      <td>1</td>\n",
       "      <td>1</td>\n",
       "      <td>1</td>\n",
       "      <td>1</td>\n",
       "      <td>1</td>\n",
       "      <td>1</td>\n",
       "      <td>1</td>\n",
       "      <td>1</td>\n",
       "    </tr>\n",
       "    <tr>\n",
       "      <th>1</th>\n",
       "      <td>16851107.0</td>\n",
       "      <td>N000444488</td>\n",
       "      <td>FITZGERALD</td>\n",
       "      <td>FNA BIOPSY OF THYROID\\r\\n\\r\\nHISTORY: Request ...</td>\n",
       "      <td>2021-02-23</td>\n",
       "      <td>1</td>\n",
       "      <td>0.990224</td>\n",
       "      <td>0.009776</td>\n",
       "      <td>1</td>\n",
       "      <td>1</td>\n",
       "      <td>1</td>\n",
       "      <td>1</td>\n",
       "      <td>1</td>\n",
       "      <td>1</td>\n",
       "      <td>1</td>\n",
       "      <td>1</td>\n",
       "      <td>1</td>\n",
       "      <td>1</td>\n",
       "    </tr>\n",
       "    <tr>\n",
       "      <th>2</th>\n",
       "      <td>16851388.0</td>\n",
       "      <td>N000923373</td>\n",
       "      <td>FITZGERALD</td>\n",
       "      <td>FNA BIOPSY OF THYROID\\r\\n\\r\\nHISTORY: Request ...</td>\n",
       "      <td>2021-02-23</td>\n",
       "      <td>1</td>\n",
       "      <td>0.996347</td>\n",
       "      <td>0.003653</td>\n",
       "      <td>1</td>\n",
       "      <td>1</td>\n",
       "      <td>1</td>\n",
       "      <td>1</td>\n",
       "      <td>1</td>\n",
       "      <td>1</td>\n",
       "      <td>1</td>\n",
       "      <td>1</td>\n",
       "      <td>1</td>\n",
       "      <td>1</td>\n",
       "    </tr>\n",
       "    <tr>\n",
       "      <th>3</th>\n",
       "      <td>16854532.0</td>\n",
       "      <td>N000935827</td>\n",
       "      <td>CARVALHO</td>\n",
       "      <td>FINE-NEEDLE ASPIRATION THYROID NODULE\\r\\n\\r\\nP...</td>\n",
       "      <td>2021-02-24</td>\n",
       "      <td>2</td>\n",
       "      <td>0.450748</td>\n",
       "      <td>0.549252</td>\n",
       "      <td>&gt;1</td>\n",
       "      <td>&gt;1</td>\n",
       "      <td>&gt;1</td>\n",
       "      <td>&gt;1</td>\n",
       "      <td>&gt;1</td>\n",
       "      <td>&gt;1</td>\n",
       "      <td>&gt;1</td>\n",
       "      <td>&gt;1</td>\n",
       "      <td>&gt;1</td>\n",
       "      <td>&gt;1</td>\n",
       "    </tr>\n",
       "    <tr>\n",
       "      <th>4</th>\n",
       "      <td>16854824.0</td>\n",
       "      <td>N000504684</td>\n",
       "      <td>CARVALHO</td>\n",
       "      <td>FINE-NEEDLE ASPIRATION THYROID NODULE\\r\\n\\r\\nP...</td>\n",
       "      <td>2021-02-24</td>\n",
       "      <td>1</td>\n",
       "      <td>0.997189</td>\n",
       "      <td>0.002812</td>\n",
       "      <td>1</td>\n",
       "      <td>1</td>\n",
       "      <td>1</td>\n",
       "      <td>1</td>\n",
       "      <td>1</td>\n",
       "      <td>1</td>\n",
       "      <td>1</td>\n",
       "      <td>1</td>\n",
       "      <td>1</td>\n",
       "      <td>1</td>\n",
       "    </tr>\n",
       "  </tbody>\n",
       "</table>\n",
       "</div>"
      ],
      "text/plain": [
       "    Accession         MRN Sign off Rad  \\\n",
       "0  16851023.0  N000861996   FITZGERALD   \n",
       "1  16851107.0  N000444488   FITZGERALD   \n",
       "2  16851388.0  N000923373   FITZGERALD   \n",
       "3  16854532.0  N000935827     CARVALHO   \n",
       "4  16854824.0  N000504684     CARVALHO   \n",
       "\n",
       "                                         Exam Result        Date labels  \\\n",
       "0  FNA BIOPSY OF THYROID\\r\\n\\r\\nHISTORY: Request ...  2021-02-23      1   \n",
       "1  FNA BIOPSY OF THYROID\\r\\n\\r\\nHISTORY: Request ...  2021-02-23      1   \n",
       "2  FNA BIOPSY OF THYROID\\r\\n\\r\\nHISTORY: Request ...  2021-02-23      1   \n",
       "3  FINE-NEEDLE ASPIRATION THYROID NODULE\\r\\n\\r\\nP...  2021-02-24      2   \n",
       "4  FINE-NEEDLE ASPIRATION THYROID NODULE\\r\\n\\r\\nP...  2021-02-24      1   \n",
       "\n",
       "     single  multiple predictions_0.5 predictions_0.55 predictions_0.6  \\\n",
       "0  0.990787  0.009213               1                1               1   \n",
       "1  0.990224  0.009776               1                1               1   \n",
       "2  0.996347  0.003653               1                1               1   \n",
       "3  0.450748  0.549252              >1               >1              >1   \n",
       "4  0.997189  0.002812               1                1               1   \n",
       "\n",
       "  predictions_0.65 predictions_0.7 predictions_0.75 predictions_0.8  \\\n",
       "0                1               1                1               1   \n",
       "1                1               1                1               1   \n",
       "2                1               1                1               1   \n",
       "3               >1              >1               >1              >1   \n",
       "4                1               1                1               1   \n",
       "\n",
       "  predictions_0.85 predictions_0.9 predictions_0.95  \n",
       "0                1               1                1  \n",
       "1                1               1                1  \n",
       "2                1               1                1  \n",
       "3               >1              >1               >1  \n",
       "4                1               1                1  "
      ]
     },
     "execution_count": 17,
     "metadata": {},
     "output_type": "execute_result"
    }
   ],
   "source": [
    "combo.head()"
   ]
  },
  {
   "cell_type": "code",
   "execution_count": 18,
   "id": "found-outside",
   "metadata": {},
   "outputs": [
    {
     "data": {
      "text/plain": [
       "(48, 48, 48)"
      ]
     },
     "execution_count": 18,
     "metadata": {},
     "output_type": "execute_result"
    }
   ],
   "source": [
    "len(test_df), len(combo), len(preds)"
   ]
  },
  {
   "cell_type": "code",
   "execution_count": 19,
   "id": "documented-israel",
   "metadata": {},
   "outputs": [
    {
     "data": {
      "text/plain": [
       "Counter({'1': 42, '2': 4, nan: 1, '>2': 1})"
      ]
     },
     "execution_count": 19,
     "metadata": {},
     "output_type": "execute_result"
    }
   ],
   "source": [
    "Counter(combo.labels)"
   ]
  },
  {
   "cell_type": "code",
   "execution_count": 20,
   "id": "conditional-static",
   "metadata": {},
   "outputs": [],
   "source": [
    "combo = combo.dropna()"
   ]
  },
  {
   "cell_type": "code",
   "execution_count": 22,
   "id": "virtual-cholesterol",
   "metadata": {},
   "outputs": [],
   "source": [
    "combo.labels.replace({'2': '>1', '>2': '>1'}, inplace = True)"
   ]
  },
  {
   "cell_type": "code",
   "execution_count": 23,
   "id": "attached-drawing",
   "metadata": {},
   "outputs": [
    {
     "data": {
      "text/plain": [
       "Counter({'1': 42, '>1': 5})"
      ]
     },
     "execution_count": 23,
     "metadata": {},
     "output_type": "execute_result"
    }
   ],
   "source": [
    "Counter(combo.labels)"
   ]
  },
  {
   "cell_type": "code",
   "execution_count": 24,
   "id": "available-enlargement",
   "metadata": {},
   "outputs": [
    {
     "data": {
      "text/plain": [
       "Index(['predictions_0.5', 'predictions_0.55', 'predictions_0.6',\n",
       "       'predictions_0.65', 'predictions_0.7', 'predictions_0.75',\n",
       "       'predictions_0.8', 'predictions_0.85', 'predictions_0.9',\n",
       "       'predictions_0.95'],\n",
       "      dtype='object')"
      ]
     },
     "execution_count": 24,
     "metadata": {},
     "output_type": "execute_result"
    }
   ],
   "source": [
    "combo.columns[8:]"
   ]
  },
  {
   "cell_type": "code",
   "execution_count": 34,
   "id": "induced-second",
   "metadata": {},
   "outputs": [
    {
     "data": {
      "text/plain": [
       "[('threshold: 0.5', 'accuracy: 0.9574468085106383'),\n",
       " ('threshold: 0.55', 'accuracy: 0.9787234042553191'),\n",
       " ('threshold: 0.6', 'accuracy: 0.9787234042553191'),\n",
       " ('threshold: 0.65', 'accuracy: 0.9787234042553191'),\n",
       " ('threshold: 0.7', 'accuracy: 0.9787234042553191'),\n",
       " ('threshold: 0.75', 'accuracy: 0.9787234042553191'),\n",
       " ('threshold: 0.8', 'accuracy: 0.9787234042553191'),\n",
       " ('threshold: 0.85', 'accuracy: 0.9574468085106383'),\n",
       " ('threshold: 0.9', 'accuracy: 0.9361702127659575'),\n",
       " ('threshold: 0.95', 'accuracy: 0.851063829787234')]"
      ]
     },
     "execution_count": 34,
     "metadata": {},
     "output_type": "execute_result"
    }
   ],
   "source": [
    "accs = []\n",
    "for col in combo.columns[8:]:\n",
    "    thresh =  col[12:]\n",
    "    acc = (combo.labels == combo[col]).mean()\n",
    "    accs.append((f'threshold: {thresh}', f'accuracy: {acc}'))\n",
    "    \n",
    "accs"
   ]
  },
  {
   "cell_type": "code",
   "execution_count": null,
   "id": "waiting-seventh",
   "metadata": {},
   "outputs": [],
   "source": []
  }
 ],
 "metadata": {
  "kernelspec": {
   "display_name": "Python 3",
   "language": "python",
   "name": "python3"
  },
  "language_info": {
   "codemirror_mode": {
    "name": "ipython",
    "version": 3
   },
   "file_extension": ".py",
   "mimetype": "text/x-python",
   "name": "python",
   "nbconvert_exporter": "python",
   "pygments_lexer": "ipython3",
   "version": "3.8.5"
  }
 },
 "nbformat": 4,
 "nbformat_minor": 5
}
