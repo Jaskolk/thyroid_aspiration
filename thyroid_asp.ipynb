{
 "cells": [
  {
   "cell_type": "markdown",
   "metadata": {
    "id": "ePisEWYTyl0c"
   },
   "source": [
    "## Thyroid aspiration classification notebook\n",
    "\n"
   ]
  },
  {
   "cell_type": "markdown",
   "metadata": {
    "id": "2n_Ur8C-yqUy"
   },
   "source": [
    "### install libraries and packages"
   ]
  },
  {
   "cell_type": "code",
   "execution_count": 1,
   "metadata": {
    "ExecuteTime": {
     "end_time": "2021-01-27T18:47:44.506596Z",
     "start_time": "2021-01-27T18:47:42.747979Z"
    },
    "executionInfo": {
     "elapsed": 7309,
     "status": "ok",
     "timestamp": 1610583396799,
     "user": {
      "displayName": "Jeff Jaskolka",
      "photoUrl": "https://lh3.googleusercontent.com/a-/AOh14Gh0CKyoeay8mLB6XmQwmxvRlimyHPiACAnHOQVn=s64",
      "userId": "16990044333464285283"
     },
     "user_tz": 300
    },
    "id": "KTw-zjaYIcrc"
   },
   "outputs": [
    {
     "name": "stderr",
     "output_type": "stream",
     "text": [
      "wandb: Currently logged in as: jaskol (use `wandb login --relogin` to force relogin)\n"
     ]
    }
   ],
   "source": [
    "import fastai\n",
    "from fastai.text.all import *\n",
    "import sklearn\n",
    "from sklearn import metrics\n",
    "import os\n",
    "import seaborn as sns\n",
    "\n",
    "from fastai.callback.wandb import *\n",
    "\n",
    "import matplotlib.pyplot as plt\n",
    "\n",
    "from collections import Counter\n",
    "\n",
    "import wandb\n",
    "!wandb login"
   ]
  },
  {
   "cell_type": "code",
   "execution_count": 2,
   "metadata": {},
   "outputs": [],
   "source": [
    "os.environ['WANDB_SILENT'] = 'true'"
   ]
  },
  {
   "cell_type": "code",
   "execution_count": 3,
   "metadata": {
    "ExecuteTime": {
     "end_time": "2021-01-27T18:47:44.552993Z",
     "start_time": "2021-01-27T18:47:44.538004Z"
    },
    "colab": {
     "base_uri": "https://localhost:8080/"
    },
    "executionInfo": {
     "elapsed": 640,
     "status": "ok",
     "timestamp": 1610583397463,
     "user": {
      "displayName": "Jeff Jaskolka",
      "photoUrl": "https://lh3.googleusercontent.com/a-/AOh14Gh0CKyoeay8mLB6XmQwmxvRlimyHPiACAnHOQVn=s64",
      "userId": "16990044333464285283"
     },
     "user_tz": 300
    },
    "id": "D4Duil8Jz9Jt",
    "outputId": "b2857298-3c39-477a-9486-cd3285776759"
   },
   "outputs": [
    {
     "name": "stdout",
     "output_type": "stream",
     "text": [
      "working on cuda, GPU is a Quadro RTX 5000\n",
      "using pytorch version 1.7.0+cu101\n",
      "using fast.ai version 2.2.5\n"
     ]
    }
   ],
   "source": [
    "device = torch.device('cuda' if torch.cuda.is_available() else 'cpu')\n",
    "\n",
    "print(f'working on {device}, GPU is a {torch.cuda.get_device_name()}')\n",
    "print(f'using pytorch version {torch.__version__}')\n",
    "print(f'using fast.ai version {fastai.__version__}')"
   ]
  },
  {
   "cell_type": "markdown",
   "metadata": {
    "id": "OjmLcD1DyyG9"
   },
   "source": [
    "### import data"
   ]
  },
  {
   "cell_type": "code",
   "execution_count": 4,
   "metadata": {
    "ExecuteTime": {
     "end_time": "2021-01-27T18:47:46.892562Z",
     "start_time": "2021-01-27T18:47:46.885586Z"
    },
    "executionInfo": {
     "elapsed": 500,
     "status": "ok",
     "timestamp": 1610583401854,
     "user": {
      "displayName": "Jeff Jaskolka",
      "photoUrl": "https://lh3.googleusercontent.com/a-/AOh14Gh0CKyoeay8mLB6XmQwmxvRlimyHPiACAnHOQVn=s64",
      "userId": "16990044333464285283"
     },
     "user_tz": 300
    },
    "id": "9Hn9Rncmw-Vu"
   },
   "outputs": [],
   "source": [
    "model_path = 'C:\\\\Users\\\\jasko\\\\Desktop\\\\machine_learning\\\\my_projects\\\\thyroid_aspiration\\models'\n",
    "results_path = 'C:\\\\Users\\\\jasko\\\\Desktop\\\\machine_learning\\\\my_projects\\\\thyroid_aspiration\\\\results'\n",
    "data_path = 'C:\\\\Users\\\\jasko\\\\Desktop\\\\machine_learning\\\\my_projects\\\\thyroid_aspiration'"
   ]
  },
  {
   "cell_type": "code",
   "execution_count": 5,
   "metadata": {
    "ExecuteTime": {
     "end_time": "2021-01-27T18:47:47.426745Z",
     "start_time": "2021-01-27T18:47:47.259390Z"
    },
    "executionInfo": {
     "elapsed": 2532,
     "status": "ok",
     "timestamp": 1610583408323,
     "user": {
      "displayName": "Jeff Jaskolka",
      "photoUrl": "https://lh3.googleusercontent.com/a-/AOh14Gh0CKyoeay8mLB6XmQwmxvRlimyHPiACAnHOQVn=s64",
      "userId": "16990044333464285283"
     },
     "user_tz": 300
    },
    "id": "w5HrDfJ4vQPg"
   },
   "outputs": [],
   "source": [
    "data= pd.read_csv(data_path + '/thyroid_data.csv')"
   ]
  },
  {
   "cell_type": "code",
   "execution_count": 6,
   "metadata": {
    "ExecuteTime": {
     "end_time": "2021-01-27T18:47:47.908302Z",
     "start_time": "2021-01-27T18:47:47.889354Z"
    },
    "colab": {
     "base_uri": "https://localhost:8080/",
     "height": 1000
    },
    "executionInfo": {
     "elapsed": 438,
     "status": "ok",
     "timestamp": 1610583410879,
     "user": {
      "displayName": "Jeff Jaskolka",
      "photoUrl": "https://lh3.googleusercontent.com/a-/AOh14Gh0CKyoeay8mLB6XmQwmxvRlimyHPiACAnHOQVn=s64",
      "userId": "16990044333464285283"
     },
     "user_tz": 300
    },
    "id": "4ROXK09LvZTN",
    "outputId": "5d0052b6-71b6-4918-f3ed-ac1eb3a209e1"
   },
   "outputs": [
    {
     "data": {
      "text/html": [
       "<div>\n",
       "<style scoped>\n",
       "    .dataframe tbody tr th:only-of-type {\n",
       "        vertical-align: middle;\n",
       "    }\n",
       "\n",
       "    .dataframe tbody tr th {\n",
       "        vertical-align: top;\n",
       "    }\n",
       "\n",
       "    .dataframe thead th {\n",
       "        text-align: right;\n",
       "    }\n",
       "</style>\n",
       "<table border=\"1\" class=\"dataframe\">\n",
       "  <thead>\n",
       "    <tr style=\"text-align: right;\">\n",
       "      <th></th>\n",
       "      <th>Hospital</th>\n",
       "      <th>PT Class</th>\n",
       "      <th>Procedure End Time</th>\n",
       "      <th>Procedure Sign-off  Time</th>\n",
       "      <th>Modality</th>\n",
       "      <th>Procedure #</th>\n",
       "      <th>Procedure Name</th>\n",
       "      <th>Mode Grouping</th>\n",
       "      <th>Accession</th>\n",
       "      <th>MRN</th>\n",
       "      <th>Patient Account #</th>\n",
       "      <th>Health Card +Version</th>\n",
       "      <th>DOB</th>\n",
       "      <th>Age at Procedure Date</th>\n",
       "      <th>P FEE</th>\n",
       "      <th>T Fee</th>\n",
       "      <th>Sign off Rad</th>\n",
       "      <th>Exam Result</th>\n",
       "      <th>labels</th>\n",
       "    </tr>\n",
       "  </thead>\n",
       "  <tbody>\n",
       "    <tr>\n",
       "      <th>0</th>\n",
       "      <td>BCH</td>\n",
       "      <td>Outpatient</td>\n",
       "      <td>03/02/2020 9:48</td>\n",
       "      <td>03/02/2020 10:36</td>\n",
       "      <td>US</td>\n",
       "      <td>7893.0</td>\n",
       "      <td>ASPIRATION - THYROID</td>\n",
       "      <td>US</td>\n",
       "      <td>15995314.0</td>\n",
       "      <td>N000895092</td>\n",
       "      <td>0NX075968/19</td>\n",
       "      <td>1655789590-AT</td>\n",
       "      <td>06/11/1967</td>\n",
       "      <td>53.0</td>\n",
       "      <td>60.55</td>\n",
       "      <td>94.6</td>\n",
       "      <td>FITZGERALD</td>\n",
       "      <td>FNA BIOPSY OF THYROID\\r\\n\\r\\nHISTORY: Request for thyroid nodule biopsy.\\r\\n\\r\\nCOMPARISON: None available. There is an outside report.\\r\\n\\r\\n\\r\\nPROCEDURE:\\r\\n\\r\\nThe material risks (including hemorrhage and infection) of the procedure were explained to the patient, and informed consent was obtained.\\r\\n\\r\\nFollowing sterile prep, drape, and local anesthesia, a 25 gauge 1.5\" needle was advanced into complex nodule in the right lobe under direct sonographic guidance. Adequate samples were obtained.\\r\\n\\r\\nThe samples were placed in appropriate fluid and sent for analysis. The patient tole...</td>\n",
       "      <td>1</td>\n",
       "    </tr>\n",
       "    <tr>\n",
       "      <th>1</th>\n",
       "      <td>BCH</td>\n",
       "      <td>Outpatient</td>\n",
       "      <td>03/02/2020 10:41</td>\n",
       "      <td>03/02/2020 12:08</td>\n",
       "      <td>US</td>\n",
       "      <td>7893.0</td>\n",
       "      <td>ASPIRATION - THYROID</td>\n",
       "      <td>US</td>\n",
       "      <td>15995463.0</td>\n",
       "      <td>N000885031</td>\n",
       "      <td>0NX075992/19</td>\n",
       "      <td>2064714070-AW</td>\n",
       "      <td>10/02/1997</td>\n",
       "      <td>23.0</td>\n",
       "      <td>60.55</td>\n",
       "      <td>94.6</td>\n",
       "      <td>FITZGERALD</td>\n",
       "      <td>FNA BIOPSY OF THYROID\\r\\n\\r\\nHISTORY: Request for thyroid nodule biopsy.\\r\\n\\r\\nCOMPARISON: None available.\\r\\n\\r\\nPROCEDURE:\\r\\n\\r\\nThe material risks (including hemorrhage and infection) of the procedure were explained to the patient, and informed consent was obtained.\\r\\n\\r\\nFollowing sterile prep, drape, and local anesthesia, a 25 gauge 1.5\" needle was advanced into nodule, predominantly isoechoic to hyperechoic and solid under direct sonographic guidance. Adequate samples were obtained.\\r\\n\\r\\nThe samples were placed in appropriate fluid and sent for analysis. The patient tolerated th...</td>\n",
       "      <td>1</td>\n",
       "    </tr>\n",
       "    <tr>\n",
       "      <th>2</th>\n",
       "      <td>BCH</td>\n",
       "      <td>Outpatient</td>\n",
       "      <td>03/02/2020 10:36</td>\n",
       "      <td>03/02/2020 12:06</td>\n",
       "      <td>US</td>\n",
       "      <td>7893.0</td>\n",
       "      <td>ASPIRATION - THYROID</td>\n",
       "      <td>US</td>\n",
       "      <td>15995472.0</td>\n",
       "      <td>N000691085</td>\n",
       "      <td>0NX075987/19</td>\n",
       "      <td>8316472276-HW</td>\n",
       "      <td>22/05/1953</td>\n",
       "      <td>67.0</td>\n",
       "      <td>60.55</td>\n",
       "      <td>94.6</td>\n",
       "      <td>FITZGERALD</td>\n",
       "      <td>FNA BIOPSY OF THYROID\\r\\n\\r\\nHISTORY: Request for thyroid nodule biopsy.\\r\\n\\r\\nCOMPARISON: None available.\\r\\n\\r\\nPROCEDURE:\\r\\n\\r\\nThe material risks (including hemorrhage and infection) of the procedure were explained to the patient, and informed consent was obtained.\\r\\n\\r\\nFollowing sterile prep, drape, and local anesthesia, a 25 gauge 1.5\" needle was advanced into 2 nodules in the right lobe under direct sonographic guidance. Adequate samples were obtained.\\r\\n\\r\\nThe samples were placed in appropriate fluid and sent for analysis. The patient tolerated the procedure well, with no imm...</td>\n",
       "      <td>2</td>\n",
       "    </tr>\n",
       "    <tr>\n",
       "      <th>3</th>\n",
       "      <td>BCH</td>\n",
       "      <td>Outpatient</td>\n",
       "      <td>03/02/2020 11:19</td>\n",
       "      <td>03/02/2020 12:07</td>\n",
       "      <td>US</td>\n",
       "      <td>7893.0</td>\n",
       "      <td>ASPIRATION - THYROID</td>\n",
       "      <td>US</td>\n",
       "      <td>15995493.0</td>\n",
       "      <td>N000021506</td>\n",
       "      <td>0NX075991/19</td>\n",
       "      <td>NaN</td>\n",
       "      <td>26/02/1952</td>\n",
       "      <td>68.0</td>\n",
       "      <td>60.55</td>\n",
       "      <td>94.6</td>\n",
       "      <td>FITZGERALD</td>\n",
       "      <td>FNA BIOPSY OF THYROID\\r\\n\\r\\nHISTORY: Request for thyroid nodule biopsy.\\r\\n\\r\\nCOMPARISON: None available.\\r\\n\\r\\nPROCEDURE:\\r\\n\\r\\nThe material risks (including hemorrhage and infection) of the procedure were explained to the patient, and informed consent was obtained.\\r\\n\\r\\nFollowing sterile prep, drape, and local anesthesia, a 25 gauge 1.5\" needle was advanced into nodule at the medial right lobe extending into the right side of the isthmus under direct sonographic guidance. Adequate samples were obtained.\\r\\n\\r\\nThe samples were placed in appropriate fluid and sent for analysis. The ...</td>\n",
       "      <td>1</td>\n",
       "    </tr>\n",
       "    <tr>\n",
       "      <th>4</th>\n",
       "      <td>BCH</td>\n",
       "      <td>Outpatient</td>\n",
       "      <td>04/02/2020 10:26</td>\n",
       "      <td>04/02/2020 10:39</td>\n",
       "      <td>US</td>\n",
       "      <td>7893.0</td>\n",
       "      <td>ASPIRATION - THYROID</td>\n",
       "      <td>US</td>\n",
       "      <td>15998039.0</td>\n",
       "      <td>N000386598</td>\n",
       "      <td>0NX076298/19</td>\n",
       "      <td>3188415867-XN</td>\n",
       "      <td>22/05/1950</td>\n",
       "      <td>70.0</td>\n",
       "      <td>60.55</td>\n",
       "      <td>94.6</td>\n",
       "      <td>SEGAL</td>\n",
       "      <td>.\\r\\n\\r\\nFNA BIOPSY OF THYROID\\r\\n\\r\\nHISTORY: Dominant left thyroid nodule (interpolar nodule) biopsy.\\r\\n\\r\\nCOMPARISON: 7/1/2020\\r\\n\\r\\nPROCEDURE:\\r\\n\\r\\nThe material risks (including hemorrhage and infection) of the procedure were explained to the patient, and informed consent was obtained.\\r\\n\\r\\nFollowing sterile prep and local anesthesia, a 25 gauge 1.5\" needle was advanced into the lesion under direct sonographic guidance. Three samples were obtained.\\r\\n\\r\\nThe samples were placed in appropriate fluid and sent for analysis. The patient tolerated the procedure well, with no immedia...</td>\n",
       "      <td>1</td>\n",
       "    </tr>\n",
       "  </tbody>\n",
       "</table>\n",
       "</div>"
      ],
      "text/plain": [
       "  Hospital    PT Class Procedure End Time Procedure Sign-off  Time Modality  \\\n",
       "0      BCH  Outpatient    03/02/2020 9:48         03/02/2020 10:36       US   \n",
       "1      BCH  Outpatient   03/02/2020 10:41         03/02/2020 12:08       US   \n",
       "2      BCH  Outpatient   03/02/2020 10:36         03/02/2020 12:06       US   \n",
       "3      BCH  Outpatient   03/02/2020 11:19         03/02/2020 12:07       US   \n",
       "4      BCH  Outpatient   04/02/2020 10:26         04/02/2020 10:39       US   \n",
       "\n",
       "   Procedure #        Procedure Name Mode Grouping   Accession         MRN  \\\n",
       "0       7893.0  ASPIRATION - THYROID            US  15995314.0  N000895092   \n",
       "1       7893.0  ASPIRATION - THYROID            US  15995463.0  N000885031   \n",
       "2       7893.0  ASPIRATION - THYROID            US  15995472.0  N000691085   \n",
       "3       7893.0  ASPIRATION - THYROID            US  15995493.0  N000021506   \n",
       "4       7893.0  ASPIRATION - THYROID            US  15998039.0  N000386598   \n",
       "\n",
       "  Patient Account # Health Card +Version         DOB  Age at Procedure Date  \\\n",
       "0      0NX075968/19        1655789590-AT  06/11/1967                   53.0   \n",
       "1      0NX075992/19        2064714070-AW  10/02/1997                   23.0   \n",
       "2      0NX075987/19        8316472276-HW  22/05/1953                   67.0   \n",
       "3      0NX075991/19                  NaN  26/02/1952                   68.0   \n",
       "4      0NX076298/19        3188415867-XN  22/05/1950                   70.0   \n",
       "\n",
       "   P FEE  T Fee Sign off Rad  \\\n",
       "0  60.55   94.6   FITZGERALD   \n",
       "1  60.55   94.6   FITZGERALD   \n",
       "2  60.55   94.6   FITZGERALD   \n",
       "3  60.55   94.6   FITZGERALD   \n",
       "4  60.55   94.6        SEGAL   \n",
       "\n",
       "                                                                                                                                                                                                                                                                                                                                                                                                                                                                                                                                                                                                               Exam Result  \\\n",
       "0  FNA BIOPSY OF THYROID\\r\\n\\r\\nHISTORY: Request for thyroid nodule biopsy.\\r\\n\\r\\nCOMPARISON: None available. There is an outside report.\\r\\n\\r\\n\\r\\nPROCEDURE:\\r\\n\\r\\nThe material risks (including hemorrhage and infection) of the procedure were explained to the patient, and informed consent was obtained.\\r\\n\\r\\nFollowing sterile prep, drape, and local anesthesia, a 25 gauge 1.5\" needle was advanced into complex nodule in the right lobe under direct sonographic guidance. Adequate samples were obtained.\\r\\n\\r\\nThe samples were placed in appropriate fluid and sent for analysis. The patient tole...   \n",
       "1  FNA BIOPSY OF THYROID\\r\\n\\r\\nHISTORY: Request for thyroid nodule biopsy.\\r\\n\\r\\nCOMPARISON: None available.\\r\\n\\r\\nPROCEDURE:\\r\\n\\r\\nThe material risks (including hemorrhage and infection) of the procedure were explained to the patient, and informed consent was obtained.\\r\\n\\r\\nFollowing sterile prep, drape, and local anesthesia, a 25 gauge 1.5\" needle was advanced into nodule, predominantly isoechoic to hyperechoic and solid under direct sonographic guidance. Adequate samples were obtained.\\r\\n\\r\\nThe samples were placed in appropriate fluid and sent for analysis. The patient tolerated th...   \n",
       "2  FNA BIOPSY OF THYROID\\r\\n\\r\\nHISTORY: Request for thyroid nodule biopsy.\\r\\n\\r\\nCOMPARISON: None available.\\r\\n\\r\\nPROCEDURE:\\r\\n\\r\\nThe material risks (including hemorrhage and infection) of the procedure were explained to the patient, and informed consent was obtained.\\r\\n\\r\\nFollowing sterile prep, drape, and local anesthesia, a 25 gauge 1.5\" needle was advanced into 2 nodules in the right lobe under direct sonographic guidance. Adequate samples were obtained.\\r\\n\\r\\nThe samples were placed in appropriate fluid and sent for analysis. The patient tolerated the procedure well, with no imm...   \n",
       "3  FNA BIOPSY OF THYROID\\r\\n\\r\\nHISTORY: Request for thyroid nodule biopsy.\\r\\n\\r\\nCOMPARISON: None available.\\r\\n\\r\\nPROCEDURE:\\r\\n\\r\\nThe material risks (including hemorrhage and infection) of the procedure were explained to the patient, and informed consent was obtained.\\r\\n\\r\\nFollowing sterile prep, drape, and local anesthesia, a 25 gauge 1.5\" needle was advanced into nodule at the medial right lobe extending into the right side of the isthmus under direct sonographic guidance. Adequate samples were obtained.\\r\\n\\r\\nThe samples were placed in appropriate fluid and sent for analysis. The ...   \n",
       "4  .\\r\\n\\r\\nFNA BIOPSY OF THYROID\\r\\n\\r\\nHISTORY: Dominant left thyroid nodule (interpolar nodule) biopsy.\\r\\n\\r\\nCOMPARISON: 7/1/2020\\r\\n\\r\\nPROCEDURE:\\r\\n\\r\\nThe material risks (including hemorrhage and infection) of the procedure were explained to the patient, and informed consent was obtained.\\r\\n\\r\\nFollowing sterile prep and local anesthesia, a 25 gauge 1.5\" needle was advanced into the lesion under direct sonographic guidance. Three samples were obtained.\\r\\n\\r\\nThe samples were placed in appropriate fluid and sent for analysis. The patient tolerated the procedure well, with no immedia...   \n",
       "\n",
       "  labels  \n",
       "0      1  \n",
       "1      1  \n",
       "2      2  \n",
       "3      1  \n",
       "4      1  "
      ]
     },
     "execution_count": 6,
     "metadata": {},
     "output_type": "execute_result"
    }
   ],
   "source": [
    "data.head()"
   ]
  },
  {
   "cell_type": "code",
   "execution_count": 7,
   "metadata": {
    "ExecuteTime": {
     "end_time": "2021-01-22T03:29:35.189404Z",
     "start_time": "2021-01-22T03:29:35.180459Z"
    },
    "colab": {
     "base_uri": "https://localhost:8080/"
    },
    "executionInfo": {
     "elapsed": 419,
     "status": "ok",
     "timestamp": 1610583412445,
     "user": {
      "displayName": "Jeff Jaskolka",
      "photoUrl": "https://lh3.googleusercontent.com/a-/AOh14Gh0CKyoeay8mLB6XmQwmxvRlimyHPiACAnHOQVn=s64",
      "userId": "16990044333464285283"
     },
     "user_tz": 300
    },
    "id": "6cyTWmWPdLLp",
    "outputId": "2a561907-ecd8-4309-a48f-b8dd86be3d58"
   },
   "outputs": [
    {
     "data": {
      "text/plain": [
       "Index(['Hospital', 'PT Class', 'Procedure End Time',\n",
       "       'Procedure Sign-off  Time', 'Modality', 'Procedure #', 'Procedure Name',\n",
       "       'Mode Grouping', 'Accession', 'MRN', 'Patient Account #',\n",
       "       'Health Card +Version', 'DOB', 'Age at Procedure Date', 'P FEE',\n",
       "       'T Fee', 'Sign off Rad', 'Exam Result', 'labels'],\n",
       "      dtype='object')"
      ]
     },
     "execution_count": 7,
     "metadata": {},
     "output_type": "execute_result"
    }
   ],
   "source": [
    "data.columns"
   ]
  },
  {
   "cell_type": "code",
   "execution_count": 8,
   "metadata": {},
   "outputs": [
    {
     "data": {
      "text/plain": [
       "(654, 19)"
      ]
     },
     "execution_count": 8,
     "metadata": {},
     "output_type": "execute_result"
    }
   ],
   "source": [
    "data.shape"
   ]
  },
  {
   "cell_type": "code",
   "execution_count": 9,
   "metadata": {},
   "outputs": [
    {
     "data": {
      "text/plain": [
       "(652, 19)"
      ]
     },
     "execution_count": 9,
     "metadata": {},
     "output_type": "execute_result"
    }
   ],
   "source": [
    "data = data.dropna(subset = ['labels'])\n",
    "data.shape"
   ]
  },
  {
   "cell_type": "code",
   "execution_count": 10,
   "metadata": {},
   "outputs": [],
   "source": [
    "data['target'] = data['labels'].map({'1':'1', '2':'>=1', '>2':'>=1'})"
   ]
  },
  {
   "cell_type": "code",
   "execution_count": 11,
   "metadata": {},
   "outputs": [
    {
     "data": {
      "text/plain": [
       "Counter({'1': 533, '>=1': 119})"
      ]
     },
     "execution_count": 11,
     "metadata": {},
     "output_type": "execute_result"
    }
   ],
   "source": [
    "Counter(data.target)"
   ]
  },
  {
   "cell_type": "code",
   "execution_count": 12,
   "metadata": {},
   "outputs": [],
   "source": [
    "ltd_data = data[['Exam Result', 'target']]"
   ]
  },
  {
   "cell_type": "code",
   "execution_count": 13,
   "metadata": {},
   "outputs": [],
   "source": [
    "ltd_data.to_csv('thyroid_ltd.csv', index = False)"
   ]
  },
  {
   "cell_type": "code",
   "execution_count": 14,
   "metadata": {
    "ExecuteTime": {
     "end_time": "2021-01-22T01:22:21.804177Z",
     "start_time": "2021-01-22T01:22:17.234246Z"
    },
    "colab": {
     "base_uri": "https://localhost:8080/"
    },
    "executionInfo": {
     "elapsed": 9208,
     "status": "ok",
     "timestamp": 1610584559778,
     "user": {
      "displayName": "Jeff Jaskolka",
      "photoUrl": "https://lh3.googleusercontent.com/a-/AOh14Gh0CKyoeay8mLB6XmQwmxvRlimyHPiACAnHOQVn=s64",
      "userId": "16990044333464285283"
     },
     "user_tz": 300
    },
    "id": "gBnvb1ouTQm5",
    "outputId": "36214930-6f77-492d-e333-d6c9c580033e"
   },
   "outputs": [
    {
     "data": {
      "text/plain": [
       "count    652.000000\n",
       "mean      97.196319\n",
       "std       50.872070\n",
       "min        5.000000\n",
       "25%       66.750000\n",
       "50%       89.000000\n",
       "75%      114.000000\n",
       "max      610.000000\n",
       "dtype: float64"
      ]
     },
     "execution_count": 14,
     "metadata": {},
     "output_type": "execute_result"
    }
   ],
   "source": [
    "#this represents the lengths of the reports, to use for when I want to start tuning hyperparams\n",
    "lens = [len(x.split()) for x in ltd_data['Exam Result']]\n",
    "pd.Series(lens).describe()"
   ]
  },
  {
   "cell_type": "code",
   "execution_count": 15,
   "metadata": {},
   "outputs": [],
   "source": [
    "data['lengths'] = lens"
   ]
  },
  {
   "cell_type": "code",
   "execution_count": 16,
   "metadata": {},
   "outputs": [
    {
     "data": {
      "text/plain": [
       "(2, 21)"
      ]
     },
     "execution_count": 16,
     "metadata": {},
     "output_type": "execute_result"
    }
   ],
   "source": [
    "short_reports = data[data['lengths'] <= 30]; short_reports.shape"
   ]
  },
  {
   "cell_type": "code",
   "execution_count": 17,
   "metadata": {},
   "outputs": [
    {
     "name": "stdout",
     "output_type": "stream",
     "text": [
      "\n",
      "Combined report. See accession 16262799\n",
      "--------------------------\n",
      "\n",
      "Procedure:\n",
      "\n",
      "Thyroid gland aspiration\n",
      "\n",
      "TECHNIQUE: Sterile technique with local anesthetic 1% Xylocaine.\n",
      "\n",
      "3, uncomplicated 27-gauge FNA capillary biopsies from the isthmic.\n",
      "\n",
      "Summary:\n",
      "\n",
      "Uncomplicated isthmic nodule FNA biopsy.\n",
      "--------------------------\n"
     ]
    }
   ],
   "source": [
    "for rep in short_reports['Exam Result']:  print(f'\\n{rep}\\n--------------------------')"
   ]
  },
  {
   "cell_type": "code",
   "execution_count": 18,
   "metadata": {},
   "outputs": [
    {
     "data": {
      "text/plain": [
       "(16, 21)"
      ]
     },
     "execution_count": 18,
     "metadata": {},
     "output_type": "execute_result"
    }
   ],
   "source": [
    "long_reports = data[data['lengths'] >= 200]; long_reports.shape"
   ]
  },
  {
   "cell_type": "code",
   "execution_count": 19,
   "metadata": {},
   "outputs": [
    {
     "name": "stdout",
     "output_type": "stream",
     "text": [
      "\n",
      "******** ADDENDUM #1 ********\n",
      "ADDENDUM: Cytology results from FNA biopsy of left thyroid nodule at lower pole demonstrate features in keeping with a benign follicular nodule. The cytology results are concordant with imaging findings.\n",
      "\n",
      "Cytology results from FNA biopsy of calcified left thyroid nodule at upper pole demonstrate atypia of undetermined significance. The aspirate is hypocellular, limiting interpretation. The specimen contains a rare clusters of cells with Hurthle change and a background of inflammatory cells. There are clusters of epithelial cells show nuclear enlargement and overlap. The significance of this finding is unclear. There are no definite features of papillary thyroid carcinoma. The cytology results are concordant with imaging findings. Sonographic follow-up recommended.\n",
      "\n",
      "Cytology results from FNA biopsy of right thyroid nodule at interpolar to lower pole region demonstrate features in keeping with a benign follicular nodule with background features suggestive lymphocytic thyroiditis. The cytology results are concordant with imaging findings.\n",
      "\n",
      "******** ORIGINAL REPORT ********\n",
      "PROCEDURE NOTE AND FINDINGS: Informed consent was obtained following a thorough discussion of potential risks and complications. Using sonographic guidance and sterile technique, the rim calcified nodule in the interpolar region of left thyroid lobe was targeted. Following anesthetization of the skin and subcutaneous tissues using 1-2 mL of 1% plain lidocaine, a total of three 25 gauge FNA biopsies were obtained and sent to cytopathology.\n",
      "\n",
      "Using similar technique, with sonographic guidance, 3 25-gauge FNA biopsy samples were obtained from additional larger nodule at interpolar region of left thyroid lobe and conglomerate nodule at interpolar to lower pole region of right thyroid lobe. The patient tolerated the procedure well with no immediate complications.\n",
      "\n",
      "INTERPRETATION:\n",
      "\n",
      "Successful ultrasound-guided FNA biopsy of 2 left thyroid nodules, including rim calcified nodule, and conglomerate right thyroid nodule at interpolar to lower pole region.\n",
      "--------------------------\n",
      "\n",
      "******** ADDENDUM #1 ********\n",
      "ADDENDUM: Additional 25-gauge FNA biopsy of right thyroid nodule was performed using similar technique for the left thyroid nodule. 3 samples were obtained and sent to cytopathology.\n",
      "******** ADDENDUM #2 ********\n",
      "ADDENDUM: Cytology results from FNA biopsy of right thyroid nodule at lower pole demonstrate atypia of undetermined significance. The aspirate is hypocellular and shows rare clusters of epithelial cells. These show mild nuclear atypia, the significance of which is not clear. There are no features of papillary thyroid carcinoma identified. The cytology results are concordant with imaging findings. If repeat biopsy is not indicated, close sonographic surveillance would be recommended.\n",
      "\n",
      "Cytology results from FNA biopsy of left thyroid nodule at upper pole demonstrate features in keeping with a benign follicular nodule. The cytology results are concordant with imaging findings.\n",
      "\n",
      "******** ORIGINAL REPORT ********\n",
      "PROCEDURE NOTE AND FINDINGS: Informed consent was obtained following a thorough discussion of potential risks and complications. Using sonographic guidance and sterile technique, the nodule in the upper pole of left thyroid lobe was targeted. Following anesthetization of the skin and subcutaneous tissues using 1-2 mL of 1% plain lidocaine, a total of three 25 gauge FNA biopsies were obtained and sent to cytopathology. The patient tolerated the procedure well with no immediate complications.\n",
      "\n",
      "INTERPRETATION:\n",
      "\n",
      "Successful ultrasound-guided FNA biopsy of thyroid nodule in the upper pole of left thyroid lobe.\n",
      "--------------------------\n",
      "\n",
      "HISTORY PROVIDED :  right thyroid 9 mm nodule for fna. Known papillary thyroid cancer in 2.7 cm left thyroid nodule.\n",
      "\n",
      "Abnormal nodes incidentally seen. Largest node FNA today with patient's consent\n",
      "\n",
      "COMPARISON STUDY: 13/01/2020\n",
      "\n",
      "FINDINGS\n",
      "\n",
      "RIGHT LOBE\n",
      "Size: 1.7 cm x 5.8 cm x 2.7 cm Volume: 13.8 cc\n",
      "Echotexture: Homogeneous\n",
      "\n",
      "Nodule 1\n",
      "Position: Anterior | Mid\n",
      "Size: 0.6 cm x 0.9 cm x 0.8 cm | Volume: 0.23 cc\n",
      "Composition: Solid or almost completely solid | 2 point(s)\n",
      "Echogenicity: Hypoechoic | 2 point(s)\n",
      "Shape: Wider than tall | 0 point(s)\n",
      "Margin: Smooth | 0 point(s)\n",
      "Echogenic Foci: Punctate echogenic foci | 3 point(s)\n",
      "Suspicion Level for malignancy: TI-RADS 5 - Highly suspicious | 7 point(s) total | Largest measurement is larger than 0.5 cm and smaller than 1.0 cm.\n",
      "This nodule nodule is targeted on today's examination after the procedure and risks was reviewed with the patient. FNA performed under ultrasound guidance with sonographic confirmation needle tip in the nodular region of concern.\n",
      "\n",
      "LEFT LOBE\n",
      "Size: 2.9 cm x 5.6 cm x 3.9 cm Volume: 32.9 cc\n",
      "Echotexture: Heterogeneous\n",
      "\n",
      "Nodule A\n",
      "Position: Mid\n",
      "Size: 2.9 cm x 2.4 cm x 3.9 cm | Volume: 14.21 cc\n",
      "Composition: Solid or almost completely solid | 2 point(s)\n",
      "Echogenicity: Hypoechoic | 2 point(s)\n",
      "Shape: Wider than tall | 0 point(s)\n",
      "Margin: Lobulated or irregular | 2 point(s)\n",
      "Echogenic Foci: Punctate echogenic foci | 3 point(s)\n",
      "Suspicion Level for malignancy: TI-RADS 5 - Highly suspicious | 9 point(s) total | Largest measurement is larger than 1.0 cm.\n",
      "This nodule has been biopsied on 13/01/2020 at BCH. Results: Papillary cancer.\n",
      "\n",
      "ISTHMUS\n",
      "Thickness: 0.3 cm\n",
      "\n",
      "Nodules: None\n",
      "\n",
      "LYMPH NODES\n",
      "\n",
      "Right node 1: Long axis: 2.1 cm | Short axis: 1.2 cm | Location: Level V | Loss of fatty hilum | Calcified | Cystic\n",
      "Right node 2: Long axis: 1.3 cm | Short axis: 1.2 cm | Location: Level IV | Loss of fatty hilum\n",
      "Left node 1: Long axis: 1.8 cm | Short axis: 1.3 cm | Location: Level III | Loss of fatty hilum | complex | Cystic\n",
      "Left node 2: Long axis: 1.9 cm | Short axis: 1.6 cm | Location: Level II | Cystic (FNA today)\n",
      "Midline node 1: Long axis: 1.3 cm | Short axis: 0.5 cm | Location: Level I | Cystic\n",
      "\n",
      "After discussion with the patient who could not decide about the extent of the surgery he wanted and with the abnormal appearing nodes in the neck and the previous positive finding he consented to FNA of one of the nodes. This performed of one of the hypoechoic nodes in the left upper neck anteriorly level II. This was done with ultrasound guidance. Aspiration yielded dark reddish-brown fluid. This was sent for cytology. Size of the area decreased after aspiration. Patient tolerated procedure well with no immediate post aspiration complications.\n",
      "\n",
      "CONCLUSION\n",
      "\n",
      "The mid 9 mm right thyroid nodule biopsy today. Aspiration was also performed of what appears to be abnormal node in the left side of the neck which yielded darkish red fluid, is this a necrotic node versus other? Other hypoechoic and complex cystic nodes also in the neck.\n",
      "--------------------------\n",
      "\n",
      "FNA BIOPSY OF THYROID\n",
      "\n",
      "HISTORY: Request for thyroid nodule biopsy.\n",
      "\n",
      "COMPARISON: The prior biopsy procedure from April 23, 2020 was reviewed. At that time, it was noted that the apparent \"nodule\" may simply represent atrophic remnant thyroid.\n",
      "\n",
      "PROCEDURE:\n",
      "\n",
      "The material risks (including hemorrhage and infection) of the procedure were explained to the patient, and informed consent was obtained.\n",
      "\n",
      "Following sterile prep, drape, and local anesthesia, a 25 gauge 1.5\" needle was advanced into the dominant region of parenchyma within the right lobe of thyroid under direct sonographic guidance. Adequate samples were obtained.\n",
      "\n",
      "The samples were placed in appropriate fluid and sent for analysis. The patient tolerated the procedure well, with no immediate complications.\n",
      "\n",
      "IMPRESSION:\n",
      "\n",
      "Technically successful FNA ultrasound-guided biopsy of:\n",
      "\n",
      "WHAT APPEARS TO BE AN ATROPHIC RIGHT THYROID GLAND. A DISCRETE DEFINITE NODULE IS NOT IDENTIFIED, NOR WAS ANY DISCRETE NODULE SEEN ON THE APRIL 23, 2020 BIOPSY.\n",
      "\n",
      "IT IS EXPECTED THAT THE CURRENT BIOPSY WILL ALSO BE NONDIAGNOSTIC, AS THERE IS NO DISCRETE NODULE.\n",
      "\n",
      "IF SO, PLEASE DO NOT REQUEST A REPEAT BIOPSY. A FOLLOW-UP ULTRASOUND IN 6 MONTHS IS REASONABLE.\n",
      "\n",
      "The reader is referred to the pathology report for further details.\n",
      "\n",
      "THIS CASE WAS FLAGGED BY DI RADIOLOGIST AS: YELLOW FLAG - non-critical significant finding(s)\n",
      "\n",
      "PATIENT STATUS AT TIME OF DI FLAGGING: OUTPATIENT\n",
      "--------------------------\n",
      "\n",
      "******** ADDENDUM #1 ********\n",
      "ADDENDUM: Cytology results from FNA biopsy of left supraclavicular lesion demonstrates findings suspicious for EBV related lymphoma. A more definitive diagnosis cannot be rendered on limited sample due to scant cellularity. The cytology results are concordant with imaging findings.\n",
      "\n",
      "Cytology results of right thyroid nodule at the lower pole are nondiagnostic with insufficient follicular epithelium. FNA biopsy can be repeated, if clinically indicated.\n",
      "\n",
      "******** ORIGINAL REPORT ********\n",
      "CLINICAL HISTORY: Assess for bilateral thyroid nodules.\n",
      "\n",
      "COMPARISON STUDY: Chest CT 6/1/2020.\n",
      "\n",
      "FINDINGS:\n",
      "\n",
      "The right thyroid lobe measures 5.8 x 3.2 x 3 cm (volume 30 mL) with inhomogeneous echotexture containing hypoechoic nodule with peripheral vascularity at interpolar region measuring 0.9 x 0.8 x 0.7 cm and large heterogeneous hypoechoic mass containing microcalcifications with predominant peripheral vascularity measuring 3 x 2.8 x 2.7 cm.\n",
      "\n",
      "The thyroid isthmus measures 2 mm in thickness.\n",
      "\n",
      "The left thyroid lobe measures 4.2 x 1.8 x 1.7 cm (volume 6.6 mL) with homogeneous echotexture containing isoechoic vascularized nodule at interpolar region measuring 0.9 x 1.2 x 0.9 cm, hypoechoic vascularized nodule at interpolar to lower pole region measuring 1 x 0.9 x 0.8 cm with macrocalcification and isoechoic nodule lower pole measuring 0.9 x 0.9 x 0.9 cm.\n",
      "\n",
      "In the left supraclavicular region, there is heterogeneous hypoechoic vascularized mass separate from the thyroid gland measuring 2.1 x 1.3 x 1.9 cm.\n",
      "\n",
      "INTERPRETATION:\n",
      "\n",
      "Right thyroid nodule at interpolar region classified as TIRADS 4 lesion and does not satisfy size criteria for follow up or biopsy (i.e. less than 1 cm).\n",
      "\n",
      "Right thyroid mass at interpolar to lower pole region classified as TIRADS 4 lesion and satisfies size criteria for FNA biopsy (i.e. greater than 1.5 cm).\n",
      "\n",
      "Isoechoic left thyroid nodules at the interpolar region and lower pole region classified as TIRADS 3 lesions and do not satisfy size criteria for follow up or biopsy (i.e. less than 1.5 cm).\n",
      "\n",
      "Hypoechoic left thyroid nodule at interpolar to lower pole region classified as TIRADS 4 lesion and satisfies size criteria for follow up (i.e. greater than or equal to 1 cm). Follow-up recommended in one year.\n",
      "\n",
      "Extrathyroidal left supraclavicular mass could represent enlarged lymph node, parathyroid related mass or other soft tissue mass. Further evaluation with FNA biopsy recommended.\n",
      "\n",
      "FNA biopsy of the dominant right thyroid mass at lower pole and extrathyroidal left supraclavicular mass was performed later the same day. Please see below for further details.\n",
      "\n",
      "\n",
      "PROCEDURE NOTE AND FINDINGS: Informed consent was obtained following a thorough discussion of potential risks and complications. Using sonographic guidance and sterile technique, the nodule in the lower pole of right thyroid lobe was targeted. Following anesthetization of the skin and subcutaneous tissues using 1-2 mL of 1% plain lidocaine, a total of three 25 gauge FNA biopsies were obtained and sent to cytopathology.\n",
      "\n",
      "Subsequently, the extrathyroidal left supraclavicular mass was biopsied using similar technique described above. A total of 3 25-gauge FNA biopsies were obtained and sent to cytopathology. The patient tolerated the procedure well with no immediate complications.\n",
      "\n",
      "INTERPRETATION:\n",
      "\n",
      "Successful ultrasound-guided FNA biopsy of thyroid nodule in the lower pole right thyroid lobe and successful ultrasound-guided FNA biopsy of extrathyroidal left supraclavicular mass.\n",
      "--------------------------\n",
      "\n",
      "******** ADDENDUM #1 ********\n",
      "ADDENDUM: Please disregard the initial report. The correct report is below.\n",
      "\n",
      "PROCEDURE NOTE AND FINDINGS: Informed consent was obtained following a thorough discussion of potential risks and complications. Using sonographic guidance and sterile technique, the nodule in the lower pole region of left thyroid lobe was targeted. Following anesthetization of the skin and subcutaneous tissues using 1-2 mL of 1% plain lidocaine, a total of three 25 gauge FNA biopsies were obtained and sent to cytopathology. The patient tolerated the procedure well with no immediate complications.\n",
      "\n",
      "INTERPRETATION:\n",
      "\n",
      "Successful ultrasound-guided FNA biopsy of nodule at lower pole region of left thyroid lobe.\n",
      "******** ADDENDUM #2 ********\n",
      "ADDENDUM: Cytology results from FNA biopsy of nodule inferior to left thyroid lobe demonstrate nondiagnostic results with insufficiency number of well-preserved follicular cells.\n",
      "\n",
      "Repeat biopsy recommended. Core biopsy may be feasible, instead of FNA biopsy, in order to increase probability of diagnostic results.\n",
      "\n",
      "******** ORIGINAL REPORT ********\n",
      "CLINICAL HISTORY: Assess for bilateral thyroid nodules.\n",
      "\n",
      "COMPARISON STUDY: Chest CT 6/1/2020.\n",
      "\n",
      "FINDINGS:\n",
      "\n",
      "The right thyroid lobe measures 5.8 x 3.2 x 3 cm (volume 30 mL) with inhomogeneous echotexture containing hypoechoic nodule with peripheral vascularity at interpolar region measuring 0.9 x 0.8 x 0.7 cm and large heterogeneous hypoechoic mass containing microcalcifications with predominant peripheral vascularity measuring 3 x 2.8 x 2.7 cm.\n",
      "\n",
      "The thyroid isthmus measures 2 mm in thickness.\n",
      "\n",
      "The left thyroid lobe measures 4.2 x 1.8 x 1.7 cm (volume 6.6 mL) with homogeneous echotexture containing isoechoic vascularized nodule at interpolar region measuring 0.9 x 1.2 x 0.9 cm, hypoechoic vascularized nodule at interpolar to lower pole region measuring 1 x 0.9 x 0.8 cm with macrocalcification and isoechoic nodule lower pole measuring 0.9 x 0.9 x 0.9 cm.\n",
      "\n",
      "In the left supraclavicular region, there is heterogeneous hypoechoic vascularized mass separate from the thyroid gland measuring 2.1 x 1.3 x 1.9 cm.\n",
      "\n",
      "INTERPRETATION:\n",
      "\n",
      "Right thyroid nodule at interpolar region classified as TIRADS 4 lesion and does not satisfy size criteria for follow up or biopsy (i.e. less than 1 cm).\n",
      "\n",
      "Right thyroid mass at interpolar to lower pole region classified as TIRADS 4 lesion and satisfies size criteria for FNA biopsy (i.e. greater than 1.5 cm).\n",
      "\n",
      "Isoechoic left thyroid nodules at the interpolar region and lower pole region classified as TIRADS 3 lesions and do not satisfy size criteria for follow up or biopsy (i.e. less than 1.5 cm).\n",
      "\n",
      "Hypoechoic left thyroid nodule at interpolar to lower pole region classified as TIRADS 4 lesion and satisfies size criteria for follow up (i.e. greater than or equal to 1 cm). Follow-up recommended in one year.\n",
      "\n",
      "Extrathyroidal left supraclavicular mass could represent enlarged lymph node, parathyroid related mass or other soft tissue mass. Further evaluation with FNA biopsy recommended.\n",
      "\n",
      "FNA biopsy of the dominant right thyroid mass at lower pole and extrathyroidal left supraclavicular mass was performed later the same day. Please see below for further details.\n",
      "\n",
      "\n",
      "PROCEDURE NOTE AND FINDINGS: Informed consent was obtained following a thorough discussion of potential risks and complications. Using sonographic guidance and sterile technique, the nodule in the lower pole of right thyroid lobe was targeted. Following anesthetization of the skin and subcutaneous tissues using 1-2 mL of 1% plain lidocaine, a total of three 25 gauge FNA biopsies were obtained and sent to cytopathology.\n",
      "\n",
      "Subsequently, the extrathyroidal left supraclavicular mass was biopsied using similar technique described above. A total of 3 25-gauge FNA biopsies were obtained and sent to cytopathology. The patient tolerated the procedure well with no immediate complications.\n",
      "\n",
      "INTERPRETATION:\n",
      "\n",
      "Successful ultrasound-guided FNA biopsy of thyroid nodule in the lower pole right thyroid lobe and successful ultrasound-guided FNA biopsy of extrathyroidal left supraclavicular mass.\n",
      "--------------------------\n",
      "\n",
      "FNA BIOPSY OF THYROID\n",
      "\n",
      "HISTORY: The patient was sent to the department for consideration of lymph node biopsy. Previous thyroid biopsy in the past both in India and at this center in August, 2019.\n",
      "\n",
      "COMPARISON: The prior imaging studies from this center July and August, 2019 were reviewed. There was a TR 4 nodule in the mid/lower pole left lobe in August, 2019 measuring 1.4 cm in maximum dimension. The most recent outside ultrasound from Finchgate x-ray July 27, 2020 was reviewed which mentioned some lymph nodes measuring up to 0.5 cm in short axis dimension.\n",
      "\n",
      "FINDINGS:\n",
      "\n",
      "The neck was evaluated. The lymph nodes identified are normal in size, none larger than 0.6 cm in short axis dimension. Most have a subtle eccentric notched contour, suggesting a hilum. There is no evidence of nonhilar blood flow on Doppler interrogation.\n",
      "\n",
      "As the lymph nodes are normal in size, no lymph node biopsy was arranged.\n",
      "\n",
      "Given that the biopsy result from the previous thyroid biopsy August, 2019 was nondiagnostic with acellular specimen, a repeat left lobe thyroid biopsy was performed.\n",
      "\n",
      "PROCEDURE:\n",
      "\n",
      "The material risks (including hemorrhage and infection) of the procedure were explained to the patient, and informed consent was obtained.\n",
      "\n",
      "Following sterile prep, drape, and local anesthesia, a 25 gauge 1.5\" needle was advanced into the lesion under direct sonographic guidance. Adequate samples were obtained.\n",
      "\n",
      "The samples were placed in appropriate fluid and sent for analysis. The patient tolerated the procedure well, with no immediate complications.\n",
      "\n",
      "IMPRESSION:\n",
      "\n",
      "Technically successful FNA ultrasound-guided biopsy of:\n",
      "\n",
      "The TR 4 solid hypoechoic nodule within the mid/lower pole left lobe.\n",
      "\n",
      "The reader is referred to the pathology report for further details.\n",
      "\n",
      "The lymph nodes identified are all normal in size, and were not biopsied.\n",
      "--------------------------\n",
      "\n",
      "FINE-NEEDLE ASPIRATION THYROID NODULE\n",
      "\n",
      "PROCEDURE: Informed consent. Sterile technique. Under sonographic guidance, the nodule in the right lobe referred for biopsy was biopsied. 3 passes with a 25-gauge needle were performed, using capillary technique.\n",
      "1% Xylocaine local anesthesia was used.\n",
      "\n",
      "A 21-gauge spinal needle had to be used as the conventional to hyperdynamic needle was not long enough to access the target as the patient has some generous subcutaneous adipose tissue in the neck.\n",
      "Samples were submitted to pathology. The patient tolerated the procedure well and there were no immediate complications..\n",
      "Postbiopsy imaging revealed a postbiopsy hematoma in the right side of the neck anterior to the right thyroid. The patient did have some discomfort here initially and was given ice packs. I informed her that she did have some bleeding postbiopsy but this is usually settles spontaneously. I informed her that she could have some bruising in this area which will resolve spontaneously usually within a couple of weeks.\n",
      "\n",
      "She denied any shortness of breath..\n",
      "\n",
      "She was told that if she develop any shortness of breath she should go to the nearest emergency department and informed her that she had a recent thyroid biopsy.\n",
      "\n",
      "Conclusion: Thyroid FNA as described.\n",
      "--------------------------\n",
      "\n",
      "INDICATION: FNA.\n",
      "\n",
      "COMPARISON: None\n",
      "\n",
      "FINDINGS:\n",
      "\n",
      " Right thyroid lobe 5.4 x 1.6 x 1.5 cm. Left thyroid lobe 6.5 x 5.2 x 3.9 cm. Homogenous parenchymal echotexture.\n",
      "\n",
      "In the right thyroid midpole is a small heterogeneous mixed hypoechoic isoechoic lesion with few tiny echogenic foci and measures 11 x 6 x 4 mm. TR 4.\n",
      "\n",
      "In the left thyroid mid to lower pole is a large solid cystic mass of mildly ill-defined borders measures 53 x 43 x 38 mm. TR3. FNA of this lesion was performed.\n",
      "\n",
      "PROCEDURE NOTE AND FINDINGS: Informed consent was obtained following a thorough discussion of potential risks and complications. Using sonographic guidance and sterile technique, the nodule in the was targeted. A total of three 25 gauge FNA biopsies were obtained and sent to cytopathology. The patient tolerated the procedure well with no immediate complications.\n",
      "\n",
      "INTERPRETATION:\n",
      "\n",
      "Successful ultrasound-guided FNA biopsy of thyroid nodule in the left thyroid lobe.\n",
      "\n",
      "Right thyroid lobe TR 4 nodule measures 11 mm (guideline directed FNA for TR4 nodules is 15 mm). It is however mildly suspicious in appearance and FNA is recommended. Unfortunately at the time of FNA only the left nodule FNA was performed. Patient will be recalled for FNA on the right.\n",
      "--------------------------\n",
      "\n",
      "FNA BIOPSY OF THYROID\n",
      "\n",
      "HISTORY: Request for thyroid nodule biopsy.\n",
      "\n",
      "COMPARISON: None available.\n",
      "\n",
      "PROCEDURE:\n",
      "\n",
      "The material risks (including hemorrhage and infection) of the procedure were explained to the patient, and informed consent was obtained.\n",
      "\n",
      "Following sterile prep, drape, and local anesthesia, a 25 gauge 1.5\" needle was advanced into nodule in the right lobe under direct sonographic guidance. Aspirate was quite minimal.\n",
      "\n",
      "The samples were placed in appropriate fluid and sent for analysis. The patient tolerated the procedure well, with no immediate complications.\n",
      "\n",
      "IMPRESSION:\n",
      "\n",
      "Technically successful FNA ultrasound-guided biopsy of:\n",
      "\n",
      " Nodule in the right lobe.\n",
      "\n",
      "The images were compared to the more remote study performed 2014. The current study demonstrates a heterogeneous right lobe. There is a more focal hypoechoic area present at the posterior aspect of the midright lobe. It measures 2.4 x 1.1 x 1.2 cm. It is solid. There are no calcifications. Review of prior imaging demonstrates a probable similar hypoechoic area not greatly changed. The findings could represent the sequela of thyroiditis which could be the etiology of the relatively dry aspirate. Regardless, the FNA was performed. A repeat aspiration is not recommended if the current aspiration is nondiagnostic. Rather would recommend a follow-up ultrasound in 6 months to reassess and compare with 2014.\n",
      "\n",
      "The reader is referred to the pathology report for further details.\n",
      "--------------------------\n",
      "\n",
      "FNA BIOPSY OF THYROID\n",
      "\n",
      "HISTORY: Request for repeat biopsy of a nodule in the left lobe.\n",
      "\n",
      "COMPARISON: Several priors. The left lobe is diffusely heterogeneous and nodular. A recent ultrasound identified a more focally prominent echogenic nodule in the left lobe. An aspiration was requested. The patient has a low riding multinodular goiter and has difficulty breathing quietly. Prominent thyroid motion is present throughout the aspiration.\n",
      "\n",
      "PROCEDURE:\n",
      "\n",
      "The material risks (including hemorrhage and infection) of the procedure were explained to the patient, and informed consent was obtained.\n",
      "\n",
      "Following sterile prep, drape, and local anesthesia, a 25 gauge 1.5\" needle was advanced into the lesion under direct sonographic guidance. Adequate samples were obtained.\n",
      "\n",
      "The samples were placed in appropriate fluid and sent for analysis. The patient tolerated the procedure well, with no immediate complications.\n",
      "\n",
      "IMPRESSION:\n",
      "\n",
      "Technically challenging FNA ultrasound-guided biopsy of:\n",
      "\n",
      " Nodule in the left lobe. This is the second attempt. There is prominent excursion of the thyroid gland on respiration.\n",
      "\n",
      "I do not recommend a repeat aspiration if this is nondiagnostic. Rather would recommend follow-up imaging assessment.\n",
      "\n",
      "I have reviewed the images on the prior ultrasound dated 18/9/2020.. The nodule is predominantly solid. It is mildly hyperechoic compared to adjacent thyroid tissue. Based on Ti-Rads, this is a Ti-Rads 3 nodule. FNA is not usually indicated in a Ti-Rads 3 nodule is less than 2.5 cm.\n",
      "\n",
      "The reader is referred to the pathology report for further details.\n",
      "--------------------------\n",
      "\n",
      "******** ADDENDUM #1 ********\n",
      "ADDENDUM: Cytology results from FNA biopsy of thyroid nodule at interpolar region of right thyroid lobe demonstrate findings suspicious for a follicular neoplasm. Cannot completely exclude possibility of papillary neoplasm or noninvasive follicular thyroid neoplasm with papillary like nuclear features The cytology results are concordant with imaging findings.\n",
      "\n",
      "Cytology results from FNA biopsy of exophytic nodule adjacent to the lower pole of right thyroid lobe  demonstrate benign thyroid tissue. Evaluation is limited by very scant cellularity. The aspirate is composed benign epithelial cells in clusters and microfollicles in a background of colloid. Given provided history, it is impossible to distinguish benign follicular cells from parathyroid cells on cytomorphology alone. There is insufficient material for ancillary testing. The cytology results are indeterminate with respect to imaging findings.\n",
      "\n",
      "If there is ongoing clinical suspicion of parathyroid adenoma (i.e. history of hyperparathyroidism and/or hypercalcemia), parathyroid nuclear scan would be recommended prior to repeat FNA biopsy.\n",
      "\n",
      "******** ORIGINAL REPORT ********\n",
      "PROCEDURE NOTE AND FINDINGS: Informed consent was obtained following a thorough discussion of potential risks and complications. Using sonographic guidance and sterile technique, the nodule in the right thyroid isthmus was targeted. Following anesthetization of the skin and subcutaneous tissues using 1-2 mL of 1% plain lidocaine, a total of three 25 gauge FNA biopsies were obtained and sent to cytopathology.\n",
      "\n",
      "Using similar technique described above, the exophytic isoechoic nodule inferior to the lower pole right thyroid lobe was biopsied. A total of 3 25-gauge FNA biopsies were obtained and sent to cytopathology. The patient tolerated the procedure well with no immediate complications.\n",
      "\n",
      "INTERPRETATION:\n",
      "\n",
      "Successful ultrasound-guided FNA biopsy of right thyroid isthmus nodule and exophytic nodule inferior to right thyroid lobe.\n",
      "\n",
      "The exophytic nodule inferiorly could represent exophytic thyroid nodule or parathyroid adenoma. If the FNA biopsy result is indeterminate, parathyroid nuclear scan would be recommended prior to repeat FNA biopsy.\n",
      "--------------------------\n",
      "\n",
      "FNA BIOPSY OF THYROID\n",
      "\n",
      "HISTORY: Request for thyroid nodule biopsy.\n",
      "\n",
      "COMPARISON: None available.\n",
      "\n",
      "PROCEDURE: The left lobe of the thyroid was reexamined. The left lobe appears diffusely nodular. There is impression of a possible more focal isoechoic to hypoechoic area posteriorly towards the lower pole of the left lobe as seen on the prior ultrasound. This corresponds to the nodular identified on the recent ultrasound dated 10/12/2020. There is no corresponding abnormality at this location on the neck CT.\n",
      "\n",
      "The material risks (including hemorrhage and infection) of the procedure were explained to the patient's mother, and informed verbal consent was obtained from the patient's mother over the telephone.\n",
      "\n",
      "Following sterile prep, drape, and local anesthesia, a 25 gauge 1.5\" needle was advanced into the lesion under direct sonographic guidance. Adequate samples were obtained.\n",
      "\n",
      "The samples were placed in appropriate fluid and sent for analysis. The patient tolerated the procedure poorly. Images were obtained demonstrating the needle tip within the lesion.\n",
      "\n",
      "IMPRESSION:\n",
      "\n",
      "Technically successful FNA ultrasound-guided biopsy of:\n",
      "\n",
      "Possible nodule in the left lobe.\n",
      "\n",
      "The reader is referred to the pathology report for further details.\n",
      "\n",
      "Would not recommend repeating the FNA even if the aspirate nondiagnostic given the faintness of the finding on ultrasound in the absence of a significant focal abnormality at this location on CT. Rather recommend 6 month follow-up ultrasound.\n",
      "--------------------------\n",
      "\n",
      "******** ADDENDUM #1 ********\n",
      "Addendum: The imaging obtained during the procedure and the prior imaging 21/1/2021 was reviewed. It also reviewed at the time of the procedure. It was noted at the time of the procedure that the hypoechoic nodule which contained echogenic foci is at the junction of the mid left lobe and the inferior aspect of the left side of the isthmus. It was not located in the lower pole of the left lobe. There was a a further nodule, complex but predominantly cystic (Ti-Rads 2) in the mid left lobe located lateral to the inferior aspect of the left side of the isthmus. This extends into the lower pole. This complex nodule is not a suspicious nodule. Based on dimensions of the aspirated nodule, description and Ti-Rads estimation, the correct nodule was aspirated at the time of the thyroid aspiration. This nodule looks suspicious on imaging, at least Ti-Rads 4.\n",
      "\n",
      "******** ORIGINAL REPORT ********\n",
      "FNA BIOPSY OF THYROID\n",
      "\n",
      "HISTORY: Request for thyroid nodule biopsy.\n",
      "\n",
      "COMPARISON: None available.\n",
      "\n",
      "PROCEDURE:\n",
      "\n",
      "The material risks (including hemorrhage and infection) of the procedure were explained to the patient, and informed consent was obtained.\n",
      "\n",
      "Following sterile prep, drape, and local anesthesia, a 25 gauge 1.5\" needle was advanced into the 2 nodules previously described as suitable for FNA based on Ti-Rads in the left lobe under direct sonographic guidance. Adequate samples were obtained.\n",
      "\n",
      "The samples were placed in appropriate fluid and sent for analysis. The patient tolerated the procedure well, with no immediate complications.\n",
      "\n",
      "IMPRESSION:\n",
      "\n",
      "Technically successful FNA ultrasound-guided biopsy of:\n",
      "\n",
      " Ti-Rads 3 nodule greater than 2.5 cm and a Ti-Rads 4 nodules greater than 1.5 cm in the left lobe.\n",
      "\n",
      "The reader is referred to the pathology report for further details.\n",
      "--------------------------\n",
      "\n",
      "******** ADDENDUM #1 ********\n",
      "Addendum: The FNA indicates abundant macrophages and rare fragments of benign follicular epithelium. Cyst contents were also noted. The Ti-Rads 3 nodule previously described in the right lobe was aspirated. This nodule is predominantly solid with anterior  cystic component. The images were reviewed. The needle utilized for FNA is seen to traverse the region of interest i.e. the previous described complex predominantly solid nodule. Please note that this nodule extends to the thyroid capsule with no intervening normal thyroid tissue between the capsule and the nodule. The report of normal thyroid tissue is therefore surprising as the needle did not traverse normal thyroid tissue. The needle traverses both the solid and cystic component. For completeness, the FNA can be repeated with the needle directed only to the solid components of the nodule.\n",
      "\n",
      "******** ORIGINAL REPORT ********\n",
      "FNA BIOPSY OF THYROID\n",
      "\n",
      "HISTORY: Request for thyroid nodule biopsy.\n",
      "\n",
      "COMPARISON: None available.\n",
      "\n",
      "PROCEDURE:\n",
      "\n",
      "The material risks (including hemorrhage and infection) of the procedure were explained to the patient, and informed consent was obtained.\n",
      "\n",
      "Following sterile prep, drape, and local anesthesia, a 25 gauge 1.5\" needle was advanced into a Ti-Rads 3 nodule in the right lobe under direct sonographic guidance. Adequate samples were obtained.\n",
      "\n",
      "The samples were placed in appropriate fluid and sent for analysis. The patient tolerated the procedure well, with no immediate complications.\n",
      "\n",
      "IMPRESSION:\n",
      "\n",
      "Technically successful FNA ultrasound-guided biopsy of:\n",
      "\n",
      " Ti-Rads 3 nodule in the right lobe greater than 2.5 cm as recommended by reporting radiologist.\n",
      "\n",
      "The reader is referred to the pathology report for further details.\n",
      "--------------------------\n",
      "\n",
      "FNA BIOPSY OF THYROID\n",
      "\n",
      " Correlation is made with the recent parathyroid scan. This includes a SPECT-CT. There is a small focus of fat density at the posterior aspect of the left lobe of the thyroid on the recent SPECT-CT. This corresponds in location to the echogenic lesion identified on ultrasound. I favor this represents a small thyroid lipoma (although based on Ti-Rads ultrasound calcification, this is Ti-Rads 5).\n",
      "\n",
      "HISTORY: Request for thyroid nodule biopsy.\n",
      "\n",
      "COMPARISON: None available.\n",
      "\n",
      "PROCEDURE:\n",
      "\n",
      "The material risks (including hemorrhage and infection) of the procedure were explained to the patient, and informed consent was obtained.\n",
      "\n",
      "Following sterile prep, drape, and local anesthesia, a 25 gauge 1.5\" needle was advanced into the lesion under direct sonographic guidance. Adequate samples were obtained.\n",
      "\n",
      "The samples were placed in appropriate fluid and sent for analysis. The patient had moderate to poor tolerance despite local anaesthesia. There were no immediate complications.\n",
      "\n",
      "IMPRESSION:\n",
      "\n",
      "Technically successful FNA ultrasound-guided biopsy of:\n",
      "\n",
      " Echogenic nodule left lobe. This has fat density on CT and is favored to be a lipoma. This patient had moderate to poor tolerance for the procedure. Therefore, a repeat FNA is not felt to be indicated if the FNA is nondiagnostic. Rather, recommend the patient return in 6 months for a follow-up ultrasound of the thyroid gland unless there is interval surgery for parathyroid adenoma.\n",
      "\n",
      "The reader is referred to the pathology report for further details.\n",
      "--------------------------\n"
     ]
    }
   ],
   "source": [
    "for rep in long_reports['Exam Result']:  print(f'\\n{rep}\\n--------------------------')"
   ]
  },
  {
   "cell_type": "code",
   "execution_count": 20,
   "metadata": {
    "ExecuteTime": {
     "end_time": "2021-01-27T19:10:19.684842Z",
     "start_time": "2021-01-27T19:10:19.663902Z"
    },
    "colab": {
     "base_uri": "https://localhost:8080/",
     "height": 49
    },
    "executionInfo": {
     "elapsed": 402,
     "status": "ok",
     "timestamp": 1610583416351,
     "user": {
      "displayName": "Jeff Jaskolka",
      "photoUrl": "https://lh3.googleusercontent.com/a-/AOh14Gh0CKyoeay8mLB6XmQwmxvRlimyHPiACAnHOQVn=s64",
      "userId": "16990044333464285283"
     },
     "user_tz": 300
    },
    "id": "Mn6HN1bbRaLz",
    "outputId": "887d6fcc-8f89-495c-d0fc-664864399d03"
   },
   "outputs": [
    {
     "data": {
      "text/html": [
       "<div>\n",
       "<style scoped>\n",
       "    .dataframe tbody tr th:only-of-type {\n",
       "        vertical-align: middle;\n",
       "    }\n",
       "\n",
       "    .dataframe tbody tr th {\n",
       "        vertical-align: top;\n",
       "    }\n",
       "\n",
       "    .dataframe thead th {\n",
       "        text-align: right;\n",
       "    }\n",
       "</style>\n",
       "<table border=\"1\" class=\"dataframe\">\n",
       "  <thead>\n",
       "    <tr style=\"text-align: right;\">\n",
       "      <th></th>\n",
       "      <th>experiment description</th>\n",
       "      <th>num samples</th>\n",
       "      <th>weighting</th>\n",
       "      <th>f1w</th>\n",
       "      <th>acc</th>\n",
       "      <th>auroc</th>\n",
       "      <th>ppv</th>\n",
       "      <th>sens</th>\n",
       "      <th>batch size</th>\n",
       "    </tr>\n",
       "  </thead>\n",
       "  <tbody>\n",
       "    <tr>\n",
       "      <th>0</th>\n",
       "      <td>thyroid baseline</td>\n",
       "      <td>652</td>\n",
       "      <td>NaN</td>\n",
       "      <td>0.905804</td>\n",
       "      <td>0.907692</td>\n",
       "      <td>0.814766</td>\n",
       "      <td>0.666667</td>\n",
       "      <td>0.736842</td>\n",
       "      <td>64</td>\n",
       "    </tr>\n",
       "    <tr>\n",
       "      <th>1</th>\n",
       "      <td>thyroid baseline</td>\n",
       "      <td>652</td>\n",
       "      <td>NaN</td>\n",
       "      <td>0.842980</td>\n",
       "      <td>0.838462</td>\n",
       "      <td>0.892273</td>\n",
       "      <td>0.550000</td>\n",
       "      <td>0.478261</td>\n",
       "      <td>64</td>\n",
       "    </tr>\n",
       "    <tr>\n",
       "      <th>2</th>\n",
       "      <td>thyroid baseline</td>\n",
       "      <td>652</td>\n",
       "      <td>NaN</td>\n",
       "      <td>0.801190</td>\n",
       "      <td>0.807692</td>\n",
       "      <td>0.783636</td>\n",
       "      <td>0.300000</td>\n",
       "      <td>0.352941</td>\n",
       "      <td>64</td>\n",
       "    </tr>\n",
       "    <tr>\n",
       "      <th>3</th>\n",
       "      <td>thyroid baseline</td>\n",
       "      <td>652</td>\n",
       "      <td>NaN</td>\n",
       "      <td>0.835404</td>\n",
       "      <td>0.838462</td>\n",
       "      <td>0.834000</td>\n",
       "      <td>0.600000</td>\n",
       "      <td>0.666667</td>\n",
       "      <td>64</td>\n",
       "    </tr>\n",
       "    <tr>\n",
       "      <th>4</th>\n",
       "      <td>thyroid baseline</td>\n",
       "      <td>652</td>\n",
       "      <td>NaN</td>\n",
       "      <td>0.785400</td>\n",
       "      <td>0.792308</td>\n",
       "      <td>0.836333</td>\n",
       "      <td>0.466667</td>\n",
       "      <td>0.560000</td>\n",
       "      <td>64</td>\n",
       "    </tr>\n",
       "    <tr>\n",
       "      <th>5</th>\n",
       "      <td>thyroid baseline</td>\n",
       "      <td>652</td>\n",
       "      <td>NaN</td>\n",
       "      <td>0.810601</td>\n",
       "      <td>0.815385</td>\n",
       "      <td>0.839333</td>\n",
       "      <td>0.533333</td>\n",
       "      <td>0.615385</td>\n",
       "      <td>64</td>\n",
       "    </tr>\n",
       "  </tbody>\n",
       "</table>\n",
       "</div>"
      ],
      "text/plain": [
       "  experiment description  num samples  weighting       f1w       acc  \\\n",
       "0       thyroid baseline          652        NaN  0.905804  0.907692   \n",
       "1       thyroid baseline          652        NaN  0.842980  0.838462   \n",
       "2       thyroid baseline          652        NaN  0.801190  0.807692   \n",
       "3       thyroid baseline          652        NaN  0.835404  0.838462   \n",
       "4       thyroid baseline          652        NaN  0.785400  0.792308   \n",
       "5       thyroid baseline          652        NaN  0.810601  0.815385   \n",
       "\n",
       "      auroc       ppv      sens  batch size  \n",
       "0  0.814766  0.666667  0.736842          64  \n",
       "1  0.892273  0.550000  0.478261          64  \n",
       "2  0.783636  0.300000  0.352941          64  \n",
       "3  0.834000  0.600000  0.666667          64  \n",
       "4  0.836333  0.466667  0.560000          64  \n",
       "5  0.839333  0.533333  0.615385          64  "
      ]
     },
     "execution_count": 20,
     "metadata": {},
     "output_type": "execute_result"
    }
   ],
   "source": [
    "#loads result dataframe or initializes an empty one\n",
    "try:\n",
    "    results_df = pd.read_csv('results lung rads.csv')\n",
    "except:\n",
    "    results_df = pd.DataFrame(columns = ['experiment description', 'num samples', 'weighting', 'f1w', 'acc', 'auroc', 'ppv', 'sens', 'batch size'])\n",
    "\n",
    "results_df.index = list(range(len(results_df)))   #to clean the index \n",
    "results_df"
   ]
  },
  {
   "cell_type": "code",
   "execution_count": 21,
   "metadata": {},
   "outputs": [],
   "source": [
    "#defining a replacement for the after batch method of the WandbCallback\n",
    "\n",
    "def JJ_wand_after_batch(self):\n",
    "        \"Log hyper-parameters and training loss\"\n",
    "        if self.training:\n",
    "            self._wandb_step += 1\n",
    "            self._wandb_epoch += 1/self.n_iter\n",
    "            hypers = {f'{k}_{i}':v for i,h in enumerate(learn.opt.hypers) for k,v in h.items() if ('wd' in k) or  ('lr' in k)}\n",
    "            wandb.log({'epoch': self._wandb_epoch, 'train_loss': to_detach(self.smooth_loss.clone()), 'raw_loss': to_detach(self.loss.clone()), **hypers}, step=self._wandb_step)\n",
    "\n",
    "#and mokeypatching it (overwriting the original method in the callback)\n",
    "WandbCallback.after_batch = JJ_wand_after_batch"
   ]
  },
  {
   "cell_type": "code",
   "execution_count": 22,
   "metadata": {
    "ExecuteTime": {
     "end_time": "2021-01-27T19:09:29.986551Z",
     "start_time": "2021-01-27T19:09:29.976610Z"
    }
   },
   "outputs": [],
   "source": [
    "def get_metrics(preds,predictions, true_vals, update_results = True, print_confusion = True):\n",
    "    ''' Note that in this version discharge is the positive results\n",
    "     and admit is the negative result'''\n",
    "\n",
    "    f1_w = sklearn.metrics.f1_score(true_vals, preds, average='weighted')\n",
    "    f1 = sklearn.metrics.f1_score(true_vals, preds, average=None)\n",
    "    acc = sklearn.metrics.accuracy_score(true_vals, preds)\n",
    "    prec = sklearn.metrics.precision_score(true_vals,preds, average=None) \n",
    "    rec = sklearn.metrics.recall_score(true_vals,preds, average=None)\n",
    "    auroc = sklearn.metrics.roc_auc_score(true_vals,predictions[:,1])\n",
    "    confusion = sklearn.metrics.confusion_matrix(true_vals, preds)\n",
    "\n",
    "    tn, fn, fp, tp = confusion[0,0], confusion[0,1], confusion[1,0], confusion[1,1]\n",
    "\n",
    "    sens = tp/(tp + fn)\n",
    "    spec = tn/(tn + fp)\n",
    "    ppv = tp/(tp + fp)\n",
    "    npv = tn/(tn + fn)\n",
    "\n",
    "    print ('Metrics Report:')\n",
    "    print ('---------------')\n",
    "    print ('weighted f1: ', f1_w)\n",
    "    print ('AUROC:       ',auroc)\n",
    "    print ('accuracy:    ', acc)\n",
    "    print ('precision:   ', prec)\n",
    "    print ('recall:      ', rec)\n",
    "    print ('sensitivity: ', sens)\n",
    "    print ('specificity: ', spec)\n",
    "    print ('PPV:         ', ppv)\n",
    "    print ('NPV:         ', npv)\n",
    "    print ()\n",
    "    \n",
    "    if print_confusion:\n",
    "        sns.heatmap(confusion,\n",
    "            annot = True,fmt = '',\n",
    "            cmap = 'Blues',\n",
    "            cbar = False,\n",
    "            xticklabels = ['N', 'Y'],\n",
    "            yticklabels = ['N', 'Y'] )\n",
    "        plt.xlabel('actual')\n",
    "        plt.ylabel('predicted')\n",
    "        plt.title('needs f/u predictions confusion matrix')\n",
    "        plt.show()\n",
    "\n",
    "    if update_results == True:\n",
    "        results_df.loc[len(results_df)] = [desc,num_samples, weights, f1_w, acc, auroc, ppv, sens, batch_size]"
   ]
  },
  {
   "cell_type": "code",
   "execution_count": 23,
   "metadata": {
    "ExecuteTime": {
     "end_time": "2021-01-27T19:09:31.774198Z",
     "start_time": "2021-01-27T19:09:31.767222Z"
    },
    "executionInfo": {
     "elapsed": 301,
     "status": "ok",
     "timestamp": 1610583436911,
     "user": {
      "displayName": "Jeff Jaskolka",
      "photoUrl": "https://lh3.googleusercontent.com/a-/AOh14Gh0CKyoeay8mLB6XmQwmxvRlimyHPiACAnHOQVn=s64",
      "userId": "16990044333464285283"
     },
     "user_tz": 300
    },
    "id": "5eC3-80BSs_U"
   },
   "outputs": [],
   "source": [
    "def get_metrics_multi(preds,predictions, true_vals, update_results = True, print_confusion = True):\n",
    "    \n",
    "    f1_w = sklearn.metrics.f1_score(true_vals, predictions, average='weighted')\n",
    "    #f1 = sklearn.metrics.f1_score(true_vals, preds, average=None)\n",
    "    acc = sklearn.metrics.accuracy_score(true_vals, predictions)\n",
    "    prec = sklearn.metrics.precision_score(true_vals,predictions, average='weighted') \n",
    "    rec = sklearn.metrics.recall_score(true_vals,predictions, average='weighted')\n",
    "    confusion = sklearn.metrics.confusion_matrix(true_vals, predictions)\n",
    "    try: auroc = sklearn.metrics.roc_auc_score(true_vals,preds, multi_class = 'ovo')\n",
    "    except: auroc = 'can not calculate auroc'\n",
    "    \n",
    "\n",
    "    print ('Metrics Report:')\n",
    "    print ('---------------')\n",
    "    print ('weighted f1: ', f1_w)\n",
    "    print ('AUROC:       ',auroc)\n",
    "    print ('accuracy:    ', acc)\n",
    "    print ('precision:   ', prec)\n",
    "    print ('recall:      ', rec)\n",
    "    \n",
    "    accuracy_per_class(preds, true_vals)\n",
    "    #print ()\n",
    "    #print ('Accuracy per Class:')\n",
    "    #print ('-------------------')\n",
    "    #for item in res: print (item[0], ',',item[1])\n",
    "    \n",
    "    if print_confusion:\n",
    "        sns.heatmap(confusion,\n",
    "            annot = True,fmt = '',\n",
    "            cmap = 'Blues',\n",
    "            cbar = False)\n",
    "        plt.xlabel('actual')\n",
    "        plt.ylabel('predicted')\n",
    "        plt.title('Lung rads predictions confusion matrix')\n",
    "        plt.show()\n",
    "\n",
    "    if update_results == True:\n",
    "        results_df.loc[len(results_df)] = [desc,num_samples, weights, f1_w, acc, auroc, prec, rec, batch_size]\n"
   ]
  },
  {
   "cell_type": "code",
   "execution_count": 24,
   "metadata": {
    "ExecuteTime": {
     "end_time": "2021-01-27T19:09:32.619643Z",
     "start_time": "2021-01-27T19:09:32.607675Z"
    }
   },
   "outputs": [],
   "source": [
    "def accuracy_per_class(preds, labels, df = data, label_col = 'labels'):\n",
    "    label_dict = {k:v for v,k in enumerate(set(df[label_col]))}\n",
    "    label_dict_inverse = {v: k for k, v in label_dict.items()}\n",
    "    \n",
    "    preds_flat = np.argmax(preds, axis=1).flatten()\n",
    "    labels_flat = labels.flatten()\n",
    "\n",
    "    for label in np.unique(labels_flat):\n",
    "        y_preds = preds_flat[labels_flat==label]\n",
    "        y_true = labels_flat[labels_flat==label]\n",
    "        print(f'Class: {label_dict_inverse[label]}')\n",
    "        print(f'Accuracy: {len(y_preds[y_preds==label])}/{len(y_true)}\\n')"
   ]
  },
  {
   "cell_type": "markdown",
   "metadata": {
    "heading_collapsed": "true",
    "id": "0UGhS80Sy3kE"
   },
   "source": [
    "### fine tune language model"
   ]
  },
  {
   "cell_type": "markdown",
   "metadata": {},
   "source": [
    "#### forward"
   ]
  },
  {
   "cell_type": "code",
   "execution_count": 32,
   "metadata": {
    "colab": {
     "base_uri": "https://localhost:8080/",
     "height": 71
    },
    "executionInfo": {
     "elapsed": 34411,
     "status": "ok",
     "timestamp": 1610065724091,
     "user": {
      "displayName": "Jeff Jaskolka",
      "photoUrl": "https://lh3.googleusercontent.com/a-/AOh14Gh0CKyoeay8mLB6XmQwmxvRlimyHPiACAnHOQVn=s64",
      "userId": "16990044333464285283"
     },
     "user_tz": 300
    },
    "id": "xQAonfTawLrh",
    "outputId": "18892a86-15d5-44c7-bbb6-99cc6b5c0d43"
   },
   "outputs": [
    {
     "data": {
      "text/html": [],
      "text/plain": [
       "<IPython.core.display.HTML object>"
      ]
     },
     "metadata": {},
     "output_type": "display_data"
    },
    {
     "name": "stderr",
     "output_type": "stream",
     "text": [
      "C:\\Users\\jasko\\anaconda3\\lib\\site-packages\\numpy\\core\\_asarray.py:83: VisibleDeprecationWarning: Creating an ndarray from ragged nested sequences (which is a list-or-tuple of lists-or-tuples-or ndarrays with different lengths or shapes) is deprecated. If you meant to do this, you must specify 'dtype=object' when creating the ndarray\n",
      "  return array(a, dtype, copy=False, order=order)\n"
     ]
    }
   ],
   "source": [
    "dls_lm = TextDataLoaders.from_df(ltd_data, is_lm=True, valid_pct=0.1, text_col='Exam Result')"
   ]
  },
  {
   "cell_type": "code",
   "execution_count": 34,
   "metadata": {
    "colab": {
     "base_uri": "https://localhost:8080/",
     "height": 17
    },
    "executionInfo": {
     "elapsed": 5977,
     "status": "ok",
     "timestamp": 1610065760826,
     "user": {
      "displayName": "Jeff Jaskolka",
      "photoUrl": "https://lh3.googleusercontent.com/a-/AOh14Gh0CKyoeay8mLB6XmQwmxvRlimyHPiACAnHOQVn=s64",
      "userId": "16990044333464285283"
     },
     "user_tz": 300
    },
    "id": "MPy3gkppwuO5",
    "outputId": "9986e421-4796-4ee4-84ea-148990fcae2d"
   },
   "outputs": [],
   "source": [
    "learn_lm = language_model_learner(dls_lm, AWD_LSTM, metrics=[accuracy, Perplexity()], wd=0.1).to_fp16()"
   ]
  },
  {
   "cell_type": "code",
   "execution_count": 37,
   "metadata": {
    "colab": {
     "base_uri": "https://localhost:8080/",
     "height": 80
    },
    "executionInfo": {
     "elapsed": 88069,
     "status": "ok",
     "timestamp": 1610065866085,
     "user": {
      "displayName": "Jeff Jaskolka",
      "photoUrl": "https://lh3.googleusercontent.com/a-/AOh14Gh0CKyoeay8mLB6XmQwmxvRlimyHPiACAnHOQVn=s64",
      "userId": "16990044333464285283"
     },
     "user_tz": 300
    },
    "id": "vOVihbDJwwpB",
    "outputId": "aec8471e-62a1-4f7e-dd98-2e2cbbbbba94"
   },
   "outputs": [
    {
     "data": {
      "text/html": [
       "<table border=\"1\" class=\"dataframe\">\n",
       "  <thead>\n",
       "    <tr style=\"text-align: left;\">\n",
       "      <th>epoch</th>\n",
       "      <th>train_loss</th>\n",
       "      <th>valid_loss</th>\n",
       "      <th>accuracy</th>\n",
       "      <th>perplexity</th>\n",
       "      <th>time</th>\n",
       "    </tr>\n",
       "  </thead>\n",
       "  <tbody>\n",
       "    <tr>\n",
       "      <td>0</td>\n",
       "      <td>4.724839</td>\n",
       "      <td>2.843937</td>\n",
       "      <td>0.471108</td>\n",
       "      <td>17.183277</td>\n",
       "      <td>00:04</td>\n",
       "    </tr>\n",
       "    <tr>\n",
       "      <td>1</td>\n",
       "      <td>3.438990</td>\n",
       "      <td>1.970884</td>\n",
       "      <td>0.585272</td>\n",
       "      <td>7.177018</td>\n",
       "      <td>00:02</td>\n",
       "    </tr>\n",
       "    <tr>\n",
       "      <td>2</td>\n",
       "      <td>2.846195</td>\n",
       "      <td>1.861352</td>\n",
       "      <td>0.605585</td>\n",
       "      <td>6.432427</td>\n",
       "      <td>00:02</td>\n",
       "    </tr>\n",
       "  </tbody>\n",
       "</table>"
      ],
      "text/plain": [
       "<IPython.core.display.HTML object>"
      ]
     },
     "metadata": {},
     "output_type": "display_data"
    }
   ],
   "source": [
    "learn_lm.fit_one_cycle(3, 1e-2)"
   ]
  },
  {
   "cell_type": "code",
   "execution_count": 39,
   "metadata": {
    "colab": {
     "base_uri": "https://localhost:8080/",
     "height": 359
    },
    "executionInfo": {
     "elapsed": 1053053,
     "status": "ok",
     "timestamp": 1610066836097,
     "user": {
      "displayName": "Jeff Jaskolka",
      "photoUrl": "https://lh3.googleusercontent.com/a-/AOh14Gh0CKyoeay8mLB6XmQwmxvRlimyHPiACAnHOQVn=s64",
      "userId": "16990044333464285283"
     },
     "user_tz": 300
    },
    "id": "QWHphnauwz7S",
    "outputId": "6a79fd49-a462-4855-f22a-fac1efd5daf4",
    "scrolled": true
   },
   "outputs": [
    {
     "data": {
      "text/html": [
       "<table border=\"1\" class=\"dataframe\">\n",
       "  <thead>\n",
       "    <tr style=\"text-align: left;\">\n",
       "      <th>epoch</th>\n",
       "      <th>train_loss</th>\n",
       "      <th>valid_loss</th>\n",
       "      <th>accuracy</th>\n",
       "      <th>perplexity</th>\n",
       "      <th>time</th>\n",
       "    </tr>\n",
       "  </thead>\n",
       "  <tbody>\n",
       "    <tr>\n",
       "      <td>0</td>\n",
       "      <td>1.975892</td>\n",
       "      <td>1.524828</td>\n",
       "      <td>0.665885</td>\n",
       "      <td>4.594351</td>\n",
       "      <td>00:02</td>\n",
       "    </tr>\n",
       "    <tr>\n",
       "      <td>1</td>\n",
       "      <td>1.768089</td>\n",
       "      <td>1.350588</td>\n",
       "      <td>0.707060</td>\n",
       "      <td>3.859694</td>\n",
       "      <td>00:02</td>\n",
       "    </tr>\n",
       "    <tr>\n",
       "      <td>2</td>\n",
       "      <td>1.629842</td>\n",
       "      <td>1.334871</td>\n",
       "      <td>0.715133</td>\n",
       "      <td>3.799505</td>\n",
       "      <td>00:02</td>\n",
       "    </tr>\n",
       "  </tbody>\n",
       "</table>"
      ],
      "text/plain": [
       "<IPython.core.display.HTML object>"
      ]
     },
     "metadata": {},
     "output_type": "display_data"
    }
   ],
   "source": [
    "learn_lm.freeze_to(-2)\n",
    "learn_lm.fit_one_cycle(3, 1e-3)"
   ]
  },
  {
   "cell_type": "code",
   "execution_count": 40,
   "metadata": {},
   "outputs": [
    {
     "data": {
      "text/html": [
       "<table border=\"1\" class=\"dataframe\">\n",
       "  <thead>\n",
       "    <tr style=\"text-align: left;\">\n",
       "      <th>epoch</th>\n",
       "      <th>train_loss</th>\n",
       "      <th>valid_loss</th>\n",
       "      <th>accuracy</th>\n",
       "      <th>perplexity</th>\n",
       "      <th>time</th>\n",
       "    </tr>\n",
       "  </thead>\n",
       "  <tbody>\n",
       "    <tr>\n",
       "      <td>0</td>\n",
       "      <td>1.511631</td>\n",
       "      <td>1.308353</td>\n",
       "      <td>0.719358</td>\n",
       "      <td>3.700076</td>\n",
       "      <td>00:02</td>\n",
       "    </tr>\n",
       "    <tr>\n",
       "      <td>1</td>\n",
       "      <td>1.472933</td>\n",
       "      <td>1.286321</td>\n",
       "      <td>0.724551</td>\n",
       "      <td>3.619447</td>\n",
       "      <td>00:02</td>\n",
       "    </tr>\n",
       "    <tr>\n",
       "      <td>2</td>\n",
       "      <td>1.461018</td>\n",
       "      <td>1.281555</td>\n",
       "      <td>0.724913</td>\n",
       "      <td>3.602235</td>\n",
       "      <td>00:02</td>\n",
       "    </tr>\n",
       "  </tbody>\n",
       "</table>"
      ],
      "text/plain": [
       "<IPython.core.display.HTML object>"
      ]
     },
     "metadata": {},
     "output_type": "display_data"
    }
   ],
   "source": [
    "learn_lm.freeze_to(-1)\n",
    "learn_lm.fit_one_cycle(3, 1e-3)"
   ]
  },
  {
   "cell_type": "code",
   "execution_count": 41,
   "metadata": {},
   "outputs": [
    {
     "data": {
      "text/html": [
       "<table border=\"1\" class=\"dataframe\">\n",
       "  <thead>\n",
       "    <tr style=\"text-align: left;\">\n",
       "      <th>epoch</th>\n",
       "      <th>train_loss</th>\n",
       "      <th>valid_loss</th>\n",
       "      <th>accuracy</th>\n",
       "      <th>perplexity</th>\n",
       "      <th>time</th>\n",
       "    </tr>\n",
       "  </thead>\n",
       "  <tbody>\n",
       "    <tr>\n",
       "      <td>0</td>\n",
       "      <td>1.385662</td>\n",
       "      <td>1.210646</td>\n",
       "      <td>0.740061</td>\n",
       "      <td>3.355652</td>\n",
       "      <td>00:02</td>\n",
       "    </tr>\n",
       "    <tr>\n",
       "      <td>1</td>\n",
       "      <td>1.297979</td>\n",
       "      <td>1.086303</td>\n",
       "      <td>0.764062</td>\n",
       "      <td>2.963300</td>\n",
       "      <td>00:02</td>\n",
       "    </tr>\n",
       "    <tr>\n",
       "      <td>2</td>\n",
       "      <td>1.202784</td>\n",
       "      <td>0.999729</td>\n",
       "      <td>0.776837</td>\n",
       "      <td>2.717546</td>\n",
       "      <td>00:03</td>\n",
       "    </tr>\n",
       "    <tr>\n",
       "      <td>3</td>\n",
       "      <td>1.112064</td>\n",
       "      <td>0.933797</td>\n",
       "      <td>0.797164</td>\n",
       "      <td>2.544151</td>\n",
       "      <td>00:03</td>\n",
       "    </tr>\n",
       "    <tr>\n",
       "      <td>4</td>\n",
       "      <td>1.026577</td>\n",
       "      <td>0.887003</td>\n",
       "      <td>0.805599</td>\n",
       "      <td>2.427843</td>\n",
       "      <td>00:02</td>\n",
       "    </tr>\n",
       "    <tr>\n",
       "      <td>5</td>\n",
       "      <td>0.963332</td>\n",
       "      <td>0.865786</td>\n",
       "      <td>0.809418</td>\n",
       "      <td>2.376874</td>\n",
       "      <td>00:02</td>\n",
       "    </tr>\n",
       "    <tr>\n",
       "      <td>6</td>\n",
       "      <td>0.903355</td>\n",
       "      <td>0.849121</td>\n",
       "      <td>0.814583</td>\n",
       "      <td>2.337590</td>\n",
       "      <td>00:02</td>\n",
       "    </tr>\n",
       "    <tr>\n",
       "      <td>7</td>\n",
       "      <td>0.860180</td>\n",
       "      <td>0.834316</td>\n",
       "      <td>0.816464</td>\n",
       "      <td>2.303239</td>\n",
       "      <td>00:02</td>\n",
       "    </tr>\n",
       "    <tr>\n",
       "      <td>8</td>\n",
       "      <td>0.819132</td>\n",
       "      <td>0.830691</td>\n",
       "      <td>0.819199</td>\n",
       "      <td>2.294905</td>\n",
       "      <td>00:02</td>\n",
       "    </tr>\n",
       "    <tr>\n",
       "      <td>9</td>\n",
       "      <td>0.793396</td>\n",
       "      <td>0.830182</td>\n",
       "      <td>0.819488</td>\n",
       "      <td>2.293736</td>\n",
       "      <td>00:03</td>\n",
       "    </tr>\n",
       "  </tbody>\n",
       "</table>"
      ],
      "text/plain": [
       "<IPython.core.display.HTML object>"
      ]
     },
     "metadata": {},
     "output_type": "display_data"
    }
   ],
   "source": [
    "learn_lm.unfreeze()\n",
    "learn_lm.fit_one_cycle(10, 1e-3)"
   ]
  },
  {
   "cell_type": "code",
   "execution_count": 42,
   "metadata": {
    "id": "wf21g5T0zLan"
   },
   "outputs": [],
   "source": [
    "with open(model_path + '/lm_vocab.pkl', 'wb') as f:\n",
    "    pickle.dump(dls_lm.vocab, f)"
   ]
  },
  {
   "cell_type": "code",
   "execution_count": 44,
   "metadata": {
    "id": "ArF5kGmpw4PS"
   },
   "outputs": [],
   "source": [
    "learn_lm.save_encoder(model_path + '/finetuned_enc_fwd')"
   ]
  },
  {
   "cell_type": "markdown",
   "metadata": {},
   "source": [
    "#### backward"
   ]
  },
  {
   "cell_type": "code",
   "execution_count": 45,
   "metadata": {
    "colab": {
     "base_uri": "https://localhost:8080/",
     "height": 71
    },
    "executionInfo": {
     "elapsed": 34411,
     "status": "ok",
     "timestamp": 1610065724091,
     "user": {
      "displayName": "Jeff Jaskolka",
      "photoUrl": "https://lh3.googleusercontent.com/a-/AOh14Gh0CKyoeay8mLB6XmQwmxvRlimyHPiACAnHOQVn=s64",
      "userId": "16990044333464285283"
     },
     "user_tz": 300
    },
    "id": "xQAonfTawLrh",
    "outputId": "18892a86-15d5-44c7-bbb6-99cc6b5c0d43"
   },
   "outputs": [
    {
     "data": {
      "text/html": [],
      "text/plain": [
       "<IPython.core.display.HTML object>"
      ]
     },
     "metadata": {},
     "output_type": "display_data"
    },
    {
     "name": "stderr",
     "output_type": "stream",
     "text": [
      "C:\\Users\\jasko\\anaconda3\\lib\\site-packages\\numpy\\core\\_asarray.py:83: VisibleDeprecationWarning: Creating an ndarray from ragged nested sequences (which is a list-or-tuple of lists-or-tuples-or ndarrays with different lengths or shapes) is deprecated. If you meant to do this, you must specify 'dtype=object' when creating the ndarray\n",
      "  return array(a, dtype, copy=False, order=order)\n"
     ]
    }
   ],
   "source": [
    "dls_lm_bwd = TextDataLoaders.from_df(data, is_lm=True, valid_pct=0.1, text_col='Exam Result', is_backward = True)"
   ]
  },
  {
   "cell_type": "code",
   "execution_count": 46,
   "metadata": {
    "colab": {
     "base_uri": "https://localhost:8080/",
     "height": 17
    },
    "executionInfo": {
     "elapsed": 5977,
     "status": "ok",
     "timestamp": 1610065760826,
     "user": {
      "displayName": "Jeff Jaskolka",
      "photoUrl": "https://lh3.googleusercontent.com/a-/AOh14Gh0CKyoeay8mLB6XmQwmxvRlimyHPiACAnHOQVn=s64",
      "userId": "16990044333464285283"
     },
     "user_tz": 300
    },
    "id": "MPy3gkppwuO5",
    "outputId": "9986e421-4796-4ee4-84ea-148990fcae2d"
   },
   "outputs": [],
   "source": [
    "learn_lm_bwd = language_model_learner(dls_lm_bwd, AWD_LSTM, metrics=[accuracy, Perplexity()], wd=0.1).to_fp16()"
   ]
  },
  {
   "cell_type": "code",
   "execution_count": 47,
   "metadata": {
    "colab": {
     "base_uri": "https://localhost:8080/",
     "height": 80
    },
    "executionInfo": {
     "elapsed": 88069,
     "status": "ok",
     "timestamp": 1610065866085,
     "user": {
      "displayName": "Jeff Jaskolka",
      "photoUrl": "https://lh3.googleusercontent.com/a-/AOh14Gh0CKyoeay8mLB6XmQwmxvRlimyHPiACAnHOQVn=s64",
      "userId": "16990044333464285283"
     },
     "user_tz": 300
    },
    "id": "vOVihbDJwwpB",
    "outputId": "aec8471e-62a1-4f7e-dd98-2e2cbbbbba94"
   },
   "outputs": [
    {
     "data": {
      "text/html": [
       "<table border=\"1\" class=\"dataframe\">\n",
       "  <thead>\n",
       "    <tr style=\"text-align: left;\">\n",
       "      <th>epoch</th>\n",
       "      <th>train_loss</th>\n",
       "      <th>valid_loss</th>\n",
       "      <th>accuracy</th>\n",
       "      <th>perplexity</th>\n",
       "      <th>time</th>\n",
       "    </tr>\n",
       "  </thead>\n",
       "  <tbody>\n",
       "    <tr>\n",
       "      <td>0</td>\n",
       "      <td>4.757165</td>\n",
       "      <td>2.948041</td>\n",
       "      <td>0.449436</td>\n",
       "      <td>19.068562</td>\n",
       "      <td>00:02</td>\n",
       "    </tr>\n",
       "    <tr>\n",
       "      <td>1</td>\n",
       "      <td>3.453910</td>\n",
       "      <td>2.134635</td>\n",
       "      <td>0.558222</td>\n",
       "      <td>8.453960</td>\n",
       "      <td>00:02</td>\n",
       "    </tr>\n",
       "    <tr>\n",
       "      <td>2</td>\n",
       "      <td>2.863207</td>\n",
       "      <td>2.029434</td>\n",
       "      <td>0.579830</td>\n",
       "      <td>7.609778</td>\n",
       "      <td>00:02</td>\n",
       "    </tr>\n",
       "  </tbody>\n",
       "</table>"
      ],
      "text/plain": [
       "<IPython.core.display.HTML object>"
      ]
     },
     "metadata": {},
     "output_type": "display_data"
    }
   ],
   "source": [
    "learn_lm_bwd.fit_one_cycle(3, 1e-2)"
   ]
  },
  {
   "cell_type": "code",
   "execution_count": 48,
   "metadata": {
    "colab": {
     "base_uri": "https://localhost:8080/",
     "height": 359
    },
    "executionInfo": {
     "elapsed": 1053053,
     "status": "ok",
     "timestamp": 1610066836097,
     "user": {
      "displayName": "Jeff Jaskolka",
      "photoUrl": "https://lh3.googleusercontent.com/a-/AOh14Gh0CKyoeay8mLB6XmQwmxvRlimyHPiACAnHOQVn=s64",
      "userId": "16990044333464285283"
     },
     "user_tz": 300
    },
    "id": "QWHphnauwz7S",
    "outputId": "6a79fd49-a462-4855-f22a-fac1efd5daf4",
    "scrolled": true
   },
   "outputs": [
    {
     "data": {
      "text/html": [
       "<table border=\"1\" class=\"dataframe\">\n",
       "  <thead>\n",
       "    <tr style=\"text-align: left;\">\n",
       "      <th>epoch</th>\n",
       "      <th>train_loss</th>\n",
       "      <th>valid_loss</th>\n",
       "      <th>accuracy</th>\n",
       "      <th>perplexity</th>\n",
       "      <th>time</th>\n",
       "    </tr>\n",
       "  </thead>\n",
       "  <tbody>\n",
       "    <tr>\n",
       "      <td>0</td>\n",
       "      <td>1.952327</td>\n",
       "      <td>1.723822</td>\n",
       "      <td>0.620587</td>\n",
       "      <td>5.605916</td>\n",
       "      <td>00:02</td>\n",
       "    </tr>\n",
       "    <tr>\n",
       "      <td>1</td>\n",
       "      <td>1.756870</td>\n",
       "      <td>1.548864</td>\n",
       "      <td>0.657418</td>\n",
       "      <td>4.706123</td>\n",
       "      <td>00:02</td>\n",
       "    </tr>\n",
       "    <tr>\n",
       "      <td>2</td>\n",
       "      <td>1.627508</td>\n",
       "      <td>1.518475</td>\n",
       "      <td>0.667721</td>\n",
       "      <td>4.565259</td>\n",
       "      <td>00:02</td>\n",
       "    </tr>\n",
       "  </tbody>\n",
       "</table>"
      ],
      "text/plain": [
       "<IPython.core.display.HTML object>"
      ]
     },
     "metadata": {},
     "output_type": "display_data"
    }
   ],
   "source": [
    "learn_lm_bwd.freeze_to(-2)\n",
    "learn_lm_bwd.fit_one_cycle(3, 1e-3)"
   ]
  },
  {
   "cell_type": "code",
   "execution_count": 49,
   "metadata": {},
   "outputs": [
    {
     "data": {
      "text/html": [
       "<table border=\"1\" class=\"dataframe\">\n",
       "  <thead>\n",
       "    <tr style=\"text-align: left;\">\n",
       "      <th>epoch</th>\n",
       "      <th>train_loss</th>\n",
       "      <th>valid_loss</th>\n",
       "      <th>accuracy</th>\n",
       "      <th>perplexity</th>\n",
       "      <th>time</th>\n",
       "    </tr>\n",
       "  </thead>\n",
       "  <tbody>\n",
       "    <tr>\n",
       "      <td>0</td>\n",
       "      <td>1.454280</td>\n",
       "      <td>1.489481</td>\n",
       "      <td>0.672216</td>\n",
       "      <td>4.434795</td>\n",
       "      <td>00:02</td>\n",
       "    </tr>\n",
       "    <tr>\n",
       "      <td>1</td>\n",
       "      <td>1.445624</td>\n",
       "      <td>1.464414</td>\n",
       "      <td>0.676794</td>\n",
       "      <td>4.325006</td>\n",
       "      <td>00:02</td>\n",
       "    </tr>\n",
       "    <tr>\n",
       "      <td>2</td>\n",
       "      <td>1.452327</td>\n",
       "      <td>1.460723</td>\n",
       "      <td>0.676939</td>\n",
       "      <td>4.309076</td>\n",
       "      <td>00:02</td>\n",
       "    </tr>\n",
       "  </tbody>\n",
       "</table>"
      ],
      "text/plain": [
       "<IPython.core.display.HTML object>"
      ]
     },
     "metadata": {},
     "output_type": "display_data"
    }
   ],
   "source": [
    "learn_lm_bwd.freeze_to(-1)\n",
    "learn_lm_bwd.fit_one_cycle(3, 1e-3)"
   ]
  },
  {
   "cell_type": "code",
   "execution_count": 50,
   "metadata": {},
   "outputs": [
    {
     "data": {
      "text/html": [
       "<table border=\"1\" class=\"dataframe\">\n",
       "  <thead>\n",
       "    <tr style=\"text-align: left;\">\n",
       "      <th>epoch</th>\n",
       "      <th>train_loss</th>\n",
       "      <th>valid_loss</th>\n",
       "      <th>accuracy</th>\n",
       "      <th>perplexity</th>\n",
       "      <th>time</th>\n",
       "    </tr>\n",
       "  </thead>\n",
       "  <tbody>\n",
       "    <tr>\n",
       "      <td>0</td>\n",
       "      <td>1.373740</td>\n",
       "      <td>1.408829</td>\n",
       "      <td>0.689102</td>\n",
       "      <td>4.091160</td>\n",
       "      <td>00:02</td>\n",
       "    </tr>\n",
       "    <tr>\n",
       "      <td>1</td>\n",
       "      <td>1.303088</td>\n",
       "      <td>1.295375</td>\n",
       "      <td>0.715660</td>\n",
       "      <td>3.652366</td>\n",
       "      <td>00:03</td>\n",
       "    </tr>\n",
       "    <tr>\n",
       "      <td>2</td>\n",
       "      <td>1.211794</td>\n",
       "      <td>1.149530</td>\n",
       "      <td>0.737661</td>\n",
       "      <td>3.156708</td>\n",
       "      <td>00:03</td>\n",
       "    </tr>\n",
       "    <tr>\n",
       "      <td>3</td>\n",
       "      <td>1.106664</td>\n",
       "      <td>1.088218</td>\n",
       "      <td>0.752956</td>\n",
       "      <td>2.968978</td>\n",
       "      <td>00:03</td>\n",
       "    </tr>\n",
       "    <tr>\n",
       "      <td>4</td>\n",
       "      <td>1.027493</td>\n",
       "      <td>1.033776</td>\n",
       "      <td>0.761367</td>\n",
       "      <td>2.811662</td>\n",
       "      <td>00:03</td>\n",
       "    </tr>\n",
       "    <tr>\n",
       "      <td>5</td>\n",
       "      <td>0.958950</td>\n",
       "      <td>1.007416</td>\n",
       "      <td>0.767837</td>\n",
       "      <td>2.738515</td>\n",
       "      <td>00:03</td>\n",
       "    </tr>\n",
       "    <tr>\n",
       "      <td>6</td>\n",
       "      <td>0.896431</td>\n",
       "      <td>0.988339</td>\n",
       "      <td>0.776155</td>\n",
       "      <td>2.686768</td>\n",
       "      <td>00:03</td>\n",
       "    </tr>\n",
       "    <tr>\n",
       "      <td>7</td>\n",
       "      <td>0.852590</td>\n",
       "      <td>0.979716</td>\n",
       "      <td>0.777509</td>\n",
       "      <td>2.663700</td>\n",
       "      <td>00:03</td>\n",
       "    </tr>\n",
       "    <tr>\n",
       "      <td>8</td>\n",
       "      <td>0.824081</td>\n",
       "      <td>0.982464</td>\n",
       "      <td>0.781281</td>\n",
       "      <td>2.671030</td>\n",
       "      <td>00:03</td>\n",
       "    </tr>\n",
       "    <tr>\n",
       "      <td>9</td>\n",
       "      <td>0.790955</td>\n",
       "      <td>0.982490</td>\n",
       "      <td>0.781808</td>\n",
       "      <td>2.671100</td>\n",
       "      <td>00:03</td>\n",
       "    </tr>\n",
       "  </tbody>\n",
       "</table>"
      ],
      "text/plain": [
       "<IPython.core.display.HTML object>"
      ]
     },
     "metadata": {},
     "output_type": "display_data"
    }
   ],
   "source": [
    "learn_lm_bwd.unfreeze()\n",
    "learn_lm_bwd.fit_one_cycle(10, 1e-3)"
   ]
  },
  {
   "cell_type": "code",
   "execution_count": 52,
   "metadata": {
    "id": "ArF5kGmpw4PS"
   },
   "outputs": [],
   "source": [
    "learn_lm_bwd.save_encoder(model_path + '/finetuned_enc_bwd')"
   ]
  },
  {
   "cell_type": "markdown",
   "metadata": {
    "id": "CegTl9cby_5Z"
   },
   "source": [
    "### first pass at classification\n",
    "\n",
    "- lung rads classes - new baseline"
   ]
  },
  {
   "cell_type": "markdown",
   "metadata": {},
   "source": [
    "#### forward"
   ]
  },
  {
   "cell_type": "code",
   "execution_count": 25,
   "metadata": {
    "ExecuteTime": {
     "end_time": "2021-01-22T01:21:28.875530Z",
     "start_time": "2021-01-22T01:21:28.871530Z"
    }
   },
   "outputs": [],
   "source": [
    "desc = 'thyroid baseline'\n",
    "num_samples = len(data)\n",
    "weights = None\n",
    "batch_size = 64    #fast.ai default"
   ]
  },
  {
   "cell_type": "code",
   "execution_count": 26,
   "metadata": {
    "ExecuteTime": {
     "end_time": "2021-01-22T01:21:30.821320Z",
     "start_time": "2021-01-22T01:21:30.815336Z"
    },
    "executionInfo": {
     "elapsed": 673,
     "status": "ok",
     "timestamp": 1610583895800,
     "user": {
      "displayName": "Jeff Jaskolka",
      "photoUrl": "https://lh3.googleusercontent.com/a-/AOh14Gh0CKyoeay8mLB6XmQwmxvRlimyHPiACAnHOQVn=s64",
      "userId": "16990044333464285283"
     },
     "user_tz": 300
    },
    "id": "BH6Y6_chD45V"
   },
   "outputs": [],
   "source": [
    "with open(model_path + '/lm_vocab.pkl', 'rb') as f:\n",
    "    lm_vocab = pickle.load(f)"
   ]
  },
  {
   "cell_type": "code",
   "execution_count": 27,
   "metadata": {
    "ExecuteTime": {
     "end_time": "2021-01-22T01:22:16.714571Z",
     "start_time": "2021-01-22T01:21:31.324006Z"
    },
    "colab": {
     "base_uri": "https://localhost:8080/",
     "height": 71
    },
    "executionInfo": {
     "elapsed": 31776,
     "status": "ok",
     "timestamp": 1610583929288,
     "user": {
      "displayName": "Jeff Jaskolka",
      "photoUrl": "https://lh3.googleusercontent.com/a-/AOh14Gh0CKyoeay8mLB6XmQwmxvRlimyHPiACAnHOQVn=s64",
      "userId": "16990044333464285283"
     },
     "user_tz": 300
    },
    "id": "OjiZe595xkqp",
    "outputId": "62006530-d615-4371-e77d-d9ce4aacbc58"
   },
   "outputs": [
    {
     "data": {
      "text/html": [],
      "text/plain": [
       "<IPython.core.display.HTML object>"
      ]
     },
     "metadata": {},
     "output_type": "display_data"
    },
    {
     "name": "stderr",
     "output_type": "stream",
     "text": [
      "C:\\Users\\jasko\\anaconda3\\lib\\site-packages\\numpy\\core\\_asarray.py:83: VisibleDeprecationWarning: Creating an ndarray from ragged nested sequences (which is a list-or-tuple of lists-or-tuples-or ndarrays with different lengths or shapes) is deprecated. If you meant to do this, you must specify 'dtype=object' when creating the ndarray\n",
      "  return array(a, dtype, copy=False, order=order)\n"
     ]
    }
   ],
   "source": [
    "dls_cls = TextDataLoaders.from_df(ltd_data, text_col = 'Exam Result', label_col = 'target', seed = 42, text_vocab = lm_vocab, num_workers = 0)"
   ]
  },
  {
   "cell_type": "code",
   "execution_count": 76,
   "metadata": {},
   "outputs": [],
   "source": [
    "wandb.init(project='thyroid asp', name = 'baseline');"
   ]
  },
  {
   "cell_type": "code",
   "execution_count": 77,
   "metadata": {
    "ExecuteTime": {
     "end_time": "2021-01-22T01:22:17.092624Z",
     "start_time": "2021-01-22T01:22:16.840315Z"
    },
    "executionInfo": {
     "elapsed": 27571,
     "status": "ok",
     "timestamp": 1610583929647,
     "user": {
      "displayName": "Jeff Jaskolka",
      "photoUrl": "https://lh3.googleusercontent.com/a-/AOh14Gh0CKyoeay8mLB6XmQwmxvRlimyHPiACAnHOQVn=s64",
      "userId": "16990044333464285283"
     },
     "user_tz": 300
    },
    "id": "WHf_tQoLz5HC"
   },
   "outputs": [],
   "source": [
    "learn = text_classifier_learner(dls_cls, AWD_LSTM, drop_mult=0.5, metrics=accuracy, cbs=[WandbCallback(), SaveModelCallback(fname = 'thyroid')]).to_fp16()"
   ]
  },
  {
   "cell_type": "code",
   "execution_count": 78,
   "metadata": {
    "ExecuteTime": {
     "end_time": "2021-01-22T01:22:22.009663Z",
     "start_time": "2021-01-22T01:22:21.931887Z"
    },
    "executionInfo": {
     "elapsed": 26082,
     "status": "ok",
     "timestamp": 1610583929770,
     "user": {
      "displayName": "Jeff Jaskolka",
      "photoUrl": "https://lh3.googleusercontent.com/a-/AOh14Gh0CKyoeay8mLB6XmQwmxvRlimyHPiACAnHOQVn=s64",
      "userId": "16990044333464285283"
     },
     "user_tz": 300
    },
    "id": "Shkfdsn-z-Um"
   },
   "outputs": [],
   "source": [
    "learn.load_encoder(model_path + '/finetuned_enc_fwd');"
   ]
  },
  {
   "cell_type": "code",
   "execution_count": 79,
   "metadata": {},
   "outputs": [
    {
     "data": {
      "text/html": [],
      "text/plain": [
       "<IPython.core.display.HTML object>"
      ]
     },
     "metadata": {},
     "output_type": "display_data"
    },
    {
     "data": {
      "text/plain": [
       "SuggestedLRs(lr_min=0.05248074531555176, lr_steep=0.14454397559165955)"
      ]
     },
     "execution_count": 79,
     "metadata": {},
     "output_type": "execute_result"
    },
    {
     "data": {
      "image/png": "[encoded data removed]",
      "text/plain": [
       "<Figure size 432x288 with 1 Axes>"
      ]
     },
     "metadata": {
      "needs_background": "light"
     },
     "output_type": "display_data"
    }
   ],
   "source": [
    "learn.lr_find()"
   ]
  },
  {
   "cell_type": "code",
   "execution_count": 80,
   "metadata": {
    "ExecuteTime": {
     "end_time": "2021-01-22T01:23:17.017606Z",
     "start_time": "2021-01-22T01:22:22.138022Z"
    },
    "colab": {
     "base_uri": "https://localhost:8080/",
     "height": 80
    },
    "executionInfo": {
     "elapsed": 21276,
     "status": "ok",
     "timestamp": 1610583963490,
     "user": {
      "displayName": "Jeff Jaskolka",
      "photoUrl": "https://lh3.googleusercontent.com/a-/AOh14Gh0CKyoeay8mLB6XmQwmxvRlimyHPiACAnHOQVn=s64",
      "userId": "16990044333464285283"
     },
     "user_tz": 300
    },
    "id": "opF28j9s0HtI",
    "outputId": "2e207575-c9fc-492d-ff28-f333c663ba6e"
   },
   "outputs": [
    {
     "data": {
      "text/html": [
       "<table border=\"1\" class=\"dataframe\">\n",
       "  <thead>\n",
       "    <tr style=\"text-align: left;\">\n",
       "      <th>epoch</th>\n",
       "      <th>train_loss</th>\n",
       "      <th>valid_loss</th>\n",
       "      <th>accuracy</th>\n",
       "      <th>time</th>\n",
       "    </tr>\n",
       "  </thead>\n",
       "  <tbody>\n",
       "    <tr>\n",
       "      <td>0</td>\n",
       "      <td>0.735494</td>\n",
       "      <td>0.703933</td>\n",
       "      <td>0.523077</td>\n",
       "      <td>00:01</td>\n",
       "    </tr>\n",
       "    <tr>\n",
       "      <td>1</td>\n",
       "      <td>0.653137</td>\n",
       "      <td>0.548239</td>\n",
       "      <td>0.776923</td>\n",
       "      <td>00:01</td>\n",
       "    </tr>\n",
       "    <tr>\n",
       "      <td>2</td>\n",
       "      <td>0.591443</td>\n",
       "      <td>0.570084</td>\n",
       "      <td>0.815385</td>\n",
       "      <td>00:01</td>\n",
       "    </tr>\n",
       "  </tbody>\n",
       "</table>"
      ],
      "text/plain": [
       "<IPython.core.display.HTML object>"
      ]
     },
     "metadata": {},
     "output_type": "display_data"
    },
    {
     "name": "stdout",
     "output_type": "stream",
     "text": [
      "Better model found at epoch 0 with valid_loss value: 0.7039328217506409.\n",
      "Better model found at epoch 1 with valid_loss value: 0.5482387542724609.\n"
     ]
    }
   ],
   "source": [
    "learn.fit_one_cycle(3, 1e-2)"
   ]
  },
  {
   "cell_type": "code",
   "execution_count": 81,
   "metadata": {
    "ExecuteTime": {
     "end_time": "2021-01-22T01:24:19.035374Z",
     "start_time": "2021-01-22T01:23:17.147261Z"
    },
    "colab": {
     "base_uri": "https://localhost:8080/",
     "height": 80
    },
    "executionInfo": {
     "elapsed": 41959,
     "status": "ok",
     "timestamp": 1610583986988,
     "user": {
      "displayName": "Jeff Jaskolka",
      "photoUrl": "https://lh3.googleusercontent.com/a-/AOh14Gh0CKyoeay8mLB6XmQwmxvRlimyHPiACAnHOQVn=s64",
      "userId": "16990044333464285283"
     },
     "user_tz": 300
    },
    "id": "xiFZFXwY0Qgh",
    "outputId": "11baa980-d10f-4cb1-8ff8-b95beaefea4a"
   },
   "outputs": [
    {
     "data": {
      "text/html": [
       "<table border=\"1\" class=\"dataframe\">\n",
       "  <thead>\n",
       "    <tr style=\"text-align: left;\">\n",
       "      <th>epoch</th>\n",
       "      <th>train_loss</th>\n",
       "      <th>valid_loss</th>\n",
       "      <th>accuracy</th>\n",
       "      <th>time</th>\n",
       "    </tr>\n",
       "  </thead>\n",
       "  <tbody>\n",
       "    <tr>\n",
       "      <td>0</td>\n",
       "      <td>0.504840</td>\n",
       "      <td>0.563672</td>\n",
       "      <td>0.746154</td>\n",
       "      <td>00:01</td>\n",
       "    </tr>\n",
       "    <tr>\n",
       "      <td>1</td>\n",
       "      <td>0.482525</td>\n",
       "      <td>0.549951</td>\n",
       "      <td>0.792308</td>\n",
       "      <td>00:01</td>\n",
       "    </tr>\n",
       "    <tr>\n",
       "      <td>2</td>\n",
       "      <td>0.433926</td>\n",
       "      <td>0.576698</td>\n",
       "      <td>0.669231</td>\n",
       "      <td>00:01</td>\n",
       "    </tr>\n",
       "  </tbody>\n",
       "</table>"
      ],
      "text/plain": [
       "<IPython.core.display.HTML object>"
      ]
     },
     "metadata": {},
     "output_type": "display_data"
    },
    {
     "name": "stdout",
     "output_type": "stream",
     "text": [
      "Better model found at epoch 0 with valid_loss value: 0.5636721253395081.\n",
      "Better model found at epoch 1 with valid_loss value: 0.549950897693634.\n"
     ]
    }
   ],
   "source": [
    "learn.freeze_to(-2)\n",
    "learn.fit_one_cycle(3, slice(1e-2/(2.6**4),1e-2))"
   ]
  },
  {
   "cell_type": "code",
   "execution_count": 82,
   "metadata": {
    "ExecuteTime": {
     "end_time": "2021-01-22T01:25:37.252793Z",
     "start_time": "2021-01-22T01:24:19.162454Z"
    },
    "colab": {
     "base_uri": "https://localhost:8080/",
     "height": 80
    },
    "executionInfo": {
     "elapsed": 71965,
     "status": "ok",
     "timestamp": 1610584018631,
     "user": {
      "displayName": "Jeff Jaskolka",
      "photoUrl": "https://lh3.googleusercontent.com/a-/AOh14Gh0CKyoeay8mLB6XmQwmxvRlimyHPiACAnHOQVn=s64",
      "userId": "16990044333464285283"
     },
     "user_tz": 300
    },
    "id": "rZtHyAN90TB5",
    "outputId": "ab2a7736-08e7-4dd2-a45c-20df1d12b87d"
   },
   "outputs": [
    {
     "data": {
      "text/html": [
       "<table border=\"1\" class=\"dataframe\">\n",
       "  <thead>\n",
       "    <tr style=\"text-align: left;\">\n",
       "      <th>epoch</th>\n",
       "      <th>train_loss</th>\n",
       "      <th>valid_loss</th>\n",
       "      <th>accuracy</th>\n",
       "      <th>time</th>\n",
       "    </tr>\n",
       "  </thead>\n",
       "  <tbody>\n",
       "    <tr>\n",
       "      <td>0</td>\n",
       "      <td>0.332696</td>\n",
       "      <td>0.811587</td>\n",
       "      <td>0.630769</td>\n",
       "      <td>00:02</td>\n",
       "    </tr>\n",
       "    <tr>\n",
       "      <td>1</td>\n",
       "      <td>0.334162</td>\n",
       "      <td>0.538020</td>\n",
       "      <td>0.715385</td>\n",
       "      <td>00:02</td>\n",
       "    </tr>\n",
       "    <tr>\n",
       "      <td>2</td>\n",
       "      <td>0.288639</td>\n",
       "      <td>0.539831</td>\n",
       "      <td>0.715385</td>\n",
       "      <td>00:02</td>\n",
       "    </tr>\n",
       "  </tbody>\n",
       "</table>"
      ],
      "text/plain": [
       "<IPython.core.display.HTML object>"
      ]
     },
     "metadata": {},
     "output_type": "display_data"
    },
    {
     "name": "stdout",
     "output_type": "stream",
     "text": [
      "Better model found at epoch 0 with valid_loss value: 0.8115865588188171.\n",
      "Better model found at epoch 1 with valid_loss value: 0.5380204916000366.\n"
     ]
    }
   ],
   "source": [
    "learn.freeze_to(-3)\n",
    "learn.fit_one_cycle(3, slice(5e-3/(2.6**4),5e-3))"
   ]
  },
  {
   "cell_type": "code",
   "execution_count": 83,
   "metadata": {
    "ExecuteTime": {
     "end_time": "2021-01-22T01:28:15.873858Z",
     "start_time": "2021-01-22T01:25:37.377538Z"
    },
    "colab": {
     "base_uri": "https://localhost:8080/",
     "height": 80
    },
    "executionInfo": {
     "elapsed": 108325,
     "status": "ok",
     "timestamp": 1610584057951,
     "user": {
      "displayName": "Jeff Jaskolka",
      "photoUrl": "https://lh3.googleusercontent.com/a-/AOh14Gh0CKyoeay8mLB6XmQwmxvRlimyHPiACAnHOQVn=s64",
      "userId": "16990044333464285283"
     },
     "user_tz": 300
    },
    "id": "J_G3a-Nj0W1T",
    "outputId": "d7d4de1b-635e-4f47-dfd2-c692fc1cfdf5"
   },
   "outputs": [
    {
     "data": {
      "text/html": [
       "<table border=\"1\" class=\"dataframe\">\n",
       "  <thead>\n",
       "    <tr style=\"text-align: left;\">\n",
       "      <th>epoch</th>\n",
       "      <th>train_loss</th>\n",
       "      <th>valid_loss</th>\n",
       "      <th>accuracy</th>\n",
       "      <th>time</th>\n",
       "    </tr>\n",
       "  </thead>\n",
       "  <tbody>\n",
       "    <tr>\n",
       "      <td>0</td>\n",
       "      <td>0.225286</td>\n",
       "      <td>0.504662</td>\n",
       "      <td>0.715385</td>\n",
       "      <td>00:02</td>\n",
       "    </tr>\n",
       "    <tr>\n",
       "      <td>1</td>\n",
       "      <td>0.210732</td>\n",
       "      <td>0.503390</td>\n",
       "      <td>0.730769</td>\n",
       "      <td>00:02</td>\n",
       "    </tr>\n",
       "    <tr>\n",
       "      <td>2</td>\n",
       "      <td>0.192585</td>\n",
       "      <td>0.563584</td>\n",
       "      <td>0.738462</td>\n",
       "      <td>00:02</td>\n",
       "    </tr>\n",
       "    <tr>\n",
       "      <td>3</td>\n",
       "      <td>0.177575</td>\n",
       "      <td>0.538526</td>\n",
       "      <td>0.746154</td>\n",
       "      <td>00:02</td>\n",
       "    </tr>\n",
       "    <tr>\n",
       "      <td>4</td>\n",
       "      <td>0.169562</td>\n",
       "      <td>0.533817</td>\n",
       "      <td>0.746154</td>\n",
       "      <td>00:02</td>\n",
       "    </tr>\n",
       "  </tbody>\n",
       "</table>"
      ],
      "text/plain": [
       "<IPython.core.display.HTML object>"
      ]
     },
     "metadata": {},
     "output_type": "display_data"
    },
    {
     "name": "stdout",
     "output_type": "stream",
     "text": [
      "Better model found at epoch 0 with valid_loss value: 0.5046619176864624.\n",
      "Better model found at epoch 1 with valid_loss value: 0.503390371799469.\n"
     ]
    }
   ],
   "source": [
    "learn.unfreeze()\n",
    "learn.fit_one_cycle(5, slice(1e-3/(2.6**4),1e-3))"
   ]
  },
  {
   "cell_type": "code",
   "execution_count": 84,
   "metadata": {
    "ExecuteTime": {
     "end_time": "2021-01-22T01:28:16.128930Z",
     "start_time": "2021-01-22T01:28:16.003153Z"
    },
    "colab": {
     "base_uri": "https://localhost:8080/",
     "height": 265
    },
    "executionInfo": {
     "elapsed": 104633,
     "status": "ok",
     "timestamp": 1610584058247,
     "user": {
      "displayName": "Jeff Jaskolka",
      "photoUrl": "https://lh3.googleusercontent.com/a-/AOh14Gh0CKyoeay8mLB6XmQwmxvRlimyHPiACAnHOQVn=s64",
      "userId": "16990044333464285283"
     },
     "user_tz": 300
    },
    "id": "VM7PDrtpCpcM",
    "outputId": "1abc313f-6546-40c5-f28e-9c00252a0c65"
   },
   "outputs": [
    {
     "data": {
      "image/png": "[encoded data removed]",
      "text/plain": [
       "<Figure size 432x288 with 1 Axes>"
      ]
     },
     "metadata": {
      "needs_background": "light"
     },
     "output_type": "display_data"
    }
   ],
   "source": [
    "learn.recorder.plot_loss()"
   ]
  },
  {
   "cell_type": "code",
   "execution_count": 85,
   "metadata": {
    "ExecuteTime": {
     "end_time": "2021-01-22T01:28:19.704730Z",
     "start_time": "2021-01-22T01:28:16.303719Z"
    }
   },
   "outputs": [
    {
     "data": {
      "text/html": [],
      "text/plain": [
       "<IPython.core.display.HTML object>"
      ]
     },
     "metadata": {},
     "output_type": "display_data"
    }
   ],
   "source": [
    "preds, targets = learn.get_preds()\n",
    "predictions = np.argmax(preds, axis = 1)"
   ]
  },
  {
   "cell_type": "code",
   "execution_count": 86,
   "metadata": {
    "ExecuteTime": {
     "end_time": "2021-01-22T02:34:40.968276Z",
     "start_time": "2021-01-22T02:34:40.804169Z"
    }
   },
   "outputs": [
    {
     "name": "stdout",
     "output_type": "stream",
     "text": [
      "Metrics Report:\n",
      "---------------\n",
      "weighted f1:  0.7419846258908404\n",
      "AUROC:        0.8069999999999999\n",
      "accuracy:     0.7307692307692307\n",
      "precision:    [0.85714286 0.43589744]\n",
      "recall:       [0.78       0.56666667]\n",
      "sensitivity:  0.4358974358974359\n",
      "specificity:  0.8571428571428571\n",
      "PPV:          0.5666666666666667\n",
      "NPV:          0.78\n",
      "\n"
     ]
    },
    {
     "data": {
      "image/png": "[encoded data removed]",
      "text/plain": [
       "<Figure size 432x288 with 1 Axes>"
      ]
     },
     "metadata": {
      "needs_background": "light"
     },
     "output_type": "display_data"
    }
   ],
   "source": [
    "get_metrics(predictions, preds, targets)"
   ]
  },
  {
   "cell_type": "code",
   "execution_count": 87,
   "metadata": {},
   "outputs": [
    {
     "data": {
      "text/html": [
       "<div>\n",
       "<style scoped>\n",
       "    .dataframe tbody tr th:only-of-type {\n",
       "        vertical-align: middle;\n",
       "    }\n",
       "\n",
       "    .dataframe tbody tr th {\n",
       "        vertical-align: top;\n",
       "    }\n",
       "\n",
       "    .dataframe thead th {\n",
       "        text-align: right;\n",
       "    }\n",
       "</style>\n",
       "<table border=\"1\" class=\"dataframe\">\n",
       "  <thead>\n",
       "    <tr style=\"text-align: right;\">\n",
       "      <th></th>\n",
       "      <th>experiment description</th>\n",
       "      <th>num samples</th>\n",
       "      <th>weighting</th>\n",
       "      <th>f1w</th>\n",
       "      <th>acc</th>\n",
       "      <th>auroc</th>\n",
       "      <th>ppv</th>\n",
       "      <th>sens</th>\n",
       "      <th>batch size</th>\n",
       "    </tr>\n",
       "  </thead>\n",
       "  <tbody>\n",
       "    <tr>\n",
       "      <th>0</th>\n",
       "      <td>thyroid baseline</td>\n",
       "      <td>652</td>\n",
       "      <td>NaN</td>\n",
       "      <td>0.905804</td>\n",
       "      <td>0.907692</td>\n",
       "      <td>0.814766</td>\n",
       "      <td>0.666667</td>\n",
       "      <td>0.736842</td>\n",
       "      <td>64</td>\n",
       "    </tr>\n",
       "    <tr>\n",
       "      <th>1</th>\n",
       "      <td>thyroid baseline</td>\n",
       "      <td>652</td>\n",
       "      <td>NaN</td>\n",
       "      <td>0.842980</td>\n",
       "      <td>0.838462</td>\n",
       "      <td>0.892273</td>\n",
       "      <td>0.550000</td>\n",
       "      <td>0.478261</td>\n",
       "      <td>64</td>\n",
       "    </tr>\n",
       "    <tr>\n",
       "      <th>2</th>\n",
       "      <td>thyroid baseline</td>\n",
       "      <td>652</td>\n",
       "      <td>NaN</td>\n",
       "      <td>0.801190</td>\n",
       "      <td>0.807692</td>\n",
       "      <td>0.783636</td>\n",
       "      <td>0.300000</td>\n",
       "      <td>0.352941</td>\n",
       "      <td>64</td>\n",
       "    </tr>\n",
       "    <tr>\n",
       "      <th>3</th>\n",
       "      <td>thyroid baseline</td>\n",
       "      <td>652</td>\n",
       "      <td>None</td>\n",
       "      <td>0.835404</td>\n",
       "      <td>0.838462</td>\n",
       "      <td>0.834000</td>\n",
       "      <td>0.600000</td>\n",
       "      <td>0.666667</td>\n",
       "      <td>64</td>\n",
       "    </tr>\n",
       "    <tr>\n",
       "      <th>4</th>\n",
       "      <td>thyroid baseline</td>\n",
       "      <td>652</td>\n",
       "      <td>None</td>\n",
       "      <td>0.785400</td>\n",
       "      <td>0.792308</td>\n",
       "      <td>0.836333</td>\n",
       "      <td>0.466667</td>\n",
       "      <td>0.560000</td>\n",
       "      <td>64</td>\n",
       "    </tr>\n",
       "    <tr>\n",
       "      <th>5</th>\n",
       "      <td>thyroid baseline</td>\n",
       "      <td>652</td>\n",
       "      <td>None</td>\n",
       "      <td>0.810601</td>\n",
       "      <td>0.815385</td>\n",
       "      <td>0.839333</td>\n",
       "      <td>0.533333</td>\n",
       "      <td>0.615385</td>\n",
       "      <td>64</td>\n",
       "    </tr>\n",
       "    <tr>\n",
       "      <th>6</th>\n",
       "      <td>thyroid baseline</td>\n",
       "      <td>652</td>\n",
       "      <td>None</td>\n",
       "      <td>0.741985</td>\n",
       "      <td>0.730769</td>\n",
       "      <td>0.807000</td>\n",
       "      <td>0.566667</td>\n",
       "      <td>0.435897</td>\n",
       "      <td>64</td>\n",
       "    </tr>\n",
       "  </tbody>\n",
       "</table>\n",
       "</div>"
      ],
      "text/plain": [
       "  experiment description  num samples weighting       f1w       acc     auroc  \\\n",
       "0       thyroid baseline          652       NaN  0.905804  0.907692  0.814766   \n",
       "1       thyroid baseline          652       NaN  0.842980  0.838462  0.892273   \n",
       "2       thyroid baseline          652       NaN  0.801190  0.807692  0.783636   \n",
       "3       thyroid baseline          652      None  0.835404  0.838462  0.834000   \n",
       "4       thyroid baseline          652      None  0.785400  0.792308  0.836333   \n",
       "5       thyroid baseline          652      None  0.810601  0.815385  0.839333   \n",
       "6       thyroid baseline          652      None  0.741985  0.730769  0.807000   \n",
       "\n",
       "        ppv      sens  batch size  \n",
       "0  0.666667  0.736842          64  \n",
       "1  0.550000  0.478261          64  \n",
       "2  0.300000  0.352941          64  \n",
       "3  0.600000  0.666667          64  \n",
       "4  0.466667  0.560000          64  \n",
       "5  0.533333  0.615385          64  \n",
       "6  0.566667  0.435897          64  "
      ]
     },
     "execution_count": 87,
     "metadata": {},
     "output_type": "execute_result"
    }
   ],
   "source": [
    "results_df"
   ]
  },
  {
   "cell_type": "code",
   "execution_count": 88,
   "metadata": {},
   "outputs": [],
   "source": [
    "learn.export(model_path + '/thyroid_baseline_fwd.pkl')"
   ]
  },
  {
   "cell_type": "code",
   "execution_count": 89,
   "metadata": {},
   "outputs": [],
   "source": [
    "wandb.finish()"
   ]
  },
  {
   "cell_type": "markdown",
   "metadata": {
    "id": "s6Cxvu372iHF"
   },
   "source": [
    "### second pass at classification\n",
    "\n",
    "- needs f/u"
   ]
  },
  {
   "cell_type": "code",
   "execution_count": 90,
   "metadata": {
    "ExecuteTime": {
     "end_time": "2021-01-22T03:29:46.782064Z",
     "start_time": "2021-01-22T03:29:46.770058Z"
    }
   },
   "outputs": [],
   "source": [
    "desc = 'label smoothing'\n",
    "num_samples = len(data)\n",
    "weights = None\n",
    "batch_size = 64    #fast.ai default"
   ]
  },
  {
   "cell_type": "code",
   "execution_count": 91,
   "metadata": {},
   "outputs": [],
   "source": [
    "wandb.init(project='thyroid asp', name = 'labell smoothing');"
   ]
  },
  {
   "cell_type": "code",
   "execution_count": 92,
   "metadata": {},
   "outputs": [],
   "source": [
    "loss_func = LabelSmoothingCrossEntropyFlat()"
   ]
  },
  {
   "cell_type": "code",
   "execution_count": 93,
   "metadata": {
    "ExecuteTime": {
     "end_time": "2021-01-22T01:22:17.092624Z",
     "start_time": "2021-01-22T01:22:16.840315Z"
    },
    "executionInfo": {
     "elapsed": 27571,
     "status": "ok",
     "timestamp": 1610583929647,
     "user": {
      "displayName": "Jeff Jaskolka",
      "photoUrl": "https://lh3.googleusercontent.com/a-/AOh14Gh0CKyoeay8mLB6XmQwmxvRlimyHPiACAnHOQVn=s64",
      "userId": "16990044333464285283"
     },
     "user_tz": 300
    },
    "id": "WHf_tQoLz5HC"
   },
   "outputs": [],
   "source": [
    "learn = text_classifier_learner(dls_cls, AWD_LSTM, loss_func = loss_func, drop_mult=0.5, metrics=accuracy, cbs=[WandbCallback(), SaveModelCallback(fname = 'thyroid_smooth')]).to_fp16()"
   ]
  },
  {
   "cell_type": "code",
   "execution_count": 94,
   "metadata": {
    "ExecuteTime": {
     "end_time": "2021-01-22T01:22:22.009663Z",
     "start_time": "2021-01-22T01:22:21.931887Z"
    },
    "executionInfo": {
     "elapsed": 26082,
     "status": "ok",
     "timestamp": 1610583929770,
     "user": {
      "displayName": "Jeff Jaskolka",
      "photoUrl": "https://lh3.googleusercontent.com/a-/AOh14Gh0CKyoeay8mLB6XmQwmxvRlimyHPiACAnHOQVn=s64",
      "userId": "16990044333464285283"
     },
     "user_tz": 300
    },
    "id": "Shkfdsn-z-Um"
   },
   "outputs": [],
   "source": [
    "learn.load_encoder(model_path + '/finetuned_enc_fwd');"
   ]
  },
  {
   "cell_type": "code",
   "execution_count": 95,
   "metadata": {},
   "outputs": [
    {
     "data": {
      "text/html": [],
      "text/plain": [
       "<IPython.core.display.HTML object>"
      ]
     },
     "metadata": {},
     "output_type": "display_data"
    },
    {
     "data": {
      "text/plain": [
       "SuggestedLRs(lr_min=0.02089296132326126, lr_steep=0.05754399299621582)"
      ]
     },
     "execution_count": 95,
     "metadata": {},
     "output_type": "execute_result"
    },
    {
     "data": {
      "image/png": "[encoded data removed]",
      "text/plain": [
       "<Figure size 432x288 with 1 Axes>"
      ]
     },
     "metadata": {
      "needs_background": "light"
     },
     "output_type": "display_data"
    }
   ],
   "source": [
    "learn.lr_find()"
   ]
  },
  {
   "cell_type": "code",
   "execution_count": 96,
   "metadata": {
    "ExecuteTime": {
     "end_time": "2021-01-22T01:23:17.017606Z",
     "start_time": "2021-01-22T01:22:22.138022Z"
    },
    "colab": {
     "base_uri": "https://localhost:8080/",
     "height": 80
    },
    "executionInfo": {
     "elapsed": 21276,
     "status": "ok",
     "timestamp": 1610583963490,
     "user": {
      "displayName": "Jeff Jaskolka",
      "photoUrl": "https://lh3.googleusercontent.com/a-/AOh14Gh0CKyoeay8mLB6XmQwmxvRlimyHPiACAnHOQVn=s64",
      "userId": "16990044333464285283"
     },
     "user_tz": 300
    },
    "id": "opF28j9s0HtI",
    "outputId": "2e207575-c9fc-492d-ff28-f333c663ba6e"
   },
   "outputs": [
    {
     "data": {
      "text/html": [
       "<table border=\"1\" class=\"dataframe\">\n",
       "  <thead>\n",
       "    <tr style=\"text-align: left;\">\n",
       "      <th>epoch</th>\n",
       "      <th>train_loss</th>\n",
       "      <th>valid_loss</th>\n",
       "      <th>accuracy</th>\n",
       "      <th>time</th>\n",
       "    </tr>\n",
       "  </thead>\n",
       "  <tbody>\n",
       "    <tr>\n",
       "      <td>0</td>\n",
       "      <td>0.818974</td>\n",
       "      <td>0.632288</td>\n",
       "      <td>0.738462</td>\n",
       "      <td>00:01</td>\n",
       "    </tr>\n",
       "    <tr>\n",
       "      <td>1</td>\n",
       "      <td>0.687729</td>\n",
       "      <td>0.600667</td>\n",
       "      <td>0.676923</td>\n",
       "      <td>00:01</td>\n",
       "    </tr>\n",
       "    <tr>\n",
       "      <td>2</td>\n",
       "      <td>0.614784</td>\n",
       "      <td>0.604874</td>\n",
       "      <td>0.661538</td>\n",
       "      <td>00:01</td>\n",
       "    </tr>\n",
       "  </tbody>\n",
       "</table>"
      ],
      "text/plain": [
       "<IPython.core.display.HTML object>"
      ]
     },
     "metadata": {},
     "output_type": "display_data"
    },
    {
     "name": "stdout",
     "output_type": "stream",
     "text": [
      "Better model found at epoch 0 with valid_loss value: 0.6322882771492004.\n",
      "Better model found at epoch 1 with valid_loss value: 0.600666880607605.\n"
     ]
    }
   ],
   "source": [
    "learn.fit_one_cycle(3, 1e-2)"
   ]
  },
  {
   "cell_type": "code",
   "execution_count": 97,
   "metadata": {
    "ExecuteTime": {
     "end_time": "2021-01-22T01:24:19.035374Z",
     "start_time": "2021-01-22T01:23:17.147261Z"
    },
    "colab": {
     "base_uri": "https://localhost:8080/",
     "height": 80
    },
    "executionInfo": {
     "elapsed": 41959,
     "status": "ok",
     "timestamp": 1610583986988,
     "user": {
      "displayName": "Jeff Jaskolka",
      "photoUrl": "https://lh3.googleusercontent.com/a-/AOh14Gh0CKyoeay8mLB6XmQwmxvRlimyHPiACAnHOQVn=s64",
      "userId": "16990044333464285283"
     },
     "user_tz": 300
    },
    "id": "xiFZFXwY0Qgh",
    "outputId": "11baa980-d10f-4cb1-8ff8-b95beaefea4a"
   },
   "outputs": [
    {
     "data": {
      "text/html": [
       "<table border=\"1\" class=\"dataframe\">\n",
       "  <thead>\n",
       "    <tr style=\"text-align: left;\">\n",
       "      <th>epoch</th>\n",
       "      <th>train_loss</th>\n",
       "      <th>valid_loss</th>\n",
       "      <th>accuracy</th>\n",
       "      <th>time</th>\n",
       "    </tr>\n",
       "  </thead>\n",
       "  <tbody>\n",
       "    <tr>\n",
       "      <td>0</td>\n",
       "      <td>0.525870</td>\n",
       "      <td>0.675621</td>\n",
       "      <td>0.746154</td>\n",
       "      <td>00:01</td>\n",
       "    </tr>\n",
       "    <tr>\n",
       "      <td>1</td>\n",
       "      <td>0.528852</td>\n",
       "      <td>0.671466</td>\n",
       "      <td>0.669231</td>\n",
       "      <td>00:01</td>\n",
       "    </tr>\n",
       "    <tr>\n",
       "      <td>2</td>\n",
       "      <td>0.489752</td>\n",
       "      <td>0.653098</td>\n",
       "      <td>0.753846</td>\n",
       "      <td>00:01</td>\n",
       "    </tr>\n",
       "  </tbody>\n",
       "</table>"
      ],
      "text/plain": [
       "<IPython.core.display.HTML object>"
      ]
     },
     "metadata": {},
     "output_type": "display_data"
    },
    {
     "name": "stdout",
     "output_type": "stream",
     "text": [
      "Better model found at epoch 0 with valid_loss value: 0.6756214499473572.\n",
      "Better model found at epoch 1 with valid_loss value: 0.6714655160903931.\n",
      "Better model found at epoch 2 with valid_loss value: 0.6530976295471191.\n"
     ]
    }
   ],
   "source": [
    "learn.freeze_to(-2)\n",
    "learn.fit_one_cycle(3, slice(1e-2/(2.6**4),1e-2))"
   ]
  },
  {
   "cell_type": "code",
   "execution_count": 98,
   "metadata": {
    "ExecuteTime": {
     "end_time": "2021-01-22T01:25:37.252793Z",
     "start_time": "2021-01-22T01:24:19.162454Z"
    },
    "colab": {
     "base_uri": "https://localhost:8080/",
     "height": 80
    },
    "executionInfo": {
     "elapsed": 71965,
     "status": "ok",
     "timestamp": 1610584018631,
     "user": {
      "displayName": "Jeff Jaskolka",
      "photoUrl": "https://lh3.googleusercontent.com/a-/AOh14Gh0CKyoeay8mLB6XmQwmxvRlimyHPiACAnHOQVn=s64",
      "userId": "16990044333464285283"
     },
     "user_tz": 300
    },
    "id": "rZtHyAN90TB5",
    "outputId": "ab2a7736-08e7-4dd2-a45c-20df1d12b87d"
   },
   "outputs": [
    {
     "data": {
      "text/html": [
       "<table border=\"1\" class=\"dataframe\">\n",
       "  <thead>\n",
       "    <tr style=\"text-align: left;\">\n",
       "      <th>epoch</th>\n",
       "      <th>train_loss</th>\n",
       "      <th>valid_loss</th>\n",
       "      <th>accuracy</th>\n",
       "      <th>time</th>\n",
       "    </tr>\n",
       "  </thead>\n",
       "  <tbody>\n",
       "    <tr>\n",
       "      <td>0</td>\n",
       "      <td>0.433333</td>\n",
       "      <td>0.611109</td>\n",
       "      <td>0.730769</td>\n",
       "      <td>00:02</td>\n",
       "    </tr>\n",
       "    <tr>\n",
       "      <td>1</td>\n",
       "      <td>0.388387</td>\n",
       "      <td>0.589398</td>\n",
       "      <td>0.746154</td>\n",
       "      <td>00:02</td>\n",
       "    </tr>\n",
       "    <tr>\n",
       "      <td>2</td>\n",
       "      <td>0.354524</td>\n",
       "      <td>0.533625</td>\n",
       "      <td>0.723077</td>\n",
       "      <td>00:02</td>\n",
       "    </tr>\n",
       "  </tbody>\n",
       "</table>"
      ],
      "text/plain": [
       "<IPython.core.display.HTML object>"
      ]
     },
     "metadata": {},
     "output_type": "display_data"
    },
    {
     "name": "stdout",
     "output_type": "stream",
     "text": [
      "Better model found at epoch 0 with valid_loss value: 0.61110919713974.\n",
      "Better model found at epoch 1 with valid_loss value: 0.5893978476524353.\n",
      "Better model found at epoch 2 with valid_loss value: 0.5336247086524963.\n"
     ]
    }
   ],
   "source": [
    "learn.freeze_to(-3)\n",
    "learn.fit_one_cycle(3, slice(5e-3/(2.6**4),5e-3))"
   ]
  },
  {
   "cell_type": "code",
   "execution_count": 99,
   "metadata": {
    "ExecuteTime": {
     "end_time": "2021-01-22T01:28:15.873858Z",
     "start_time": "2021-01-22T01:25:37.377538Z"
    },
    "colab": {
     "base_uri": "https://localhost:8080/",
     "height": 80
    },
    "executionInfo": {
     "elapsed": 108325,
     "status": "ok",
     "timestamp": 1610584057951,
     "user": {
      "displayName": "Jeff Jaskolka",
      "photoUrl": "https://lh3.googleusercontent.com/a-/AOh14Gh0CKyoeay8mLB6XmQwmxvRlimyHPiACAnHOQVn=s64",
      "userId": "16990044333464285283"
     },
     "user_tz": 300
    },
    "id": "J_G3a-Nj0W1T",
    "outputId": "d7d4de1b-635e-4f47-dfd2-c692fc1cfdf5"
   },
   "outputs": [
    {
     "data": {
      "text/html": [
       "<table border=\"1\" class=\"dataframe\">\n",
       "  <thead>\n",
       "    <tr style=\"text-align: left;\">\n",
       "      <th>epoch</th>\n",
       "      <th>train_loss</th>\n",
       "      <th>valid_loss</th>\n",
       "      <th>accuracy</th>\n",
       "      <th>time</th>\n",
       "    </tr>\n",
       "  </thead>\n",
       "  <tbody>\n",
       "    <tr>\n",
       "      <td>0</td>\n",
       "      <td>0.293002</td>\n",
       "      <td>0.558371</td>\n",
       "      <td>0.738462</td>\n",
       "      <td>00:02</td>\n",
       "    </tr>\n",
       "    <tr>\n",
       "      <td>1</td>\n",
       "      <td>0.292386</td>\n",
       "      <td>0.628329</td>\n",
       "      <td>0.730769</td>\n",
       "      <td>00:02</td>\n",
       "    </tr>\n",
       "    <tr>\n",
       "      <td>2</td>\n",
       "      <td>0.287407</td>\n",
       "      <td>0.526884</td>\n",
       "      <td>0.761538</td>\n",
       "      <td>00:02</td>\n",
       "    </tr>\n",
       "    <tr>\n",
       "      <td>3</td>\n",
       "      <td>0.284064</td>\n",
       "      <td>0.540231</td>\n",
       "      <td>0.761538</td>\n",
       "      <td>00:02</td>\n",
       "    </tr>\n",
       "    <tr>\n",
       "      <td>4</td>\n",
       "      <td>0.279774</td>\n",
       "      <td>0.537703</td>\n",
       "      <td>0.776923</td>\n",
       "      <td>00:02</td>\n",
       "    </tr>\n",
       "  </tbody>\n",
       "</table>"
      ],
      "text/plain": [
       "<IPython.core.display.HTML object>"
      ]
     },
     "metadata": {},
     "output_type": "display_data"
    },
    {
     "name": "stdout",
     "output_type": "stream",
     "text": [
      "Better model found at epoch 0 with valid_loss value: 0.5583705902099609.\n",
      "Better model found at epoch 2 with valid_loss value: 0.5268840193748474.\n"
     ]
    }
   ],
   "source": [
    "learn.unfreeze()\n",
    "learn.fit_one_cycle(5, slice(1e-3/(2.6**4),1e-3))"
   ]
  },
  {
   "cell_type": "code",
   "execution_count": 100,
   "metadata": {
    "ExecuteTime": {
     "end_time": "2021-01-22T01:28:16.128930Z",
     "start_time": "2021-01-22T01:28:16.003153Z"
    },
    "colab": {
     "base_uri": "https://localhost:8080/",
     "height": 265
    },
    "executionInfo": {
     "elapsed": 104633,
     "status": "ok",
     "timestamp": 1610584058247,
     "user": {
      "displayName": "Jeff Jaskolka",
      "photoUrl": "https://lh3.googleusercontent.com/a-/AOh14Gh0CKyoeay8mLB6XmQwmxvRlimyHPiACAnHOQVn=s64",
      "userId": "16990044333464285283"
     },
     "user_tz": 300
    },
    "id": "VM7PDrtpCpcM",
    "outputId": "1abc313f-6546-40c5-f28e-9c00252a0c65"
   },
   "outputs": [
    {
     "data": {
      "image/png": "[encoded data removed]",
      "text/plain": [
       "<Figure size 432x288 with 1 Axes>"
      ]
     },
     "metadata": {
      "needs_background": "light"
     },
     "output_type": "display_data"
    }
   ],
   "source": [
    "learn.recorder.plot_loss()"
   ]
  },
  {
   "cell_type": "code",
   "execution_count": 101,
   "metadata": {
    "ExecuteTime": {
     "end_time": "2021-01-22T01:28:19.704730Z",
     "start_time": "2021-01-22T01:28:16.303719Z"
    }
   },
   "outputs": [
    {
     "data": {
      "text/html": [],
      "text/plain": [
       "<IPython.core.display.HTML object>"
      ]
     },
     "metadata": {},
     "output_type": "display_data"
    }
   ],
   "source": [
    "preds, targets = learn.get_preds()\n",
    "predictions = np.argmax(preds, axis = 1)"
   ]
  },
  {
   "cell_type": "code",
   "execution_count": 102,
   "metadata": {
    "ExecuteTime": {
     "end_time": "2021-01-22T02:34:40.968276Z",
     "start_time": "2021-01-22T02:34:40.804169Z"
    }
   },
   "outputs": [
    {
     "name": "stdout",
     "output_type": "stream",
     "text": [
      "Metrics Report:\n",
      "---------------\n",
      "weighted f1:  0.7714720972176013\n",
      "AUROC:        0.8501666666666666\n",
      "accuracy:     0.7615384615384615\n",
      "precision:    [0.87912088 0.48717949]\n",
      "recall:       [0.8        0.63333333]\n",
      "sensitivity:  0.48717948717948717\n",
      "specificity:  0.8791208791208791\n",
      "PPV:          0.6333333333333333\n",
      "NPV:          0.8\n",
      "\n"
     ]
    },
    {
     "data": {
      "image/png": "[encoded data removed]",
      "text/plain": [
       "<Figure size 432x288 with 1 Axes>"
      ]
     },
     "metadata": {
      "needs_background": "light"
     },
     "output_type": "display_data"
    }
   ],
   "source": [
    "get_metrics(predictions, preds, targets)"
   ]
  },
  {
   "cell_type": "code",
   "execution_count": 103,
   "metadata": {},
   "outputs": [
    {
     "data": {
      "text/html": [
       "<div>\n",
       "<style scoped>\n",
       "    .dataframe tbody tr th:only-of-type {\n",
       "        vertical-align: middle;\n",
       "    }\n",
       "\n",
       "    .dataframe tbody tr th {\n",
       "        vertical-align: top;\n",
       "    }\n",
       "\n",
       "    .dataframe thead th {\n",
       "        text-align: right;\n",
       "    }\n",
       "</style>\n",
       "<table border=\"1\" class=\"dataframe\">\n",
       "  <thead>\n",
       "    <tr style=\"text-align: right;\">\n",
       "      <th></th>\n",
       "      <th>experiment description</th>\n",
       "      <th>num samples</th>\n",
       "      <th>weighting</th>\n",
       "      <th>f1w</th>\n",
       "      <th>acc</th>\n",
       "      <th>auroc</th>\n",
       "      <th>ppv</th>\n",
       "      <th>sens</th>\n",
       "      <th>batch size</th>\n",
       "    </tr>\n",
       "  </thead>\n",
       "  <tbody>\n",
       "    <tr>\n",
       "      <th>0</th>\n",
       "      <td>thyroid baseline</td>\n",
       "      <td>652</td>\n",
       "      <td>NaN</td>\n",
       "      <td>0.905804</td>\n",
       "      <td>0.907692</td>\n",
       "      <td>0.814766</td>\n",
       "      <td>0.666667</td>\n",
       "      <td>0.736842</td>\n",
       "      <td>64</td>\n",
       "    </tr>\n",
       "    <tr>\n",
       "      <th>1</th>\n",
       "      <td>thyroid baseline</td>\n",
       "      <td>652</td>\n",
       "      <td>NaN</td>\n",
       "      <td>0.842980</td>\n",
       "      <td>0.838462</td>\n",
       "      <td>0.892273</td>\n",
       "      <td>0.550000</td>\n",
       "      <td>0.478261</td>\n",
       "      <td>64</td>\n",
       "    </tr>\n",
       "    <tr>\n",
       "      <th>2</th>\n",
       "      <td>thyroid baseline</td>\n",
       "      <td>652</td>\n",
       "      <td>NaN</td>\n",
       "      <td>0.801190</td>\n",
       "      <td>0.807692</td>\n",
       "      <td>0.783636</td>\n",
       "      <td>0.300000</td>\n",
       "      <td>0.352941</td>\n",
       "      <td>64</td>\n",
       "    </tr>\n",
       "    <tr>\n",
       "      <th>3</th>\n",
       "      <td>thyroid baseline</td>\n",
       "      <td>652</td>\n",
       "      <td>None</td>\n",
       "      <td>0.835404</td>\n",
       "      <td>0.838462</td>\n",
       "      <td>0.834000</td>\n",
       "      <td>0.600000</td>\n",
       "      <td>0.666667</td>\n",
       "      <td>64</td>\n",
       "    </tr>\n",
       "    <tr>\n",
       "      <th>4</th>\n",
       "      <td>thyroid baseline</td>\n",
       "      <td>652</td>\n",
       "      <td>None</td>\n",
       "      <td>0.785400</td>\n",
       "      <td>0.792308</td>\n",
       "      <td>0.836333</td>\n",
       "      <td>0.466667</td>\n",
       "      <td>0.560000</td>\n",
       "      <td>64</td>\n",
       "    </tr>\n",
       "    <tr>\n",
       "      <th>5</th>\n",
       "      <td>thyroid baseline</td>\n",
       "      <td>652</td>\n",
       "      <td>None</td>\n",
       "      <td>0.810601</td>\n",
       "      <td>0.815385</td>\n",
       "      <td>0.839333</td>\n",
       "      <td>0.533333</td>\n",
       "      <td>0.615385</td>\n",
       "      <td>64</td>\n",
       "    </tr>\n",
       "    <tr>\n",
       "      <th>6</th>\n",
       "      <td>thyroid baseline</td>\n",
       "      <td>652</td>\n",
       "      <td>None</td>\n",
       "      <td>0.741985</td>\n",
       "      <td>0.730769</td>\n",
       "      <td>0.807000</td>\n",
       "      <td>0.566667</td>\n",
       "      <td>0.435897</td>\n",
       "      <td>64</td>\n",
       "    </tr>\n",
       "    <tr>\n",
       "      <th>7</th>\n",
       "      <td>label smoothing</td>\n",
       "      <td>652</td>\n",
       "      <td>None</td>\n",
       "      <td>0.771472</td>\n",
       "      <td>0.761538</td>\n",
       "      <td>0.850167</td>\n",
       "      <td>0.633333</td>\n",
       "      <td>0.487179</td>\n",
       "      <td>64</td>\n",
       "    </tr>\n",
       "  </tbody>\n",
       "</table>\n",
       "</div>"
      ],
      "text/plain": [
       "  experiment description  num samples weighting       f1w       acc     auroc  \\\n",
       "0       thyroid baseline          652       NaN  0.905804  0.907692  0.814766   \n",
       "1       thyroid baseline          652       NaN  0.842980  0.838462  0.892273   \n",
       "2       thyroid baseline          652       NaN  0.801190  0.807692  0.783636   \n",
       "3       thyroid baseline          652      None  0.835404  0.838462  0.834000   \n",
       "4       thyroid baseline          652      None  0.785400  0.792308  0.836333   \n",
       "5       thyroid baseline          652      None  0.810601  0.815385  0.839333   \n",
       "6       thyroid baseline          652      None  0.741985  0.730769  0.807000   \n",
       "7        label smoothing          652      None  0.771472  0.761538  0.850167   \n",
       "\n",
       "        ppv      sens  batch size  \n",
       "0  0.666667  0.736842          64  \n",
       "1  0.550000  0.478261          64  \n",
       "2  0.300000  0.352941          64  \n",
       "3  0.600000  0.666667          64  \n",
       "4  0.466667  0.560000          64  \n",
       "5  0.533333  0.615385          64  \n",
       "6  0.566667  0.435897          64  \n",
       "7  0.633333  0.487179          64  "
      ]
     },
     "execution_count": 103,
     "metadata": {},
     "output_type": "execute_result"
    }
   ],
   "source": [
    "results_df"
   ]
  },
  {
   "cell_type": "code",
   "execution_count": 104,
   "metadata": {},
   "outputs": [],
   "source": [
    "wandb.finish()"
   ]
  },
  {
   "cell_type": "markdown",
   "metadata": {},
   "source": [
    "### add weights"
   ]
  },
  {
   "cell_type": "code",
   "execution_count": 28,
   "metadata": {},
   "outputs": [
    {
     "data": {
      "text/plain": [
       "Counter({'1': 533, '>=1': 119})"
      ]
     },
     "execution_count": 28,
     "metadata": {},
     "output_type": "execute_result"
    }
   ],
   "source": [
    "Counter(data.target)"
   ]
  },
  {
   "cell_type": "code",
   "execution_count": 29,
   "metadata": {},
   "outputs": [
    {
     "name": "stdout",
     "output_type": "stream",
     "text": [
      "0.8174846625766872\n",
      "0.18251533742331288\n"
     ]
    }
   ],
   "source": [
    "for num in Counter(data.target).values():  print (num/len(data))"
   ]
  },
  {
   "cell_type": "code",
   "execution_count": 30,
   "metadata": {},
   "outputs": [],
   "source": [
    "desc = 'label smoothing'\n",
    "num_samples = len(data)\n",
    "weights = 0.7,0.3\n",
    "batch_size = 64    #fast.ai default"
   ]
  },
  {
   "cell_type": "code",
   "execution_count": 31,
   "metadata": {},
   "outputs": [],
   "source": [
    "weight = torch.tensor([weights], dtype = torch.float32).cuda()"
   ]
  },
  {
   "cell_type": "code",
   "execution_count": 32,
   "metadata": {},
   "outputs": [],
   "source": [
    "wandb.init(project='thyroid asp', name = 'labell smoothing weighted 3');"
   ]
  },
  {
   "cell_type": "code",
   "execution_count": 33,
   "metadata": {},
   "outputs": [],
   "source": [
    "loss_func = LabelSmoothingCrossEntropyFlat(weight = weight)"
   ]
  },
  {
   "cell_type": "code",
   "execution_count": 34,
   "metadata": {
    "ExecuteTime": {
     "end_time": "2021-01-22T01:22:17.092624Z",
     "start_time": "2021-01-22T01:22:16.840315Z"
    },
    "executionInfo": {
     "elapsed": 27571,
     "status": "ok",
     "timestamp": 1610583929647,
     "user": {
      "displayName": "Jeff Jaskolka",
      "photoUrl": "https://lh3.googleusercontent.com/a-/AOh14Gh0CKyoeay8mLB6XmQwmxvRlimyHPiACAnHOQVn=s64",
      "userId": "16990044333464285283"
     },
     "user_tz": 300
    },
    "id": "WHf_tQoLz5HC"
   },
   "outputs": [],
   "source": [
    "learn = text_classifier_learner(dls_cls, AWD_LSTM, loss_func = loss_func, drop_mult=0.5, metrics=accuracy, cbs=[WandbCallback(), SaveModelCallback(fname = 'thyroid_smooth')]).to_fp16()"
   ]
  },
  {
   "cell_type": "code",
   "execution_count": 35,
   "metadata": {
    "ExecuteTime": {
     "end_time": "2021-01-22T01:22:22.009663Z",
     "start_time": "2021-01-22T01:22:21.931887Z"
    },
    "executionInfo": {
     "elapsed": 26082,
     "status": "ok",
     "timestamp": 1610583929770,
     "user": {
      "displayName": "Jeff Jaskolka",
      "photoUrl": "https://lh3.googleusercontent.com/a-/AOh14Gh0CKyoeay8mLB6XmQwmxvRlimyHPiACAnHOQVn=s64",
      "userId": "16990044333464285283"
     },
     "user_tz": 300
    },
    "id": "Shkfdsn-z-Um"
   },
   "outputs": [],
   "source": [
    "learn.load_encoder(model_path + '/finetuned_enc_fwd');"
   ]
  },
  {
   "cell_type": "code",
   "execution_count": 36,
   "metadata": {},
   "outputs": [
    {
     "data": {
      "text/html": [],
      "text/plain": [
       "<IPython.core.display.HTML object>"
      ]
     },
     "metadata": {},
     "output_type": "display_data"
    },
    {
     "data": {
      "text/plain": [
       "SuggestedLRs(lr_min=0.025118863582611083, lr_steep=0.12022644281387329)"
      ]
     },
     "execution_count": 36,
     "metadata": {},
     "output_type": "execute_result"
    },
    {
     "data": {
      "image/png": "[encoded data removed]",
      "text/plain": [
       "<Figure size 432x288 with 1 Axes>"
      ]
     },
     "metadata": {
      "needs_background": "light"
     },
     "output_type": "display_data"
    }
   ],
   "source": [
    "learn.lr_find()"
   ]
  },
  {
   "cell_type": "code",
   "execution_count": 37,
   "metadata": {
    "ExecuteTime": {
     "end_time": "2021-01-22T01:23:17.017606Z",
     "start_time": "2021-01-22T01:22:22.138022Z"
    },
    "colab": {
     "base_uri": "https://localhost:8080/",
     "height": 80
    },
    "executionInfo": {
     "elapsed": 21276,
     "status": "ok",
     "timestamp": 1610583963490,
     "user": {
      "displayName": "Jeff Jaskolka",
      "photoUrl": "https://lh3.googleusercontent.com/a-/AOh14Gh0CKyoeay8mLB6XmQwmxvRlimyHPiACAnHOQVn=s64",
      "userId": "16990044333464285283"
     },
     "user_tz": 300
    },
    "id": "opF28j9s0HtI",
    "outputId": "2e207575-c9fc-492d-ff28-f333c663ba6e"
   },
   "outputs": [
    {
     "name": "stdout",
     "output_type": "stream",
     "text": [
      "WandbCallback could not log config parameters -> can't convert cuda:0 device type tensor to numpy. Use Tensor.cpu() to copy the tensor to host memory first.\n"
     ]
    },
    {
     "data": {
      "text/html": [
       "<table border=\"1\" class=\"dataframe\">\n",
       "  <thead>\n",
       "    <tr style=\"text-align: left;\">\n",
       "      <th>epoch</th>\n",
       "      <th>train_loss</th>\n",
       "      <th>valid_loss</th>\n",
       "      <th>accuracy</th>\n",
       "      <th>time</th>\n",
       "    </tr>\n",
       "  </thead>\n",
       "  <tbody>\n",
       "    <tr>\n",
       "      <td>0</td>\n",
       "      <td>0.755168</td>\n",
       "      <td>0.520246</td>\n",
       "      <td>0.753846</td>\n",
       "      <td>00:01</td>\n",
       "    </tr>\n",
       "    <tr>\n",
       "      <td>1</td>\n",
       "      <td>0.673825</td>\n",
       "      <td>0.552745</td>\n",
       "      <td>0.738462</td>\n",
       "      <td>00:01</td>\n",
       "    </tr>\n",
       "    <tr>\n",
       "      <td>2</td>\n",
       "      <td>0.617121</td>\n",
       "      <td>0.561238</td>\n",
       "      <td>0.746154</td>\n",
       "      <td>00:01</td>\n",
       "    </tr>\n",
       "  </tbody>\n",
       "</table>"
      ],
      "text/plain": [
       "<IPython.core.display.HTML object>"
      ]
     },
     "metadata": {},
     "output_type": "display_data"
    },
    {
     "name": "stdout",
     "output_type": "stream",
     "text": [
      "Better model found at epoch 0 with valid_loss value: 0.5202462673187256.\n"
     ]
    }
   ],
   "source": [
    "learn.fit_one_cycle(3, 1e-2)"
   ]
  },
  {
   "cell_type": "code",
   "execution_count": 38,
   "metadata": {
    "ExecuteTime": {
     "end_time": "2021-01-22T01:24:19.035374Z",
     "start_time": "2021-01-22T01:23:17.147261Z"
    },
    "colab": {
     "base_uri": "https://localhost:8080/",
     "height": 80
    },
    "executionInfo": {
     "elapsed": 41959,
     "status": "ok",
     "timestamp": 1610583986988,
     "user": {
      "displayName": "Jeff Jaskolka",
      "photoUrl": "https://lh3.googleusercontent.com/a-/AOh14Gh0CKyoeay8mLB6XmQwmxvRlimyHPiACAnHOQVn=s64",
      "userId": "16990044333464285283"
     },
     "user_tz": 300
    },
    "id": "xiFZFXwY0Qgh",
    "outputId": "11baa980-d10f-4cb1-8ff8-b95beaefea4a"
   },
   "outputs": [
    {
     "name": "stdout",
     "output_type": "stream",
     "text": [
      "WandbCallback could not log config parameters -> can't convert cuda:0 device type tensor to numpy. Use Tensor.cpu() to copy the tensor to host memory first.\n"
     ]
    },
    {
     "data": {
      "text/html": [
       "<table border=\"1\" class=\"dataframe\">\n",
       "  <thead>\n",
       "    <tr style=\"text-align: left;\">\n",
       "      <th>epoch</th>\n",
       "      <th>train_loss</th>\n",
       "      <th>valid_loss</th>\n",
       "      <th>accuracy</th>\n",
       "      <th>time</th>\n",
       "    </tr>\n",
       "  </thead>\n",
       "  <tbody>\n",
       "    <tr>\n",
       "      <td>0</td>\n",
       "      <td>0.630739</td>\n",
       "      <td>0.465379</td>\n",
       "      <td>0.761538</td>\n",
       "      <td>00:01</td>\n",
       "    </tr>\n",
       "    <tr>\n",
       "      <td>1</td>\n",
       "      <td>0.575275</td>\n",
       "      <td>0.496284</td>\n",
       "      <td>0.753846</td>\n",
       "      <td>00:01</td>\n",
       "    </tr>\n",
       "    <tr>\n",
       "      <td>2</td>\n",
       "      <td>0.522249</td>\n",
       "      <td>0.471101</td>\n",
       "      <td>0.784615</td>\n",
       "      <td>00:01</td>\n",
       "    </tr>\n",
       "  </tbody>\n",
       "</table>"
      ],
      "text/plain": [
       "<IPython.core.display.HTML object>"
      ]
     },
     "metadata": {},
     "output_type": "display_data"
    },
    {
     "name": "stdout",
     "output_type": "stream",
     "text": [
      "Better model found at epoch 0 with valid_loss value: 0.46537908911705017.\n"
     ]
    }
   ],
   "source": [
    "learn.freeze_to(-2)\n",
    "learn.fit_one_cycle(3, slice(1e-2/(2.6**4),1e-2))"
   ]
  },
  {
   "cell_type": "code",
   "execution_count": 39,
   "metadata": {
    "ExecuteTime": {
     "end_time": "2021-01-22T01:25:37.252793Z",
     "start_time": "2021-01-22T01:24:19.162454Z"
    },
    "colab": {
     "base_uri": "https://localhost:8080/",
     "height": 80
    },
    "executionInfo": {
     "elapsed": 71965,
     "status": "ok",
     "timestamp": 1610584018631,
     "user": {
      "displayName": "Jeff Jaskolka",
      "photoUrl": "https://lh3.googleusercontent.com/a-/AOh14Gh0CKyoeay8mLB6XmQwmxvRlimyHPiACAnHOQVn=s64",
      "userId": "16990044333464285283"
     },
     "user_tz": 300
    },
    "id": "rZtHyAN90TB5",
    "outputId": "ab2a7736-08e7-4dd2-a45c-20df1d12b87d"
   },
   "outputs": [
    {
     "name": "stdout",
     "output_type": "stream",
     "text": [
      "WandbCallback could not log config parameters -> can't convert cuda:0 device type tensor to numpy. Use Tensor.cpu() to copy the tensor to host memory first.\n"
     ]
    },
    {
     "data": {
      "text/html": [
       "<table border=\"1\" class=\"dataframe\">\n",
       "  <thead>\n",
       "    <tr style=\"text-align: left;\">\n",
       "      <th>epoch</th>\n",
       "      <th>train_loss</th>\n",
       "      <th>valid_loss</th>\n",
       "      <th>accuracy</th>\n",
       "      <th>time</th>\n",
       "    </tr>\n",
       "  </thead>\n",
       "  <tbody>\n",
       "    <tr>\n",
       "      <td>0</td>\n",
       "      <td>0.528086</td>\n",
       "      <td>0.544566</td>\n",
       "      <td>0.761538</td>\n",
       "      <td>00:01</td>\n",
       "    </tr>\n",
       "    <tr>\n",
       "      <td>1</td>\n",
       "      <td>0.504603</td>\n",
       "      <td>0.464162</td>\n",
       "      <td>0.823077</td>\n",
       "      <td>00:01</td>\n",
       "    </tr>\n",
       "    <tr>\n",
       "      <td>2</td>\n",
       "      <td>0.460508</td>\n",
       "      <td>0.453084</td>\n",
       "      <td>0.815385</td>\n",
       "      <td>00:01</td>\n",
       "    </tr>\n",
       "  </tbody>\n",
       "</table>"
      ],
      "text/plain": [
       "<IPython.core.display.HTML object>"
      ]
     },
     "metadata": {},
     "output_type": "display_data"
    },
    {
     "name": "stdout",
     "output_type": "stream",
     "text": [
      "Better model found at epoch 0 with valid_loss value: 0.5445661544799805.\n",
      "Better model found at epoch 1 with valid_loss value: 0.46416184306144714.\n",
      "Better model found at epoch 2 with valid_loss value: 0.4530836343765259.\n"
     ]
    }
   ],
   "source": [
    "learn.freeze_to(-3)\n",
    "learn.fit_one_cycle(3, slice(5e-3/(2.6**4),5e-3))"
   ]
  },
  {
   "cell_type": "code",
   "execution_count": 40,
   "metadata": {
    "ExecuteTime": {
     "end_time": "2021-01-22T01:28:15.873858Z",
     "start_time": "2021-01-22T01:25:37.377538Z"
    },
    "colab": {
     "base_uri": "https://localhost:8080/",
     "height": 80
    },
    "executionInfo": {
     "elapsed": 108325,
     "status": "ok",
     "timestamp": 1610584057951,
     "user": {
      "displayName": "Jeff Jaskolka",
      "photoUrl": "https://lh3.googleusercontent.com/a-/AOh14Gh0CKyoeay8mLB6XmQwmxvRlimyHPiACAnHOQVn=s64",
      "userId": "16990044333464285283"
     },
     "user_tz": 300
    },
    "id": "J_G3a-Nj0W1T",
    "outputId": "d7d4de1b-635e-4f47-dfd2-c692fc1cfdf5"
   },
   "outputs": [
    {
     "name": "stdout",
     "output_type": "stream",
     "text": [
      "WandbCallback could not log config parameters -> can't convert cuda:0 device type tensor to numpy. Use Tensor.cpu() to copy the tensor to host memory first.\n"
     ]
    },
    {
     "data": {
      "text/html": [
       "<table border=\"1\" class=\"dataframe\">\n",
       "  <thead>\n",
       "    <tr style=\"text-align: left;\">\n",
       "      <th>epoch</th>\n",
       "      <th>train_loss</th>\n",
       "      <th>valid_loss</th>\n",
       "      <th>accuracy</th>\n",
       "      <th>time</th>\n",
       "    </tr>\n",
       "  </thead>\n",
       "  <tbody>\n",
       "    <tr>\n",
       "      <td>0</td>\n",
       "      <td>0.365776</td>\n",
       "      <td>0.449522</td>\n",
       "      <td>0.830769</td>\n",
       "      <td>00:01</td>\n",
       "    </tr>\n",
       "    <tr>\n",
       "      <td>1</td>\n",
       "      <td>0.358031</td>\n",
       "      <td>0.438172</td>\n",
       "      <td>0.823077</td>\n",
       "      <td>00:01</td>\n",
       "    </tr>\n",
       "    <tr>\n",
       "      <td>2</td>\n",
       "      <td>0.345183</td>\n",
       "      <td>0.460608</td>\n",
       "      <td>0.823077</td>\n",
       "      <td>00:01</td>\n",
       "    </tr>\n",
       "    <tr>\n",
       "      <td>3</td>\n",
       "      <td>0.336463</td>\n",
       "      <td>0.472558</td>\n",
       "      <td>0.815385</td>\n",
       "      <td>00:01</td>\n",
       "    </tr>\n",
       "    <tr>\n",
       "      <td>4</td>\n",
       "      <td>0.329993</td>\n",
       "      <td>0.489044</td>\n",
       "      <td>0.815385</td>\n",
       "      <td>00:01</td>\n",
       "    </tr>\n",
       "  </tbody>\n",
       "</table>"
      ],
      "text/plain": [
       "<IPython.core.display.HTML object>"
      ]
     },
     "metadata": {},
     "output_type": "display_data"
    },
    {
     "name": "stdout",
     "output_type": "stream",
     "text": [
      "Better model found at epoch 0 with valid_loss value: 0.44952189922332764.\n",
      "Better model found at epoch 1 with valid_loss value: 0.4381718635559082.\n"
     ]
    }
   ],
   "source": [
    "learn.unfreeze()\n",
    "learn.fit_one_cycle(5, slice(1e-3/(2.6**4),1e-3))"
   ]
  },
  {
   "cell_type": "code",
   "execution_count": 41,
   "metadata": {
    "ExecuteTime": {
     "end_time": "2021-01-22T01:28:16.128930Z",
     "start_time": "2021-01-22T01:28:16.003153Z"
    },
    "colab": {
     "base_uri": "https://localhost:8080/",
     "height": 265
    },
    "executionInfo": {
     "elapsed": 104633,
     "status": "ok",
     "timestamp": 1610584058247,
     "user": {
      "displayName": "Jeff Jaskolka",
      "photoUrl": "https://lh3.googleusercontent.com/a-/AOh14Gh0CKyoeay8mLB6XmQwmxvRlimyHPiACAnHOQVn=s64",
      "userId": "16990044333464285283"
     },
     "user_tz": 300
    },
    "id": "VM7PDrtpCpcM",
    "outputId": "1abc313f-6546-40c5-f28e-9c00252a0c65"
   },
   "outputs": [
    {
     "data": {
      "image/png": "[encoded data removed]",
      "text/plain": [
       "<Figure size 432x288 with 1 Axes>"
      ]
     },
     "metadata": {
      "needs_background": "light"
     },
     "output_type": "display_data"
    }
   ],
   "source": [
    "learn.recorder.plot_loss()"
   ]
  },
  {
   "cell_type": "code",
   "execution_count": 42,
   "metadata": {
    "ExecuteTime": {
     "end_time": "2021-01-22T01:28:19.704730Z",
     "start_time": "2021-01-22T01:28:16.303719Z"
    }
   },
   "outputs": [
    {
     "data": {
      "text/html": [],
      "text/plain": [
       "<IPython.core.display.HTML object>"
      ]
     },
     "metadata": {},
     "output_type": "display_data"
    }
   ],
   "source": [
    "preds, targets = learn.get_preds()\n",
    "predictions = np.argmax(preds, axis = 1)"
   ]
  },
  {
   "cell_type": "code",
   "execution_count": 43,
   "metadata": {
    "ExecuteTime": {
     "end_time": "2021-01-22T02:34:40.968276Z",
     "start_time": "2021-01-22T02:34:40.804169Z"
    }
   },
   "outputs": [
    {
     "name": "stdout",
     "output_type": "stream",
     "text": [
      "Metrics Report:\n",
      "---------------\n",
      "weighted f1:  0.8112754118946068\n",
      "AUROC:        0.7853333333333333\n",
      "accuracy:     0.823076923076923\n",
      "precision:    [0.85321101 0.66666667]\n",
      "recall:       [0.93       0.46666667]\n",
      "sensitivity:  0.6666666666666666\n",
      "specificity:  0.8532110091743119\n",
      "PPV:          0.4666666666666667\n",
      "NPV:          0.93\n",
      "\n"
     ]
    },
    {
     "data": {
      "image/png": "[encoded data removed]",
      "text/plain": [
       "<Figure size 432x288 with 1 Axes>"
      ]
     },
     "metadata": {
      "needs_background": "light"
     },
     "output_type": "display_data"
    }
   ],
   "source": [
    "get_metrics(predictions, preds, targets)"
   ]
  },
  {
   "cell_type": "code",
   "execution_count": 44,
   "metadata": {},
   "outputs": [
    {
     "data": {
      "text/html": [
       "<div>\n",
       "<style scoped>\n",
       "    .dataframe tbody tr th:only-of-type {\n",
       "        vertical-align: middle;\n",
       "    }\n",
       "\n",
       "    .dataframe tbody tr th {\n",
       "        vertical-align: top;\n",
       "    }\n",
       "\n",
       "    .dataframe thead th {\n",
       "        text-align: right;\n",
       "    }\n",
       "</style>\n",
       "<table border=\"1\" class=\"dataframe\">\n",
       "  <thead>\n",
       "    <tr style=\"text-align: right;\">\n",
       "      <th></th>\n",
       "      <th>experiment description</th>\n",
       "      <th>num samples</th>\n",
       "      <th>weighting</th>\n",
       "      <th>f1w</th>\n",
       "      <th>acc</th>\n",
       "      <th>auroc</th>\n",
       "      <th>ppv</th>\n",
       "      <th>sens</th>\n",
       "      <th>batch size</th>\n",
       "    </tr>\n",
       "  </thead>\n",
       "  <tbody>\n",
       "    <tr>\n",
       "      <th>0</th>\n",
       "      <td>thyroid baseline</td>\n",
       "      <td>652</td>\n",
       "      <td>NaN</td>\n",
       "      <td>0.905804</td>\n",
       "      <td>0.907692</td>\n",
       "      <td>0.814766</td>\n",
       "      <td>0.666667</td>\n",
       "      <td>0.736842</td>\n",
       "      <td>64</td>\n",
       "    </tr>\n",
       "    <tr>\n",
       "      <th>1</th>\n",
       "      <td>thyroid baseline</td>\n",
       "      <td>652</td>\n",
       "      <td>NaN</td>\n",
       "      <td>0.842980</td>\n",
       "      <td>0.838462</td>\n",
       "      <td>0.892273</td>\n",
       "      <td>0.550000</td>\n",
       "      <td>0.478261</td>\n",
       "      <td>64</td>\n",
       "    </tr>\n",
       "    <tr>\n",
       "      <th>2</th>\n",
       "      <td>thyroid baseline</td>\n",
       "      <td>652</td>\n",
       "      <td>NaN</td>\n",
       "      <td>0.801190</td>\n",
       "      <td>0.807692</td>\n",
       "      <td>0.783636</td>\n",
       "      <td>0.300000</td>\n",
       "      <td>0.352941</td>\n",
       "      <td>64</td>\n",
       "    </tr>\n",
       "    <tr>\n",
       "      <th>3</th>\n",
       "      <td>thyroid baseline</td>\n",
       "      <td>652</td>\n",
       "      <td>NaN</td>\n",
       "      <td>0.835404</td>\n",
       "      <td>0.838462</td>\n",
       "      <td>0.834000</td>\n",
       "      <td>0.600000</td>\n",
       "      <td>0.666667</td>\n",
       "      <td>64</td>\n",
       "    </tr>\n",
       "    <tr>\n",
       "      <th>4</th>\n",
       "      <td>thyroid baseline</td>\n",
       "      <td>652</td>\n",
       "      <td>NaN</td>\n",
       "      <td>0.785400</td>\n",
       "      <td>0.792308</td>\n",
       "      <td>0.836333</td>\n",
       "      <td>0.466667</td>\n",
       "      <td>0.560000</td>\n",
       "      <td>64</td>\n",
       "    </tr>\n",
       "    <tr>\n",
       "      <th>5</th>\n",
       "      <td>thyroid baseline</td>\n",
       "      <td>652</td>\n",
       "      <td>NaN</td>\n",
       "      <td>0.810601</td>\n",
       "      <td>0.815385</td>\n",
       "      <td>0.839333</td>\n",
       "      <td>0.533333</td>\n",
       "      <td>0.615385</td>\n",
       "      <td>64</td>\n",
       "    </tr>\n",
       "    <tr>\n",
       "      <th>6</th>\n",
       "      <td>label smoothing</td>\n",
       "      <td>652</td>\n",
       "      <td>(0.7, 0.3)</td>\n",
       "      <td>0.811275</td>\n",
       "      <td>0.823077</td>\n",
       "      <td>0.785333</td>\n",
       "      <td>0.466667</td>\n",
       "      <td>0.666667</td>\n",
       "      <td>64</td>\n",
       "    </tr>\n",
       "  </tbody>\n",
       "</table>\n",
       "</div>"
      ],
      "text/plain": [
       "  experiment description  num samples   weighting       f1w       acc  \\\n",
       "0       thyroid baseline          652         NaN  0.905804  0.907692   \n",
       "1       thyroid baseline          652         NaN  0.842980  0.838462   \n",
       "2       thyroid baseline          652         NaN  0.801190  0.807692   \n",
       "3       thyroid baseline          652         NaN  0.835404  0.838462   \n",
       "4       thyroid baseline          652         NaN  0.785400  0.792308   \n",
       "5       thyroid baseline          652         NaN  0.810601  0.815385   \n",
       "6        label smoothing          652  (0.7, 0.3)  0.811275  0.823077   \n",
       "\n",
       "      auroc       ppv      sens  batch size  \n",
       "0  0.814766  0.666667  0.736842          64  \n",
       "1  0.892273  0.550000  0.478261          64  \n",
       "2  0.783636  0.300000  0.352941          64  \n",
       "3  0.834000  0.600000  0.666667          64  \n",
       "4  0.836333  0.466667  0.560000          64  \n",
       "5  0.839333  0.533333  0.615385          64  \n",
       "6  0.785333  0.466667  0.666667          64  "
      ]
     },
     "execution_count": 44,
     "metadata": {},
     "output_type": "execute_result"
    }
   ],
   "source": [
    "results_df"
   ]
  },
  {
   "cell_type": "code",
   "execution_count": 45,
   "metadata": {},
   "outputs": [],
   "source": [
    "wandb.finish()"
   ]
  },
  {
   "cell_type": "code",
   "execution_count": 76,
   "metadata": {
    "ExecuteTime": {
     "end_time": "2021-01-22T03:47:08.929732Z",
     "start_time": "2021-01-22T03:47:08.589642Z"
    }
   },
   "outputs": [
    {
     "name": "stdout",
     "output_type": "stream",
     "text": [
      "\n",
      "\n",
      "test performance for confidence cutoff of  0.55\n",
      "# of samples removed: 6\n",
      "% of samples removed: 4.62%\n",
      "# of results remaining:  124\n",
      "Metrics Report:\n",
      "---------------\n",
      "weighted f1:  0.8154611294932339\n",
      "AUROC:        0.797459165154265\n",
      "accuracy:     0.8306451612903226\n",
      "precision:    [0.8490566  0.72222222]\n",
      "recall:       [0.94736842 0.44827586]\n",
      "sensitivity:  0.7222222222222222\n",
      "specificity:  0.8490566037735849\n",
      "PPV:          0.4482758620689655\n",
      "NPV:          0.9473684210526315\n",
      "\n"
     ]
    },
    {
     "data": {
      "image/png": "[encoded data removed]",
      "text/plain": [
       "<Figure size 432x288 with 1 Axes>"
      ]
     },
     "metadata": {
      "needs_background": "light"
     },
     "output_type": "display_data"
    },
    {
     "name": "stdout",
     "output_type": "stream",
     "text": [
      "\n",
      "\n",
      "test performance for confidence cutoff of  0.6\n",
      "# of samples removed: 13\n",
      "% of samples removed: 10.00%\n",
      "# of results remaining:  117\n",
      "Metrics Report:\n",
      "---------------\n",
      "weighted f1:  0.8318452380952381\n",
      "AUROC:        0.7950126796280642\n",
      "accuracy:     0.8461538461538461\n",
      "precision:    [0.86138614 0.75      ]\n",
      "recall:       [0.95604396 0.46153846]\n",
      "sensitivity:  0.75\n",
      "specificity:  0.8613861386138614\n",
      "PPV:          0.46153846153846156\n",
      "NPV:          0.9560439560439561\n",
      "\n"
     ]
    },
    {
     "data": {
      "image/png": "[encoded data removed]",
      "text/plain": [
       "<Figure size 432x288 with 1 Axes>"
      ]
     },
     "metadata": {
      "needs_background": "light"
     },
     "output_type": "display_data"
    },
    {
     "name": "stdout",
     "output_type": "stream",
     "text": [
      "\n",
      "\n",
      "test performance for confidence cutoff of  0.65\n",
      "# of samples removed: 17\n",
      "% of samples removed: 13.08%\n",
      "# of results remaining:  113\n",
      "Metrics Report:\n",
      "---------------\n",
      "weighted f1:  0.8417356551527262\n",
      "AUROC:        0.8103448275862069\n",
      "accuracy:     0.8584070796460177\n",
      "precision:    [0.85858586 0.85714286]\n",
      "recall:       [0.97701149 0.46153846]\n",
      "sensitivity:  0.8571428571428571\n",
      "specificity:  0.8585858585858586\n",
      "PPV:          0.46153846153846156\n",
      "NPV:          0.9770114942528736\n",
      "\n"
     ]
    },
    {
     "data": {
      "image/png": "[encoded data removed]",
      "text/plain": [
       "<Figure size 432x288 with 1 Axes>"
      ]
     },
     "metadata": {
      "needs_background": "light"
     },
     "output_type": "display_data"
    },
    {
     "name": "stdout",
     "output_type": "stream",
     "text": [
      "\n",
      "\n",
      "test performance for confidence cutoff of  0.7\n",
      "# of samples removed: 31\n",
      "% of samples removed: 23.85%\n",
      "# of results remaining:  99\n",
      "Metrics Report:\n",
      "---------------\n",
      "weighted f1:  0.8563865955170302\n",
      "AUROC:        0.8398169336384439\n",
      "accuracy:     0.8686868686868687\n",
      "precision:    [0.87058824 0.85714286]\n",
      "recall:       [0.97368421 0.52173913]\n",
      "sensitivity:  0.8571428571428571\n",
      "specificity:  0.8705882352941177\n",
      "PPV:          0.5217391304347826\n",
      "NPV:          0.9736842105263158\n",
      "\n"
     ]
    },
    {
     "data": {
      "image/png": "[encoded data removed]",
      "text/plain": [
       "<Figure size 432x288 with 1 Axes>"
      ]
     },
     "metadata": {
      "needs_background": "light"
     },
     "output_type": "display_data"
    },
    {
     "name": "stdout",
     "output_type": "stream",
     "text": [
      "\n",
      "\n",
      "test performance for confidence cutoff of  0.75\n",
      "# of samples removed: 36\n",
      "% of samples removed: 27.69%\n",
      "# of results remaining:  94\n",
      "Metrics Report:\n",
      "---------------\n",
      "weighted f1:  0.8596563011456628\n",
      "AUROC:        0.8297297297297298\n",
      "accuracy:     0.8723404255319149\n",
      "precision:    [0.87804878 0.83333333]\n",
      "recall:       [0.97297297 0.5       ]\n",
      "sensitivity:  0.8333333333333334\n",
      "specificity:  0.8780487804878049\n",
      "PPV:          0.5\n",
      "NPV:          0.972972972972973\n",
      "\n"
     ]
    },
    {
     "data": {
      "image/png": "[encoded data removed]",
      "text/plain": [
       "<Figure size 432x288 with 1 Axes>"
      ]
     },
     "metadata": {
      "needs_background": "light"
     },
     "output_type": "display_data"
    },
    {
     "name": "stdout",
     "output_type": "stream",
     "text": [
      "\n",
      "\n",
      "test performance for confidence cutoff of  0.8\n",
      "# of samples removed: 44\n",
      "% of samples removed: 33.85%\n",
      "# of results remaining:  86\n",
      "Metrics Report:\n",
      "---------------\n",
      "weighted f1:  0.8597865646783048\n",
      "AUROC:        0.8455882352941176\n",
      "accuracy:     0.872093023255814\n",
      "precision:    [0.88       0.81818182]\n",
      "recall:       [0.97058824 0.5       ]\n",
      "sensitivity:  0.8181818181818182\n",
      "specificity:  0.88\n",
      "PPV:          0.5\n",
      "NPV:          0.9705882352941176\n",
      "\n"
     ]
    },
    {
     "data": {
      "image/png": "[encoded data removed]",
      "text/plain": [
       "<Figure size 432x288 with 1 Axes>"
      ]
     },
     "metadata": {
      "needs_background": "light"
     },
     "output_type": "display_data"
    },
    {
     "name": "stdout",
     "output_type": "stream",
     "text": [
      "\n",
      "\n",
      "test performance for confidence cutoff of  0.85\n",
      "# of samples removed: 63\n",
      "% of samples removed: 48.46%\n",
      "# of results remaining:  67\n",
      "Metrics Report:\n",
      "---------------\n",
      "weighted f1:  0.8865192252603025\n",
      "AUROC:        0.8867924528301887\n",
      "accuracy:     0.8955223880597015\n",
      "precision:    [0.89655172 0.88888889]\n",
      "recall:       [0.98113208 0.57142857]\n",
      "sensitivity:  0.8888888888888888\n",
      "specificity:  0.896551724137931\n",
      "PPV:          0.5714285714285714\n",
      "NPV:          0.9811320754716981\n",
      "\n"
     ]
    },
    {
     "data": {
      "image/png": "[encoded data removed]",
      "text/plain": [
       "<Figure size 432x288 with 1 Axes>"
      ]
     },
     "metadata": {
      "needs_background": "light"
     },
     "output_type": "display_data"
    },
    {
     "name": "stdout",
     "output_type": "stream",
     "text": [
      "\n",
      "\n",
      "test performance for confidence cutoff of  0.9\n",
      "# of samples removed: 94\n",
      "% of samples removed: 72.31%\n",
      "# of results remaining:  36\n",
      "Metrics Report:\n",
      "---------------\n",
      "weighted f1:  0.9444444444444444\n",
      "AUROC:        0.9465020576131687\n",
      "accuracy:     0.9444444444444444\n",
      "precision:    [0.96296296 0.88888889]\n",
      "recall:       [0.96296296 0.88888889]\n",
      "sensitivity:  0.8888888888888888\n",
      "specificity:  0.9629629629629629\n",
      "PPV:          0.8888888888888888\n",
      "NPV:          0.9629629629629629\n",
      "\n"
     ]
    },
    {
     "data": {
      "image/png": "[encoded data removed]",
      "text/plain": [
       "<Figure size 432x288 with 1 Axes>"
      ]
     },
     "metadata": {
      "needs_background": "light"
     },
     "output_type": "display_data"
    }
   ],
   "source": [
    "possible_cutoffs = [0.55, 0.6, 0.65, 0.7, 0.75, 0.8, 0.85, 0.9]\n",
    "for cutoff in possible_cutoffs:\n",
    "    temp_results = [(item,np.argmax(item), targ) for item,targ in zip(preds, targets) if np.max((item[0],item[1])) >= cutoff]\n",
    "    removed_samples = len(preds) - len(temp_results)\n",
    "    print ()\n",
    "    print ('\\ntest performance for confidence cutoff of ',cutoff)\n",
    "    print ('# of samples removed: {}'.format(removed_samples))\n",
    "    print ('% of samples removed: {0:.2f}%'.format(100*removed_samples/len(preds)))\n",
    "    print ('# of results remaining: ', len(temp_results))\n",
    "    temp_probs = torch.vstack([i[0] for i in temp_results])\n",
    "    temp_predictions = torch.vstack([i[1] for i in temp_results])\n",
    "    temp_targets = torch.vstack([i[2] for i in temp_results])\n",
    "    get_metrics(temp_predictions,temp_probs, temp_targets)"
   ]
  },
  {
   "cell_type": "markdown",
   "metadata": {
    "id": "UZltA-7LbJTV"
   },
   "source": [
    "## third pass at classification\n",
    "\n",
    "complex or not"
   ]
  },
  {
   "cell_type": "code",
   "execution_count": 13,
   "metadata": {
    "ExecuteTime": {
     "end_time": "2021-01-27T19:00:41.560967Z",
     "start_time": "2021-01-27T19:00:41.543023Z"
    },
    "executionInfo": {
     "elapsed": 673,
     "status": "ok",
     "timestamp": 1610583895800,
     "user": {
      "displayName": "Jeff Jaskolka",
      "photoUrl": "https://lh3.googleusercontent.com/a-/AOh14Gh0CKyoeay8mLB6XmQwmxvRlimyHPiACAnHOQVn=s64",
      "userId": "16990044333464285283"
     },
     "user_tz": 300
    },
    "id": "BH6Y6_chD45V"
   },
   "outputs": [],
   "source": [
    "with open(model_path + '/lm_vocab_big.pkl', 'rb') as f:\n",
    "    lm_vocab = pickle.load(f)"
   ]
  },
  {
   "cell_type": "code",
   "execution_count": 33,
   "metadata": {
    "ExecuteTime": {
     "end_time": "2021-01-27T19:11:17.598501Z",
     "start_time": "2021-01-27T19:11:17.583548Z"
    }
   },
   "outputs": [],
   "source": [
    "desc = 'complexity training, seq len 512'\n",
    "num_samples = len(data)\n",
    "weights = None\n",
    "batch_size = 32    #fast.ai default"
   ]
  },
  {
   "cell_type": "code",
   "execution_count": 34,
   "metadata": {
    "ExecuteTime": {
     "end_time": "2021-01-27T19:12:03.463479Z",
     "start_time": "2021-01-27T19:11:18.565137Z"
    },
    "colab": {
     "base_uri": "https://localhost:8080/",
     "height": 17
    },
    "executionInfo": {
     "elapsed": 15195,
     "status": "ok",
     "timestamp": 1607114007214,
     "user": {
      "displayName": "Jeff Jaskolka",
      "photoUrl": "https://lh3.googleusercontent.com/a-/AOh14Gh0CKyoeay8mLB6XmQwmxvRlimyHPiACAnHOQVn=s64",
      "userId": "16990044333464285283"
     },
     "user_tz": 300
    },
    "id": "xVUTrNZrbJTV",
    "outputId": "a82c1c43-150e-4987-aa6a-e89471492371"
   },
   "outputs": [
    {
     "data": {
      "text/html": [],
      "text/plain": [
       "<IPython.core.display.HTML object>"
      ]
     },
     "metadata": {},
     "output_type": "display_data"
    },
    {
     "name": "stderr",
     "output_type": "stream",
     "text": [
      "C:\\Users\\jasko\\anaconda3\\lib\\site-packages\\numpy\\core\\_asarray.py:83: VisibleDeprecationWarning: Creating an ndarray from ragged nested sequences (which is a list-or-tuple of lists-or-tuples-or ndarrays with different lengths or shapes) is deprecated. If you meant to do this, you must specify 'dtype=object' when creating the ndarray\n",
      "  return array(a, dtype, copy=False, order=order)\n"
     ]
    }
   ],
   "source": [
    "dls_cls = TextDataLoaders.from_df(data, text_vocab=lm_vocab, text_col = 'Complete Result', label_col = 'complexity', seq_len = 512, bs = batch_size, num_workers = 0)"
   ]
  },
  {
   "cell_type": "code",
   "execution_count": 35,
   "metadata": {
    "ExecuteTime": {
     "end_time": "2021-01-27T19:12:03.794102Z",
     "start_time": "2021-01-27T19:12:03.527816Z"
    },
    "executionInfo": {
     "elapsed": 27571,
     "status": "ok",
     "timestamp": 1610583929647,
     "user": {
      "displayName": "Jeff Jaskolka",
      "photoUrl": "https://lh3.googleusercontent.com/a-/AOh14Gh0CKyoeay8mLB6XmQwmxvRlimyHPiACAnHOQVn=s64",
      "userId": "16990044333464285283"
     },
     "user_tz": 300
    },
    "id": "WHf_tQoLz5HC"
   },
   "outputs": [],
   "source": [
    "learn = text_classifier_learner(dls_cls, AWD_LSTM, drop_mult=0.5, seq_len = 512, metrics=accuracy).to_fp16()"
   ]
  },
  {
   "cell_type": "code",
   "execution_count": 36,
   "metadata": {
    "ExecuteTime": {
     "end_time": "2021-01-27T19:12:03.936691Z",
     "start_time": "2021-01-27T19:12:03.858899Z"
    },
    "executionInfo": {
     "elapsed": 26082,
     "status": "ok",
     "timestamp": 1610583929770,
     "user": {
      "displayName": "Jeff Jaskolka",
      "photoUrl": "https://lh3.googleusercontent.com/a-/AOh14Gh0CKyoeay8mLB6XmQwmxvRlimyHPiACAnHOQVn=s64",
      "userId": "16990044333464285283"
     },
     "user_tz": 300
    },
    "id": "Shkfdsn-z-Um"
   },
   "outputs": [],
   "source": [
    "learn.load_encoder('C:\\\\Users\\\\jasko\\\\Desktop\\\\machine_learning\\\\thyroid_aspiration\\\\models/finetuned_enc_fwd');"
   ]
  },
  {
   "cell_type": "code",
   "execution_count": 37,
   "metadata": {
    "ExecuteTime": {
     "end_time": "2021-01-27T19:12:28.032836Z",
     "start_time": "2021-01-27T19:12:04.019734Z"
    },
    "colab": {
     "base_uri": "https://localhost:8080/",
     "height": 80
    },
    "executionInfo": {
     "elapsed": 21276,
     "status": "ok",
     "timestamp": 1610583963490,
     "user": {
      "displayName": "Jeff Jaskolka",
      "photoUrl": "https://lh3.googleusercontent.com/a-/AOh14Gh0CKyoeay8mLB6XmQwmxvRlimyHPiACAnHOQVn=s64",
      "userId": "16990044333464285283"
     },
     "user_tz": 300
    },
    "id": "opF28j9s0HtI",
    "outputId": "2e207575-c9fc-492d-ff28-f333c663ba6e"
   },
   "outputs": [
    {
     "data": {
      "text/html": [
       "<table border=\"1\" class=\"dataframe\">\n",
       "  <thead>\n",
       "    <tr style=\"text-align: left;\">\n",
       "      <th>epoch</th>\n",
       "      <th>train_loss</th>\n",
       "      <th>valid_loss</th>\n",
       "      <th>accuracy</th>\n",
       "      <th>time</th>\n",
       "    </tr>\n",
       "  </thead>\n",
       "  <tbody>\n",
       "    <tr>\n",
       "      <td>0</td>\n",
       "      <td>0.557579</td>\n",
       "      <td>0.548906</td>\n",
       "      <td>0.839056</td>\n",
       "      <td>00:23</td>\n",
       "    </tr>\n",
       "  </tbody>\n",
       "</table>"
      ],
      "text/plain": [
       "<IPython.core.display.HTML object>"
      ]
     },
     "metadata": {},
     "output_type": "display_data"
    }
   ],
   "source": [
    "learn.fit_one_cycle(1, 1e-2)"
   ]
  },
  {
   "cell_type": "code",
   "execution_count": 38,
   "metadata": {
    "ExecuteTime": {
     "end_time": "2021-01-27T19:12:55.870163Z",
     "start_time": "2021-01-27T19:12:28.093997Z"
    },
    "colab": {
     "base_uri": "https://localhost:8080/",
     "height": 80
    },
    "executionInfo": {
     "elapsed": 41959,
     "status": "ok",
     "timestamp": 1610583986988,
     "user": {
      "displayName": "Jeff Jaskolka",
      "photoUrl": "https://lh3.googleusercontent.com/a-/AOh14Gh0CKyoeay8mLB6XmQwmxvRlimyHPiACAnHOQVn=s64",
      "userId": "16990044333464285283"
     },
     "user_tz": 300
    },
    "id": "xiFZFXwY0Qgh",
    "outputId": "11baa980-d10f-4cb1-8ff8-b95beaefea4a"
   },
   "outputs": [
    {
     "data": {
      "text/html": [
       "<table border=\"1\" class=\"dataframe\">\n",
       "  <thead>\n",
       "    <tr style=\"text-align: left;\">\n",
       "      <th>epoch</th>\n",
       "      <th>train_loss</th>\n",
       "      <th>valid_loss</th>\n",
       "      <th>accuracy</th>\n",
       "      <th>time</th>\n",
       "    </tr>\n",
       "  </thead>\n",
       "  <tbody>\n",
       "    <tr>\n",
       "      <td>0</td>\n",
       "      <td>0.521557</td>\n",
       "      <td>0.546329</td>\n",
       "      <td>0.839056</td>\n",
       "      <td>00:27</td>\n",
       "    </tr>\n",
       "  </tbody>\n",
       "</table>"
      ],
      "text/plain": [
       "<IPython.core.display.HTML object>"
      ]
     },
     "metadata": {},
     "output_type": "display_data"
    }
   ],
   "source": [
    "learn.freeze_to(-2)\n",
    "learn.fit_one_cycle(1, slice(1e-2/(2.6**4),1e-2))"
   ]
  },
  {
   "cell_type": "code",
   "execution_count": 39,
   "metadata": {
    "ExecuteTime": {
     "end_time": "2021-01-27T19:13:31.620124Z",
     "start_time": "2021-01-27T19:12:55.933992Z"
    },
    "colab": {
     "base_uri": "https://localhost:8080/",
     "height": 80
    },
    "executionInfo": {
     "elapsed": 71965,
     "status": "ok",
     "timestamp": 1610584018631,
     "user": {
      "displayName": "Jeff Jaskolka",
      "photoUrl": "https://lh3.googleusercontent.com/a-/AOh14Gh0CKyoeay8mLB6XmQwmxvRlimyHPiACAnHOQVn=s64",
      "userId": "16990044333464285283"
     },
     "user_tz": 300
    },
    "id": "rZtHyAN90TB5",
    "outputId": "ab2a7736-08e7-4dd2-a45c-20df1d12b87d"
   },
   "outputs": [
    {
     "data": {
      "text/html": [
       "<table border=\"1\" class=\"dataframe\">\n",
       "  <thead>\n",
       "    <tr style=\"text-align: left;\">\n",
       "      <th>epoch</th>\n",
       "      <th>train_loss</th>\n",
       "      <th>valid_loss</th>\n",
       "      <th>accuracy</th>\n",
       "      <th>time</th>\n",
       "    </tr>\n",
       "  </thead>\n",
       "  <tbody>\n",
       "    <tr>\n",
       "      <td>0</td>\n",
       "      <td>0.533671</td>\n",
       "      <td>0.538475</td>\n",
       "      <td>0.839056</td>\n",
       "      <td>00:35</td>\n",
       "    </tr>\n",
       "  </tbody>\n",
       "</table>"
      ],
      "text/plain": [
       "<IPython.core.display.HTML object>"
      ]
     },
     "metadata": {},
     "output_type": "display_data"
    }
   ],
   "source": [
    "learn.freeze_to(-3)\n",
    "learn.fit_one_cycle(1, slice(5e-3/(2.6**4),5e-3))"
   ]
  },
  {
   "cell_type": "code",
   "execution_count": 40,
   "metadata": {
    "ExecuteTime": {
     "end_time": "2021-01-27T19:14:57.814836Z",
     "start_time": "2021-01-27T19:13:31.684918Z"
    },
    "colab": {
     "base_uri": "https://localhost:8080/",
     "height": 80
    },
    "executionInfo": {
     "elapsed": 108325,
     "status": "ok",
     "timestamp": 1610584057951,
     "user": {
      "displayName": "Jeff Jaskolka",
      "photoUrl": "https://lh3.googleusercontent.com/a-/AOh14Gh0CKyoeay8mLB6XmQwmxvRlimyHPiACAnHOQVn=s64",
      "userId": "16990044333464285283"
     },
     "user_tz": 300
    },
    "id": "J_G3a-Nj0W1T",
    "outputId": "d7d4de1b-635e-4f47-dfd2-c692fc1cfdf5"
   },
   "outputs": [
    {
     "data": {
      "text/html": [
       "<table border=\"1\" class=\"dataframe\">\n",
       "  <thead>\n",
       "    <tr style=\"text-align: left;\">\n",
       "      <th>epoch</th>\n",
       "      <th>train_loss</th>\n",
       "      <th>valid_loss</th>\n",
       "      <th>accuracy</th>\n",
       "      <th>time</th>\n",
       "    </tr>\n",
       "  </thead>\n",
       "  <tbody>\n",
       "    <tr>\n",
       "      <td>0</td>\n",
       "      <td>0.518600</td>\n",
       "      <td>0.540329</td>\n",
       "      <td>0.839056</td>\n",
       "      <td>00:43</td>\n",
       "    </tr>\n",
       "    <tr>\n",
       "      <td>1</td>\n",
       "      <td>0.519839</td>\n",
       "      <td>0.542735</td>\n",
       "      <td>0.839056</td>\n",
       "      <td>00:43</td>\n",
       "    </tr>\n",
       "  </tbody>\n",
       "</table>"
      ],
      "text/plain": [
       "<IPython.core.display.HTML object>"
      ]
     },
     "metadata": {},
     "output_type": "display_data"
    }
   ],
   "source": [
    "learn.unfreeze()\n",
    "learn.fit_one_cycle(2, slice(1e-3/(2.6**4),1e-3))"
   ]
  },
  {
   "cell_type": "code",
   "execution_count": 41,
   "metadata": {
    "ExecuteTime": {
     "end_time": "2021-01-27T19:14:58.003362Z",
     "start_time": "2021-01-27T19:14:57.877121Z"
    },
    "colab": {
     "base_uri": "https://localhost:8080/",
     "height": 265
    },
    "executionInfo": {
     "elapsed": 104633,
     "status": "ok",
     "timestamp": 1610584058247,
     "user": {
      "displayName": "Jeff Jaskolka",
      "photoUrl": "https://lh3.googleusercontent.com/a-/AOh14Gh0CKyoeay8mLB6XmQwmxvRlimyHPiACAnHOQVn=s64",
      "userId": "16990044333464285283"
     },
     "user_tz": 300
    },
    "id": "VM7PDrtpCpcM",
    "outputId": "1abc313f-6546-40c5-f28e-9c00252a0c65"
   },
   "outputs": [
    {
     "data": {
      "image/png": "[encoded data removed]",
      "text/plain": [
       "<Figure size 432x288 with 1 Axes>"
      ]
     },
     "metadata": {
      "needs_background": "light"
     },
     "output_type": "display_data"
    }
   ],
   "source": [
    "learn.recorder.plot_loss()"
   ]
  },
  {
   "cell_type": "code",
   "execution_count": 42,
   "metadata": {
    "ExecuteTime": {
     "end_time": "2021-01-27T19:15:02.754633Z",
     "start_time": "2021-01-27T19:14:58.068177Z"
    }
   },
   "outputs": [
    {
     "data": {
      "text/html": [],
      "text/plain": [
       "<IPython.core.display.HTML object>"
      ]
     },
     "metadata": {},
     "output_type": "display_data"
    }
   ],
   "source": [
    "preds, targets = learn.get_preds()\n",
    "predictions = np.argmax(preds, axis = 1)"
   ]
  },
  {
   "cell_type": "code",
   "execution_count": 43,
   "metadata": {
    "ExecuteTime": {
     "end_time": "2021-01-27T19:15:02.943129Z",
     "start_time": "2021-01-27T19:15:02.819458Z"
    }
   },
   "outputs": [
    {
     "name": "stdout",
     "output_type": "stream",
     "text": [
      "Metrics Report:\n",
      "---------------\n",
      "weighted f1:  0.7656261737471267\n",
      "AUROC:        0.6060446255879565\n",
      "accuracy:     0.8390557939914163\n",
      "precision:    0.704014625430566\n",
      "recall:       0.8390557939914163\n",
      "Class: 0\n",
      "Accuracy: 0/121\n",
      "\n",
      "Class: 1\n",
      "Accuracy: 1564/1564\n",
      "\n",
      "Class: 2\n",
      "Accuracy: 0/179\n",
      "\n"
     ]
    },
    {
     "name": "stderr",
     "output_type": "stream",
     "text": [
      "C:\\Users\\jasko\\anaconda3\\lib\\site-packages\\sklearn\\metrics\\_classification.py:1221: UndefinedMetricWarning: Precision is ill-defined and being set to 0.0 in labels with no predicted samples. Use `zero_division` parameter to control this behavior.\n",
      "  _warn_prf(average, modifier, msg_start, len(result))\n"
     ]
    },
    {
     "data": {
      "image/png": "[encoded data removed]",
      "text/plain": [
       "<Figure size 432x288 with 1 Axes>"
      ]
     },
     "metadata": {
      "needs_background": "light"
     },
     "output_type": "display_data"
    }
   ],
   "source": [
    "get_metrics_multi(preds, predictions, targets)"
   ]
  },
  {
   "cell_type": "code",
   "execution_count": 44,
   "metadata": {
    "ExecuteTime": {
     "end_time": "2021-01-27T19:15:03.022777Z",
     "start_time": "2021-01-27T19:15:03.008037Z"
    }
   },
   "outputs": [
    {
     "data": {
      "text/html": [
       "<div>\n",
       "<style scoped>\n",
       "    .dataframe tbody tr th:only-of-type {\n",
       "        vertical-align: middle;\n",
       "    }\n",
       "\n",
       "    .dataframe tbody tr th {\n",
       "        vertical-align: top;\n",
       "    }\n",
       "\n",
       "    .dataframe thead th {\n",
       "        text-align: right;\n",
       "    }\n",
       "</style>\n",
       "<table border=\"1\" class=\"dataframe\">\n",
       "  <thead>\n",
       "    <tr style=\"text-align: right;\">\n",
       "      <th></th>\n",
       "      <th>experiment description</th>\n",
       "      <th>num samples</th>\n",
       "      <th>weighting</th>\n",
       "      <th>f1w</th>\n",
       "      <th>acc</th>\n",
       "      <th>auroc</th>\n",
       "      <th>ppv</th>\n",
       "      <th>sens</th>\n",
       "      <th>batch size</th>\n",
       "    </tr>\n",
       "  </thead>\n",
       "  <tbody>\n",
       "    <tr>\n",
       "      <th>0</th>\n",
       "      <td>baseline</td>\n",
       "      <td>9323</td>\n",
       "      <td>NaN</td>\n",
       "      <td>0.974544</td>\n",
       "      <td>0.974964</td>\n",
       "      <td>0.9544127574471734</td>\n",
       "      <td>0.975150</td>\n",
       "      <td>0.974964</td>\n",
       "      <td>64</td>\n",
       "    </tr>\n",
       "    <tr>\n",
       "      <th>1</th>\n",
       "      <td>larger batch</td>\n",
       "      <td>9323</td>\n",
       "      <td>NaN</td>\n",
       "      <td>0.975863</td>\n",
       "      <td>0.976395</td>\n",
       "      <td>0.9544127574471734</td>\n",
       "      <td>0.975472</td>\n",
       "      <td>0.976395</td>\n",
       "      <td>64</td>\n",
       "    </tr>\n",
       "    <tr>\n",
       "      <th>2</th>\n",
       "      <td>more epochs</td>\n",
       "      <td>9323</td>\n",
       "      <td>NaN</td>\n",
       "      <td>0.983810</td>\n",
       "      <td>0.984263</td>\n",
       "      <td>0.9544127574471734</td>\n",
       "      <td>0.983923</td>\n",
       "      <td>0.984263</td>\n",
       "      <td>64</td>\n",
       "    </tr>\n",
       "    <tr>\n",
       "      <th>3</th>\n",
       "      <td>more epochs (3/5)</td>\n",
       "      <td>9323</td>\n",
       "      <td>NaN</td>\n",
       "      <td>0.987229</td>\n",
       "      <td>0.987124</td>\n",
       "      <td>0.997327640877446</td>\n",
       "      <td>0.987416</td>\n",
       "      <td>0.987124</td>\n",
       "      <td>64</td>\n",
       "    </tr>\n",
       "    <tr>\n",
       "      <th>4</th>\n",
       "      <td>unstructured valid set</td>\n",
       "      <td>9323</td>\n",
       "      <td>NaN</td>\n",
       "      <td>0.978190</td>\n",
       "      <td>0.977500</td>\n",
       "      <td>can not calculate auroc</td>\n",
       "      <td>0.979587</td>\n",
       "      <td>0.977500</td>\n",
       "      <td>64</td>\n",
       "    </tr>\n",
       "    <tr>\n",
       "      <th>5</th>\n",
       "      <td>part_formatted valid set</td>\n",
       "      <td>9323</td>\n",
       "      <td>NaN</td>\n",
       "      <td>0.995994</td>\n",
       "      <td>0.996000</td>\n",
       "      <td>can not calculate auroc</td>\n",
       "      <td>0.996097</td>\n",
       "      <td>0.996000</td>\n",
       "      <td>64</td>\n",
       "    </tr>\n",
       "    <tr>\n",
       "      <th>6</th>\n",
       "      <td>backwards</td>\n",
       "      <td>9323</td>\n",
       "      <td>NaN</td>\n",
       "      <td>0.977716</td>\n",
       "      <td>0.978541</td>\n",
       "      <td>0.9406059492769087</td>\n",
       "      <td>0.976908</td>\n",
       "      <td>0.978541</td>\n",
       "      <td>64</td>\n",
       "    </tr>\n",
       "    <tr>\n",
       "      <th>7</th>\n",
       "      <td>ensembling combined</td>\n",
       "      <td>9323</td>\n",
       "      <td>NaN</td>\n",
       "      <td>0.988369</td>\n",
       "      <td>0.988915</td>\n",
       "      <td>0.9738505839541627</td>\n",
       "      <td>0.987901</td>\n",
       "      <td>0.988915</td>\n",
       "      <td>64</td>\n",
       "    </tr>\n",
       "    <tr>\n",
       "      <th>8</th>\n",
       "      <td>ensembling bwd</td>\n",
       "      <td>9323</td>\n",
       "      <td>NaN</td>\n",
       "      <td>0.986063</td>\n",
       "      <td>0.986581</td>\n",
       "      <td>0.973554565853024</td>\n",
       "      <td>0.985622</td>\n",
       "      <td>0.986581</td>\n",
       "      <td>64</td>\n",
       "    </tr>\n",
       "    <tr>\n",
       "      <th>9</th>\n",
       "      <td>ensembling fwd</td>\n",
       "      <td>9323</td>\n",
       "      <td>NaN</td>\n",
       "      <td>0.988358</td>\n",
       "      <td>0.988915</td>\n",
       "      <td>0.979112918218776</td>\n",
       "      <td>0.987872</td>\n",
       "      <td>0.988915</td>\n",
       "      <td>64</td>\n",
       "    </tr>\n",
       "    <tr>\n",
       "      <th>10</th>\n",
       "      <td>complexity training, even longer seq len</td>\n",
       "      <td>9323</td>\n",
       "      <td>None</td>\n",
       "      <td>0.775466</td>\n",
       "      <td>0.846030</td>\n",
       "      <td>0.604689</td>\n",
       "      <td>0.715767</td>\n",
       "      <td>0.846030</td>\n",
       "      <td>32</td>\n",
       "    </tr>\n",
       "    <tr>\n",
       "      <th>11</th>\n",
       "      <td>complexity training, seq len 512</td>\n",
       "      <td>9323</td>\n",
       "      <td>None</td>\n",
       "      <td>0.765626</td>\n",
       "      <td>0.839056</td>\n",
       "      <td>0.606045</td>\n",
       "      <td>0.704015</td>\n",
       "      <td>0.839056</td>\n",
       "      <td>32</td>\n",
       "    </tr>\n",
       "  </tbody>\n",
       "</table>\n",
       "</div>"
      ],
      "text/plain": [
       "                      experiment description  num samples weighting       f1w  \\\n",
       "0                                   baseline         9323       NaN  0.974544   \n",
       "1                               larger batch         9323       NaN  0.975863   \n",
       "2                                more epochs         9323       NaN  0.983810   \n",
       "3                          more epochs (3/5)         9323       NaN  0.987229   \n",
       "4                     unstructured valid set         9323       NaN  0.978190   \n",
       "5                   part_formatted valid set         9323       NaN  0.995994   \n",
       "6                                  backwards         9323       NaN  0.977716   \n",
       "7                        ensembling combined         9323       NaN  0.988369   \n",
       "8                             ensembling bwd         9323       NaN  0.986063   \n",
       "9                             ensembling fwd         9323       NaN  0.988358   \n",
       "10  complexity training, even longer seq len         9323      None  0.775466   \n",
       "11          complexity training, seq len 512         9323      None  0.765626   \n",
       "\n",
       "         acc                    auroc       ppv      sens  batch size  \n",
       "0   0.974964       0.9544127574471734  0.975150  0.974964          64  \n",
       "1   0.976395       0.9544127574471734  0.975472  0.976395          64  \n",
       "2   0.984263       0.9544127574471734  0.983923  0.984263          64  \n",
       "3   0.987124        0.997327640877446  0.987416  0.987124          64  \n",
       "4   0.977500  can not calculate auroc  0.979587  0.977500          64  \n",
       "5   0.996000  can not calculate auroc  0.996097  0.996000          64  \n",
       "6   0.978541       0.9406059492769087  0.976908  0.978541          64  \n",
       "7   0.988915       0.9738505839541627  0.987901  0.988915          64  \n",
       "8   0.986581        0.973554565853024  0.985622  0.986581          64  \n",
       "9   0.988915        0.979112918218776  0.987872  0.988915          64  \n",
       "10  0.846030                 0.604689  0.715767  0.846030          32  \n",
       "11  0.839056                 0.606045  0.704015  0.839056          32  "
      ]
     },
     "execution_count": 44,
     "metadata": {},
     "output_type": "execute_result"
    }
   ],
   "source": [
    "results_df"
   ]
  },
  {
   "cell_type": "code",
   "execution_count": 29,
   "metadata": {
    "ExecuteTime": {
     "end_time": "2021-01-22T01:14:42.737530Z",
     "start_time": "2021-01-22T01:14:42.470686Z"
    }
   },
   "outputs": [],
   "source": [
    "learn.export(model_path + '/complexity_baseline_fwd.pkl')"
   ]
  },
  {
   "cell_type": "markdown",
   "metadata": {
    "id": "2c1T9BYPMib_"
   },
   "source": [
    "#### brute force complexity assessment"
   ]
  },
  {
   "cell_type": "code",
   "execution_count": 6,
   "metadata": {
    "ExecuteTime": {
     "end_time": "2021-01-27T18:49:22.540458Z",
     "start_time": "2021-01-27T18:49:22.524514Z"
    },
    "id": "rEWNrfIiTVFG"
   },
   "outputs": [
    {
     "data": {
      "text/plain": [
       "Index(['Exam', 'Date', 'Recall/Rebook', 'Other Comment', 'Exam Result',\n",
       "       'Complete Result', 'lr num', 'needs f/u', 'labels', 'complexity',\n",
       "       'f/u in idoc', 'Recall/Rebook 2', 'Combined Recall/Rebook',\n",
       "       'needed screening f/u in idoc', 'proper followup triggered',\n",
       "       'maybe proper followup triggered', 'is_valid_unformatted',\n",
       "       'is_valid_part_formatted', 'is_valid_formatted', 'is_valid'],\n",
       "      dtype='object')"
      ]
     },
     "execution_count": 6,
     "metadata": {},
     "output_type": "execute_result"
    }
   ],
   "source": [
    "data.columns"
   ]
  },
  {
   "cell_type": "code",
   "execution_count": 7,
   "metadata": {
    "ExecuteTime": {
     "end_time": "2021-01-27T18:49:34.040415Z",
     "start_time": "2021-01-27T18:49:34.023494Z"
    }
   },
   "outputs": [
    {
     "data": {
      "text/plain": [
       "Counter({'structured': 7855, 'problem/manual': 559, 'unstructured': 909})"
      ]
     },
     "execution_count": 7,
     "metadata": {},
     "output_type": "execute_result"
    }
   ],
   "source": [
    "Counter(data.complexity)"
   ]
  },
  {
   "cell_type": "code",
   "execution_count": 11,
   "metadata": {
    "ExecuteTime": {
     "end_time": "2021-01-27T18:57:56.645288Z",
     "start_time": "2021-01-27T18:57:56.598936Z"
    }
   },
   "outputs": [],
   "source": [
    "def determine_complexity(s):\n",
    "    # a little pre-processing\n",
    "    s  = s.replace('BI-RADS', 'lung-rads')  # to deal with some typos I found\n",
    "    s = s.replace('L-RADS', 'lung-rads')  # to deal with some typos I found\n",
    "    s = s.lower()\n",
    "    \n",
    "    pattern = 'lung[- ]rads[\\:]*[\\s]*'\n",
    "    if not re.search(pattern, s):\n",
    "        return 'problem/manual'\n",
    "    else:\n",
    "        return 'other'\n",
    "\n",
    "data['complexity analysis'] = data['Complete Result'].map(determine_complexity)"
   ]
  },
  {
   "cell_type": "code",
   "execution_count": 12,
   "metadata": {
    "ExecuteTime": {
     "end_time": "2021-01-27T18:57:57.918832Z",
     "start_time": "2021-01-27T18:57:57.906856Z"
    }
   },
   "outputs": [
    {
     "data": {
      "text/plain": [
       "Counter({'other': 8861, 'problem/manual': 462})"
      ]
     },
     "execution_count": 12,
     "metadata": {},
     "output_type": "execute_result"
    }
   ],
   "source": [
    "Counter(data['complexity analysis'])"
   ]
  },
  {
   "cell_type": "markdown",
   "metadata": {},
   "source": [
    "## fwd bwd ensembling"
   ]
  },
  {
   "cell_type": "markdown",
   "metadata": {},
   "source": [
    "#### forward"
   ]
  },
  {
   "cell_type": "code",
   "execution_count": 73,
   "metadata": {
    "ExecuteTime": {
     "end_time": "2021-01-22T01:21:28.875530Z",
     "start_time": "2021-01-22T01:21:28.871530Z"
    }
   },
   "outputs": [],
   "source": [
    "desc = 'thyroid baseline'\n",
    "num_samples = len(data)\n",
    "weights = None\n",
    "batch_size = 64    #fast.ai default"
   ]
  },
  {
   "cell_type": "code",
   "execution_count": 74,
   "metadata": {
    "ExecuteTime": {
     "end_time": "2021-01-22T01:21:30.821320Z",
     "start_time": "2021-01-22T01:21:30.815336Z"
    },
    "executionInfo": {
     "elapsed": 673,
     "status": "ok",
     "timestamp": 1610583895800,
     "user": {
      "displayName": "Jeff Jaskolka",
      "photoUrl": "https://lh3.googleusercontent.com/a-/AOh14Gh0CKyoeay8mLB6XmQwmxvRlimyHPiACAnHOQVn=s64",
      "userId": "16990044333464285283"
     },
     "user_tz": 300
    },
    "id": "BH6Y6_chD45V"
   },
   "outputs": [],
   "source": [
    "with open(model_path + '/lm_vocab.pkl', 'rb') as f:\n",
    "    lm_vocab = pickle.load(f)"
   ]
  },
  {
   "cell_type": "code",
   "execution_count": 75,
   "metadata": {
    "ExecuteTime": {
     "end_time": "2021-01-22T01:22:16.714571Z",
     "start_time": "2021-01-22T01:21:31.324006Z"
    },
    "colab": {
     "base_uri": "https://localhost:8080/",
     "height": 71
    },
    "executionInfo": {
     "elapsed": 31776,
     "status": "ok",
     "timestamp": 1610583929288,
     "user": {
      "displayName": "Jeff Jaskolka",
      "photoUrl": "https://lh3.googleusercontent.com/a-/AOh14Gh0CKyoeay8mLB6XmQwmxvRlimyHPiACAnHOQVn=s64",
      "userId": "16990044333464285283"
     },
     "user_tz": 300
    },
    "id": "OjiZe595xkqp",
    "outputId": "62006530-d615-4371-e77d-d9ce4aacbc58"
   },
   "outputs": [
    {
     "data": {
      "text/html": [],
      "text/plain": [
       "<IPython.core.display.HTML object>"
      ]
     },
     "metadata": {},
     "output_type": "display_data"
    },
    {
     "name": "stderr",
     "output_type": "stream",
     "text": [
      "C:\\Users\\jasko\\anaconda3\\lib\\site-packages\\numpy\\core\\_asarray.py:83: VisibleDeprecationWarning: Creating an ndarray from ragged nested sequences (which is a list-or-tuple of lists-or-tuples-or ndarrays with different lengths or shapes) is deprecated. If you meant to do this, you must specify 'dtype=object' when creating the ndarray\n",
      "  return array(a, dtype, copy=False, order=order)\n"
     ]
    }
   ],
   "source": [
    "dls_cls = TextDataLoaders.from_df(ltd_data, text_col = 'Exam Result', label_col = 'target', seed = 42, text_vocab = lm_vocab, num_workers = 0)"
   ]
  },
  {
   "cell_type": "code",
   "execution_count": 76,
   "metadata": {},
   "outputs": [],
   "source": [
    "wandb.init(project='thyroid asp', name = 'baseline');"
   ]
  },
  {
   "cell_type": "code",
   "execution_count": 77,
   "metadata": {
    "ExecuteTime": {
     "end_time": "2021-01-22T01:22:17.092624Z",
     "start_time": "2021-01-22T01:22:16.840315Z"
    },
    "executionInfo": {
     "elapsed": 27571,
     "status": "ok",
     "timestamp": 1610583929647,
     "user": {
      "displayName": "Jeff Jaskolka",
      "photoUrl": "https://lh3.googleusercontent.com/a-/AOh14Gh0CKyoeay8mLB6XmQwmxvRlimyHPiACAnHOQVn=s64",
      "userId": "16990044333464285283"
     },
     "user_tz": 300
    },
    "id": "WHf_tQoLz5HC"
   },
   "outputs": [],
   "source": [
    "learn = text_classifier_learner(dls_cls, AWD_LSTM, drop_mult=0.5, metrics=accuracy, cbs=[WandbCallback(), SaveModelCallback(fname = 'thyroid')]).to_fp16()"
   ]
  },
  {
   "cell_type": "code",
   "execution_count": 78,
   "metadata": {
    "ExecuteTime": {
     "end_time": "2021-01-22T01:22:22.009663Z",
     "start_time": "2021-01-22T01:22:21.931887Z"
    },
    "executionInfo": {
     "elapsed": 26082,
     "status": "ok",
     "timestamp": 1610583929770,
     "user": {
      "displayName": "Jeff Jaskolka",
      "photoUrl": "https://lh3.googleusercontent.com/a-/AOh14Gh0CKyoeay8mLB6XmQwmxvRlimyHPiACAnHOQVn=s64",
      "userId": "16990044333464285283"
     },
     "user_tz": 300
    },
    "id": "Shkfdsn-z-Um"
   },
   "outputs": [],
   "source": [
    "learn.load_encoder(model_path + '/finetuned_enc_fwd');"
   ]
  },
  {
   "cell_type": "code",
   "execution_count": 79,
   "metadata": {},
   "outputs": [
    {
     "data": {
      "text/html": [],
      "text/plain": [
       "<IPython.core.display.HTML object>"
      ]
     },
     "metadata": {},
     "output_type": "display_data"
    },
    {
     "data": {
      "text/plain": [
       "SuggestedLRs(lr_min=0.05248074531555176, lr_steep=0.14454397559165955)"
      ]
     },
     "execution_count": 79,
     "metadata": {},
     "output_type": "execute_result"
    },
    {
     "data": {
      "image/png": "[encoded data removed]",
      "text/plain": [
       "<Figure size 432x288 with 1 Axes>"
      ]
     },
     "metadata": {
      "needs_background": "light"
     },
     "output_type": "display_data"
    }
   ],
   "source": [
    "learn.lr_find()"
   ]
  },
  {
   "cell_type": "code",
   "execution_count": 80,
   "metadata": {
    "ExecuteTime": {
     "end_time": "2021-01-22T01:23:17.017606Z",
     "start_time": "2021-01-22T01:22:22.138022Z"
    },
    "colab": {
     "base_uri": "https://localhost:8080/",
     "height": 80
    },
    "executionInfo": {
     "elapsed": 21276,
     "status": "ok",
     "timestamp": 1610583963490,
     "user": {
      "displayName": "Jeff Jaskolka",
      "photoUrl": "https://lh3.googleusercontent.com/a-/AOh14Gh0CKyoeay8mLB6XmQwmxvRlimyHPiACAnHOQVn=s64",
      "userId": "16990044333464285283"
     },
     "user_tz": 300
    },
    "id": "opF28j9s0HtI",
    "outputId": "2e207575-c9fc-492d-ff28-f333c663ba6e"
   },
   "outputs": [
    {
     "data": {
      "text/html": [
       "<table border=\"1\" class=\"dataframe\">\n",
       "  <thead>\n",
       "    <tr style=\"text-align: left;\">\n",
       "      <th>epoch</th>\n",
       "      <th>train_loss</th>\n",
       "      <th>valid_loss</th>\n",
       "      <th>accuracy</th>\n",
       "      <th>time</th>\n",
       "    </tr>\n",
       "  </thead>\n",
       "  <tbody>\n",
       "    <tr>\n",
       "      <td>0</td>\n",
       "      <td>0.735494</td>\n",
       "      <td>0.703933</td>\n",
       "      <td>0.523077</td>\n",
       "      <td>00:01</td>\n",
       "    </tr>\n",
       "    <tr>\n",
       "      <td>1</td>\n",
       "      <td>0.653137</td>\n",
       "      <td>0.548239</td>\n",
       "      <td>0.776923</td>\n",
       "      <td>00:01</td>\n",
       "    </tr>\n",
       "    <tr>\n",
       "      <td>2</td>\n",
       "      <td>0.591443</td>\n",
       "      <td>0.570084</td>\n",
       "      <td>0.815385</td>\n",
       "      <td>00:01</td>\n",
       "    </tr>\n",
       "  </tbody>\n",
       "</table>"
      ],
      "text/plain": [
       "<IPython.core.display.HTML object>"
      ]
     },
     "metadata": {},
     "output_type": "display_data"
    },
    {
     "name": "stdout",
     "output_type": "stream",
     "text": [
      "Better model found at epoch 0 with valid_loss value: 0.7039328217506409.\n",
      "Better model found at epoch 1 with valid_loss value: 0.5482387542724609.\n"
     ]
    }
   ],
   "source": [
    "learn.fit_one_cycle(3, 1e-2)"
   ]
  },
  {
   "cell_type": "code",
   "execution_count": 81,
   "metadata": {
    "ExecuteTime": {
     "end_time": "2021-01-22T01:24:19.035374Z",
     "start_time": "2021-01-22T01:23:17.147261Z"
    },
    "colab": {
     "base_uri": "https://localhost:8080/",
     "height": 80
    },
    "executionInfo": {
     "elapsed": 41959,
     "status": "ok",
     "timestamp": 1610583986988,
     "user": {
      "displayName": "Jeff Jaskolka",
      "photoUrl": "https://lh3.googleusercontent.com/a-/AOh14Gh0CKyoeay8mLB6XmQwmxvRlimyHPiACAnHOQVn=s64",
      "userId": "16990044333464285283"
     },
     "user_tz": 300
    },
    "id": "xiFZFXwY0Qgh",
    "outputId": "11baa980-d10f-4cb1-8ff8-b95beaefea4a"
   },
   "outputs": [
    {
     "data": {
      "text/html": [
       "<table border=\"1\" class=\"dataframe\">\n",
       "  <thead>\n",
       "    <tr style=\"text-align: left;\">\n",
       "      <th>epoch</th>\n",
       "      <th>train_loss</th>\n",
       "      <th>valid_loss</th>\n",
       "      <th>accuracy</th>\n",
       "      <th>time</th>\n",
       "    </tr>\n",
       "  </thead>\n",
       "  <tbody>\n",
       "    <tr>\n",
       "      <td>0</td>\n",
       "      <td>0.504840</td>\n",
       "      <td>0.563672</td>\n",
       "      <td>0.746154</td>\n",
       "      <td>00:01</td>\n",
       "    </tr>\n",
       "    <tr>\n",
       "      <td>1</td>\n",
       "      <td>0.482525</td>\n",
       "      <td>0.549951</td>\n",
       "      <td>0.792308</td>\n",
       "      <td>00:01</td>\n",
       "    </tr>\n",
       "    <tr>\n",
       "      <td>2</td>\n",
       "      <td>0.433926</td>\n",
       "      <td>0.576698</td>\n",
       "      <td>0.669231</td>\n",
       "      <td>00:01</td>\n",
       "    </tr>\n",
       "  </tbody>\n",
       "</table>"
      ],
      "text/plain": [
       "<IPython.core.display.HTML object>"
      ]
     },
     "metadata": {},
     "output_type": "display_data"
    },
    {
     "name": "stdout",
     "output_type": "stream",
     "text": [
      "Better model found at epoch 0 with valid_loss value: 0.5636721253395081.\n",
      "Better model found at epoch 1 with valid_loss value: 0.549950897693634.\n"
     ]
    }
   ],
   "source": [
    "learn.freeze_to(-2)\n",
    "learn.fit_one_cycle(3, slice(1e-2/(2.6**4),1e-2))"
   ]
  },
  {
   "cell_type": "code",
   "execution_count": 82,
   "metadata": {
    "ExecuteTime": {
     "end_time": "2021-01-22T01:25:37.252793Z",
     "start_time": "2021-01-22T01:24:19.162454Z"
    },
    "colab": {
     "base_uri": "https://localhost:8080/",
     "height": 80
    },
    "executionInfo": {
     "elapsed": 71965,
     "status": "ok",
     "timestamp": 1610584018631,
     "user": {
      "displayName": "Jeff Jaskolka",
      "photoUrl": "https://lh3.googleusercontent.com/a-/AOh14Gh0CKyoeay8mLB6XmQwmxvRlimyHPiACAnHOQVn=s64",
      "userId": "16990044333464285283"
     },
     "user_tz": 300
    },
    "id": "rZtHyAN90TB5",
    "outputId": "ab2a7736-08e7-4dd2-a45c-20df1d12b87d"
   },
   "outputs": [
    {
     "data": {
      "text/html": [
       "<table border=\"1\" class=\"dataframe\">\n",
       "  <thead>\n",
       "    <tr style=\"text-align: left;\">\n",
       "      <th>epoch</th>\n",
       "      <th>train_loss</th>\n",
       "      <th>valid_loss</th>\n",
       "      <th>accuracy</th>\n",
       "      <th>time</th>\n",
       "    </tr>\n",
       "  </thead>\n",
       "  <tbody>\n",
       "    <tr>\n",
       "      <td>0</td>\n",
       "      <td>0.332696</td>\n",
       "      <td>0.811587</td>\n",
       "      <td>0.630769</td>\n",
       "      <td>00:02</td>\n",
       "    </tr>\n",
       "    <tr>\n",
       "      <td>1</td>\n",
       "      <td>0.334162</td>\n",
       "      <td>0.538020</td>\n",
       "      <td>0.715385</td>\n",
       "      <td>00:02</td>\n",
       "    </tr>\n",
       "    <tr>\n",
       "      <td>2</td>\n",
       "      <td>0.288639</td>\n",
       "      <td>0.539831</td>\n",
       "      <td>0.715385</td>\n",
       "      <td>00:02</td>\n",
       "    </tr>\n",
       "  </tbody>\n",
       "</table>"
      ],
      "text/plain": [
       "<IPython.core.display.HTML object>"
      ]
     },
     "metadata": {},
     "output_type": "display_data"
    },
    {
     "name": "stdout",
     "output_type": "stream",
     "text": [
      "Better model found at epoch 0 with valid_loss value: 0.8115865588188171.\n",
      "Better model found at epoch 1 with valid_loss value: 0.5380204916000366.\n"
     ]
    }
   ],
   "source": [
    "learn.freeze_to(-3)\n",
    "learn.fit_one_cycle(3, slice(5e-3/(2.6**4),5e-3))"
   ]
  },
  {
   "cell_type": "code",
   "execution_count": 83,
   "metadata": {
    "ExecuteTime": {
     "end_time": "2021-01-22T01:28:15.873858Z",
     "start_time": "2021-01-22T01:25:37.377538Z"
    },
    "colab": {
     "base_uri": "https://localhost:8080/",
     "height": 80
    },
    "executionInfo": {
     "elapsed": 108325,
     "status": "ok",
     "timestamp": 1610584057951,
     "user": {
      "displayName": "Jeff Jaskolka",
      "photoUrl": "https://lh3.googleusercontent.com/a-/AOh14Gh0CKyoeay8mLB6XmQwmxvRlimyHPiACAnHOQVn=s64",
      "userId": "16990044333464285283"
     },
     "user_tz": 300
    },
    "id": "J_G3a-Nj0W1T",
    "outputId": "d7d4de1b-635e-4f47-dfd2-c692fc1cfdf5"
   },
   "outputs": [
    {
     "data": {
      "text/html": [
       "<table border=\"1\" class=\"dataframe\">\n",
       "  <thead>\n",
       "    <tr style=\"text-align: left;\">\n",
       "      <th>epoch</th>\n",
       "      <th>train_loss</th>\n",
       "      <th>valid_loss</th>\n",
       "      <th>accuracy</th>\n",
       "      <th>time</th>\n",
       "    </tr>\n",
       "  </thead>\n",
       "  <tbody>\n",
       "    <tr>\n",
       "      <td>0</td>\n",
       "      <td>0.225286</td>\n",
       "      <td>0.504662</td>\n",
       "      <td>0.715385</td>\n",
       "      <td>00:02</td>\n",
       "    </tr>\n",
       "    <tr>\n",
       "      <td>1</td>\n",
       "      <td>0.210732</td>\n",
       "      <td>0.503390</td>\n",
       "      <td>0.730769</td>\n",
       "      <td>00:02</td>\n",
       "    </tr>\n",
       "    <tr>\n",
       "      <td>2</td>\n",
       "      <td>0.192585</td>\n",
       "      <td>0.563584</td>\n",
       "      <td>0.738462</td>\n",
       "      <td>00:02</td>\n",
       "    </tr>\n",
       "    <tr>\n",
       "      <td>3</td>\n",
       "      <td>0.177575</td>\n",
       "      <td>0.538526</td>\n",
       "      <td>0.746154</td>\n",
       "      <td>00:02</td>\n",
       "    </tr>\n",
       "    <tr>\n",
       "      <td>4</td>\n",
       "      <td>0.169562</td>\n",
       "      <td>0.533817</td>\n",
       "      <td>0.746154</td>\n",
       "      <td>00:02</td>\n",
       "    </tr>\n",
       "  </tbody>\n",
       "</table>"
      ],
      "text/plain": [
       "<IPython.core.display.HTML object>"
      ]
     },
     "metadata": {},
     "output_type": "display_data"
    },
    {
     "name": "stdout",
     "output_type": "stream",
     "text": [
      "Better model found at epoch 0 with valid_loss value: 0.5046619176864624.\n",
      "Better model found at epoch 1 with valid_loss value: 0.503390371799469.\n"
     ]
    }
   ],
   "source": [
    "learn.unfreeze()\n",
    "learn.fit_one_cycle(5, slice(1e-3/(2.6**4),1e-3))"
   ]
  },
  {
   "cell_type": "code",
   "execution_count": 84,
   "metadata": {
    "ExecuteTime": {
     "end_time": "2021-01-22T01:28:16.128930Z",
     "start_time": "2021-01-22T01:28:16.003153Z"
    },
    "colab": {
     "base_uri": "https://localhost:8080/",
     "height": 265
    },
    "executionInfo": {
     "elapsed": 104633,
     "status": "ok",
     "timestamp": 1610584058247,
     "user": {
      "displayName": "Jeff Jaskolka",
      "photoUrl": "https://lh3.googleusercontent.com/a-/AOh14Gh0CKyoeay8mLB6XmQwmxvRlimyHPiACAnHOQVn=s64",
      "userId": "16990044333464285283"
     },
     "user_tz": 300
    },
    "id": "VM7PDrtpCpcM",
    "outputId": "1abc313f-6546-40c5-f28e-9c00252a0c65"
   },
   "outputs": [
    {
     "data": {
      "image/png": "[encoded data removed]",
      "text/plain": [
       "<Figure size 432x288 with 1 Axes>"
      ]
     },
     "metadata": {
      "needs_background": "light"
     },
     "output_type": "display_data"
    }
   ],
   "source": [
    "learn.recorder.plot_loss()"
   ]
  },
  {
   "cell_type": "code",
   "execution_count": 85,
   "metadata": {
    "ExecuteTime": {
     "end_time": "2021-01-22T01:28:19.704730Z",
     "start_time": "2021-01-22T01:28:16.303719Z"
    }
   },
   "outputs": [
    {
     "data": {
      "text/html": [],
      "text/plain": [
       "<IPython.core.display.HTML object>"
      ]
     },
     "metadata": {},
     "output_type": "display_data"
    }
   ],
   "source": [
    "preds, targets = learn.get_preds()\n",
    "predictions = np.argmax(preds, axis = 1)"
   ]
  },
  {
   "cell_type": "code",
   "execution_count": 49,
   "metadata": {},
   "outputs": [],
   "source": [
    "stacked = torch.cat([preds, predictions.unsqueeze(-1), targets.unsqueeze(-1)], dim = 1)\n",
    "\n",
    "fwd_results = pd.DataFrame(stacked)"
   ]
  },
  {
   "cell_type": "code",
   "execution_count": 50,
   "metadata": {},
   "outputs": [],
   "source": [
    "fwd_results.to_csv(results_path + '/fwd_results.csv', index = False)"
   ]
  },
  {
   "cell_type": "code",
   "execution_count": 86,
   "metadata": {
    "ExecuteTime": {
     "end_time": "2021-01-22T02:34:40.968276Z",
     "start_time": "2021-01-22T02:34:40.804169Z"
    }
   },
   "outputs": [
    {
     "name": "stdout",
     "output_type": "stream",
     "text": [
      "Metrics Report:\n",
      "---------------\n",
      "weighted f1:  0.7419846258908404\n",
      "AUROC:        0.8069999999999999\n",
      "accuracy:     0.7307692307692307\n",
      "precision:    [0.85714286 0.43589744]\n",
      "recall:       [0.78       0.56666667]\n",
      "sensitivity:  0.4358974358974359\n",
      "specificity:  0.8571428571428571\n",
      "PPV:          0.5666666666666667\n",
      "NPV:          0.78\n",
      "\n"
     ]
    },
    {
     "data": {
      "image/png": "[encoded data removed]",
      "text/plain": [
       "<Figure size 432x288 with 1 Axes>"
      ]
     },
     "metadata": {
      "needs_background": "light"
     },
     "output_type": "display_data"
    }
   ],
   "source": [
    "get_metrics(predictions, preds, targets)"
   ]
  },
  {
   "cell_type": "code",
   "execution_count": 52,
   "metadata": {},
   "outputs": [
    {
     "data": {
      "text/html": [
       "<div>\n",
       "<style scoped>\n",
       "    .dataframe tbody tr th:only-of-type {\n",
       "        vertical-align: middle;\n",
       "    }\n",
       "\n",
       "    .dataframe tbody tr th {\n",
       "        vertical-align: top;\n",
       "    }\n",
       "\n",
       "    .dataframe thead th {\n",
       "        text-align: right;\n",
       "    }\n",
       "</style>\n",
       "<table border=\"1\" class=\"dataframe\">\n",
       "  <thead>\n",
       "    <tr style=\"text-align: right;\">\n",
       "      <th></th>\n",
       "      <th>experiment description</th>\n",
       "      <th>num samples</th>\n",
       "      <th>weighting</th>\n",
       "      <th>f1w</th>\n",
       "      <th>acc</th>\n",
       "      <th>auroc</th>\n",
       "      <th>ppv</th>\n",
       "      <th>sens</th>\n",
       "      <th>batch size</th>\n",
       "    </tr>\n",
       "  </thead>\n",
       "  <tbody>\n",
       "    <tr>\n",
       "      <th>0</th>\n",
       "      <td>thyroid baseline</td>\n",
       "      <td>652</td>\n",
       "      <td>NaN</td>\n",
       "      <td>0.905804</td>\n",
       "      <td>0.907692</td>\n",
       "      <td>0.814766</td>\n",
       "      <td>0.666667</td>\n",
       "      <td>0.736842</td>\n",
       "      <td>64</td>\n",
       "    </tr>\n",
       "    <tr>\n",
       "      <th>1</th>\n",
       "      <td>thyroid baseline</td>\n",
       "      <td>652</td>\n",
       "      <td>NaN</td>\n",
       "      <td>0.842980</td>\n",
       "      <td>0.838462</td>\n",
       "      <td>0.892273</td>\n",
       "      <td>0.550000</td>\n",
       "      <td>0.478261</td>\n",
       "      <td>64</td>\n",
       "    </tr>\n",
       "    <tr>\n",
       "      <th>2</th>\n",
       "      <td>thyroid baseline</td>\n",
       "      <td>652</td>\n",
       "      <td>NaN</td>\n",
       "      <td>0.801190</td>\n",
       "      <td>0.807692</td>\n",
       "      <td>0.783636</td>\n",
       "      <td>0.300000</td>\n",
       "      <td>0.352941</td>\n",
       "      <td>64</td>\n",
       "    </tr>\n",
       "    <tr>\n",
       "      <th>3</th>\n",
       "      <td>thyroid baseline</td>\n",
       "      <td>652</td>\n",
       "      <td>None</td>\n",
       "      <td>0.835404</td>\n",
       "      <td>0.838462</td>\n",
       "      <td>0.834000</td>\n",
       "      <td>0.600000</td>\n",
       "      <td>0.666667</td>\n",
       "      <td>64</td>\n",
       "    </tr>\n",
       "  </tbody>\n",
       "</table>\n",
       "</div>"
      ],
      "text/plain": [
       "  experiment description  num samples weighting       f1w       acc     auroc  \\\n",
       "0       thyroid baseline          652       NaN  0.905804  0.907692  0.814766   \n",
       "1       thyroid baseline          652       NaN  0.842980  0.838462  0.892273   \n",
       "2       thyroid baseline          652       NaN  0.801190  0.807692  0.783636   \n",
       "3       thyroid baseline          652      None  0.835404  0.838462  0.834000   \n",
       "\n",
       "        ppv      sens  batch size  \n",
       "0  0.666667  0.736842          64  \n",
       "1  0.550000  0.478261          64  \n",
       "2  0.300000  0.352941          64  \n",
       "3  0.600000  0.666667          64  "
      ]
     },
     "execution_count": 52,
     "metadata": {},
     "output_type": "execute_result"
    }
   ],
   "source": [
    "results_df"
   ]
  },
  {
   "cell_type": "code",
   "execution_count": 53,
   "metadata": {},
   "outputs": [],
   "source": [
    "learn.export(model_path + '/thyroid_baseline_fwd.pkl')"
   ]
  },
  {
   "cell_type": "code",
   "execution_count": 54,
   "metadata": {},
   "outputs": [],
   "source": [
    "wandb.finish()"
   ]
  },
  {
   "cell_type": "markdown",
   "metadata": {},
   "source": [
    "#### backward"
   ]
  },
  {
   "cell_type": "code",
   "execution_count": 55,
   "metadata": {},
   "outputs": [],
   "source": [
    "wandb.init(project='thyroid asp', name = 'baseline_b');"
   ]
  },
  {
   "cell_type": "code",
   "execution_count": 56,
   "metadata": {
    "colab": {
     "base_uri": "https://localhost:8080/",
     "height": 71
    },
    "executionInfo": {
     "elapsed": 31776,
     "status": "ok",
     "timestamp": 1610583929288,
     "user": {
      "displayName": "Jeff Jaskolka",
      "photoUrl": "https://lh3.googleusercontent.com/a-/AOh14Gh0CKyoeay8mLB6XmQwmxvRlimyHPiACAnHOQVn=s64",
      "userId": "16990044333464285283"
     },
     "user_tz": 300
    },
    "id": "OjiZe595xkqp",
    "outputId": "62006530-d615-4371-e77d-d9ce4aacbc58",
    "scrolled": true
   },
   "outputs": [
    {
     "data": {
      "text/html": [],
      "text/plain": [
       "<IPython.core.display.HTML object>"
      ]
     },
     "metadata": {},
     "output_type": "display_data"
    },
    {
     "name": "stderr",
     "output_type": "stream",
     "text": [
      "C:\\Users\\jasko\\anaconda3\\lib\\site-packages\\numpy\\core\\_asarray.py:83: VisibleDeprecationWarning: Creating an ndarray from ragged nested sequences (which is a list-or-tuple of lists-or-tuples-or ndarrays with different lengths or shapes) is deprecated. If you meant to do this, you must specify 'dtype=object' when creating the ndarray\n",
      "  return array(a, dtype, copy=False, order=order)\n"
     ]
    }
   ],
   "source": [
    "dls_cls_bwd = TextDataLoaders.from_df(data, text_vocab=lm_vocab, text_col = 'Exam Result', label_col = 'target', seed = 42, bs = batch_size, num_workers = 0, is_backward = True)"
   ]
  },
  {
   "cell_type": "code",
   "execution_count": 57,
   "metadata": {
    "executionInfo": {
     "elapsed": 27571,
     "status": "ok",
     "timestamp": 1610583929647,
     "user": {
      "displayName": "Jeff Jaskolka",
      "photoUrl": "https://lh3.googleusercontent.com/a-/AOh14Gh0CKyoeay8mLB6XmQwmxvRlimyHPiACAnHOQVn=s64",
      "userId": "16990044333464285283"
     },
     "user_tz": 300
    },
    "id": "WHf_tQoLz5HC"
   },
   "outputs": [],
   "source": [
    "learn = text_classifier_learner(dls_cls_bwd, AWD_LSTM, drop_mult=0.5, metrics=accuracy, cbs=[WandbCallback(), SaveModelCallback(fname = 'thyroid_b')]).to_fp16()"
   ]
  },
  {
   "cell_type": "code",
   "execution_count": 58,
   "metadata": {
    "colab": {
     "base_uri": "https://localhost:8080/",
     "height": 80
    },
    "executionInfo": {
     "elapsed": 21276,
     "status": "ok",
     "timestamp": 1610583963490,
     "user": {
      "displayName": "Jeff Jaskolka",
      "photoUrl": "https://lh3.googleusercontent.com/a-/AOh14Gh0CKyoeay8mLB6XmQwmxvRlimyHPiACAnHOQVn=s64",
      "userId": "16990044333464285283"
     },
     "user_tz": 300
    },
    "id": "opF28j9s0HtI",
    "outputId": "2e207575-c9fc-492d-ff28-f333c663ba6e"
   },
   "outputs": [
    {
     "data": {
      "text/html": [
       "<table border=\"1\" class=\"dataframe\">\n",
       "  <thead>\n",
       "    <tr style=\"text-align: left;\">\n",
       "      <th>epoch</th>\n",
       "      <th>train_loss</th>\n",
       "      <th>valid_loss</th>\n",
       "      <th>accuracy</th>\n",
       "      <th>time</th>\n",
       "    </tr>\n",
       "  </thead>\n",
       "  <tbody>\n",
       "    <tr>\n",
       "      <td>0</td>\n",
       "      <td>0.738561</td>\n",
       "      <td>0.701083</td>\n",
       "      <td>0.507692</td>\n",
       "      <td>00:01</td>\n",
       "    </tr>\n",
       "    <tr>\n",
       "      <td>1</td>\n",
       "      <td>0.646336</td>\n",
       "      <td>0.544099</td>\n",
       "      <td>0.746154</td>\n",
       "      <td>00:01</td>\n",
       "    </tr>\n",
       "    <tr>\n",
       "      <td>2</td>\n",
       "      <td>0.599025</td>\n",
       "      <td>0.533090</td>\n",
       "      <td>0.738462</td>\n",
       "      <td>00:01</td>\n",
       "    </tr>\n",
       "  </tbody>\n",
       "</table>"
      ],
      "text/plain": [
       "<IPython.core.display.HTML object>"
      ]
     },
     "metadata": {},
     "output_type": "display_data"
    },
    {
     "name": "stdout",
     "output_type": "stream",
     "text": [
      "Better model found at epoch 0 with valid_loss value: 0.7010829448699951.\n",
      "Better model found at epoch 1 with valid_loss value: 0.5440988540649414.\n",
      "Better model found at epoch 2 with valid_loss value: 0.5330900549888611.\n"
     ]
    }
   ],
   "source": [
    "learn.fit_one_cycle(3, 1e-2)"
   ]
  },
  {
   "cell_type": "code",
   "execution_count": 59,
   "metadata": {
    "colab": {
     "base_uri": "https://localhost:8080/",
     "height": 80
    },
    "executionInfo": {
     "elapsed": 41959,
     "status": "ok",
     "timestamp": 1610583986988,
     "user": {
      "displayName": "Jeff Jaskolka",
      "photoUrl": "https://lh3.googleusercontent.com/a-/AOh14Gh0CKyoeay8mLB6XmQwmxvRlimyHPiACAnHOQVn=s64",
      "userId": "16990044333464285283"
     },
     "user_tz": 300
    },
    "id": "xiFZFXwY0Qgh",
    "outputId": "11baa980-d10f-4cb1-8ff8-b95beaefea4a"
   },
   "outputs": [
    {
     "data": {
      "text/html": [
       "<table border=\"1\" class=\"dataframe\">\n",
       "  <thead>\n",
       "    <tr style=\"text-align: left;\">\n",
       "      <th>epoch</th>\n",
       "      <th>train_loss</th>\n",
       "      <th>valid_loss</th>\n",
       "      <th>accuracy</th>\n",
       "      <th>time</th>\n",
       "    </tr>\n",
       "  </thead>\n",
       "  <tbody>\n",
       "    <tr>\n",
       "      <td>0</td>\n",
       "      <td>0.498480</td>\n",
       "      <td>0.796757</td>\n",
       "      <td>0.553846</td>\n",
       "      <td>00:01</td>\n",
       "    </tr>\n",
       "    <tr>\n",
       "      <td>1</td>\n",
       "      <td>0.486419</td>\n",
       "      <td>0.487488</td>\n",
       "      <td>0.792308</td>\n",
       "      <td>00:01</td>\n",
       "    </tr>\n",
       "    <tr>\n",
       "      <td>2</td>\n",
       "      <td>0.447387</td>\n",
       "      <td>0.564748</td>\n",
       "      <td>0.661538</td>\n",
       "      <td>00:01</td>\n",
       "    </tr>\n",
       "  </tbody>\n",
       "</table>"
      ],
      "text/plain": [
       "<IPython.core.display.HTML object>"
      ]
     },
     "metadata": {},
     "output_type": "display_data"
    },
    {
     "name": "stdout",
     "output_type": "stream",
     "text": [
      "Better model found at epoch 0 with valid_loss value: 0.7967566847801208.\n",
      "Better model found at epoch 1 with valid_loss value: 0.48748767375946045.\n"
     ]
    }
   ],
   "source": [
    "learn.freeze_to(-2)\n",
    "learn.fit_one_cycle(3, slice(1e-2/(2.6**4),1e-2))"
   ]
  },
  {
   "cell_type": "code",
   "execution_count": 60,
   "metadata": {
    "colab": {
     "base_uri": "https://localhost:8080/",
     "height": 80
    },
    "executionInfo": {
     "elapsed": 71965,
     "status": "ok",
     "timestamp": 1610584018631,
     "user": {
      "displayName": "Jeff Jaskolka",
      "photoUrl": "https://lh3.googleusercontent.com/a-/AOh14Gh0CKyoeay8mLB6XmQwmxvRlimyHPiACAnHOQVn=s64",
      "userId": "16990044333464285283"
     },
     "user_tz": 300
    },
    "id": "rZtHyAN90TB5",
    "outputId": "ab2a7736-08e7-4dd2-a45c-20df1d12b87d"
   },
   "outputs": [
    {
     "data": {
      "text/html": [
       "<table border=\"1\" class=\"dataframe\">\n",
       "  <thead>\n",
       "    <tr style=\"text-align: left;\">\n",
       "      <th>epoch</th>\n",
       "      <th>train_loss</th>\n",
       "      <th>valid_loss</th>\n",
       "      <th>accuracy</th>\n",
       "      <th>time</th>\n",
       "    </tr>\n",
       "  </thead>\n",
       "  <tbody>\n",
       "    <tr>\n",
       "      <td>0</td>\n",
       "      <td>0.393526</td>\n",
       "      <td>0.525112</td>\n",
       "      <td>0.800000</td>\n",
       "      <td>00:02</td>\n",
       "    </tr>\n",
       "    <tr>\n",
       "      <td>1</td>\n",
       "      <td>0.352019</td>\n",
       "      <td>0.669246</td>\n",
       "      <td>0.723077</td>\n",
       "      <td>00:02</td>\n",
       "    </tr>\n",
       "    <tr>\n",
       "      <td>2</td>\n",
       "      <td>0.315842</td>\n",
       "      <td>0.490100</td>\n",
       "      <td>0.753846</td>\n",
       "      <td>00:02</td>\n",
       "    </tr>\n",
       "  </tbody>\n",
       "</table>"
      ],
      "text/plain": [
       "<IPython.core.display.HTML object>"
      ]
     },
     "metadata": {},
     "output_type": "display_data"
    },
    {
     "name": "stdout",
     "output_type": "stream",
     "text": [
      "Better model found at epoch 0 with valid_loss value: 0.525111973285675.\n",
      "Better model found at epoch 2 with valid_loss value: 0.49009963870048523.\n"
     ]
    }
   ],
   "source": [
    "learn.freeze_to(-3)\n",
    "learn.fit_one_cycle(3, slice(5e-3/(2.6**4),5e-3))"
   ]
  },
  {
   "cell_type": "code",
   "execution_count": 61,
   "metadata": {
    "colab": {
     "base_uri": "https://localhost:8080/",
     "height": 80
    },
    "executionInfo": {
     "elapsed": 108325,
     "status": "ok",
     "timestamp": 1610584057951,
     "user": {
      "displayName": "Jeff Jaskolka",
      "photoUrl": "https://lh3.googleusercontent.com/a-/AOh14Gh0CKyoeay8mLB6XmQwmxvRlimyHPiACAnHOQVn=s64",
      "userId": "16990044333464285283"
     },
     "user_tz": 300
    },
    "id": "J_G3a-Nj0W1T",
    "outputId": "d7d4de1b-635e-4f47-dfd2-c692fc1cfdf5"
   },
   "outputs": [
    {
     "data": {
      "text/html": [
       "<table border=\"1\" class=\"dataframe\">\n",
       "  <thead>\n",
       "    <tr style=\"text-align: left;\">\n",
       "      <th>epoch</th>\n",
       "      <th>train_loss</th>\n",
       "      <th>valid_loss</th>\n",
       "      <th>accuracy</th>\n",
       "      <th>time</th>\n",
       "    </tr>\n",
       "  </thead>\n",
       "  <tbody>\n",
       "    <tr>\n",
       "      <td>0</td>\n",
       "      <td>0.246246</td>\n",
       "      <td>0.449446</td>\n",
       "      <td>0.753846</td>\n",
       "      <td>00:03</td>\n",
       "    </tr>\n",
       "    <tr>\n",
       "      <td>1</td>\n",
       "      <td>0.233588</td>\n",
       "      <td>0.461169</td>\n",
       "      <td>0.815385</td>\n",
       "      <td>00:03</td>\n",
       "    </tr>\n",
       "    <tr>\n",
       "      <td>2</td>\n",
       "      <td>0.223696</td>\n",
       "      <td>0.449156</td>\n",
       "      <td>0.807692</td>\n",
       "      <td>00:02</td>\n",
       "    </tr>\n",
       "    <tr>\n",
       "      <td>3</td>\n",
       "      <td>0.212884</td>\n",
       "      <td>0.438807</td>\n",
       "      <td>0.807692</td>\n",
       "      <td>00:03</td>\n",
       "    </tr>\n",
       "    <tr>\n",
       "      <td>4</td>\n",
       "      <td>0.202425</td>\n",
       "      <td>0.438431</td>\n",
       "      <td>0.792308</td>\n",
       "      <td>00:03</td>\n",
       "    </tr>\n",
       "  </tbody>\n",
       "</table>"
      ],
      "text/plain": [
       "<IPython.core.display.HTML object>"
      ]
     },
     "metadata": {},
     "output_type": "display_data"
    },
    {
     "name": "stdout",
     "output_type": "stream",
     "text": [
      "Better model found at epoch 0 with valid_loss value: 0.449445903301239.\n",
      "Better model found at epoch 2 with valid_loss value: 0.4491555392742157.\n",
      "Better model found at epoch 3 with valid_loss value: 0.4388066232204437.\n",
      "Better model found at epoch 4 with valid_loss value: 0.43843087553977966.\n"
     ]
    }
   ],
   "source": [
    "learn.unfreeze()\n",
    "learn.fit_one_cycle(5, slice(1e-3/(2.6**4),1e-3))"
   ]
  },
  {
   "cell_type": "code",
   "execution_count": 62,
   "metadata": {
    "colab": {
     "base_uri": "https://localhost:8080/",
     "height": 265
    },
    "executionInfo": {
     "elapsed": 104633,
     "status": "ok",
     "timestamp": 1610584058247,
     "user": {
      "displayName": "Jeff Jaskolka",
      "photoUrl": "https://lh3.googleusercontent.com/a-/AOh14Gh0CKyoeay8mLB6XmQwmxvRlimyHPiACAnHOQVn=s64",
      "userId": "16990044333464285283"
     },
     "user_tz": 300
    },
    "id": "VM7PDrtpCpcM",
    "outputId": "1abc313f-6546-40c5-f28e-9c00252a0c65"
   },
   "outputs": [
    {
     "data": {
      "image/png": "[encoded data removed]",
      "text/plain": [
       "<Figure size 432x288 with 1 Axes>"
      ]
     },
     "metadata": {
      "needs_background": "light"
     },
     "output_type": "display_data"
    }
   ],
   "source": [
    "learn.recorder.plot_loss()"
   ]
  },
  {
   "cell_type": "code",
   "execution_count": 63,
   "metadata": {},
   "outputs": [],
   "source": [
    "wandb.finish()"
   ]
  },
  {
   "cell_type": "code",
   "execution_count": 64,
   "metadata": {},
   "outputs": [
    {
     "data": {
      "text/html": [],
      "text/plain": [
       "<IPython.core.display.HTML object>"
      ]
     },
     "metadata": {},
     "output_type": "display_data"
    }
   ],
   "source": [
    "preds_bwd, targets_bwd = learn.get_preds()\n",
    "predictions_bwd = np.argmax(preds_bwd, axis = 1)"
   ]
  },
  {
   "cell_type": "code",
   "execution_count": 65,
   "metadata": {},
   "outputs": [],
   "source": [
    "stacked = torch.cat([preds_bwd, predictions_bwd.unsqueeze(-1), targets_bwd.unsqueeze(-1)], dim = 1)\n",
    "\n",
    "bwd_results = pd.DataFrame(stacked)"
   ]
  },
  {
   "cell_type": "code",
   "execution_count": 66,
   "metadata": {},
   "outputs": [],
   "source": [
    "bwd_results.to_csv(results_path + '/bwd_results.csv', index = False)"
   ]
  },
  {
   "cell_type": "code",
   "execution_count": 67,
   "metadata": {},
   "outputs": [
    {
     "name": "stdout",
     "output_type": "stream",
     "text": [
      "Metrics Report:\n",
      "---------------\n",
      "weighted f1:  0.7853999658877707\n",
      "AUROC:        0.8363333333333334\n",
      "accuracy:     0.7923076923076923\n",
      "precision:    [0.84761905 0.56      ]\n",
      "recall:       [0.89       0.46666667]\n",
      "sensitivity:  0.56\n",
      "specificity:  0.8476190476190476\n",
      "PPV:          0.4666666666666667\n",
      "NPV:          0.89\n",
      "\n"
     ]
    },
    {
     "data": {
      "image/png": "[encoded data removed]",
      "text/plain": [
       "<Figure size 432x288 with 1 Axes>"
      ]
     },
     "metadata": {
      "needs_background": "light"
     },
     "output_type": "display_data"
    }
   ],
   "source": [
    "get_metrics(predictions_bwd, preds_bwd, targets_bwd)"
   ]
  },
  {
   "cell_type": "code",
   "execution_count": 68,
   "metadata": {},
   "outputs": [
    {
     "name": "stdout",
     "output_type": "stream",
     "text": [
      "Metrics Report:\n",
      "---------------\n",
      "weighted f1:  0.8106011635423401\n",
      "AUROC:        0.8393333333333334\n",
      "accuracy:     0.8153846153846154\n",
      "precision:    [0.86538462 0.61538462]\n",
      "recall:       [0.9        0.53333333]\n",
      "sensitivity:  0.6153846153846154\n",
      "specificity:  0.8653846153846154\n",
      "PPV:          0.5333333333333333\n",
      "NPV:          0.9\n",
      "\n"
     ]
    },
    {
     "data": {
      "image/png": "[encoded data removed]",
      "text/plain": [
       "<Figure size 432x288 with 1 Axes>"
      ]
     },
     "metadata": {
      "needs_background": "light"
     },
     "output_type": "display_data"
    }
   ],
   "source": [
    "#ensembling\n",
    "#desc = 'ensembling'\n",
    "preds_e = (preds + preds_bwd)/2\n",
    "predictions_e = np.argmax(preds_e, axis = 1)\n",
    "get_metrics(predictions_e, preds_e,  targets_bwd)"
   ]
  },
  {
   "cell_type": "code",
   "execution_count": 72,
   "metadata": {},
   "outputs": [
    {
     "data": {
      "text/html": [
       "<div>\n",
       "<style scoped>\n",
       "    .dataframe tbody tr th:only-of-type {\n",
       "        vertical-align: middle;\n",
       "    }\n",
       "\n",
       "    .dataframe tbody tr th {\n",
       "        vertical-align: top;\n",
       "    }\n",
       "\n",
       "    .dataframe thead th {\n",
       "        text-align: right;\n",
       "    }\n",
       "</style>\n",
       "<table border=\"1\" class=\"dataframe\">\n",
       "  <thead>\n",
       "    <tr style=\"text-align: right;\">\n",
       "      <th></th>\n",
       "      <th>experiment description</th>\n",
       "      <th>num samples</th>\n",
       "      <th>weighting</th>\n",
       "      <th>f1w</th>\n",
       "      <th>acc</th>\n",
       "      <th>auroc</th>\n",
       "      <th>ppv</th>\n",
       "      <th>sens</th>\n",
       "      <th>batch size</th>\n",
       "    </tr>\n",
       "  </thead>\n",
       "  <tbody>\n",
       "    <tr>\n",
       "      <th>0</th>\n",
       "      <td>thyroid baseline</td>\n",
       "      <td>652</td>\n",
       "      <td>NaN</td>\n",
       "      <td>0.905804</td>\n",
       "      <td>0.907692</td>\n",
       "      <td>0.814766</td>\n",
       "      <td>0.666667</td>\n",
       "      <td>0.736842</td>\n",
       "      <td>64</td>\n",
       "    </tr>\n",
       "    <tr>\n",
       "      <th>1</th>\n",
       "      <td>thyroid baseline</td>\n",
       "      <td>652</td>\n",
       "      <td>NaN</td>\n",
       "      <td>0.842980</td>\n",
       "      <td>0.838462</td>\n",
       "      <td>0.892273</td>\n",
       "      <td>0.550000</td>\n",
       "      <td>0.478261</td>\n",
       "      <td>64</td>\n",
       "    </tr>\n",
       "    <tr>\n",
       "      <th>2</th>\n",
       "      <td>thyroid baseline</td>\n",
       "      <td>652</td>\n",
       "      <td>NaN</td>\n",
       "      <td>0.801190</td>\n",
       "      <td>0.807692</td>\n",
       "      <td>0.783636</td>\n",
       "      <td>0.300000</td>\n",
       "      <td>0.352941</td>\n",
       "      <td>64</td>\n",
       "    </tr>\n",
       "    <tr>\n",
       "      <th>3</th>\n",
       "      <td>thyroid baseline</td>\n",
       "      <td>652</td>\n",
       "      <td>None</td>\n",
       "      <td>0.835404</td>\n",
       "      <td>0.838462</td>\n",
       "      <td>0.834000</td>\n",
       "      <td>0.600000</td>\n",
       "      <td>0.666667</td>\n",
       "      <td>64</td>\n",
       "    </tr>\n",
       "    <tr>\n",
       "      <th>4</th>\n",
       "      <td>thyroid baseline</td>\n",
       "      <td>652</td>\n",
       "      <td>None</td>\n",
       "      <td>0.785400</td>\n",
       "      <td>0.792308</td>\n",
       "      <td>0.836333</td>\n",
       "      <td>0.466667</td>\n",
       "      <td>0.560000</td>\n",
       "      <td>64</td>\n",
       "    </tr>\n",
       "    <tr>\n",
       "      <th>5</th>\n",
       "      <td>thyroid baseline</td>\n",
       "      <td>652</td>\n",
       "      <td>None</td>\n",
       "      <td>0.810601</td>\n",
       "      <td>0.815385</td>\n",
       "      <td>0.839333</td>\n",
       "      <td>0.533333</td>\n",
       "      <td>0.615385</td>\n",
       "      <td>64</td>\n",
       "    </tr>\n",
       "  </tbody>\n",
       "</table>\n",
       "</div>"
      ],
      "text/plain": [
       "  experiment description  num samples weighting       f1w       acc     auroc  \\\n",
       "0       thyroid baseline          652       NaN  0.905804  0.907692  0.814766   \n",
       "1       thyroid baseline          652       NaN  0.842980  0.838462  0.892273   \n",
       "2       thyroid baseline          652       NaN  0.801190  0.807692  0.783636   \n",
       "3       thyroid baseline          652      None  0.835404  0.838462  0.834000   \n",
       "4       thyroid baseline          652      None  0.785400  0.792308  0.836333   \n",
       "5       thyroid baseline          652      None  0.810601  0.815385  0.839333   \n",
       "\n",
       "        ppv      sens  batch size  \n",
       "0  0.666667  0.736842          64  \n",
       "1  0.550000  0.478261          64  \n",
       "2  0.300000  0.352941          64  \n",
       "3  0.600000  0.666667          64  \n",
       "4  0.466667  0.560000          64  \n",
       "5  0.533333  0.615385          64  "
      ]
     },
     "execution_count": 72,
     "metadata": {},
     "output_type": "execute_result"
    }
   ],
   "source": [
    "results_df"
   ]
  },
  {
   "cell_type": "code",
   "execution_count": 70,
   "metadata": {},
   "outputs": [],
   "source": [
    "results_df.to_csv('results lung rads.csv', index = False)"
   ]
  },
  {
   "cell_type": "code",
   "execution_count": 71,
   "metadata": {
    "executionInfo": {
     "elapsed": 109427,
     "status": "ok",
     "timestamp": 1610584071146,
     "user": {
      "displayName": "Jeff Jaskolka",
      "photoUrl": "https://lh3.googleusercontent.com/a-/AOh14Gh0CKyoeay8mLB6XmQwmxvRlimyHPiACAnHOQVn=s64",
      "userId": "16990044333464285283"
     },
     "user_tz": 300
    },
    "id": "uCqs3aQa2j83"
   },
   "outputs": [
    {
     "ename": "RuntimeError",
     "evalue": "[enforce fail at ..\\caffe2\\serialize\\inline_container.cc:274] . unexpected pos 83109184 vs 83109072",
     "output_type": "error",
     "traceback": [
      "\u001b[1;31m---------------------------------------------------------------------------\u001b[0m",
      "\u001b[1;31mKeyboardInterrupt\u001b[0m                         Traceback (most recent call last)",
      "\u001b[1;32m~\\anaconda3\\lib\\site-packages\\torch\\serialization.py\u001b[0m in \u001b[0;36msave\u001b[1;34m(obj, f, pickle_module, pickle_protocol, _use_new_zipfile_serialization)\u001b[0m\n\u001b[0;32m    371\u001b[0m             \u001b[1;32mwith\u001b[0m \u001b[0m_open_zipfile_writer\u001b[0m\u001b[1;33m(\u001b[0m\u001b[0mopened_file\u001b[0m\u001b[1;33m)\u001b[0m \u001b[1;32mas\u001b[0m \u001b[0mopened_zipfile\u001b[0m\u001b[1;33m:\u001b[0m\u001b[1;33m\u001b[0m\u001b[1;33m\u001b[0m\u001b[0m\n\u001b[1;32m--> 372\u001b[1;33m                 \u001b[0m_save\u001b[0m\u001b[1;33m(\u001b[0m\u001b[0mobj\u001b[0m\u001b[1;33m,\u001b[0m \u001b[0mopened_zipfile\u001b[0m\u001b[1;33m,\u001b[0m \u001b[0mpickle_module\u001b[0m\u001b[1;33m,\u001b[0m \u001b[0mpickle_protocol\u001b[0m\u001b[1;33m)\u001b[0m\u001b[1;33m\u001b[0m\u001b[1;33m\u001b[0m\u001b[0m\n\u001b[0m\u001b[0;32m    373\u001b[0m                 \u001b[1;32mreturn\u001b[0m\u001b[1;33m\u001b[0m\u001b[1;33m\u001b[0m\u001b[0m\n",
      "\u001b[1;32m~\\anaconda3\\lib\\site-packages\\torch\\serialization.py\u001b[0m in \u001b[0;36m_save\u001b[1;34m(obj, zip_file, pickle_module, pickle_protocol)\u001b[0m\n\u001b[0;32m    492\u001b[0m             \u001b[0mbuf_value\u001b[0m \u001b[1;33m=\u001b[0m \u001b[0mbuf\u001b[0m\u001b[1;33m.\u001b[0m\u001b[0mgetvalue\u001b[0m\u001b[1;33m(\u001b[0m\u001b[1;33m)\u001b[0m\u001b[1;33m\u001b[0m\u001b[1;33m\u001b[0m\u001b[0m\n\u001b[1;32m--> 493\u001b[1;33m             \u001b[0mzip_file\u001b[0m\u001b[1;33m.\u001b[0m\u001b[0mwrite_record\u001b[0m\u001b[1;33m(\u001b[0m\u001b[0mname\u001b[0m\u001b[1;33m,\u001b[0m \u001b[0mbuf_value\u001b[0m\u001b[1;33m,\u001b[0m \u001b[0mlen\u001b[0m\u001b[1;33m(\u001b[0m\u001b[0mbuf_value\u001b[0m\u001b[1;33m)\u001b[0m\u001b[1;33m)\u001b[0m\u001b[1;33m\u001b[0m\u001b[1;33m\u001b[0m\u001b[0m\n\u001b[0m\u001b[0;32m    494\u001b[0m \u001b[1;33m\u001b[0m\u001b[0m\n",
      "\u001b[1;31mKeyboardInterrupt\u001b[0m: ",
      "\nDuring handling of the above exception, another exception occurred:\n",
      "\u001b[1;31mRuntimeError\u001b[0m                              Traceback (most recent call last)",
      "\u001b[1;32m<ipython-input-71-6ead1327dd00>\u001b[0m in \u001b[0;36m<module>\u001b[1;34m\u001b[0m\n\u001b[1;32m----> 1\u001b[1;33m \u001b[0mlearn\u001b[0m\u001b[1;33m.\u001b[0m\u001b[0mexport\u001b[0m\u001b[1;33m(\u001b[0m\u001b[0mmodel_path\u001b[0m \u001b[1;33m+\u001b[0m \u001b[1;34m'/lr_baseline_bwd.pkl'\u001b[0m\u001b[1;33m)\u001b[0m\u001b[1;33m\u001b[0m\u001b[1;33m\u001b[0m\u001b[0m\n\u001b[0m",
      "\u001b[1;32m~\\anaconda3\\lib\\site-packages\\fastai\\learner.py\u001b[0m in \u001b[0;36mexport\u001b[1;34m(self, fname, pickle_module, pickle_protocol)\u001b[0m\n\u001b[0;32m    363\u001b[0m         \u001b[1;31m#To avoid the warning that come from PyTorch about model not being checked\u001b[0m\u001b[1;33m\u001b[0m\u001b[1;33m\u001b[0m\u001b[1;33m\u001b[0m\u001b[0m\n\u001b[0;32m    364\u001b[0m         \u001b[0mwarnings\u001b[0m\u001b[1;33m.\u001b[0m\u001b[0msimplefilter\u001b[0m\u001b[1;33m(\u001b[0m\u001b[1;34m\"ignore\"\u001b[0m\u001b[1;33m)\u001b[0m\u001b[1;33m\u001b[0m\u001b[1;33m\u001b[0m\u001b[0m\n\u001b[1;32m--> 365\u001b[1;33m         \u001b[0mtorch\u001b[0m\u001b[1;33m.\u001b[0m\u001b[0msave\u001b[0m\u001b[1;33m(\u001b[0m\u001b[0mself\u001b[0m\u001b[1;33m,\u001b[0m \u001b[0mself\u001b[0m\u001b[1;33m.\u001b[0m\u001b[0mpath\u001b[0m\u001b[1;33m/\u001b[0m\u001b[0mfname\u001b[0m\u001b[1;33m,\u001b[0m \u001b[0mpickle_module\u001b[0m\u001b[1;33m=\u001b[0m\u001b[0mpickle_module\u001b[0m\u001b[1;33m,\u001b[0m \u001b[0mpickle_protocol\u001b[0m\u001b[1;33m=\u001b[0m\u001b[0mpickle_protocol\u001b[0m\u001b[1;33m)\u001b[0m\u001b[1;33m\u001b[0m\u001b[1;33m\u001b[0m\u001b[0m\n\u001b[0m\u001b[0;32m    366\u001b[0m     \u001b[0mself\u001b[0m\u001b[1;33m.\u001b[0m\u001b[0mcreate_opt\u001b[0m\u001b[1;33m(\u001b[0m\u001b[1;33m)\u001b[0m\u001b[1;33m\u001b[0m\u001b[1;33m\u001b[0m\u001b[0m\n\u001b[0;32m    367\u001b[0m     \u001b[1;32mif\u001b[0m \u001b[0mstate\u001b[0m \u001b[1;32mis\u001b[0m \u001b[1;32mnot\u001b[0m \u001b[1;32mNone\u001b[0m\u001b[1;33m:\u001b[0m \u001b[0mself\u001b[0m\u001b[1;33m.\u001b[0m\u001b[0mopt\u001b[0m\u001b[1;33m.\u001b[0m\u001b[0mload_state_dict\u001b[0m\u001b[1;33m(\u001b[0m\u001b[0mstate\u001b[0m\u001b[1;33m)\u001b[0m\u001b[1;33m\u001b[0m\u001b[1;33m\u001b[0m\u001b[0m\n",
      "\u001b[1;32m~\\anaconda3\\lib\\site-packages\\torch\\serialization.py\u001b[0m in \u001b[0;36msave\u001b[1;34m(obj, f, pickle_module, pickle_protocol, _use_new_zipfile_serialization)\u001b[0m\n\u001b[0;32m    371\u001b[0m             \u001b[1;32mwith\u001b[0m \u001b[0m_open_zipfile_writer\u001b[0m\u001b[1;33m(\u001b[0m\u001b[0mopened_file\u001b[0m\u001b[1;33m)\u001b[0m \u001b[1;32mas\u001b[0m \u001b[0mopened_zipfile\u001b[0m\u001b[1;33m:\u001b[0m\u001b[1;33m\u001b[0m\u001b[1;33m\u001b[0m\u001b[0m\n\u001b[0;32m    372\u001b[0m                 \u001b[0m_save\u001b[0m\u001b[1;33m(\u001b[0m\u001b[0mobj\u001b[0m\u001b[1;33m,\u001b[0m \u001b[0mopened_zipfile\u001b[0m\u001b[1;33m,\u001b[0m \u001b[0mpickle_module\u001b[0m\u001b[1;33m,\u001b[0m \u001b[0mpickle_protocol\u001b[0m\u001b[1;33m)\u001b[0m\u001b[1;33m\u001b[0m\u001b[1;33m\u001b[0m\u001b[0m\n\u001b[1;32m--> 373\u001b[1;33m                 \u001b[1;32mreturn\u001b[0m\u001b[1;33m\u001b[0m\u001b[1;33m\u001b[0m\u001b[0m\n\u001b[0m\u001b[0;32m    374\u001b[0m         \u001b[0m_legacy_save\u001b[0m\u001b[1;33m(\u001b[0m\u001b[0mobj\u001b[0m\u001b[1;33m,\u001b[0m \u001b[0mopened_file\u001b[0m\u001b[1;33m,\u001b[0m \u001b[0mpickle_module\u001b[0m\u001b[1;33m,\u001b[0m \u001b[0mpickle_protocol\u001b[0m\u001b[1;33m)\u001b[0m\u001b[1;33m\u001b[0m\u001b[1;33m\u001b[0m\u001b[0m\n\u001b[0;32m    375\u001b[0m \u001b[1;33m\u001b[0m\u001b[0m\n",
      "\u001b[1;32m~\\anaconda3\\lib\\site-packages\\torch\\serialization.py\u001b[0m in \u001b[0;36m__exit__\u001b[1;34m(self, *args)\u001b[0m\n\u001b[0;32m    257\u001b[0m \u001b[1;33m\u001b[0m\u001b[0m\n\u001b[0;32m    258\u001b[0m     \u001b[1;32mdef\u001b[0m \u001b[0m__exit__\u001b[0m\u001b[1;33m(\u001b[0m\u001b[0mself\u001b[0m\u001b[1;33m,\u001b[0m \u001b[1;33m*\u001b[0m\u001b[0margs\u001b[0m\u001b[1;33m)\u001b[0m \u001b[1;33m->\u001b[0m \u001b[1;32mNone\u001b[0m\u001b[1;33m:\u001b[0m\u001b[1;33m\u001b[0m\u001b[1;33m\u001b[0m\u001b[0m\n\u001b[1;32m--> 259\u001b[1;33m         \u001b[0mself\u001b[0m\u001b[1;33m.\u001b[0m\u001b[0mfile_like\u001b[0m\u001b[1;33m.\u001b[0m\u001b[0mwrite_end_of_file\u001b[0m\u001b[1;33m(\u001b[0m\u001b[1;33m)\u001b[0m\u001b[1;33m\u001b[0m\u001b[1;33m\u001b[0m\u001b[0m\n\u001b[0m\u001b[0;32m    260\u001b[0m         \u001b[0mself\u001b[0m\u001b[1;33m.\u001b[0m\u001b[0mbuffer\u001b[0m\u001b[1;33m.\u001b[0m\u001b[0mflush\u001b[0m\u001b[1;33m(\u001b[0m\u001b[1;33m)\u001b[0m\u001b[1;33m\u001b[0m\u001b[1;33m\u001b[0m\u001b[0m\n\u001b[0;32m    261\u001b[0m \u001b[1;33m\u001b[0m\u001b[0m\n",
      "\u001b[1;31mRuntimeError\u001b[0m: [enforce fail at ..\\caffe2\\serialize\\inline_container.cc:274] . unexpected pos 83109184 vs 83109072"
     ]
    }
   ],
   "source": [
    "learn.export(model_path + '/lr_baseline_bwd.pkl')"
   ]
  }
 ],
 "metadata": {
  "accelerator": "GPU",
  "colab": {
   "authorship_tag": "ABX9TyMm6XFxunwibVClpKpA05q2",
   "collapsed_sections": [],
   "mount_file_id": "1mO3xVAvH3uiGPW9VyTkDyrRZCcu61VJE",
   "name": "lung_rads.ipynb",
   "provenance": [],
   "toc_visible": true
  },
  "kernelspec": {
   "display_name": "Python 3",
   "language": "python",
   "name": "python3"
  },
  "language_info": {
   "codemirror_mode": {
    "name": "ipython",
    "version": 3
   },
   "file_extension": ".py",
   "mimetype": "text/x-python",
   "name": "python",
   "nbconvert_exporter": "python",
   "pygments_lexer": "ipython3",
   "version": "3.8.5"
  },
  "toc": {
   "base_numbering": 1,
   "nav_menu": {},
   "number_sections": false,
   "sideBar": true,
   "skip_h1_title": false,
   "title_cell": "Table of Contents",
   "title_sidebar": "Contents",
   "toc_cell": false,
   "toc_position": {
    "height": "calc(100% - 180px)",
    "left": "10px",
    "top": "150px",
    "width": "205.391px"
   },
   "toc_section_display": true,
   "toc_window_display": true
  },
  "varInspector": {
   "cols": {
    "lenName": 16,
    "lenType": 16,
    "lenVar": 40
   },
   "kernels_config": {
    "python": {
     "delete_cmd_postfix": "",
     "delete_cmd_prefix": "del ",
     "library": "var_list.py",
     "varRefreshCmd": "print(var_dic_list())"
    },
    "r": {
     "delete_cmd_postfix": ") ",
     "delete_cmd_prefix": "rm(",
     "library": "var_list.r",
     "varRefreshCmd": "cat(var_dic_list()) "
    }
   },
   "oldHeight": 422,
   "position": {
    "height": "40px",
    "left": "648px",
    "right": "20px",
    "top": "76px",
    "width": "350px"
   },
   "types_to_exclude": [
    "module",
    "function",
    "builtin_function_or_method",
    "instance",
    "_Feature"
   ],
   "varInspector_section_display": "none",
   "window_display": true
  }
 },
 "nbformat": 4,
 "nbformat_minor": 4
}
