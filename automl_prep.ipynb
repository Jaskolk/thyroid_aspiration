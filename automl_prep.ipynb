{
 "cells": [
  {
   "cell_type": "markdown",
   "id": "religious-debut",
   "metadata": {},
   "source": [
    "## data prep for automl"
   ]
  },
  {
   "cell_type": "code",
   "execution_count": 1,
   "id": "coral-hayes",
   "metadata": {},
   "outputs": [],
   "source": [
    "import pandas as pd"
   ]
  },
  {
   "cell_type": "code",
   "execution_count": 2,
   "id": "introductory-interference",
   "metadata": {},
   "outputs": [],
   "source": [
    "data = pd.read_csv('thyroid_ltd.csv')"
   ]
  },
  {
   "cell_type": "code",
   "execution_count": 3,
   "id": "original-communications",
   "metadata": {},
   "outputs": [
    {
     "data": {
      "text/plain": [
       "(652, 2)"
      ]
     },
     "execution_count": 3,
     "metadata": {},
     "output_type": "execute_result"
    }
   ],
   "source": [
    "data.shape"
   ]
  },
  {
   "cell_type": "code",
   "execution_count": 8,
   "id": "becoming-sydney",
   "metadata": {},
   "outputs": [],
   "source": [
    "import os\n",
    "\n",
    "for idx,row in data.iterrows():\n",
    "    dirname = 'single' if row['target'] == '1' else 'multiple'\n",
    "    filename = \"data/dataset/\"+ dirname + '/example_' + str(idx)+\".txt\"\n",
    "    os.makedirs(os.path.dirname(filename), exist_ok=True)\n",
    "    with open(filename, \"w+\") as f:\n",
    "        f.write(row['Exam Result'])\n",
    "    f.close()\n",
    "\n",
    "    #print (idx)\n",
    "    #print(filename)"
   ]
  },
  {
   "cell_type": "code",
   "execution_count": null,
   "id": "funny-return",
   "metadata": {},
   "outputs": [],
   "source": []
  }
 ],
 "metadata": {
  "kernelspec": {
   "display_name": "Python 3",
   "language": "python",
   "name": "python3"
  },
  "language_info": {
   "codemirror_mode": {
    "name": "ipython",
    "version": 3
   },
   "file_extension": ".py",
   "mimetype": "text/x-python",
   "name": "python",
   "nbconvert_exporter": "python",
   "pygments_lexer": "ipython3",
   "version": "3.8.5"
  }
 },
 "nbformat": 4,
 "nbformat_minor": 5
}
