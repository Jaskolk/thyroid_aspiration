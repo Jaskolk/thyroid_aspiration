{
 "cells": [
  {
   "cell_type": "markdown",
   "id": "academic-broadway",
   "metadata": {},
   "source": [
    "# this notebook is for evaluation of autoML thyroid report model"
   ]
  },
  {
   "cell_type": "markdown",
   "id": "retired-dominican",
   "metadata": {},
   "source": [
    "### import libraries"
   ]
  },
  {
   "cell_type": "code",
   "execution_count": 22,
   "id": "individual-michigan",
   "metadata": {},
   "outputs": [],
   "source": [
    "import pandas as pd\n",
    "import os\n",
    "from collections import Counter\n",
    "import numpy as np\n",
    "from google.cloud import automl\n",
    "from functools import partial\n",
    "import sklearn\n",
    "from sklearn import metrics\n",
    "import seaborn as sns\n",
    "import matplotlib.pyplot as plt"
   ]
  },
  {
   "cell_type": "markdown",
   "id": "linear-biology",
   "metadata": {},
   "source": [
    "### reload predictions"
   ]
  },
  {
   "cell_type": "code",
   "execution_count": 2,
   "id": "excited-update",
   "metadata": {},
   "outputs": [
    {
     "data": {
      "text/html": [
       "<div>\n",
       "<style scoped>\n",
       "    .dataframe tbody tr th:only-of-type {\n",
       "        vertical-align: middle;\n",
       "    }\n",
       "\n",
       "    .dataframe tbody tr th {\n",
       "        vertical-align: top;\n",
       "    }\n",
       "\n",
       "    .dataframe thead th {\n",
       "        text-align: right;\n",
       "    }\n",
       "</style>\n",
       "<table border=\"1\" class=\"dataframe\">\n",
       "  <thead>\n",
       "    <tr style=\"text-align: right;\">\n",
       "      <th></th>\n",
       "      <th>single</th>\n",
       "      <th>multiple</th>\n",
       "      <th>predictions_0.5</th>\n",
       "      <th>predictions_0.55</th>\n",
       "      <th>predictions_0.6</th>\n",
       "      <th>predictions_0.65</th>\n",
       "      <th>predictions_0.7</th>\n",
       "      <th>predictions_0.75</th>\n",
       "      <th>predictions_0.8</th>\n",
       "      <th>predictions_0.85</th>\n",
       "      <th>predictions_0.9</th>\n",
       "      <th>predictions_0.95</th>\n",
       "    </tr>\n",
       "  </thead>\n",
       "  <tbody>\n",
       "    <tr>\n",
       "      <th>0</th>\n",
       "      <td>0.990787</td>\n",
       "      <td>0.009213</td>\n",
       "      <td>1</td>\n",
       "      <td>1</td>\n",
       "      <td>1</td>\n",
       "      <td>1</td>\n",
       "      <td>1</td>\n",
       "      <td>1</td>\n",
       "      <td>1</td>\n",
       "      <td>1</td>\n",
       "      <td>1</td>\n",
       "      <td>1</td>\n",
       "    </tr>\n",
       "    <tr>\n",
       "      <th>1</th>\n",
       "      <td>0.990224</td>\n",
       "      <td>0.009776</td>\n",
       "      <td>1</td>\n",
       "      <td>1</td>\n",
       "      <td>1</td>\n",
       "      <td>1</td>\n",
       "      <td>1</td>\n",
       "      <td>1</td>\n",
       "      <td>1</td>\n",
       "      <td>1</td>\n",
       "      <td>1</td>\n",
       "      <td>1</td>\n",
       "    </tr>\n",
       "    <tr>\n",
       "      <th>2</th>\n",
       "      <td>0.996347</td>\n",
       "      <td>0.003653</td>\n",
       "      <td>1</td>\n",
       "      <td>1</td>\n",
       "      <td>1</td>\n",
       "      <td>1</td>\n",
       "      <td>1</td>\n",
       "      <td>1</td>\n",
       "      <td>1</td>\n",
       "      <td>1</td>\n",
       "      <td>1</td>\n",
       "      <td>1</td>\n",
       "    </tr>\n",
       "    <tr>\n",
       "      <th>3</th>\n",
       "      <td>0.450748</td>\n",
       "      <td>0.549252</td>\n",
       "      <td>&gt;1</td>\n",
       "      <td>&gt;1</td>\n",
       "      <td>&gt;1</td>\n",
       "      <td>&gt;1</td>\n",
       "      <td>&gt;1</td>\n",
       "      <td>&gt;1</td>\n",
       "      <td>&gt;1</td>\n",
       "      <td>&gt;1</td>\n",
       "      <td>&gt;1</td>\n",
       "      <td>&gt;1</td>\n",
       "    </tr>\n",
       "    <tr>\n",
       "      <th>4</th>\n",
       "      <td>0.997189</td>\n",
       "      <td>0.002812</td>\n",
       "      <td>1</td>\n",
       "      <td>1</td>\n",
       "      <td>1</td>\n",
       "      <td>1</td>\n",
       "      <td>1</td>\n",
       "      <td>1</td>\n",
       "      <td>1</td>\n",
       "      <td>1</td>\n",
       "      <td>1</td>\n",
       "      <td>1</td>\n",
       "    </tr>\n",
       "  </tbody>\n",
       "</table>\n",
       "</div>"
      ],
      "text/plain": [
       "     single  multiple predictions_0.5 predictions_0.55 predictions_0.6  \\\n",
       "0  0.990787  0.009213               1                1               1   \n",
       "1  0.990224  0.009776               1                1               1   \n",
       "2  0.996347  0.003653               1                1               1   \n",
       "3  0.450748  0.549252              >1               >1              >1   \n",
       "4  0.997189  0.002812               1                1               1   \n",
       "\n",
       "  predictions_0.65 predictions_0.7 predictions_0.75 predictions_0.8  \\\n",
       "0                1               1                1               1   \n",
       "1                1               1                1               1   \n",
       "2                1               1                1               1   \n",
       "3               >1              >1               >1              >1   \n",
       "4                1               1                1               1   \n",
       "\n",
       "  predictions_0.85 predictions_0.9 predictions_0.95  \n",
       "0                1               1                1  \n",
       "1                1               1                1  \n",
       "2                1               1                1  \n",
       "3               >1              >1               >1  \n",
       "4                1               1                1  "
      ]
     },
     "execution_count": 2,
     "metadata": {},
     "output_type": "execute_result"
    }
   ],
   "source": [
    "preds = pd.read_csv('test_predictions.csv')\n",
    "preds.head()"
   ]
  },
  {
   "cell_type": "markdown",
   "id": "anticipated-slovenia",
   "metadata": {},
   "source": [
    "### load labelled test set"
   ]
  },
  {
   "cell_type": "code",
   "execution_count": 3,
   "id": "perceived-charleston",
   "metadata": {},
   "outputs": [
    {
     "data": {
      "text/html": [
       "<div>\n",
       "<style scoped>\n",
       "    .dataframe tbody tr th:only-of-type {\n",
       "        vertical-align: middle;\n",
       "    }\n",
       "\n",
       "    .dataframe tbody tr th {\n",
       "        vertical-align: top;\n",
       "    }\n",
       "\n",
       "    .dataframe thead th {\n",
       "        text-align: right;\n",
       "    }\n",
       "</style>\n",
       "<table border=\"1\" class=\"dataframe\">\n",
       "  <thead>\n",
       "    <tr style=\"text-align: right;\">\n",
       "      <th></th>\n",
       "      <th>Accession</th>\n",
       "      <th>MRN</th>\n",
       "      <th>Sign off Rad</th>\n",
       "      <th>Exam Result</th>\n",
       "      <th>Date</th>\n",
       "      <th>labels</th>\n",
       "    </tr>\n",
       "  </thead>\n",
       "  <tbody>\n",
       "    <tr>\n",
       "      <th>0</th>\n",
       "      <td>16851023.0</td>\n",
       "      <td>N000861996</td>\n",
       "      <td>FITZGERALD</td>\n",
       "      <td>FNA BIOPSY OF THYROID\\r\\n\\r\\nHISTORY: Request ...</td>\n",
       "      <td>2021-02-23</td>\n",
       "      <td>1</td>\n",
       "    </tr>\n",
       "    <tr>\n",
       "      <th>1</th>\n",
       "      <td>16851107.0</td>\n",
       "      <td>N000444488</td>\n",
       "      <td>FITZGERALD</td>\n",
       "      <td>FNA BIOPSY OF THYROID\\r\\n\\r\\nHISTORY: Request ...</td>\n",
       "      <td>2021-02-23</td>\n",
       "      <td>1</td>\n",
       "    </tr>\n",
       "    <tr>\n",
       "      <th>2</th>\n",
       "      <td>16851388.0</td>\n",
       "      <td>N000923373</td>\n",
       "      <td>FITZGERALD</td>\n",
       "      <td>FNA BIOPSY OF THYROID\\r\\n\\r\\nHISTORY: Request ...</td>\n",
       "      <td>2021-02-23</td>\n",
       "      <td>1</td>\n",
       "    </tr>\n",
       "    <tr>\n",
       "      <th>3</th>\n",
       "      <td>16854532.0</td>\n",
       "      <td>N000935827</td>\n",
       "      <td>CARVALHO</td>\n",
       "      <td>FINE-NEEDLE ASPIRATION THYROID NODULE\\r\\n\\r\\nP...</td>\n",
       "      <td>2021-02-24</td>\n",
       "      <td>2</td>\n",
       "    </tr>\n",
       "    <tr>\n",
       "      <th>4</th>\n",
       "      <td>16854824.0</td>\n",
       "      <td>N000504684</td>\n",
       "      <td>CARVALHO</td>\n",
       "      <td>FINE-NEEDLE ASPIRATION THYROID NODULE\\r\\n\\r\\nP...</td>\n",
       "      <td>2021-02-24</td>\n",
       "      <td>1</td>\n",
       "    </tr>\n",
       "  </tbody>\n",
       "</table>\n",
       "</div>"
      ],
      "text/plain": [
       "    Accession         MRN Sign off Rad  \\\n",
       "0  16851023.0  N000861996   FITZGERALD   \n",
       "1  16851107.0  N000444488   FITZGERALD   \n",
       "2  16851388.0  N000923373   FITZGERALD   \n",
       "3  16854532.0  N000935827     CARVALHO   \n",
       "4  16854824.0  N000504684     CARVALHO   \n",
       "\n",
       "                                         Exam Result        Date labels  \n",
       "0  FNA BIOPSY OF THYROID\\r\\n\\r\\nHISTORY: Request ...  2021-02-23      1  \n",
       "1  FNA BIOPSY OF THYROID\\r\\n\\r\\nHISTORY: Request ...  2021-02-23      1  \n",
       "2  FNA BIOPSY OF THYROID\\r\\n\\r\\nHISTORY: Request ...  2021-02-23      1  \n",
       "3  FINE-NEEDLE ASPIRATION THYROID NODULE\\r\\n\\r\\nP...  2021-02-24      2  \n",
       "4  FINE-NEEDLE ASPIRATION THYROID NODULE\\r\\n\\r\\nP...  2021-02-24      1  "
      ]
     },
     "execution_count": 3,
     "metadata": {},
     "output_type": "execute_result"
    }
   ],
   "source": [
    "test_df = pd.read_csv('thyroid_test_data.csv')\n",
    "test_df.head()"
   ]
  },
  {
   "cell_type": "code",
   "execution_count": 4,
   "id": "junior-concentration",
   "metadata": {},
   "outputs": [],
   "source": [
    "combo = pd.merge(test_df, preds, left_index = True, right_index = True)"
   ]
  },
  {
   "cell_type": "code",
   "execution_count": 5,
   "id": "industrial-montgomery",
   "metadata": {},
   "outputs": [
    {
     "data": {
      "text/html": [
       "<div>\n",
       "<style scoped>\n",
       "    .dataframe tbody tr th:only-of-type {\n",
       "        vertical-align: middle;\n",
       "    }\n",
       "\n",
       "    .dataframe tbody tr th {\n",
       "        vertical-align: top;\n",
       "    }\n",
       "\n",
       "    .dataframe thead th {\n",
       "        text-align: right;\n",
       "    }\n",
       "</style>\n",
       "<table border=\"1\" class=\"dataframe\">\n",
       "  <thead>\n",
       "    <tr style=\"text-align: right;\">\n",
       "      <th></th>\n",
       "      <th>Accession</th>\n",
       "      <th>MRN</th>\n",
       "      <th>Sign off Rad</th>\n",
       "      <th>Exam Result</th>\n",
       "      <th>Date</th>\n",
       "      <th>labels</th>\n",
       "      <th>single</th>\n",
       "      <th>multiple</th>\n",
       "      <th>predictions_0.5</th>\n",
       "      <th>predictions_0.55</th>\n",
       "      <th>predictions_0.6</th>\n",
       "      <th>predictions_0.65</th>\n",
       "      <th>predictions_0.7</th>\n",
       "      <th>predictions_0.75</th>\n",
       "      <th>predictions_0.8</th>\n",
       "      <th>predictions_0.85</th>\n",
       "      <th>predictions_0.9</th>\n",
       "      <th>predictions_0.95</th>\n",
       "    </tr>\n",
       "  </thead>\n",
       "  <tbody>\n",
       "    <tr>\n",
       "      <th>0</th>\n",
       "      <td>16851023.0</td>\n",
       "      <td>N000861996</td>\n",
       "      <td>FITZGERALD</td>\n",
       "      <td>FNA BIOPSY OF THYROID\\r\\n\\r\\nHISTORY: Request ...</td>\n",
       "      <td>2021-02-23</td>\n",
       "      <td>1</td>\n",
       "      <td>0.990787</td>\n",
       "      <td>0.009213</td>\n",
       "      <td>1</td>\n",
       "      <td>1</td>\n",
       "      <td>1</td>\n",
       "      <td>1</td>\n",
       "      <td>1</td>\n",
       "      <td>1</td>\n",
       "      <td>1</td>\n",
       "      <td>1</td>\n",
       "      <td>1</td>\n",
       "      <td>1</td>\n",
       "    </tr>\n",
       "    <tr>\n",
       "      <th>1</th>\n",
       "      <td>16851107.0</td>\n",
       "      <td>N000444488</td>\n",
       "      <td>FITZGERALD</td>\n",
       "      <td>FNA BIOPSY OF THYROID\\r\\n\\r\\nHISTORY: Request ...</td>\n",
       "      <td>2021-02-23</td>\n",
       "      <td>1</td>\n",
       "      <td>0.990224</td>\n",
       "      <td>0.009776</td>\n",
       "      <td>1</td>\n",
       "      <td>1</td>\n",
       "      <td>1</td>\n",
       "      <td>1</td>\n",
       "      <td>1</td>\n",
       "      <td>1</td>\n",
       "      <td>1</td>\n",
       "      <td>1</td>\n",
       "      <td>1</td>\n",
       "      <td>1</td>\n",
       "    </tr>\n",
       "    <tr>\n",
       "      <th>2</th>\n",
       "      <td>16851388.0</td>\n",
       "      <td>N000923373</td>\n",
       "      <td>FITZGERALD</td>\n",
       "      <td>FNA BIOPSY OF THYROID\\r\\n\\r\\nHISTORY: Request ...</td>\n",
       "      <td>2021-02-23</td>\n",
       "      <td>1</td>\n",
       "      <td>0.996347</td>\n",
       "      <td>0.003653</td>\n",
       "      <td>1</td>\n",
       "      <td>1</td>\n",
       "      <td>1</td>\n",
       "      <td>1</td>\n",
       "      <td>1</td>\n",
       "      <td>1</td>\n",
       "      <td>1</td>\n",
       "      <td>1</td>\n",
       "      <td>1</td>\n",
       "      <td>1</td>\n",
       "    </tr>\n",
       "    <tr>\n",
       "      <th>3</th>\n",
       "      <td>16854532.0</td>\n",
       "      <td>N000935827</td>\n",
       "      <td>CARVALHO</td>\n",
       "      <td>FINE-NEEDLE ASPIRATION THYROID NODULE\\r\\n\\r\\nP...</td>\n",
       "      <td>2021-02-24</td>\n",
       "      <td>2</td>\n",
       "      <td>0.450748</td>\n",
       "      <td>0.549252</td>\n",
       "      <td>&gt;1</td>\n",
       "      <td>&gt;1</td>\n",
       "      <td>&gt;1</td>\n",
       "      <td>&gt;1</td>\n",
       "      <td>&gt;1</td>\n",
       "      <td>&gt;1</td>\n",
       "      <td>&gt;1</td>\n",
       "      <td>&gt;1</td>\n",
       "      <td>&gt;1</td>\n",
       "      <td>&gt;1</td>\n",
       "    </tr>\n",
       "    <tr>\n",
       "      <th>4</th>\n",
       "      <td>16854824.0</td>\n",
       "      <td>N000504684</td>\n",
       "      <td>CARVALHO</td>\n",
       "      <td>FINE-NEEDLE ASPIRATION THYROID NODULE\\r\\n\\r\\nP...</td>\n",
       "      <td>2021-02-24</td>\n",
       "      <td>1</td>\n",
       "      <td>0.997189</td>\n",
       "      <td>0.002812</td>\n",
       "      <td>1</td>\n",
       "      <td>1</td>\n",
       "      <td>1</td>\n",
       "      <td>1</td>\n",
       "      <td>1</td>\n",
       "      <td>1</td>\n",
       "      <td>1</td>\n",
       "      <td>1</td>\n",
       "      <td>1</td>\n",
       "      <td>1</td>\n",
       "    </tr>\n",
       "  </tbody>\n",
       "</table>\n",
       "</div>"
      ],
      "text/plain": [
       "    Accession         MRN Sign off Rad  \\\n",
       "0  16851023.0  N000861996   FITZGERALD   \n",
       "1  16851107.0  N000444488   FITZGERALD   \n",
       "2  16851388.0  N000923373   FITZGERALD   \n",
       "3  16854532.0  N000935827     CARVALHO   \n",
       "4  16854824.0  N000504684     CARVALHO   \n",
       "\n",
       "                                         Exam Result        Date labels  \\\n",
       "0  FNA BIOPSY OF THYROID\\r\\n\\r\\nHISTORY: Request ...  2021-02-23      1   \n",
       "1  FNA BIOPSY OF THYROID\\r\\n\\r\\nHISTORY: Request ...  2021-02-23      1   \n",
       "2  FNA BIOPSY OF THYROID\\r\\n\\r\\nHISTORY: Request ...  2021-02-23      1   \n",
       "3  FINE-NEEDLE ASPIRATION THYROID NODULE\\r\\n\\r\\nP...  2021-02-24      2   \n",
       "4  FINE-NEEDLE ASPIRATION THYROID NODULE\\r\\n\\r\\nP...  2021-02-24      1   \n",
       "\n",
       "     single  multiple predictions_0.5 predictions_0.55 predictions_0.6  \\\n",
       "0  0.990787  0.009213               1                1               1   \n",
       "1  0.990224  0.009776               1                1               1   \n",
       "2  0.996347  0.003653               1                1               1   \n",
       "3  0.450748  0.549252              >1               >1              >1   \n",
       "4  0.997189  0.002812               1                1               1   \n",
       "\n",
       "  predictions_0.65 predictions_0.7 predictions_0.75 predictions_0.8  \\\n",
       "0                1               1                1               1   \n",
       "1                1               1                1               1   \n",
       "2                1               1                1               1   \n",
       "3               >1              >1               >1              >1   \n",
       "4                1               1                1               1   \n",
       "\n",
       "  predictions_0.85 predictions_0.9 predictions_0.95  \n",
       "0                1               1                1  \n",
       "1                1               1                1  \n",
       "2                1               1                1  \n",
       "3               >1              >1               >1  \n",
       "4                1               1                1  "
      ]
     },
     "execution_count": 5,
     "metadata": {},
     "output_type": "execute_result"
    }
   ],
   "source": [
    "combo.head()"
   ]
  },
  {
   "cell_type": "code",
   "execution_count": 6,
   "id": "opening-warrior",
   "metadata": {},
   "outputs": [
    {
     "data": {
      "text/plain": [
       "Counter({'1': 42, '2': 4, nan: 1, '>2': 1})"
      ]
     },
     "execution_count": 6,
     "metadata": {},
     "output_type": "execute_result"
    }
   ],
   "source": [
    "Counter(combo.labels)"
   ]
  },
  {
   "cell_type": "code",
   "execution_count": 7,
   "id": "three-consent",
   "metadata": {},
   "outputs": [
    {
     "data": {
      "text/plain": [
       "Counter({'1': 42, '>1': 5})"
      ]
     },
     "execution_count": 7,
     "metadata": {},
     "output_type": "execute_result"
    }
   ],
   "source": [
    "#I know from previously checking that the nan value is from a breast aspiration\n",
    "combo = combo.dropna()\n",
    "combo.labels.replace({'2': '>1', '>2': '>1'}, inplace = True)\n",
    "Counter(combo.labels)"
   ]
  },
  {
   "cell_type": "code",
   "execution_count": 8,
   "id": "italic-button",
   "metadata": {},
   "outputs": [
    {
     "data": {
      "text/plain": [
       "[('threshold: 0.5', 'accuracy: 0.9574468085106383'),\n",
       " ('threshold: 0.55', 'accuracy: 0.9787234042553191'),\n",
       " ('threshold: 0.6', 'accuracy: 0.9787234042553191'),\n",
       " ('threshold: 0.65', 'accuracy: 0.9787234042553191'),\n",
       " ('threshold: 0.7', 'accuracy: 0.9787234042553191'),\n",
       " ('threshold: 0.75', 'accuracy: 0.9787234042553191'),\n",
       " ('threshold: 0.8', 'accuracy: 0.9787234042553191'),\n",
       " ('threshold: 0.85', 'accuracy: 0.9574468085106383'),\n",
       " ('threshold: 0.9', 'accuracy: 0.9361702127659575'),\n",
       " ('threshold: 0.95', 'accuracy: 0.851063829787234')]"
      ]
     },
     "execution_count": 8,
     "metadata": {},
     "output_type": "execute_result"
    }
   ],
   "source": [
    "accs = []\n",
    "for col in combo.columns[8:]:\n",
    "    thresh =  col[12:]\n",
    "    acc = (combo.labels == combo[col]).mean()\n",
    "    accs.append((f'threshold: {thresh}', f'accuracy: {acc}'))\n",
    "    \n",
    "accs"
   ]
  },
  {
   "cell_type": "code",
   "execution_count": 31,
   "id": "destroyed-retention",
   "metadata": {},
   "outputs": [],
   "source": [
    "def get_metrics(preds,predictions, true_vals, thresh, update_results = False, print_confusion = True):\n",
    "    \n",
    "    ''' A function to measure a suite of metrics on model classification of thyroid reports\n",
    "         - here preds is the predicted class, predictions is the probability array\n",
    "    '''\n",
    "\n",
    "    f1_w = sklearn.metrics.f1_score(true_vals, preds, average='weighted')\n",
    "    f1 = sklearn.metrics.f1_score(true_vals, preds, average=None)\n",
    "    acc = sklearn.metrics.accuracy_score(true_vals, preds)\n",
    "    prec = sklearn.metrics.precision_score(true_vals,preds, average=None) \n",
    "    rec = sklearn.metrics.recall_score(true_vals,preds, average=None)\n",
    "    auroc = sklearn.metrics.roc_auc_score(true_vals,predictions[:,1])\n",
    "    confusion = sklearn.metrics.confusion_matrix(true_vals, preds)\n",
    "\n",
    "    tn, fn, fp, tp = confusion[0,0], confusion[0,1], confusion[1,0], confusion[1,1]\n",
    "\n",
    "    sens = tp/(tp + fn)\n",
    "    spec = tn/(tn + fp)\n",
    "    ppv = tp/(tp + fp)\n",
    "    npv = tn/(tn + fn)\n",
    "\n",
    "    print (f'Metrics Report for threshold {thresh}:')\n",
    "    print ('---------------')\n",
    "    print ('weighted f1: ', f1_w)\n",
    "    print ('AUROC:       ',auroc)\n",
    "    print ('accuracy:    ', acc)\n",
    "    print ('precision:   ', prec)\n",
    "    print ('recall:      ', rec)\n",
    "    print ('sensitivity: ', sens)\n",
    "    print ('specificity: ', spec)\n",
    "    print ('PPV:         ', ppv)\n",
    "    print ('NPV:         ', npv)\n",
    "    print ()\n",
    "    \n",
    "    if print_confusion:\n",
    "        sns.heatmap(confusion,\n",
    "            annot = True,fmt = '',\n",
    "            cmap = 'Blues',\n",
    "            cbar = False,\n",
    "            xticklabels = ['1', '>1'],\n",
    "            yticklabels = ['1', '>1'] )\n",
    "        plt.xlabel('actual')\n",
    "        plt.ylabel('predicted')\n",
    "        plt.title('multiple biopsy predictions confusion matrix')\n",
    "        plt.show()\n",
    "\n",
    "    if update_results == True:\n",
    "        results_df.loc[len(results_df)] = [desc,num_samples, weights, f1_w, acc, auroc, ppv, sens, batch_size]"
   ]
  },
  {
   "cell_type": "code",
   "execution_count": 12,
   "id": "deluxe-onion",
   "metadata": {},
   "outputs": [],
   "source": [
    "preds = np.array(list(zip(combo['single'], combo['multiple'])))"
   ]
  },
  {
   "cell_type": "code",
   "execution_count": 13,
   "id": "fantastic-branch",
   "metadata": {},
   "outputs": [
    {
     "data": {
      "text/plain": [
       "(47, 2)"
      ]
     },
     "execution_count": 13,
     "metadata": {},
     "output_type": "execute_result"
    }
   ],
   "source": [
    "preds.shape"
   ]
  },
  {
   "cell_type": "code",
   "execution_count": 14,
   "id": "understood-horror",
   "metadata": {},
   "outputs": [
    {
     "data": {
      "text/plain": [
       "array([[9.90787089e-01, 9.21288133e-03],\n",
       "       [9.90224302e-01, 9.77574941e-03],\n",
       "       [9.96346772e-01, 3.65327834e-03],\n",
       "       [4.50747699e-01, 5.49252331e-01],\n",
       "       [9.97188509e-01, 2.81153386e-03],\n",
       "       [9.99632478e-01, 3.67504923e-04],\n",
       "       [9.96367693e-01, 3.63229006e-03],\n",
       "       [8.97350848e-01, 1.02649160e-01],\n",
       "       [9.93884981e-01, 6.11501839e-03],\n",
       "       [9.93884981e-01, 6.11501839e-03]])"
      ]
     },
     "execution_count": 14,
     "metadata": {},
     "output_type": "execute_result"
    }
   ],
   "source": [
    "preds[:10]"
   ]
  },
  {
   "cell_type": "code",
   "execution_count": 23,
   "id": "british-suite",
   "metadata": {},
   "outputs": [
    {
     "name": "stdout",
     "output_type": "stream",
     "text": [
      "Metrics Report:\n",
      "---------------\n",
      "weighted f1:  0.9776665276039492\n",
      "AUROC:        0.8095238095238095\n",
      "accuracy:     0.9787234042553191\n",
      "precision:    [0.97674419 1.        ]\n",
      "recall:       [1.  0.8]\n",
      "sensitivity:  1.0\n",
      "specificity:  0.9767441860465116\n",
      "PPV:          0.8\n",
      "NPV:          1.0\n",
      "\n"
     ]
    },
    {
     "data": {
      "image/png": "[encoded data removed]",
      "text/plain": [
       "<Figure size 432x288 with 1 Axes>"
      ]
     },
     "metadata": {
      "needs_background": "light"
     },
     "output_type": "display_data"
    }
   ],
   "source": [
    "get_metrics(combo['predictions_0.55'],preds,  combo.labels)"
   ]
  },
  {
   "cell_type": "code",
   "execution_count": 29,
   "id": "answering-lover",
   "metadata": {},
   "outputs": [
    {
     "name": "stdout",
     "output_type": "stream",
     "text": [
      "Metrics Report for threshold 0.5:\n",
      "---------------\n",
      "weighted f1:  0.95262246412667\n",
      "AUROC:        0.8095238095238095\n",
      "accuracy:     0.9574468085106383\n",
      "precision:    [0.95454545 1.        ]\n",
      "recall:       [1.  0.6]\n",
      "sensitivity:  1.0\n",
      "specificity:  0.9545454545454546\n",
      "PPV:          0.6\n",
      "NPV:          1.0\n",
      "\n"
     ]
    },
    {
     "data": {
      "image/png": "[encoded data removed]",
      "text/plain": [
       "<Figure size 432x288 with 1 Axes>"
      ]
     },
     "metadata": {
      "needs_background": "light"
     },
     "output_type": "display_data"
    },
    {
     "name": "stdout",
     "output_type": "stream",
     "text": [
      "Metrics Report for threshold 0.55:\n",
      "---------------\n",
      "weighted f1:  0.9776665276039492\n",
      "AUROC:        0.8095238095238095\n",
      "accuracy:     0.9787234042553191\n",
      "precision:    [0.97674419 1.        ]\n",
      "recall:       [1.  0.8]\n",
      "sensitivity:  1.0\n",
      "specificity:  0.9767441860465116\n",
      "PPV:          0.8\n",
      "NPV:          1.0\n",
      "\n"
     ]
    },
    {
     "data": {
      "image/png": "[encoded data removed]",
      "text/plain": [
       "<Figure size 432x288 with 1 Axes>"
      ]
     },
     "metadata": {
      "needs_background": "light"
     },
     "output_type": "display_data"
    },
    {
     "name": "stdout",
     "output_type": "stream",
     "text": [
      "Metrics Report for threshold 0.6:\n",
      "---------------\n",
      "weighted f1:  0.9776665276039492\n",
      "AUROC:        0.8095238095238095\n",
      "accuracy:     0.9787234042553191\n",
      "precision:    [0.97674419 1.        ]\n",
      "recall:       [1.  0.8]\n",
      "sensitivity:  1.0\n",
      "specificity:  0.9767441860465116\n",
      "PPV:          0.8\n",
      "NPV:          1.0\n",
      "\n"
     ]
    },
    {
     "data": {
      "image/png": "[encoded data removed]",
      "text/plain": [
       "<Figure size 432x288 with 1 Axes>"
      ]
     },
     "metadata": {
      "needs_background": "light"
     },
     "output_type": "display_data"
    },
    {
     "name": "stdout",
     "output_type": "stream",
     "text": [
      "Metrics Report for threshold 0.65:\n",
      "---------------\n",
      "weighted f1:  0.9776665276039492\n",
      "AUROC:        0.8095238095238095\n",
      "accuracy:     0.9787234042553191\n",
      "precision:    [0.97674419 1.        ]\n",
      "recall:       [1.  0.8]\n",
      "sensitivity:  1.0\n",
      "specificity:  0.9767441860465116\n",
      "PPV:          0.8\n",
      "NPV:          1.0\n",
      "\n"
     ]
    },
    {
     "data": {
      "image/png": "[encoded data removed]",
      "text/plain": [
       "<Figure size 432x288 with 1 Axes>"
      ]
     },
     "metadata": {
      "needs_background": "light"
     },
     "output_type": "display_data"
    },
    {
     "name": "stdout",
     "output_type": "stream",
     "text": [
      "Metrics Report for threshold 0.7:\n",
      "---------------\n",
      "weighted f1:  0.9776665276039492\n",
      "AUROC:        0.8095238095238095\n",
      "accuracy:     0.9787234042553191\n",
      "precision:    [0.97674419 1.        ]\n",
      "recall:       [1.  0.8]\n",
      "sensitivity:  1.0\n",
      "specificity:  0.9767441860465116\n",
      "PPV:          0.8\n",
      "NPV:          1.0\n",
      "\n"
     ]
    },
    {
     "data": {
      "image/png": "[encoded data removed]",
      "text/plain": [
       "<Figure size 432x288 with 1 Axes>"
      ]
     },
     "metadata": {
      "needs_background": "light"
     },
     "output_type": "display_data"
    },
    {
     "name": "stdout",
     "output_type": "stream",
     "text": [
      "Metrics Report for threshold 0.75:\n",
      "---------------\n",
      "weighted f1:  0.9776665276039492\n",
      "AUROC:        0.8095238095238095\n",
      "accuracy:     0.9787234042553191\n",
      "precision:    [0.97674419 1.        ]\n",
      "recall:       [1.  0.8]\n",
      "sensitivity:  1.0\n",
      "specificity:  0.9767441860465116\n",
      "PPV:          0.8\n",
      "NPV:          1.0\n",
      "\n"
     ]
    },
    {
     "data": {
      "image/png": "[encoded data removed]",
      "text/plain": [
       "<Figure size 432x288 with 1 Axes>"
      ]
     },
     "metadata": {
      "needs_background": "light"
     },
     "output_type": "display_data"
    },
    {
     "name": "stdout",
     "output_type": "stream",
     "text": [
      "Metrics Report for threshold 0.8:\n",
      "---------------\n",
      "weighted f1:  0.9776665276039492\n",
      "AUROC:        0.8095238095238095\n",
      "accuracy:     0.9787234042553191\n",
      "precision:    [0.97674419 1.        ]\n",
      "recall:       [1.  0.8]\n",
      "sensitivity:  1.0\n",
      "specificity:  0.9767441860465116\n",
      "PPV:          0.8\n",
      "NPV:          1.0\n",
      "\n"
     ]
    },
    {
     "data": {
      "image/png": "[encoded data removed]",
      "text/plain": [
       "<Figure size 432x288 with 1 Axes>"
      ]
     },
     "metadata": {
      "needs_background": "light"
     },
     "output_type": "display_data"
    },
    {
     "name": "stdout",
     "output_type": "stream",
     "text": [
      "Metrics Report for threshold 0.85:\n",
      "---------------\n",
      "weighted f1:  0.9574468085106383\n",
      "AUROC:        0.8095238095238095\n",
      "accuracy:     0.9574468085106383\n",
      "precision:    [0.97619048 0.8       ]\n",
      "recall:       [0.97619048 0.8       ]\n",
      "sensitivity:  0.8\n",
      "specificity:  0.9761904761904762\n",
      "PPV:          0.8\n",
      "NPV:          0.9761904761904762\n",
      "\n"
     ]
    },
    {
     "data": {
      "image/png": "[encoded data removed]",
      "text/plain": [
       "<Figure size 432x288 with 1 Axes>"
      ]
     },
     "metadata": {
      "needs_background": "light"
     },
     "output_type": "display_data"
    },
    {
     "name": "stdout",
     "output_type": "stream",
     "text": [
      "Metrics Report for threshold 0.9:\n",
      "---------------\n",
      "weighted f1:  0.9386870499405746\n",
      "AUROC:        0.8095238095238095\n",
      "accuracy:     0.9361702127659575\n",
      "precision:    [0.97560976 0.66666667]\n",
      "recall:       [0.95238095 0.8       ]\n",
      "sensitivity:  0.6666666666666666\n",
      "specificity:  0.975609756097561\n",
      "PPV:          0.8\n",
      "NPV:          0.9523809523809523\n",
      "\n"
     ]
    },
    {
     "data": {
      "image/png": "[encoded data removed]",
      "text/plain": [
       "<Figure size 432x288 with 1 Axes>"
      ]
     },
     "metadata": {
      "needs_background": "light"
     },
     "output_type": "display_data"
    },
    {
     "name": "stdout",
     "output_type": "stream",
     "text": [
      "Metrics Report for threshold 0.95:\n",
      "---------------\n",
      "weighted f1:  0.8711733548792532\n",
      "AUROC:        0.8095238095238095\n",
      "accuracy:     0.851063829787234\n",
      "precision:    [0.97297297 0.4       ]\n",
      "recall:       [0.85714286 0.8       ]\n",
      "sensitivity:  0.4\n",
      "specificity:  0.972972972972973\n",
      "PPV:          0.8\n",
      "NPV:          0.8571428571428571\n",
      "\n"
     ]
    },
    {
     "data": {
      "image/png": "[encoded data removed]",
      "text/plain": [
       "<Figure size 432x288 with 1 Axes>"
      ]
     },
     "metadata": {
      "needs_background": "light"
     },
     "output_type": "display_data"
    }
   ],
   "source": [
    "for col in combo.columns[8:]:\n",
    "    thresh =  col[12:]\n",
    "    predictions = combo[col]\n",
    "    get_metrics(predictions,preds, combo.labels, thresh)\n",
    "    \n",
    "    #acc = (combo.labels == combo[col]).mean()\n",
    "    #accs.append((f'threshold: {thresh}', f'accuracy: {acc}'))"
   ]
  },
  {
   "cell_type": "code",
   "execution_count": 30,
   "id": "thrown-poker",
   "metadata": {},
   "outputs": [
    {
     "data": {
      "text/plain": [
       "(Counter({'1': 42, '>1': 5}), Counter({'1': 43, '>1': 4}))"
      ]
     },
     "execution_count": 30,
     "metadata": {},
     "output_type": "execute_result"
    }
   ],
   "source": [
    "Counter(combo.labels), Counter(combo['predictions_0.55'])"
   ]
  },
  {
   "cell_type": "markdown",
   "id": "instrumental-texture",
   "metadata": {},
   "source": [
    "## best threshold seems to be 0.6"
   ]
  },
  {
   "cell_type": "code",
   "execution_count": 33,
   "id": "sensitive-elizabeth",
   "metadata": {},
   "outputs": [
    {
     "name": "stdout",
     "output_type": "stream",
     "text": [
      "Metrics Report for threshold 0.6:\n",
      "---------------\n",
      "weighted f1:  0.9776665276039492\n",
      "AUROC:        0.8095238095238095\n",
      "accuracy:     0.9787234042553191\n",
      "precision:    [0.97674419 1.        ]\n",
      "recall:       [1.  0.8]\n",
      "sensitivity:  1.0\n",
      "specificity:  0.9767441860465116\n",
      "PPV:          0.8\n",
      "NPV:          1.0\n",
      "\n"
     ]
    },
    {
     "data": {
      "image/png": "[encoded data removed]",
      "text/plain": [
       "<Figure size 432x288 with 1 Axes>"
      ]
     },
     "metadata": {
      "needs_background": "light"
     },
     "output_type": "display_data"
    }
   ],
   "source": [
    "get_metrics(combo['predictions_0.55'],preds, combo.labels, thresh = 0.6)"
   ]
  },
  {
   "cell_type": "code",
   "execution_count": null,
   "id": "instant-fundamentals",
   "metadata": {},
   "outputs": [],
   "source": []
  }
 ],
 "metadata": {
  "kernelspec": {
   "display_name": "Python 3",
   "language": "python",
   "name": "python3"
  },
  "language_info": {
   "codemirror_mode": {
    "name": "ipython",
    "version": 3
   },
   "file_extension": ".py",
   "mimetype": "text/x-python",
   "name": "python",
   "nbconvert_exporter": "python",
   "pygments_lexer": "ipython3",
   "version": "3.8.5"
  }
 },
 "nbformat": 4,
 "nbformat_minor": 5
}
