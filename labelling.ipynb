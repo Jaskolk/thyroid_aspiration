{
 "cells": [
  {
   "cell_type": "markdown",
   "metadata": {},
   "source": [
    "## this notebook is for labelling the WOHS Lung-Rads dataset"
   ]
  },
  {
   "cell_type": "markdown",
   "metadata": {},
   "source": [
    "#### first install labelling library"
   ]
  },
  {
   "cell_type": "code",
   "execution_count": 2,
   "metadata": {},
   "outputs": [
    {
     "name": "stdout",
     "output_type": "stream",
     "text": [
      "Requirement already satisfied: superintendent in /Users/jjaskolkambp/anaconda3/lib/python3.6/site-packages (0.5.2)\n",
      "Requirement already satisfied: flask>=1.0 in /Users/jjaskolkambp/anaconda3/lib/python3.6/site-packages (from superintendent) (1.0.2)\n",
      "Requirement already satisfied: pandas>=0.24.0 in /Users/jjaskolkambp/anaconda3/lib/python3.6/site-packages (from superintendent) (1.1.0)\n",
      "Requirement already satisfied: ipywidgets>=7.4 in /Users/jjaskolkambp/anaconda3/lib/python3.6/site-packages (from superintendent) (7.5.1)\n",
      "Requirement already satisfied: scipy>=1.2 in /Users/jjaskolkambp/anaconda3/lib/python3.6/site-packages (from superintendent) (1.4.1)\n",
      "Requirement already satisfied: typing-extensions in /Users/jjaskolkambp/anaconda3/lib/python3.6/site-packages (from superintendent) (3.7.4.3)\n",
      "Requirement already satisfied: ipyevents>=0.6.0 in /Users/jjaskolkambp/anaconda3/lib/python3.6/site-packages (from superintendent) (0.8.1)\n",
      "Requirement already satisfied: Pillow in /Users/jjaskolkambp/anaconda3/lib/python3.6/site-packages (from superintendent) (5.1.0)\n",
      "Requirement already satisfied: schedule>=0.6.0 in /Users/jjaskolkambp/anaconda3/lib/python3.6/site-packages (from superintendent) (0.6.0)\n",
      "Requirement already satisfied: cachetools>=3.1 in /Users/jjaskolkambp/anaconda3/lib/python3.6/site-packages (from superintendent) (4.0.0)\n",
      "Requirement already satisfied: numpy>=1.15 in /Users/jjaskolkambp/anaconda3/lib/python3.6/site-packages (from superintendent) (1.17.3)\n",
      "Requirement already satisfied: psycopg2-binary>=2.8 in /Users/jjaskolkambp/anaconda3/lib/python3.6/site-packages (from superintendent) (2.8.6)\n",
      "Requirement already satisfied: scikit-learn>=0.20.3 in /Users/jjaskolkambp/anaconda3/lib/python3.6/site-packages (from superintendent) (0.23.2)\n",
      "Requirement already satisfied: sqlalchemy>=1.3 in /Users/jjaskolkambp/anaconda3/lib/python3.6/site-packages (from superintendent) (1.3.20)\n",
      "Requirement already satisfied: Jinja2>=2.10 in /Users/jjaskolkambp/anaconda3/lib/python3.6/site-packages (from flask>=1.0->superintendent) (2.10)\n",
      "Requirement already satisfied: Werkzeug>=0.14 in /Users/jjaskolkambp/anaconda3/lib/python3.6/site-packages (from flask>=1.0->superintendent) (0.14.1)\n",
      "Requirement already satisfied: itsdangerous>=0.24 in /Users/jjaskolkambp/anaconda3/lib/python3.6/site-packages (from flask>=1.0->superintendent) (0.24)\n",
      "Requirement already satisfied: click>=5.1 in /Users/jjaskolkambp/anaconda3/lib/python3.6/site-packages (from flask>=1.0->superintendent) (7.1.2)\n",
      "Requirement already satisfied: python-dateutil>=2.7.3 in /Users/jjaskolkambp/anaconda3/lib/python3.6/site-packages (from pandas>=0.24.0->superintendent) (2.7.3)\n",
      "Requirement already satisfied: pytz>=2017.2 in /Users/jjaskolkambp/anaconda3/lib/python3.6/site-packages (from pandas>=0.24.0->superintendent) (2018.4)\n",
      "Requirement already satisfied: traitlets>=4.3.1 in /Users/jjaskolkambp/anaconda3/lib/python3.6/site-packages (from ipywidgets>=7.4->superintendent) (4.3.2)\n",
      "Requirement already satisfied: nbformat>=4.2.0 in /Users/jjaskolkambp/anaconda3/lib/python3.6/site-packages (from ipywidgets>=7.4->superintendent) (4.4.0)\n",
      "Requirement already satisfied: widgetsnbextension~=3.5.0 in /Users/jjaskolkambp/anaconda3/lib/python3.6/site-packages (from ipywidgets>=7.4->superintendent) (3.5.1)\n",
      "Requirement already satisfied: ipython>=4.0.0; python_version >= \"3.3\" in /Users/jjaskolkambp/anaconda3/lib/python3.6/site-packages (from ipywidgets>=7.4->superintendent) (6.4.0)\n",
      "Requirement already satisfied: ipykernel>=4.5.1 in /Users/jjaskolkambp/anaconda3/lib/python3.6/site-packages (from ipywidgets>=7.4->superintendent) (4.8.2)\n",
      "Requirement already satisfied: threadpoolctl>=2.0.0 in /Users/jjaskolkambp/anaconda3/lib/python3.6/site-packages (from scikit-learn>=0.20.3->superintendent) (2.1.0)\n",
      "Requirement already satisfied: joblib>=0.11 in /Users/jjaskolkambp/anaconda3/lib/python3.6/site-packages (from scikit-learn>=0.20.3->superintendent) (0.13.2)\n",
      "Requirement already satisfied: MarkupSafe>=0.23 in /Users/jjaskolkambp/anaconda3/lib/python3.6/site-packages (from Jinja2>=2.10->flask>=1.0->superintendent) (1.0)\n",
      "Requirement already satisfied: six>=1.5 in /Users/jjaskolkambp/anaconda3/lib/python3.6/site-packages (from python-dateutil>=2.7.3->pandas>=0.24.0->superintendent) (1.11.0)\n",
      "Requirement already satisfied: ipython_genutils in /Users/jjaskolkambp/anaconda3/lib/python3.6/site-packages (from traitlets>=4.3.1->ipywidgets>=7.4->superintendent) (0.2.0)\n",
      "Requirement already satisfied: decorator in /Users/jjaskolkambp/anaconda3/lib/python3.6/site-packages (from traitlets>=4.3.1->ipywidgets>=7.4->superintendent) (4.3.0)\n",
      "Requirement already satisfied: jsonschema!=2.5.0,>=2.4 in /Users/jjaskolkambp/anaconda3/lib/python3.6/site-packages (from nbformat>=4.2.0->ipywidgets>=7.4->superintendent) (2.6.0)\n",
      "Requirement already satisfied: jupyter_core in /Users/jjaskolkambp/anaconda3/lib/python3.6/site-packages (from nbformat>=4.2.0->ipywidgets>=7.4->superintendent) (4.4.0)\n",
      "Requirement already satisfied: notebook>=4.4.1 in /Users/jjaskolkambp/anaconda3/lib/python3.6/site-packages (from widgetsnbextension~=3.5.0->ipywidgets>=7.4->superintendent) (5.5.0)\n",
      "Requirement already satisfied: pexpect; sys_platform != \"win32\" in /Users/jjaskolkambp/anaconda3/lib/python3.6/site-packages (from ipython>=4.0.0; python_version >= \"3.3\"->ipywidgets>=7.4->superintendent) (4.5.0)\n",
      "Requirement already satisfied: prompt-toolkit<2.0.0,>=1.0.15 in /Users/jjaskolkambp/anaconda3/lib/python3.6/site-packages (from ipython>=4.0.0; python_version >= \"3.3\"->ipywidgets>=7.4->superintendent) (1.0.15)\n",
      "Requirement already satisfied: backcall in /Users/jjaskolkambp/anaconda3/lib/python3.6/site-packages (from ipython>=4.0.0; python_version >= \"3.3\"->ipywidgets>=7.4->superintendent) (0.1.0)\n",
      "Requirement already satisfied: pygments in /Users/jjaskolkambp/anaconda3/lib/python3.6/site-packages (from ipython>=4.0.0; python_version >= \"3.3\"->ipywidgets>=7.4->superintendent) (2.2.0)\n",
      "Requirement already satisfied: setuptools>=18.5 in /Users/jjaskolkambp/anaconda3/lib/python3.6/site-packages (from ipython>=4.0.0; python_version >= \"3.3\"->ipywidgets>=7.4->superintendent) (46.0.0)\n",
      "Requirement already satisfied: appnope; sys_platform == \"darwin\" in /Users/jjaskolkambp/anaconda3/lib/python3.6/site-packages (from ipython>=4.0.0; python_version >= \"3.3\"->ipywidgets>=7.4->superintendent) (0.1.0)\n",
      "Requirement already satisfied: simplegeneric>0.8 in /Users/jjaskolkambp/anaconda3/lib/python3.6/site-packages (from ipython>=4.0.0; python_version >= \"3.3\"->ipywidgets>=7.4->superintendent) (0.8.1)\n",
      "Requirement already satisfied: jedi>=0.10 in /Users/jjaskolkambp/anaconda3/lib/python3.6/site-packages (from ipython>=4.0.0; python_version >= \"3.3\"->ipywidgets>=7.4->superintendent) (0.12.0)\n",
      "Requirement already satisfied: pickleshare in /Users/jjaskolkambp/anaconda3/lib/python3.6/site-packages (from ipython>=4.0.0; python_version >= \"3.3\"->ipywidgets>=7.4->superintendent) (0.7.4)\n",
      "Requirement already satisfied: jupyter_client in /Users/jjaskolkambp/anaconda3/lib/python3.6/site-packages (from ipykernel>=4.5.1->ipywidgets>=7.4->superintendent) (5.2.3)\n",
      "Requirement already satisfied: tornado>=4.0 in /Users/jjaskolkambp/anaconda3/lib/python3.6/site-packages (from ipykernel>=4.5.1->ipywidgets>=7.4->superintendent) (5.0.2)\n",
      "Requirement already satisfied: nbconvert in /Users/jjaskolkambp/anaconda3/lib/python3.6/site-packages (from notebook>=4.4.1->widgetsnbextension~=3.5.0->ipywidgets>=7.4->superintendent) (5.3.1)\n",
      "Requirement already satisfied: terminado>=0.8.1 in /Users/jjaskolkambp/anaconda3/lib/python3.6/site-packages (from notebook>=4.4.1->widgetsnbextension~=3.5.0->ipywidgets>=7.4->superintendent) (0.8.1)\n",
      "Requirement already satisfied: pyzmq>=17 in /Users/jjaskolkambp/anaconda3/lib/python3.6/site-packages (from notebook>=4.4.1->widgetsnbextension~=3.5.0->ipywidgets>=7.4->superintendent) (18.1.0)\n",
      "Requirement already satisfied: Send2Trash in /Users/jjaskolkambp/anaconda3/lib/python3.6/site-packages (from notebook>=4.4.1->widgetsnbextension~=3.5.0->ipywidgets>=7.4->superintendent) (1.5.0)\n",
      "Requirement already satisfied: ptyprocess>=0.5 in /Users/jjaskolkambp/anaconda3/lib/python3.6/site-packages (from pexpect; sys_platform != \"win32\"->ipython>=4.0.0; python_version >= \"3.3\"->ipywidgets>=7.4->superintendent) (0.5.2)\n",
      "Requirement already satisfied: wcwidth in /Users/jjaskolkambp/anaconda3/lib/python3.6/site-packages (from prompt-toolkit<2.0.0,>=1.0.15->ipython>=4.0.0; python_version >= \"3.3\"->ipywidgets>=7.4->superintendent) (0.1.7)\n",
      "Requirement already satisfied: parso>=0.2.0 in /Users/jjaskolkambp/anaconda3/lib/python3.6/site-packages (from jedi>=0.10->ipython>=4.0.0; python_version >= \"3.3\"->ipywidgets>=7.4->superintendent) (0.2.0)\n",
      "Requirement already satisfied: mistune>=0.7.4 in /Users/jjaskolkambp/anaconda3/lib/python3.6/site-packages (from nbconvert->notebook>=4.4.1->widgetsnbextension~=3.5.0->ipywidgets>=7.4->superintendent) (0.8.3)\n",
      "Requirement already satisfied: entrypoints>=0.2.2 in /Users/jjaskolkambp/anaconda3/lib/python3.6/site-packages (from nbconvert->notebook>=4.4.1->widgetsnbextension~=3.5.0->ipywidgets>=7.4->superintendent) (0.2.3)\n",
      "Requirement already satisfied: bleach in /Users/jjaskolkambp/anaconda3/lib/python3.6/site-packages (from nbconvert->notebook>=4.4.1->widgetsnbextension~=3.5.0->ipywidgets>=7.4->superintendent) (2.1.3)\n",
      "Requirement already satisfied: pandocfilters>=1.4.1 in /Users/jjaskolkambp/anaconda3/lib/python3.6/site-packages (from nbconvert->notebook>=4.4.1->widgetsnbextension~=3.5.0->ipywidgets>=7.4->superintendent) (1.4.2)\n",
      "Requirement already satisfied: testpath in /Users/jjaskolkambp/anaconda3/lib/python3.6/site-packages (from nbconvert->notebook>=4.4.1->widgetsnbextension~=3.5.0->ipywidgets>=7.4->superintendent) (0.3.1)\n",
      "Requirement already satisfied: html5lib!=1.0b1,!=1.0b2,!=1.0b3,!=1.0b4,!=1.0b5,!=1.0b6,!=1.0b7,!=1.0b8,>=0.99999999pre in /Users/jjaskolkambp/anaconda3/lib/python3.6/site-packages (from bleach->nbconvert->notebook>=4.4.1->widgetsnbextension~=3.5.0->ipywidgets>=7.4->superintendent) (1.0.1)\n"
     ]
    },
    {
     "name": "stdout",
     "output_type": "stream",
     "text": [
      "Requirement already satisfied: webencodings in /Users/jjaskolkambp/anaconda3/lib/python3.6/site-packages (from html5lib!=1.0b1,!=1.0b2,!=1.0b3,!=1.0b4,!=1.0b5,!=1.0b6,!=1.0b7,!=1.0b8,>=0.99999999pre->bleach->nbconvert->notebook>=4.4.1->widgetsnbextension~=3.5.0->ipywidgets>=7.4->superintendent) (0.5.1)\n",
      "\u001b[33mWARNING: You are using pip version 20.2.2; however, version 20.3 is available.\n",
      "You should consider upgrading via the '/Users/jjaskolkambp/anaconda3/bin/python -m pip install --upgrade pip' command.\u001b[0m\n"
     ]
    }
   ],
   "source": [
    "!pip install superintendent"
   ]
  },
  {
   "cell_type": "markdown",
   "metadata": {},
   "source": [
    "#### now import needed libraries"
   ]
  },
  {
   "cell_type": "code",
   "execution_count": 3,
   "metadata": {},
   "outputs": [],
   "source": [
    "import numpy as np\n",
    "import pandas as pd\n",
    "import os\n",
    "import matplotlib.pyplot as plt\n",
    "from collections import Counter, OrderedDict\n",
    "import re\n",
    "from IPython import display\n",
    "from superintendent import ClassLabeller"
   ]
  },
  {
   "cell_type": "markdown",
   "metadata": {},
   "source": [
    "### import and check the data"
   ]
  },
  {
   "cell_type": "markdown",
   "metadata": {},
   "source": [
    "this field loads the data from the csv file and turns it into something called a dataframe"
   ]
  },
  {
   "cell_type": "code",
   "execution_count": 5,
   "metadata": {},
   "outputs": [],
   "source": [
    "data = pd.read_csv('lung_rads_data.csv')"
   ]
  },
  {
   "cell_type": "markdown",
   "metadata": {},
   "source": [
    "this field shows the first 5 rows of the dataframe to give a sense of what's in it"
   ]
  },
  {
   "cell_type": "code",
   "execution_count": 6,
   "metadata": {},
   "outputs": [
    {
     "data": {
      "text/html": [
       "<div>\n",
       "<style scoped>\n",
       "    .dataframe tbody tr th:only-of-type {\n",
       "        vertical-align: middle;\n",
       "    }\n",
       "\n",
       "    .dataframe tbody tr th {\n",
       "        vertical-align: top;\n",
       "    }\n",
       "\n",
       "    .dataframe thead th {\n",
       "        text-align: right;\n",
       "    }\n",
       "</style>\n",
       "<table border=\"1\" class=\"dataframe\">\n",
       "  <thead>\n",
       "    <tr style=\"text-align: right;\">\n",
       "      <th></th>\n",
       "      <th>Exam</th>\n",
       "      <th>Procedure Date</th>\n",
       "      <th>Referral/Recall</th>\n",
       "      <th>Lung Rads</th>\n",
       "      <th>Rad Recommendation</th>\n",
       "      <th>Exam Result</th>\n",
       "      <th>Lung Rads Split</th>\n",
       "      <th>lr</th>\n",
       "      <th>mod</th>\n",
       "      <th>rec</th>\n",
       "      <th>extracted lung rads</th>\n",
       "      <th>lr num</th>\n",
       "      <th>needs f/u</th>\n",
       "      <th>report</th>\n",
       "      <th>labels</th>\n",
       "    </tr>\n",
       "  </thead>\n",
       "  <tbody>\n",
       "    <tr>\n",
       "      <th>0</th>\n",
       "      <td>HIGH RISK LUNG - ANNUAL</td>\n",
       "      <td>2019-04-02</td>\n",
       "      <td>unknown</td>\n",
       "      <td>Lung-RADS:? Category: 3\\r\\n\\r\\nModifiers: S\\r\\...</td>\n",
       "      <td>Recommendation: 6 month follow-up has been ini...</td>\n",
       "      <td>CLINICAL INFORMATION: High Risk Screening.\\r\\n...</td>\n",
       "      <td>['Lung-RADS: Category: 3\\r\\n\\r\\n', 'Modifiers:...</td>\n",
       "      <td>Lung-RADS: Category: 3\\r\\n\\r\\n</td>\n",
       "      <td>Modifiers: S\\r\\n\\r\\n</td>\n",
       "      <td>RECOMMENDATION: 6 month follow-up has been ini...</td>\n",
       "      <td>3</td>\n",
       "      <td>3</td>\n",
       "      <td>Y</td>\n",
       "      <td>CLINICAL INFORMATION: High Risk Screening.\\r\\n...</td>\n",
       "      <td>3</td>\n",
       "    </tr>\n",
       "    <tr>\n",
       "      <th>1</th>\n",
       "      <td>HIGH RISK LUNG - ANNUAL</td>\n",
       "      <td>2019-04-02</td>\n",
       "      <td>Book Annual</td>\n",
       "      <td>Lung-RADS:? Category: 2\\r\\n\\r\\nModifiers: None...</td>\n",
       "      <td>Recommendation: LDCT in 12 months</td>\n",
       "      <td>CLINICAL INFORMATION: High Risk Screening.\\r\\n...</td>\n",
       "      <td>['Lung-RADS: Category: 2\\r\\n\\r\\n', 'Modifiers:...</td>\n",
       "      <td>Lung-RADS: Category: 2\\r\\n\\r\\n</td>\n",
       "      <td>Modifiers: None\\r\\n\\r\\n</td>\n",
       "      <td>RECOMMENDATION: LDCT in 12 months</td>\n",
       "      <td>2</td>\n",
       "      <td>2</td>\n",
       "      <td>N</td>\n",
       "      <td>CLINICAL INFORMATION: High Risk Screening.\\r\\n...</td>\n",
       "      <td>2</td>\n",
       "    </tr>\n",
       "    <tr>\n",
       "      <th>2</th>\n",
       "      <td>HIGH RISK LUNG - ANNUAL</td>\n",
       "      <td>2019-04-02</td>\n",
       "      <td>Book Annual</td>\n",
       "      <td>Lung-RADS:? Category: 1\\r\\n\\r\\nModifiers: None...</td>\n",
       "      <td>Recommendation: LDCT in 12 months</td>\n",
       "      <td>CLINICAL INFORMATION: High Risk Screening.\\r\\n...</td>\n",
       "      <td>['Lung-RADS: Category: 1\\r\\n\\r\\n', 'Modifiers:...</td>\n",
       "      <td>Lung-RADS: Category: 1\\r\\n\\r\\n</td>\n",
       "      <td>Modifiers: None\\r\\n\\r\\n</td>\n",
       "      <td>RECOMMENDATION: LDCT in 12 months</td>\n",
       "      <td>1</td>\n",
       "      <td>1</td>\n",
       "      <td>N</td>\n",
       "      <td>CLINICAL INFORMATION: High Risk Screening.\\r\\n...</td>\n",
       "      <td>1</td>\n",
       "    </tr>\n",
       "    <tr>\n",
       "      <th>3</th>\n",
       "      <td>HIGH RISK LUNG - ANNUAL</td>\n",
       "      <td>2019-04-02</td>\n",
       "      <td>Book Annual</td>\n",
       "      <td>Lung-RADS:? Category: 2\\r\\n\\r\\nModifiers: None...</td>\n",
       "      <td>Recommendation: LDCT in 12 months</td>\n",
       "      <td>CLINICAL INFORMATION: High Risk Screening.\\r\\n...</td>\n",
       "      <td>['Lung-RADS: Category: 2\\r\\n\\r\\n', 'Modifiers:...</td>\n",
       "      <td>Lung-RADS: Category: 2\\r\\n\\r\\n</td>\n",
       "      <td>Modifiers: None\\r\\n\\r\\n</td>\n",
       "      <td>RECOMMENDATION: LDCT in 12 months</td>\n",
       "      <td>2</td>\n",
       "      <td>2</td>\n",
       "      <td>N</td>\n",
       "      <td>CLINICAL INFORMATION: High Risk Screening.\\r\\n...</td>\n",
       "      <td>2</td>\n",
       "    </tr>\n",
       "    <tr>\n",
       "      <th>4</th>\n",
       "      <td>HIGH RISK LUNG - ANNUAL</td>\n",
       "      <td>2019-04-02</td>\n",
       "      <td>Book Annual</td>\n",
       "      <td>Lung-RADS:? Category: 2\\r\\n\\r\\nModifiers: None...</td>\n",
       "      <td>Recommendation: LDCT in 12 months</td>\n",
       "      <td>CLINICAL INFORMATION: High Risk Screening.\\r\\n...</td>\n",
       "      <td>['Lung-RADS: Category: 2\\r\\n\\r\\n', 'Modifiers:...</td>\n",
       "      <td>Lung-RADS: Category: 2\\r\\n\\r\\n</td>\n",
       "      <td>Modifiers: None\\r\\n\\r\\n</td>\n",
       "      <td>RECOMMENDATION: LDCT in 12 months</td>\n",
       "      <td>2</td>\n",
       "      <td>2</td>\n",
       "      <td>N</td>\n",
       "      <td>CLINICAL INFORMATION: High Risk Screening.\\r\\n...</td>\n",
       "      <td>2</td>\n",
       "    </tr>\n",
       "  </tbody>\n",
       "</table>\n",
       "</div>"
      ],
      "text/plain": [
       "                      Exam Procedure Date Referral/Recall  \\\n",
       "0  HIGH RISK LUNG - ANNUAL     2019-04-02         unknown   \n",
       "1  HIGH RISK LUNG - ANNUAL     2019-04-02     Book Annual   \n",
       "2  HIGH RISK LUNG - ANNUAL     2019-04-02     Book Annual   \n",
       "3  HIGH RISK LUNG - ANNUAL     2019-04-02     Book Annual   \n",
       "4  HIGH RISK LUNG - ANNUAL     2019-04-02     Book Annual   \n",
       "\n",
       "                                           Lung Rads  \\\n",
       "0  Lung-RADS:? Category: 3\\r\\n\\r\\nModifiers: S\\r\\...   \n",
       "1  Lung-RADS:? Category: 2\\r\\n\\r\\nModifiers: None...   \n",
       "2  Lung-RADS:? Category: 1\\r\\n\\r\\nModifiers: None...   \n",
       "3  Lung-RADS:? Category: 2\\r\\n\\r\\nModifiers: None...   \n",
       "4  Lung-RADS:? Category: 2\\r\\n\\r\\nModifiers: None...   \n",
       "\n",
       "                                  Rad Recommendation  \\\n",
       "0  Recommendation: 6 month follow-up has been ini...   \n",
       "1                  Recommendation: LDCT in 12 months   \n",
       "2                  Recommendation: LDCT in 12 months   \n",
       "3                  Recommendation: LDCT in 12 months   \n",
       "4                  Recommendation: LDCT in 12 months   \n",
       "\n",
       "                                         Exam Result  \\\n",
       "0  CLINICAL INFORMATION: High Risk Screening.\\r\\n...   \n",
       "1  CLINICAL INFORMATION: High Risk Screening.\\r\\n...   \n",
       "2  CLINICAL INFORMATION: High Risk Screening.\\r\\n...   \n",
       "3  CLINICAL INFORMATION: High Risk Screening.\\r\\n...   \n",
       "4  CLINICAL INFORMATION: High Risk Screening.\\r\\n...   \n",
       "\n",
       "                                     Lung Rads Split  \\\n",
       "0  ['Lung-RADS: Category: 3\\r\\n\\r\\n', 'Modifiers:...   \n",
       "1  ['Lung-RADS: Category: 2\\r\\n\\r\\n', 'Modifiers:...   \n",
       "2  ['Lung-RADS: Category: 1\\r\\n\\r\\n', 'Modifiers:...   \n",
       "3  ['Lung-RADS: Category: 2\\r\\n\\r\\n', 'Modifiers:...   \n",
       "4  ['Lung-RADS: Category: 2\\r\\n\\r\\n', 'Modifiers:...   \n",
       "\n",
       "                               lr                      mod  \\\n",
       "0  Lung-RADS: Category: 3\\r\\n\\r\\n     Modifiers: S\\r\\n\\r\\n   \n",
       "1  Lung-RADS: Category: 2\\r\\n\\r\\n  Modifiers: None\\r\\n\\r\\n   \n",
       "2  Lung-RADS: Category: 1\\r\\n\\r\\n  Modifiers: None\\r\\n\\r\\n   \n",
       "3  Lung-RADS: Category: 2\\r\\n\\r\\n  Modifiers: None\\r\\n\\r\\n   \n",
       "4  Lung-RADS: Category: 2\\r\\n\\r\\n  Modifiers: None\\r\\n\\r\\n   \n",
       "\n",
       "                                                 rec extracted lung rads  \\\n",
       "0  RECOMMENDATION: 6 month follow-up has been ini...                   3   \n",
       "1                  RECOMMENDATION: LDCT in 12 months                   2   \n",
       "2                  RECOMMENDATION: LDCT in 12 months                   1   \n",
       "3                  RECOMMENDATION: LDCT in 12 months                   2   \n",
       "4                  RECOMMENDATION: LDCT in 12 months                   2   \n",
       "\n",
       "  lr num needs f/u                                             report labels  \n",
       "0      3         Y  CLINICAL INFORMATION: High Risk Screening.\\r\\n...      3  \n",
       "1      2         N  CLINICAL INFORMATION: High Risk Screening.\\r\\n...      2  \n",
       "2      1         N  CLINICAL INFORMATION: High Risk Screening.\\r\\n...      1  \n",
       "3      2         N  CLINICAL INFORMATION: High Risk Screening.\\r\\n...      2  \n",
       "4      2         N  CLINICAL INFORMATION: High Risk Screening.\\r\\n...      2  "
      ]
     },
     "execution_count": 6,
     "metadata": {},
     "output_type": "execute_result"
    }
   ],
   "source": [
    "data.head()"
   ]
  },
  {
   "cell_type": "markdown",
   "metadata": {},
   "source": [
    "this field prints the shape of the dataframe - in this case 6101 rows and 15 columns"
   ]
  },
  {
   "cell_type": "code",
   "execution_count": 23,
   "metadata": {},
   "outputs": [
    {
     "data": {
      "text/plain": [
       "(6101, 15)"
      ]
     },
     "execution_count": 23,
     "metadata": {},
     "output_type": "execute_result"
    }
   ],
   "source": [
    "data.shape"
   ]
  },
  {
   "cell_type": "markdown",
   "metadata": {},
   "source": [
    "this field shows the names of the columns"
   ]
  },
  {
   "cell_type": "code",
   "execution_count": 8,
   "metadata": {},
   "outputs": [
    {
     "data": {
      "text/plain": [
       "Index(['Exam', 'Procedure Date', 'Referral/Recall', 'Lung Rads',\n",
       "       'Rad Recommendation', 'Exam Result', 'Lung Rads Split', 'lr', 'mod',\n",
       "       'rec', 'extracted lung rads', 'lr num', 'needs f/u', 'report',\n",
       "       'labels'],\n",
       "      dtype='object')"
      ]
     },
     "execution_count": 8,
     "metadata": {},
     "output_type": "execute_result"
    }
   ],
   "source": [
    "data.columns"
   ]
  },
  {
   "cell_type": "markdown",
   "metadata": {},
   "source": [
    "## labelling"
   ]
  },
  {
   "cell_type": "markdown",
   "metadata": {},
   "source": [
    "this field counts all the different labels  \n",
    "   \n",
    "the key is the \"nan\" field which means it's currently empty"
   ]
  },
  {
   "cell_type": "code",
   "execution_count": 24,
   "metadata": {},
   "outputs": [
    {
     "data": {
      "text/plain": [
       "Counter({'3': 271,\n",
       "         '2': 3118,\n",
       "         '1': 2218,\n",
       "         '0': 3,\n",
       "         '4': 187,\n",
       "         '4a': 2,\n",
       "         '4x': 3,\n",
       "         '4b': 3,\n",
       "         None: 296})"
      ]
     },
     "execution_count": 24,
     "metadata": {},
     "output_type": "execute_result"
    }
   ],
   "source": [
    "Counter(data.labels)"
   ]
  },
  {
   "cell_type": "markdown",
   "metadata": {},
   "source": [
    "gotta rename \"nan\" as \"None\" for the labeller"
   ]
  },
  {
   "cell_type": "code",
   "execution_count": 25,
   "metadata": {},
   "outputs": [
    {
     "data": {
      "text/plain": [
       "Counter({'3': 271,\n",
       "         '2': 3118,\n",
       "         '1': 2218,\n",
       "         '0': 3,\n",
       "         '4': 187,\n",
       "         '4a': 2,\n",
       "         '4x': 3,\n",
       "         '4b': 3,\n",
       "         None: 296})"
      ]
     },
     "execution_count": 25,
     "metadata": {},
     "output_type": "execute_result"
    }
   ],
   "source": [
    "data['labels'] = data['labels'].replace({np.nan:None})\n",
    "\n",
    "Counter(data['labels'])"
   ]
  },
  {
   "cell_type": "markdown",
   "metadata": {},
   "source": [
    "run the next field by clicking \"shift + enter\""
   ]
  },
  {
   "cell_type": "code",
   "execution_count": 26,
   "metadata": {},
   "outputs": [
    {
     "data": {
      "application/vnd.jupyter.widget-view+json": {
       "model_id": "822baad78adc41558eacb5360e139eca",
       "version_major": 2,
       "version_minor": 0
      },
      "text/plain": [
       "ClassLabeller(children=(HBox(children=(FloatProgress(value=0.0, description='Progress:', max=1.0),)), Box(chil…"
      ]
     },
     "metadata": {},
     "output_type": "display_data"
    }
   ],
   "source": [
    "labelling_widget = ClassLabeller(\n",
    "    features=data['report'],\n",
    "    labels = data['labels'],\n",
    "    display_func=lambda x: display.display(display.Markdown(x)),\n",
    "    options=['0', '1', '2', '3', '4', '4a', '4b', '4x','uncertain'],\n",
    ")\n",
    "\n",
    "labelling_widget"
   ]
  },
  {
   "cell_type": "markdown",
   "metadata": {},
   "source": [
    "when done, run the next field to see if the None values decreased"
   ]
  },
  {
   "cell_type": "code",
   "execution_count": 27,
   "metadata": {},
   "outputs": [
    {
     "data": {
      "text/plain": [
       "Counter({'3': 271,\n",
       "         '2': 3118,\n",
       "         '1': 2218,\n",
       "         '0': 3,\n",
       "         '4': 187,\n",
       "         '4a': 2,\n",
       "         '4x': 3,\n",
       "         '4b': 3,\n",
       "         None: 296})"
      ]
     },
     "execution_count": 27,
     "metadata": {},
     "output_type": "execute_result"
    }
   ],
   "source": [
    "Counter(data['labels'])"
   ]
  },
  {
   "cell_type": "markdown",
   "metadata": {},
   "source": [
    "run the next cell to update the labels in the dataframe with the new labels you just created"
   ]
  },
  {
   "cell_type": "code",
   "execution_count": 28,
   "metadata": {},
   "outputs": [],
   "source": [
    "data['labels'] = labelling_widget.new_labels"
   ]
  },
  {
   "cell_type": "code",
   "execution_count": 29,
   "metadata": {},
   "outputs": [
    {
     "data": {
      "text/plain": [
       "Counter({'3': 278,\n",
       "         '2': 3300,\n",
       "         '1': 2306,\n",
       "         '0': 4,\n",
       "         '4': 191,\n",
       "         '4a': 9,\n",
       "         '4x': 8,\n",
       "         '4b': 3,\n",
       "         None: 2})"
      ]
     },
     "execution_count": 29,
     "metadata": {},
     "output_type": "execute_result"
    }
   ],
   "source": [
    "Counter(data['labels'])"
   ]
  },
  {
   "cell_type": "markdown",
   "metadata": {},
   "source": [
    "save the updated dataframe back to the csv file"
   ]
  },
  {
   "cell_type": "code",
   "execution_count": 30,
   "metadata": {},
   "outputs": [],
   "source": [
    "data.to_csv('lung_rads_data.csv', index = False)"
   ]
  },
  {
   "cell_type": "code",
   "execution_count": null,
   "metadata": {},
   "outputs": [],
   "source": []
  }
 ],
 "metadata": {
  "kernelspec": {
   "display_name": "Python 3",
   "language": "python",
   "name": "python3"
  },
  "language_info": {
   "codemirror_mode": {
    "name": "ipython",
    "version": 3
   },
   "file_extension": ".py",
   "mimetype": "text/x-python",
   "name": "python",
   "nbconvert_exporter": "python",
   "pygments_lexer": "ipython3",
   "version": "3.6.5"
  }
 },
 "nbformat": 4,
 "nbformat_minor": 2
}
